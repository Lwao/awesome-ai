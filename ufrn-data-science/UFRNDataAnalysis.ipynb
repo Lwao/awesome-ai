{
  "nbformat": 4,
  "nbformat_minor": 0,
  "metadata": {
    "colab": {
      "name": "UFRNDataAnalysis v.3.1.0.ipynb",
      "provenance": [],
      "collapsed_sections": []
    },
    "kernelspec": {
      "display_name": "Python 3",
      "name": "python3"
    },
    "language_info": {
      "name": "python"
    },
    "widgets": {
      "application/vnd.jupyter.widget-state+json": {
        "a5ddc367237b4328aee9d0f7e8964095": {
          "model_module": "@jupyter-widgets/controls",
          "model_name": "HTMLModel",
          "state": {
            "_view_name": "HTMLView",
            "style": "IPY_MODEL_8bc58b4ea7cd479487698cf39bc8dcd3",
            "_dom_classes": [],
            "description": "",
            "_model_name": "HTMLModel",
            "placeholder": "​",
            "_view_module": "@jupyter-widgets/controls",
            "_model_module_version": "1.5.0",
            "value": "<b><font color='black'><font size=5>Escolha as disciplinas para análise</b>",
            "_view_count": null,
            "_view_module_version": "1.5.0",
            "description_tooltip": null,
            "_model_module": "@jupyter-widgets/controls",
            "layout": "IPY_MODEL_d706e53abc6744c381020e9cedcc514e"
          }
        },
        "8bc58b4ea7cd479487698cf39bc8dcd3": {
          "model_module": "@jupyter-widgets/controls",
          "model_name": "DescriptionStyleModel",
          "state": {
            "_view_name": "StyleView",
            "_model_name": "DescriptionStyleModel",
            "description_width": "",
            "_view_module": "@jupyter-widgets/base",
            "_model_module_version": "1.5.0",
            "_view_count": null,
            "_view_module_version": "1.2.0",
            "_model_module": "@jupyter-widgets/controls"
          }
        },
        "d706e53abc6744c381020e9cedcc514e": {
          "model_module": "@jupyter-widgets/base",
          "model_name": "LayoutModel",
          "state": {
            "_view_name": "LayoutView",
            "grid_template_rows": null,
            "right": null,
            "justify_content": null,
            "_view_module": "@jupyter-widgets/base",
            "overflow": null,
            "_model_module_version": "1.2.0",
            "_view_count": null,
            "flex_flow": null,
            "width": null,
            "min_width": null,
            "border": null,
            "align_items": null,
            "bottom": null,
            "_model_module": "@jupyter-widgets/base",
            "top": null,
            "grid_column": null,
            "overflow_y": null,
            "overflow_x": null,
            "grid_auto_flow": null,
            "grid_area": null,
            "grid_template_columns": null,
            "flex": null,
            "_model_name": "LayoutModel",
            "justify_items": null,
            "grid_row": null,
            "max_height": null,
            "align_content": null,
            "visibility": null,
            "align_self": null,
            "height": null,
            "min_height": null,
            "padding": null,
            "grid_auto_rows": null,
            "grid_gap": null,
            "max_width": null,
            "order": null,
            "_view_module_version": "1.2.0",
            "grid_template_areas": null,
            "object_position": null,
            "object_fit": null,
            "grid_auto_columns": null,
            "margin": null,
            "display": null,
            "left": null
          }
        },
        "419fd771bd6c447095e803eb58905b09": {
          "model_module": "@jupyter-widgets/controls",
          "model_name": "HBoxModel",
          "state": {
            "_view_name": "HBoxView",
            "_dom_classes": [],
            "_model_name": "HBoxModel",
            "_view_module": "@jupyter-widgets/controls",
            "_model_module_version": "1.5.0",
            "_view_count": null,
            "_view_module_version": "1.5.0",
            "box_style": "",
            "layout": "IPY_MODEL_9ad9ef5d2a914d1aad100db9593a8914",
            "_model_module": "@jupyter-widgets/controls",
            "children": [
              "IPY_MODEL_ad27dece6965481d8d860e37b048cde0",
              "IPY_MODEL_2d22ca10701b4fbbbbfad1757fc2f647",
              "IPY_MODEL_722a3798bb5f44cf95bbfc3d58fff6e1"
            ]
          }
        },
        "9ad9ef5d2a914d1aad100db9593a8914": {
          "model_module": "@jupyter-widgets/base",
          "model_name": "LayoutModel",
          "state": {
            "_view_name": "LayoutView",
            "grid_template_rows": null,
            "right": null,
            "justify_content": null,
            "_view_module": "@jupyter-widgets/base",
            "overflow": null,
            "_model_module_version": "1.2.0",
            "_view_count": null,
            "flex_flow": null,
            "width": null,
            "min_width": null,
            "border": null,
            "align_items": null,
            "bottom": null,
            "_model_module": "@jupyter-widgets/base",
            "top": null,
            "grid_column": null,
            "overflow_y": null,
            "overflow_x": null,
            "grid_auto_flow": null,
            "grid_area": null,
            "grid_template_columns": null,
            "flex": null,
            "_model_name": "LayoutModel",
            "justify_items": null,
            "grid_row": null,
            "max_height": null,
            "align_content": null,
            "visibility": null,
            "align_self": null,
            "height": null,
            "min_height": null,
            "padding": null,
            "grid_auto_rows": null,
            "grid_gap": null,
            "max_width": null,
            "order": null,
            "_view_module_version": "1.2.0",
            "grid_template_areas": null,
            "object_position": null,
            "object_fit": null,
            "grid_auto_columns": null,
            "margin": null,
            "display": null,
            "left": null
          }
        },
        "ad27dece6965481d8d860e37b048cde0": {
          "model_module": "@jupyter-widgets/controls",
          "model_name": "DropdownModel",
          "state": {
            "_options_labels": [
              "2018.1",
              "2018.2",
              "2019.1",
              "2019.2"
            ],
            "_view_name": "DropdownView",
            "style": "IPY_MODEL_a91a17657cc7421389425be498328030",
            "_dom_classes": [],
            "description": "Semestre: ",
            "_model_name": "DropdownModel",
            "index": 3,
            "_view_module": "@jupyter-widgets/controls",
            "_model_module_version": "1.5.0",
            "_view_count": null,
            "disabled": false,
            "_view_module_version": "1.5.0",
            "description_tooltip": null,
            "_model_module": "@jupyter-widgets/controls",
            "layout": "IPY_MODEL_c789c8b440fc4eb4a708578629b29dad"
          }
        },
        "2d22ca10701b4fbbbbfad1757fc2f647": {
          "model_module": "@jupyter-widgets/controls",
          "model_name": "DropdownModel",
          "state": {
            "_options_labels": [
              "ABRAHAO SANDERSON NUNES FERNANDES DA SILVA",
              "ADA CRISTINA SCUDELARI",
              "ADA LIMA FERREIRA DE SOUSA",
              "ADAILDO GOMES D ASSUNCAO",
              "ADALTO SOARES",
              "ADELARDO ADELINO DANTAS DE MEDEIROS",
              "ADELENA GONCALVES MAIA",
              "ADEMIR OLIVEIRA DA SILVA",
              "ADERSON FARIAS DO NASCIMENTO",
              "ADILSON DE LIMA TAVARES",
              "ADILSON JOSÉ DE OLIVEIRA",
              "ADIR LUIZ FERREIRA",
              "ADJA FERREIRA DE ANDRADE",
              "ADLEY ANTONINI NEVES DE LIMA",
              "ADRIAN ANTONIO GARDA",
              "ADRIANA AUGUSTO DE REZENDE",
              "ADRIANA DA FONTE PORTO CARREIRO",
              "ADRIANA DA SILVA BRITO",
              "ADRIANA FERREIRA UCHOA",
              "ADRIANA GOMES MAGALHAES",
              "ADRIANA MARCELLE DE ANDRADE FREITAS",
              "ADRIANA MONTEIRO DE ALMEIDA",
              "ADRIANA ROSA CARVALHO",
              "ADRIANE CENCI",
              "ADRIANNE PAULA VIEIRA DE ANDRADE",
              "ADRIANO BRETANHA LOPES TORT",
              "ADRIANO CALIMAN FERREIRA DA SILVA",
              "ADRIANO CHARLES DA SILVA CRUZ",
              "ADRIANO DE ARAÚJO LIMA LIGUORI",
              "ADRIANO DE OLIVEIRA SOUSA",
              "ADRIANO DOS SANTOS",
              "ADRIANO HENRIQUE DO NASCIMENTO RANGEL",
              "ADRIANO LIMA TROLEIS",
              "ADRIANO LOPES GOMES",
              "ADRIANO MORAES DE OLIVEIRA",
              "ADRIANO ROCHA GERMANO",
              "ADRIANO THIAGO LOPES BERNARDINO",
              "ADRIAO DUARTE DORIA NETO",
              "ADRIEL GONCALVES OLIVEIRA",
              "ADSON JOSE MARTINS VALE",
              "AFRANIO GALDINO DE ARAUJO",
              "AGOSTINHO DE MEDEIROS BRITO JUNIOR",
              "AGOSTINHO JORGE DE LIMA",
              "AGUINALDO CESAR SURDI",
              "AILTON RODRIGUES DA SILVA",
              "AIRAN DOS SANTOS BORGES DE OLIVEIRA",
              "AIRTON FERNANDES GUIMARAES FILHO",
              "ALAN DANIEL FREIRE DE LACERDA",
              "ALCIDES DE OLIVEIRA WANDERLEY NETO",
              "ALDAIR RODRIGUES DA SILVA",
              "ALDO DA CUNHA MEDEIROS",
              "ALDOMAR PEDRINI",
              "ALESSANDRA CARDOZO DE FREITAS",
              "ALESSANDRA CASTILHO FERREIRA DA COSTA",
              "ALESSANDRO AUGUSTO DE AZEVEDO",
              "ALESSANDRO AUGUSTO DE BARROS FACANHA",
              "ALESSANDRO DOZENA",
              "ALESSANDRO KAPPEL JORDAO",
              "ALEX DE MOURA BATISTA",
              "ALEX FRANCISCO ANTUNES",
              "ALEX JOSE SOUZA DOS SANTOS",
              "ALEX REINECKE DE ALVERGA",
              "ALEX SANDRO MACEDO DE OLIVEIRA",
              "ALEXANDRE BARBOSA DE OLIVEIRA",
              "ALEXANDRE BEZERRA VIANA",
              "ALEXANDRE DOS SANTOS",
              "ALEXANDRE FADIGAS DE SOUZA",
              "ALEXANDRE FLAVIO SILVA DE QUEIROZ",
              "ALEXANDRE HENRIQUE BEZERRA GOMES",
              "ALEXANDRE JOHNSON DOS ANJOS",
              "ALEXANDRE MAGNUS FERNANDES GUIMARAES",
              "ALEXANDRE RECHE E SILVA",
              "ALEXANDRE SANTOS PIMENTA",
              "ALEXANDRE VIRGINELLI MAIORINO",
              "ALEXANDRO BARBOSA",
              "ALEXANDRO TEIXEIRA GOMES",
              "ALEXEY KUZMIN",
              "ALEXSANDRA RODRIGUES FEIJAO",
              "ALEXSANDRO FERREIRA CARDOSO DA SILVA",
              "ALEXSANDRO GALENO ARAUJO DANTAS",
              "ALEXSANDRO PEREIRA LIMA",
              "ALIANDA MAIRA CORNELIO DA SILVA",
              "ALICE ALOISIA DA CRUZ",
              "ALICE DE MORAES CALVENTE VERSIEUX",
              "ALINE BRAGA GALVAO SILVEIRA FERNANDES",
              "ALINE DE MOURA MATTOS",
              "ALINE DE PINHO DIAS",
              "ALINE MEDEIROS CAVALCANTI DA FONSECA",
              "ALINE SCHWARZ",
              "ALINE VIRGINIA MEDEIROS NELSON",
              "ALIPIO DE SOUSA FILHO",
              "ALLAN DE MEDEIROS MARTINS",
              "ALLYNE FORTES VITOR",
              "ALLYSON CARVALHO DE ARAUJO",
              "ALMARIA MARIZ BATISTA",
              "ALMIR MIRANDA FERREIRA",
              "ALUÍZIO FERREIRA DA ROCHA NETO",
              "ALVARO ALBERTO DE PAIVA BARROS",
              "ALVARO BARROCA NETO",
              "ALVARO CAMPOS CAVALCANTI MACIEL",
              "ALVARO FERRAZ FILHO",
              "ALVARO FREIRE DAMASCENO",
              "AMANDA BORGES DE ALBUQUERQUE ASSUNCAO",
              "AMANDA DUARTE GONDIM",
              "AMANDA MELISSA DAMIAO LEITE",
              "AMANDY BANDEIRA DE ARAUJO",
              "AMARINO OLIVEIRA DE QUEIROZ",
              "AMIRIA BEZERRA BRASIL",
              "AMON EVANGELISTA DOS ANJOS PAIVA",
              "ANA BEATRIZ FERREIRA REBELLO PRESGRAVE",
              "ANA CALDAS LEWINSOHN",
              "ANA CARINE ARRUDA ROLIM",
              "ANA CAROLINA LUCHIARI",
              "ANA CAROLINA PATRICIO DE ALBUQUERQUE SOUSA",
              "ANA CAROLINA RIOS SIMONI",
              "ANA CLAUDIA GALVAO FREIRE GOUVEIA",
              "ANA CRISTINA ARAUJO DE ANDRADE GALVAO",
              "ANA CRISTINA FACUNDO DE BRITO PONTES",
              "ANA CRISTINA PINHEIRO FERNANDES DE ARAUJO",
              "ANA FLAVIA DE SOUZA TIMOTEO",
              "ANA GRACA CANAN",
              "ANA GRETEL ECHAZU",
              "ANA HELONEIDA DE ARAUJO MORAIS",
              "ANA KALLINY DE SOUSA SEVERO",
              "ANA KARENINA DE MELO ARRAES AMORIM",
              "ANA KARINA DA COSTA DANTAS",
              "ANA KARINA SILVA AZEVEDO",
              "ANA KARLA MONTEIRO SANTANA DE OLIVEIRA FREITAS",
              "ANA KATHERINE DA SILVEIRA GONCALVES DE OLIVEIRA",
              "ANA LUDMILA FREIRE COSTA",
              "ANA LUISA BRANDAO DE CARVALHO LIRA",
              "ANA LUIZA BRAGA DE MACEDO LOMBARDI",
              "ANA LUIZA DE OLIVEIRA E OLIVEIRA",
              "ANA MANHANI CACERES ASSENCO",
              "ANA MARIA DE OLIVEIRA PAZ",
              "ANA PATRICIA DE QUEIROZ MEDEIROS DANTAS",
              "ANA PATRICIA DIAS SALES",
              "ANA PATRICIA RODRIGUES LEITE",
              "ANA PAULA BARRETO GOMES",
              "ANA PAULA CAVALHEIRO DE ANDRADE",
              "ANA PAULA COSTA CAMARA",
              "ANA PAULA TRUSSARDI FAYH",
              "ANA RAFAELA LUZ DE AQUINO MARTINS",
              "ANA RAQUEL RODRIGUES LINDQUIST",
              "ANA TANIA LOPES SAMPAIO",
              "ANA VIRGINIA LIMA DA SILVA ROCHA",
              "ANAILSON MARCIO GOMES",
              "ANAISA DANTAS DA SILVA DIAS",
              "ANAMARIA DAL MOLIN",
              "ANATALIA SARAIVA MARTINS RAMOS",
              "ANDERSON CLAYTON ALVES DE MELO",
              "ANDERSON CRISTOPHER DOS SANTOS",
              "ANDERSON DE OLIVEIRA PESSOA",
              "ANDERSON DOS REIS ALBUQUERQUE",
              "ANDERSON LUIZ DE OLIVEIRA CAVALCANTI",
              "ANDERSON LUIZ REZENDE MOL",
              "ANDERSON PAIVA CRUZ",
              "ANDERSON SOUZA DA SILVA LANZILLO",
              "ANDRE BESSA MOREIRA",
              "ANDRE CARRICO",
              "ANDRE DE SOUZA DANTAS ELALI",
              "ANDRE DUCATI LUCHESSI",
              "ANDRE FERRER PINTO MARTINS",
              "ANDRE GUSTAVO CAMPOS PEREIRA",
              "ANDRE GUSTAVO GADELHA MAVIGNIER DE NORONHA",
              "ANDRE GUSTAVO PIRES DE SOUSA",
              "ANDRE JESUS SOARES MAURENTE",
              "ANDRE LAURINDO MAITELLI",
              "ANDRE LUIS CABRAL DE LOURENCO",
              "ANDRE LUIS DORINI",
              "ANDRE LUIS LOPES MORIYAMA",
              "ANDRE LUIS PINTO SOARES",
              "ANDRE LUIS SANTOS DE PINHO",
              "ANDRE LUIZ BARROS ALMEIDA",
              "ANDRE LUIZ DA SILVA SOLINO",
              "ANDRE LUIZ DE SOUZA BRITO",
              "ANDRE LUIZ MARINHO FALCAO GONDIM",
              "ANDRE LUIZ MUNIZ OLIVEIRA",
              "ANDRE MAURICIO CUNHA CAMPOS",
              "ANDRE MELO GOMES PEREIRA",
              "ANDRE MORAIS GURGEL",
              "ANDRE TESSARO PELINSER",
              "ANDREA CAMARA VIANA VENANCIO AGUIAR",
              "ANDREA CRISTINA SANTOS DE JESUS",
              "ANDREA LIMA DA SILVA",
              "ANDREA OLIVEIRA NUNES",
              "ANDREA VASCONCELOS CARVALHO",
              "ANDREA VIRGINIA SOUSA DANTAS",
              "ANDREO ALEKSANDRO NOBRE MARQUES",
              "ANDRES ORTIZ SALAZAR",
              "ANDREY PEREIRA DE OLIVEIRA",
              "ANDROS TAROUCO GIANUCA",
              "ANDRÉ LUCIANO DE ARAÚJO PRUDENTE",
              "ANELINO FRANCISCO DA SILVA",
              "ANELLYSA PEREIRA CAVALCANTE DE ARAUJO",
              "ANGELA LUCIA DE ARAUJO FERREIRA",
              "ANGELA LUZIA MIRANDA",
              "ANGELA MARIA BEZERRA DO NASCIMENTO",
              "ANGELA MARIA CHUVAS NASCHOLD",
              "ANGELA MERCEDES FACUNDO NAVIA",
              "ANGELICA TERESA NASCIMENTO DE MEDEIROS",
              "ANGELO GIUSEPPE RONCALLI DA COSTA OLIVEIRA",
              "ANGELO RAIMUNDO DA SILVA NETO",
              "ANGELO RONCALLI OLIVEIRA GUERRA",
              "ANNA CECILIA QUEIROZ DE MEDEIROS",
              "ANNA GISELLE CAMARA DANTAS RIBEIRO RODRIGUES",
              "ANNAMARIA BARBOSA DO NASCIMENTO",
              "ANNE CHRISTINE DAMASIO",
              "ANNE EMILIA COSTA CARVALHO",
              "ANNE MAGALY DE PAULA CANUTO",
              "ANNICK BEAUGRAND",
              "ANTOINETTE DE BRITO MADUREIRA",
              "ANTONIA CLAUDIA JACOME DA CAMARA",
              "ANTONINO CONDORELLI",
              "ANTONIO ALVES FILHO",
              "ANTONIO BASILIO NOVAES THOMAZ DE MENEZES",
              "ANTONIO CABRAL NETO",
              "ANTONIO CARLOS FERREIRA",
              "ANTONIO CARLOS GAY THOME",
              "ANTONIO DE LISBOA LOPES COSTA",
              "ANTONIO DE PADUA DOS SANTOS",
              "ANTONIO EDUARDO MARTINELLI",
              "ANTONIO FELIPE DE PAULA JUNIOR",
              "ANTONIO GENARIO PINHEIRO DOS SANTOS",
              "ANTONIO GUILHERME CARDOSO RODRIGUES",
              "ANTONIO HERMES MARQUES DA SILVA JUNIOR",
              "ANTONIO IGOR SILVA DE OLIVEIRA",
              "ANTONIO LUIZ PEREIRA DE SIQUEIRA CAMPOS",
              "ANTONIO MARCOS BATISTA DO NASCIMENTO",
              "ANTONIO MEDEIROS DANTAS FILHO",
              "ANTONIO RICARDO CALAZANS DUARTE",
              "ANTONIO SALVIO DE ABREU",
              "ANTONIO SERGIO MACEDO FONSECA",
              "ANTONIO SOUZA DE ARAUJO",
              "ANTONIO WALLACE ANTUNES SOARES",
              "APOLINO JOSE NOGUEIRA DA SILVA",
              "AQUILES MEDEIROS FILGUEIRA BURLAMAQUI",
              "ARAMIS COSTA SANTOS",
              "ARIANO JOSE FREITAS DE OLIVEIRA",
              "ARLETE DOS SANTOS PETRY",
              "ARNALDO LUIS MORTATTI",
              "ARNALDO RODRIGUES BEZERRA FILHO",
              "ARNOBIO ANTONIO DA SILVA JUNIOR",
              "ARNOBIO DA PENHA PACHECO",
              "ARRHENIUS VINICIUS DA COSTA OLIVEIRA",
              "ARRILTON ARAUJO DE SOUZA",
              "ARTHUR CESAR DE MEDEIROS ALVES",
              "ARTUR CORTEZ BONIFACIO",
              "ARTUR DA SILVA CARRICO",
              "ARTUR JOSE LEMONTE",
              "ARTUR QUINTILIANO BEZERRA DA SILVA",
              "ATELMO FERREIRA DE OLIVEIRA",
              "ATHANASIOS TSOUANAS",
              "AUGUSTO JOSE VENANCIO NETO",
              "AURIGENA ANTUNES DE ARAUJO",
              "AUTA STELLA DE MEDEIROS GERMANO",
              "AUZELIVIA PASTORA REGO MEDEIROS FALCAO",
              "AVELINO MANUEL DA SILVA DIAS",
              "AZEMAR DOS SANTOS SOARES JUNIOR",
              "BEATRIZ DE CASSIA MARTINS SALOMAO",
              "BEATRIZ STRANSKY FERREIRA",
              "BENJAMIN RENE CALLEJAS BEDREGAL",
              "BENTO HERCULANO DUARTE NETO",
              "BENTO JOAO DA GRACA AZEVEDO ABREU",
              "BERGSON GUEDES BEZERRA",
              "BETANIA LEITE RAMALHO",
              "BETINA BARBIERO SAAD FORMIGA",
              "BETTINA RUPP",
              "BIANCA CARLA DANTAS DE ARAUJO",
              "BIANCA CAROLINA SERAFIM DO NASCIMENTO",
              "BIANCA NUNES GUEDES DO AMARAL ROCHA",
              "BISMARCK LUIZ SILVA",
              "BONIEK CASTILLO DUTRA BORGES",
              "BRENO DA SILVA CARVALHO",
              "BRENO GUILHERME DE ARAUJO TINOCO CABRAL",
              "BRUCE STEWART",
              "BRUNA LEAL LIMA MACIEL",
              "BRUNA TEIXEIRA AVILA",
              "BRUNO CAVALCANTE BELLINI",
              "BRUNO CESAR DE VASCONCELOS GURGEL",
              "BRUNO DOS SANTOS GOIS",
              "BRUNO LEONARDO CANTO MARTINS",
              "BRUNO LOBAO SOARES",
              "BRUNO MARQUES FERREIRA DA SILVA",
              "BRUNO MONTE DE CASTRO",
              "BRUNO MOTTA DE CARVALHO",
              "BRUNO RAFAELO LOPES VAZ",
              "BRUNO RICARDO DE CARVALHO",
              "BRUNO SANTANA DA SILVA",
              "BRUNO TOMIO GOTO",
              "BÁRBARA MORAIS FERREIRA THEREZA",
              "CAIO ALANO DE ALMEIDA LINS",
              "CAIO DORNELES CUNHA",
              "CAIO LIMA FIRME",
              "CAMILA GAMBINI PEREIRA COURTIAL",
              "CAMILA PACELLY BRANDÃO DE ARAÚJO",
              "CAMILA TORRES MEIRELLES",
              "CANDIDA MARIA BEZERRA DANTAS",
              "CARINA MAIA LINS COSTA",
              "CARLA ALMEIDA VIVACQUA",
              "CARLA DA COSTA FERNANDES CURVELO",
              "CARLA GIOVANA CABRAL",
              "CARLA MARIA CUNHA",
              "CARLA MONTEFUSCO DE OLIVEIRA",
              "CARLA WILZA SOUZA DE PAULA MAITELLI",
              "CARLOS ALBERTO ALMEIDA DE ARAUJO",
              "CARLOS ALBERTO DE CASTRO BARRETO",
              "CARLOS ALBERTO FREIRE MEDEIROS",
              "CARLOS ALBERTO MARTINEZ HUITLE",
              "CARLOS ALBERTO OLARTE VEGA",
              "CARLOS ALBERTO PASKOCIMAS",
              "CARLOS ALEXANDRE CAMARGO DE ABREU",
              "CARLOS ALEXANDRE GOMES DA SILVA",
              "CARLOS ALFREDO GALINDO BLAHA",
              "CARLOS ANDRE NUNES JATOBA",
              "CARLOS ANTONIO BARBOZA",
              "CARLOS ANTONIO DOS SANTOS SEGUNDO",
              "CARLOS AUGUSTO GALVAO BARBOZA",
              "CARLOS CESAR NASCIMENTO DA SILVA",
              "CARLOS CHESMAN DE ARAUJO FEITOSA",
              "CARLOS DAVID CEQUEIRA FEITOR",
              "CARLOS EDUARDO FREITAS",
              "CARLOS EDUARDO GALVAO BRAGA",
              "CARLOS EDUARDO MAIA GOMES",
              "CARLOS EDUARDO PELLICER DE OLIVEIRA",
              "CARLOS EDUARDO ROCHA CORREIA",
              "CARLOS EDUARDO TRABUCO DOREA",
              "CARLOS FRANCISCO DO NASCIMENTO",
              "CARLOS GUILHERME OCTAVIANO DO VALLE",
              "CARLOS HENRIQUE GRILO DINIZ",
              "CARLOS JOSE DE LIMA",
              "CARLOS MAGNO DE LIMA",
              "CARLOS MANUEL DIAS VIEGAS",
              "CARLOS NECO DA SILVA JUNIOR",
              "CARLOS PROLO",
              "CARLOS ROBERTO OLIVEIRA SOUTO",
              "CARLOS ROBERTO SORENSEN DUTRA DA FONSECA",
              "CARLOS WAGNER DIAS FERREIRA",
              "CARLOS WILMER COSTA",
              "CARLSON PEREIRA DE SOUZA",
              "CARMEN MARGARIDA OLIVEIRA ALVEAL",
              "CAROLINA CHAVES GOMES",
              "CAROLINA DANIEL DE LIMA ALVAREZ",
              "CAROLINA TODESCO",
              "CAROLINA VIRGINIA MACEDO DE AZEVEDO",
              "CAROLINE ADDISON CARVALHO XAVIER DE MEDEIROS",
              "CAROLINE DANTAS VILAR WANDERLEY",
              "CAROLINE EVELIN NASCIMENTO KLUCZYNIK VIEIRA",
              "CASSIA REGINA DE ALMEIDA MORAES",
              "CASSIANO JOSE BEZERRA MARQUES TROVAO",
              "CATARINA DE OLIVEIRA SOUSA",
              "CATARINA SHIN LIMA DE SOUZA",
              "CATARINE SANTOS DA SILVA",
              "CECILIA MARIA DE CARVALHO XAVIER HOLANDA",
              "CECILIA NOGUEIRA VALENCA",
              "CELCIMAR ALVES CAMARA",
              "CELIA MARCIA MEDEIROS DE MORAIS",
              "CELIA MARIA DE MEDEIROS",
              "CELLINA RODRIGUES MUNIZ",
              "CELSO DONIZETE LOCATEL",
              "CESAR ARAUJO BRITTO",
              "CESAR RENNO COSTA",
              "CESAR SANSON",
              "CHARLES ANDRYE GALVAO MADEIRA",
              "CHRISTIANE MEDEIROS BEZERRA",
              "CHRISTIANNE MEDEIROS CAVALCANTE",
              "CHRISTINA DA SILVA CAMILLO",
              "CIBELE SOARES PONTES",
              "CIBELLE AMORIM MARTINS",
              "CICERO FLAVIO SOARES ARAGAO",
              "CICLAMIO LEITE BARRETO",
              "CILIANA REGINA COLOMBO",
              "CIMONE ROZENDO DE SOUZA",
              "CINARA MARIA LEITE NAHRA",
              "CINTIA ALVES SALGADO AZONI",
              "CLAUDE LUIZ DE AGUILAR SANTOS",
              "CLAUDIA APARECIDA CAVALHEIRO FRANCISCO",
              "CLAUDIA CRISTIANE FILGUEIRA MARTINS RODRIGUES",
              "CLAUDIA ROBERTA DE OLIVEIRA CUNHA",
              "CLAUDIA RODRIGUES SOUZA MAIA",
              "CLAUDIA ROSANA KRANZ",
              "CLAUDIA SOUZA MACEDO",
              "CLAUDIANNY AMORIM NORONHA",
              "CLAUDIO BEZERRA DANTAS",
              "CLAUDIO FERREIRA COSTA",
              "CLAUDIO MARCOS TEIXEIRA DE QUEIROZ",
              "CLAUDIO MOISES SANTOS E SILVA",
              "CLAUDIO ROBERTO DE JESUS",
              "CLAUDIO RODRIGUES MUNIZ DA SILVA",
              "CLAUDIO ROMERO RODRIGUES DE ALMEIDA",
              "CLAUDIONOR GOMES BEZERRA",
              "CLAYTON LEVY LIMA DE MELO",
              "CLEANTO FORTUNATO DA SILVA",
              "CLEBER DA SILVEIRA CAMPOS",
              "CLEBSON LUIZ DE BRITO",
              "CLECIO DE OLIVEIRA GODEIRO JUNIOR",
              "CLECIO GABRIEL DE SOUZA",
              "CLEIDE OLIVEIRA GOMES",
              "CLEITON RUBENS FORMIGA BARBOSA",
              "CLELIA DE OLIVEIRA LYRA",
              "CLEMILTON LOPES PINHEIRO",
              "CLEONICE ANDREA ALVES CAVALCANTE",
              "CLOVIS DE MEDEIROS BEZERRA",
              "CLÁUDIA NUNES OLIVEIRA",
              "COSME JALES DE OLIVEIRA",
              "CREUZA MACEDO GOES ROCHA",
              "CRISLANE BARBOSA DE AZEVEDO",
              "CRISLUCI KARINA SOUZA SANTOS CANDIDO",
              "CRISTHIANNE DE FATIMA LINHARES DE VASCONCELOS",
              "CRISTIANE ELIZABETH COSTA DE MACEDO",
              "CRISTIANE FERNANDES DE ASSIS",
              "CRISTIANE RIBEIRO DE MELO LINO",
              "CRISTIANE SILVA CORREA",
              "CRISTIANO PRESTRELO DE OLIVEIRA",
              "CRISTINA ROCHA DE MEDEIROS MIRANDA",
              "CUSTODIO LEOPOLDINO DE BRITO GUERRA NETO",
              "CYNARA CARVALHO DE ABREU",
              "CYNARA TEIXEIRA RIBEIRO",
              "CYNERAYLLY LEBA SARAIVA BESSA",
              "DAISY VIEIRA DE ARAUJO",
              "DALINE FERNANDES DE SOUZA ARAUJO",
              "DAMIANA CLEUMA DE MEDEIROS",
              "DAMIAO NOBREGA DA SILVA",
              "DANIEL CARLOS FERREIRA LANZA",
              "DANIEL DANTAS LEMOS",
              "DANIEL DE ARAUJO MARTINS",
              "DANIEL DE LIMA PONTES",
              "DANIEL DURANTE PEREIRA ALVES",
              "DANIEL MARQUES DE ALMEIDA PESSOA",
              "DANIEL NELSON MACIEL",
              "DANIEL SABINO AMORIM DE ARAUJO",
              "DANIEL YASUMASA TAKAHASHI",
              "DANIELA AMARAL SILVA FREITAS",
              "DANIELA NEVES DE SOUSA",
              "DANIELE DA ROCHA CARVALHO",
              "DANIELE VIEIRA DANTAS",
              "DANIELLA REGINA ARANTES MARTINS SALHA",
              "DANIELLE BARBOSA MORAIS",
              "DANIELLE GRACE REGO DE ALMEIDA",
              "DANIELLE SOARES BEZERRA",
              "DANILO ALVES PINTO NAGEM",
              "DANILO CESAR GUANAIS DE OLIVEIRA",
              "DANILO CURVELO DE SOUZA",
              "DANILO JOSE AYRES DE MENEZES",
              "DANNIELLY AZEVEDO DE OLIVEIRA",
              "DANY GERALDO KRAMER CAVALCANTI E SILVA",
              "DARLAN ARAUJO MOREIRA",
              "DAVI SERRADELLA VIEIRA",
              "DAVID ARAUJO BORGES",
              "DAVID ARMANDO ZAVALETA VILLANUEVA",
              "DAVID LOPES DE CASTRO",
              "DAVID MENDES",
              "DAX FONSECA MORAES PAES NASCIMENTO",
              "DAYENNE HALLEY GOMES BEZERRA",
              "DEBORA BORGES FERREIRA",
              "DEBORA DE ALMEIDA ALOISE",
              "DEBORA DO CARMO SOUSA",
              "DEBORA MACHADO DE OLIVEIRA MEDINA",
              "DEBORA REGINA DE PAULA NUNES",
              "DELANDO NASARIO MEDEIROS",
              "DELANE MARIA REGO",
              "DENILSON DA SILVA ARAUJO",
              "DENISE MARIA DE CARVALHO LOPES",
              "DENISE MORAIS LOPES GALENO",
              "DENISE PEREIRA DO REGO",
              "DENISE VIEIRA DE OLIVEIRA",
              "DENIZE ARAUJO BARBOSA",
              "DENNYS LEITE MAIA",
              "DERIVALDO DOS SANTOS",
              "DESIO RAMIREZ DA ROCHA SILVA",
              "DEUSDEDIT MONTEIRO MEDEIROS",
              "DEUSIMAR FREIRE BRASIL",
              "DIANA CARLA SECUNDO DA LUZ",
              "DIANA FERREIRA GADELHA DE ARAUJO",
              "DIEGO ANDRES LAPLAGNE",
              "DIEGO ARAUJO DE MEDEIROS BRITO",
              "DIEGO BONFADA",
              "DIEGO DE MARIA ANDRE",
              "DIEGO FERRAZ DE SOUZA",
              "DIEGO JOSE ALVES ALEXANDRE",
              "DIEGO RODRIGO CABRAL SILVA",
              "DIEGO SALOMAO CANDIDO DE OLIVEIRA SALVADOR",
              "DIMITRE BRAGA SOARES DE CARVALHO",
              "DIMITRI TAURINO GUEDES",
              "DINARA LESLYE MACEDO E SILVA CALAZANS",
              "DINARA MARQUES PAIVA COSTA",
              "DINARTE AEDA DA SILVA",
              "DINO LINCOLN FIGUEIROA SANTOS",
              "DIOGENES FELIX DA SILVA COSTA",
              "DIOGO HENRIQUE SILVA DE LIMA",
              "DIOGO PIGNATARO DE OLIVEIRA",
              "DIOGO PINHEIRO FERNANDES PEDROSA",
              "DIOMADSON RODRIGUES BELFORT",
              "DOMINGOS FABIANO DE SANTANA SOUZA",
              "DORY HELIO AIRES DE LIMA ANSELMO",
              "DOUGLAS ARAUJO",
              "DOUGLAS DO NASCIMENTO SILVA",
              "DRAULIO BARROS DE ARAUJO",
              "DURVAL DA NOBREGA CESETTI",
              "DYEGO LEANDRO BEZERRA DE SOUZA",
              "DÁRLIO INÁCIO ALVES TEIXEIRA",
              "EDGAR PERIN MORAES",
              "EDGAR SILVA PEREIRA",
              "EDGARD DE FARIA CORREA",
              "EDILMA DE OLIVEIRA COSTA",
              "EDILSON DANTAS DA SILVA JUNIOR",
              "EDILSON PEREIRA PINTO JUNIOR",
              "EDIMILSON FÉLIX DA SILVA",
              "EDJA BEZERRA FARIA TRIGUEIRO",
              "EDLA HOFFMANN",
              "EDMILSON JOVINO DE OLIVEIRA",
              "EDMILSON LIRA MADUREIRA",
              "EDMILSON PINTO ALBUQUERQUE",
              "EDNA MARIA RANGEL DE SA",
              "EDNA MOURA PINTO",
              "EDNEIDE MARIA PINHEIRO GALVAO",
              "EDNEY RAFAEL VIANA PINHEIRO GALVAO",
              "EDSON DA SILVA FREITAS",
              "EDSON MOREIRA SILVA NETO",
              "EDSON NORIYUKI ITO",
              "EDU SILVESTRE DE ALBUQUERQUE",
              "EDUARDO ANIBAL PELLEJERO",
              "EDUARDO BODNARIUC FONTES",
              "EDUARDO BOUTH SEQUERRA",
              "EDUARDO CALDAS COSTA",
              "EDUARDO DANTAS BAPTISTA DE FARIA",
              "EDUARDO HENRIQUE DA SILVA ARANHA",
              "EDUARDO HENRIQUE SILVEIRA DE ARAUJO",
              "EDUARDO JOSÉ CIDADE CAVALCANTI",
              "EDUARDO LUIZ VOIGT",
              "EDUARDO MARTINS VENTICINQUE",
              "EDVALDO BALDUINO BISPO",
              "EDZANA ROBERTA FERREIRA DA CUNHA VIEIRA LUCENA",
              "EFRAIN PANTALEON MATAMOROS",
              "EGMAR LONGO HULL",
              "EIJI ADACHI MEDEIROS BARBOSA",
              "ELAINE CRISTINA GAVIOLI",
              "ELAINE GOUVEA PIMENTEL",
              "ELEDIR VITOR SOBRINHO",
              "ELIANA ANDRADE DA SILVA",
              "ELIANA COSTA GUERRA",
              "ELIANA LUCIA TOMAZ DO NASCIMENTO",
              "ELIANE FERREIRA DA SILVA",
              "ELIANE MARINHO SORIANO",
              "ELIANE PEREIRA DA SILVA",
              "ELIANE SANTOS CAVALCANTE",
              "ELIARDO GUIMARAES DA COSTA",
              "ELIENE SILVA ARAUJO",
              "ELINEI ARAUJO DE ALMEIDA",
              "ELISAMA VIEIRA DOS SANTOS",
              "ELISANGELA FRANCO DE OLIVEIRA CAVALCANTE",
              "ELISANIE NEIVA MAGALHAES TEIXEIRA",
              "ELISETE SCHWADE",
              "ELISSA ARANTES OSTROSKY",
              "ELIZA MARIA XAVIER FREIRE",
              "ELIZABEL DE SOUZA RAMALHO VIANA",
              "ELIZABETH FERREIRA GOUVEA GOLDBARG",
              "ELIZABETH JATOBA BEZERRA TINOCO",
              "ELIZABETH MAIA DE OLIVEIRA",
              "ELIZABETH ROMANI",
              "ELIZANGELA EMIDIO CUNHA",
              "ELIZEU ANTUNES DOS SANTOS",
              "ELKE BEATRIZ RIEDEL",
              "ELTON JOSE FIGUEIREDO DE CARVALHO",
              "ELZA MARIA FERNANDES SEABRA DE MELO",
              "EMANUEL FERRAZ JARDIM DE SA",
              "EMANUELE ORAZI",
              "EMELIE KATARINA SVAHN LEAO",
              "EMIDIO ANTONIO DE ARAUJO NETO",
              "ENIO CAMPOS AMICO",
              "ENIO WALKER AZEVEDO CACHO",
              "ERICA REVIGLIO ILIOVITZ",
              "ERICA VERICIA CANUTO DE OLIVEIRA VERAS",
              "ERICK WILSON PEREIRA",
              "ERICKA JANINE DANTAS DA SILVEIRA",
              "ERICO GURGEL AMORIM",
              "ERIK FERNANDO MILETTA MARTINS",
              "ERIKA BARIONI MANTELLO",
              "ERIKA DOS REIS GUSMAO ANDRADE",
              "ERIKA OLIVEIRA DE ALMEIDA",
              "ERIKA SIMONE GALVAO PINTO",
              "ERIVAN FERREIRA BORGES",
              "ERMELINDA MARIA MOTA OLIVEIRA",
              "ERMETON DUARTE DO NASCIMENTO",
              "ERMINIO JOSE ARAUJO DE CARVALHO",
              "ERNANO ARRAIS JUNIOR",
              "ERONILSON VIEIRA DA SILVA",
              "ERYVALDO SOCRATES TABOSA DO EGITO",
              "ESTHER MAJEROWICZ GOUVEIA",
              "ETIENNE LAUTENSCHLAGER",
              "EUDENILSON LINS DE ALBUQUERQUE",
              "EUDES EULER DE SOUZA LUCENA",
              "EUGENIA MARIA DANTAS",
              "EUGENIO LIMA DE SOUZA",
              "EUGENIO MARIANO FONSECA DE MEDEIROS",
              "EULALIA MARIA CHAVES MAIA",
              "EULER MACIEL DANTAS",
              "EUNADIA SILVA CAVALCANTE",
              "EURIDES ARAUJO BEZERRA DE MACEDO",
              "EUZEBIO GUIMARAES BARBOSA",
              "EVANDRO DOS SANTOS",
              "EVANS PAIVA DA COSTA FERREIRA",
              "EVELINE PIPOLO MILAN",
              "EVERALDO SILVINO DOS SANTOS",
              "EVERARDO ARAUJO RAMOS",
              "EVERTON RANIELLY DE SOUSA CAVALCANTE",
              "EVERTON SANTI",
              "EWERTON WILLIAM GOMES BRITO",
              "EXPEDITO SILVA DO NASCIMENTO JUNIOR",
              "EZEQUIAS OLIVEIRA LIRA",
              "FABIA BARBOSA DE ANDRADE",
              "FABIAN ARLEY POSADA BALVIN",
              "FABIANA ARISTON FILGUEIRA",
              "FABIANA CRISTINA MENDONCA DE ARAUJO",
              "FABIANA DANTAS SOARES ALVES DA MOTA",
              "FABIANA LIMA BEZERRA",
              "FABIANA RODRIGUES DE ARRUDA CAMARA",
              "FABIANA TRISTAO DE SANTANA",
              "FABIANE ROCHA BOTARELI",
              "FABIANO ANDRE DE SOUZA MENDONCA",
              "FABIANO DO ESPIRITO SANTO GOMES",
              "FABIO DALMAZZO SANCHES",
              "FABIO DE ALMEIDA VIEIRA",
              "FABIO FONSECA FIGUEIREDO",
              "FABIO HENRIQUE VIEIRA DE CRISTO E SILVA",
              "FABIO JOSE PINHEIRO SOUSA",
              "FABIO LUIS SOARES DE MACEDO",
              "FABIO MAGNO DA SILVA SANTANA",
              "FABIO MENEGHETTI UGULINO DE ARAUJO",
              "FABIO RESENDE DE ARAUJO",
              "FABIO ROBERTO DAMETTO",
              "FABIO SOREN PRESGRAVE",
              "FABIO SPEROTTO BEMFICA",
              "FABIO WELLINGTON ATAIDE ALVES",
              "FABRICIA GONCALVES DE CARVALHO",
              "FABRICIO GAVA MENEZES",
              "FABRICIO GERMANO ALVES",
              "FABRICIO VALE DE AZEVEDO GUERRA",
              "FAGNER ALEXANDRE NUNES DE FRANCA",
              "FAGNER LEMOS DE SANTANA",
              "FEDERICO SANGUINETTI",
              "FELIPE BOHN",
              "FELIPE NALON CASTRO",
              "FELLIPE COELHO LIMA",
              "FERDINAND GILBERT SARAIVA DA SILVA MAIA",
              "FERNANDA BARRETO DE ALMEIDA ROCHA MARIZ",
              "FERNANDA CRISTINA BARBOSA PEREIRA QUEIROZ",
              "FERNANDA FERNANDES GURGEL",
              "FERNANDA JULYANNA SILVA DOS SANTOS",
              "FERNANDA NERVO RAFFIN",
              "FERNANDA RODRIGUES MITTELBACH",
              "FERNANDA WANDERLEY DE OLIVEIRA",
              "FERNANDO CESAR ALVES DA SILVA",
              "FERNANDO DIEGO RODRIGUES DOS SANTOS",
              "FERNANDO FREIRE LISBOA",
              "FERNANDO GUEDES CURY",
              "FERNANDO HENRIQUE ANDRADE NOGUEIRA",
              "FERNANDO JOSE OLIVEIRA DE AMORIM",
              "FERNANDO JOSÉ VOLPI EUSÉBIO DE OLIVEIRA",
              "FERNANDO LUIZ VECHIATO",
              "FERNANDO MARQUES FIGUEIRA FILHO",
              "FERNANDO VAGNER LOBO LADD",
              "FIDEL ERNESTO CASTRO MORALES",
              "FILIPE MARTEL DE MAGALHAES BORGES",
              "FIVIA DE ARAUJO LOPES",
              "FLAVIA ANDREIA PEREIRA SOARES DOS SANTOS",
              "FLAVIA CHRISTIANE DE AZEVEDO MACHADO",
              "FLAVIA DE SA PEDREIRA",
              "FLAVIA POLATI FERREIRA",
              "FLAVIA ROLDAN VIANA",
              "FLAVIO BOLEIZ JUNIOR",
              "FLAVIO CESAR BEZERRA DA SILVA",
              "FLAVIO EDUARDO FALCAO LEMOS",
              "FLAVIO FERNANDES FONTES",
              "FLAVIO GABRIEL PARRO DA SILVA",
              "FLAVIO HENRIQUE MIRANDA DE ARAUJO FREIRE",
              "FLAVIO MEDEIROS JUNIOR",
              "FLAVIUS DA LUZ E GORGONIO",
              "FLAVO ELANO SOARES DE SOUZA",
              "FLEIDE DANIEL SANTOS DE ALBUQUERQUE",
              "FRANCILEIDE BATISTA DE ALMEIDA VIEIRA",
              "FRANCINE ALVES DA COSTA",
              "FRANCISCA AURINETE GIRAO BARRETO DA SILVA",
              "FRANCISCA DE PAULA DE OLIVEIRA",
              "FRANCISCA DE SOUZA MILLER",
              "FRANCISCA MARTA DE LIMA COSTA SOUZA",
              "FRANCISCO ADRIANO DE ARAUJO",
              "FRANCISCO ALEXANDRE DA COSTA",
              "FRANCISCO ALVES BEZERRA NETO",
              "FRANCISCO ARNOLDO NUNES DE MIRANDA",
              "FRANCISCO BARROS DIAS",
              "FRANCISCO BELISIO DE MEDEIROS NETO",
              "FRANCISCO CANINDE DE SOUSA JUNIOR",
              "FRANCISCO CLAUDECE PEREIRA",
              "FRANCISCO CLAUDIO SOARES JR",
              "FRANCISCO DAS CHAGAS FERNANDES SANTIAGO JUNIOR",
              "FRANCISCO DAS CHAGAS MOTA",
              "FRANCISCO DAS CHAGAS RODRIGUES",
              "FRANCISCO DE ASSIS BANDEIRA",
              "FRANCISCO DE ASSIS DE LIMA",
              "FRANCISCO DE ASSIS DUARTE GUIMARAES",
              "FRANCISCO DE ASSIS MEDEIROS DA SILVA",
              "FRANCISCO DE ASSIS NOBERTO GALDINO DE ARAUJO",
              "FRANCISCO DE ASSIS OLIMPIO CABRAL",
              "FRANCISCO DE SALES MATOS",
              "FRANCISCO DUTRA DE MACEDO FILHO",
              "FRANCISCO EDILSON LEITE PINTO JUNIOR",
              "FRANCISCO EDSON DA SILVA",
              "FRANCISCO ERNESTO ZARAGOZA ZALDIVAR",
              "FRANCISCO FABIO VIEIRA MARCOLINO",
              "FRANCISCO HILARIO REGO BEZERRA",
              "FRANCISCO IROCHIMA PINHEIRO",
              "FRANCISCO JOSE SANTOS LIMA",
              "FRANCISCO JOSE TARGINO VIDAL",
              "FRANCISCO MARCIO BARBOZA",
              "FRANCISCO MOISES CANDIDO DE MEDEIROS",
              "FRANCISCO NABUCO DE ALMEIDA BARRETO NETO",
              "FRANCISCO OLIVEIRA DA SILVA",
              "FRANCISCO ORDELEI NASCIMENTO DA SILVA",
              "FRANCISCO PIGNATARO LIMA",
              "FRANCISCO PINHEIRO LIMA FILHO",
              "FRANCISCO WELLINGTON DUARTE",
              "FRANCOIS WEIGEL",
              "FRED GUEDES CUNHA",
              "FRED SIZENANDO ROSSITER PINHEIRO",
              "FREDERICO ARANTES NABLE",
              "FREDERICO ARAUJO DA SILVA LOPES",
              "FREDERICO CASTRO JOBIM VILALVA",
              "FULVIO AURELIO DE MORAIS FREIRE",
              "Fernanda Marur Mazze",
              "GABRIEL IVAN MEDINA TAPIA",
              "GABRIEL MARTINS DE ARAUJO FILHO",
              "GABRIELA DE SOUSA MARTINS MELO DE ARAUJO",
              "GABRIELA LUCHEZE DE OLIVEIRA LOPES",
              "GABRIELLE FRANCINNE DE SOUZA CARVALHO TANUS",
              "GEORGE ALEXANDRE FERREIRA DANTAS",
              "GEORGE CARLOS DO NASCIMENTO",
              "GEORGE DANTAS DE AZEVEDO",
              "GEORGE QUEIROZ DE BRITO",
              "GEORGE SANTOS MARINHO",
              "GEORGIA SIBELE NOGUEIRA DA SILVA",
              "GERALDO BARROSO CAVALCANTI JUNIOR",
              "GERARDO ANDRES GODOY FAJARDO",
              "GERBSON AZEVEDO DE MENDONCA",
              "GERLANE COELHO BERNARDO GUERRA",
              "GERMAN GARABITO CALLAPINO",
              "GERMANNA FRANCA DA CUNHA",
              "GERMANO MELO JUNIOR",
              "GERSON BARBOSA DO NASCIMENTO",
              "GERSON FONSECA DE SOUZA",
              "GESSICA FABIELY FONSECA",
              "GIANE BEZERRA VIEIRA",
              "GIANKA SALUSTIANO BEZERRIL DE BASTOS GOMES",
              "GIBEON SOARES DE AQUINO JUNIOR",
              "GILBERTO CORSO",
              "GILBERTO FERREIRA COSTA",
              "GILDASIO LUCAS DE LUCENA",
              "GILMAR AMORIM DE SOUSA",
              "GILMAR BARBOSA GUEDES",
              "GILMAR SANTANA",
              "GILMARA MENDES DA COSTA BORGES",
              "GILSON DE VASCONCELOS TORRES",
              "GILSON GOMES DA SILVA",
              "GILSON GOMES DE MEDEIROS",
              "GILVAN LUIZ BORBA",
              "GILVANDO ALVES DE OLIVEIRA",
              "GILVANDO PEREIRA DA SILVA",
              "GIOVANNA TONETTO SEGANTINI",
              "GISELE AMARAL DOS SANTOS",
              "GISELE CORREIA PACHECO LEITE",
              "GISELE OLIVEIRA DA SILVA PAIVA",
              "GISELLE COSTA DE SOUSA",
              "GISLENE MARIA DA SILVA GANADE",
              "GIULIANNA PAIVA VIANA DE ANDRADE SOUZA",
              "GLAUCE LILIAN ALVES DE ALBUQUERQUE",
              "GLAUCIO BEZERRA BRANDAO",
              "GLEICE VIRGINIA MEDEIROS DE AZAMBUJA ELALI",
              "GLENN WALTER ERICKSON",
              "GLEYDSON KLEBER LOPES DE OLIVEIRA",
              "GLEYDSON PINHEIRO ALBANO",
              "GLICIA MARILI AZEVEDO DE MEDEIROS TINOCO",
              "GRACIMARY ALVES TEIXEIRA",
              "GRACO AURELIO CAMARA DE MELO VIANA",
              "GRASIELA NASCIMENTO CORREIA",
              "GRASIELA PIUVEZAM",
              "GUALTER GUENTHER COSTA DA SILVA",
              "GUILHERME AUGUSTO DE FREITAS FREGONEZI",
              "GUILHERME BRIDI",
              "GUILHERME MARANHAO CHAVES",
              "GUILHERME ORTIGARA LONGO",
              "GUNTHINEIA ALVES DE LIRA",
              "GUSTAVO ANTONIO DE SOUZA",
              "GUSTAVO ARRUDA RAMALHO LIRA",
              "GUSTAVO AUGUSTO SEABRA BARBOSA",
              "GUSTAVO BEZERRA PAZ LEITAO",
              "GUSTAVO DA CUNHA LIMA FREIRE",
              "GUSTAVO GIRAO BARRETO DA SILVA",
              "GUSTAVO HENRIQUE DE OLIVEIRA CALDAS",
              "GUSTAVO MAFALDO SOARES",
              "GUSTAVO ZAMPIER DOS SANTOS LIMA",
              "GUTEMBERGUE SOARES DA SILVA",
              "HAILSON ALVES FERREIRA PRESTON",
              "HALANA GARCEZ BOROWSKY",
              "HALCIMA MELO BATISTA",
              "HALLISSA SIMPLICIO GOMES PEREIRA",
              "HANDERSON RAPHAEL FERNANDES VALE DA CRUZ",
              "HARETON TEIXEIRA VECHI",
              "HASSAN MOHAMED ELSANGEDY",
              "HEATHER DEA JENNINGS",
              "HEBEL CAVALCANTI GALVAO",
              "HECIO HENRIQUE ARAUJO DE MORAIS",
              "HECTOR LENY CARRION SALAZAR",
              "HEITOR DE ANDRADE SILVA",
              "HELCIO DE SOUSA MARANHAO",
              "HELCIO PACHECO DE MEDEIROS",
              "HELDER ALEXANDRE MEDEIROS DE MACEDO",
              "HELDER DO NASCIMENTO VIANA",
              "HELDERES PEREGRINO ALVES DA SILVA",
              "HELENA RUGAI BASTOS",
              "HELENI AIRES CLEMENTE",
              "HELENICE VITAL",
              "HELIANA BEZERRA SOARES",
              "HELIO ROBERTO HEKIS",
              "HELIO RODRIGUES DOS SANTOS",
              "HELIO TAKASHI MACIEL DE FARIAS",
              "HELOISA LIMA PERALES",
              "HELTON MAIA PEIXOTO",
              "HENIO GODEIRO LACERDA",
              "HENRIQUE ALONSO DE ALBUQUERQUE RODRIGUES PEREIRA",
              "HENRIQUE ANDRE RAMOS WELLEN",
              "HENRIQUE EDUARDO BEZERRA DA SILVA",
              "HENRIQUE EDUARDO DE SOUSA",
              "HENRIQUE JOSE DA MOTA",
              "HENRIQUE ROCHA DE MEDEIROS",
              "HERBERT ARY ARZABE ANTEZAMA COSTA NOBREGA SISENANDO",
              "HERBERT RICARDO GARCIA VIANA",
              "HERBET TADEU DE ALMEIDA ANDRADE",
              "HERCULANA TORRES DOS SANTOS",
              "HERNANI DE PAIVA GADELHA JUNIOR",
              "HERTZ WILTON DE CASTRO LINS",
              "HINDIAEL AERAF BELCHIOR",
              "HIPOLITO VIRGILIO MAGALHAES JUNIOR",
              "HIRONOBU SANO",
              "HUGO ALEXANDRE DE OLIVEIRA ROCHA",
              "HUGO ARRUDA DE MORAIS",
              "HUMBERTO NEVES MAIA DE OLIVEIRA",
              "HUMBERTO RABELO",
              "HYLARINA MARIA MONTENEGRO DINIZ SILVA",
              "HYLAS PAIVA DA COSTA FERREIRA",
              "IANA OLIVEIRA E SILVA RIBEIRO",
              "IAPONY RODRIGUES GALVAO",
              "IDALMIS MILIAN SARDINA MARTINS",
              "IDIVALDO ANTONIO MICALI",
              "IESUS CARVALHO DINIZ",
              "IGOR DE FARIAS DOMINGOS",
              "IGOR EZIO MACIEL SILVA",
              "IGOR LOPES DE ANDRADE",
              "IGOR ROSBERG DE MEDEIROS SILVA",
              "ILANA LEMOS DE PAIVA",
              "ILDERLÂNDIO ASSIS DE ANDRADE NASCIMENTO",
              "ILENA FELIPE BARROS",
              "ILKA DE LIMA SOUZA",
              "ILLIA NADINNE DANTAS FLORENTINO LIMA",
              "ILUSKA ALMEIDA CARNEIRO MARTINS DE MEDEIROS",
              "INGRID WILZA LEAL BEZERRA",
              "IONE RODRIGUES DINIZ MORAIS",
              "IRACEMA AUGUSTA CARVALHO CORTEZ",
              "IRACEMA MIRANDA DA SILVEIRA",
              "IRAMI ARAUJO FILHO",
              "IRAN MARQUES DE LIMA",
              "IRENE ALVES DE PAIVA",
              "IRIS LINHARES PIMENTA GURGEL",
              "IRIS OLIVEIRA DA SILVA",
              "ISA MARIA HETZEL DE MACEDO",
              "ISAAC FRANCO FERNANDES",
              "ISAACK SAYMON ALVES FEITOZA SILVA",
              "ISABEL DILLMANN NUNES",
              "ISABEL MARIA FARIAS FERNANDES DE OLIVEIRA",
              "ISABELA LUCIANE DE MEDEIROS SOUZA MENDONCA",
              "ISABELA SACILOTTO VILLAR DE FREITAS",
              "ISABELITA DUARTE AZEVEDO",
              "ISABELLE CAMPOS DE AZEVEDO",
              "ISABELLE KATHERINNE FERNANDES COSTA",
              "ISABELLE RIBEIRO BARBOSA MIRABAL",
              "ISAIAS DA SILVA RIBEIRO",
              "ISANA ALVARES FERREIRA",
              "ISAUREMI VIEIRA DE ASSUNCAO",
              "ISAURO BELTRAN NUNEZ",
              "ISMENIA BLAVATSKY DE MAGALHÃES",
              "ITAMAR DE MORAIS NOBRE",
              "ITAMIR DE MORAIS BARROCA FILHO",
              "IURI GOULART BASEIA",
              "IVAN ALVES DO NASCIMENTO",
              "IVAN DANIEL BEZERRA NOGUEIRA",
              "IVAN LIRA DE CARVALHO",
              "IVAN LUCENA DE ALMEIDA",
              "IVANALDO AMANCIO DA SILVEIRA",
              "IVANEIDE ALVES SOARES DA COSTA",
              "IVANISE CORTEZ DE SOUSA GUIMARAES",
              "IVANISE MARINA MORETTI REBECCHI",
              "IVANOR VELLOSO MEIRA LIMA",
              "IVANOVITCH MEDEIROS DANTAS DA SILVA",
              "IVONE DA SILVA SALSA",
              "IVONETE BATISTA DE ARAUJO",
              "IZABEL AUGUSTA HAZIN PIRES",
              "IZABEL SOUZA DO NASCIMENTO",
              "IZAN DE CASTRO LEÃO",
              "IZAURA LUZIA SILVERIO FREIRE",
              "JACICLEIDE FERREIRA TARGINO DA CRUZ MELO",
              "JACILEIDE GUIMARAES",
              "JACIRA MARIA ANDRADE DE SOUSA",
              "JACKSON ARAUJO DE OLIVEIRA",
              "JACOPO VITI",
              "JACQUELINE APARECIDA DE SOUZA",
              "JACYENE MELO DE OLIVEIRA",
              "JADER FERREIRA LEITE",
              "JAHYR PHILIPPE BICHARA",
              "JAILMA MARIA DE LIMA",
              "JAILSON VIEIRA DE MELO",
              "JAIR CAVALCANTI LEITE",
              "JAIRO SOTERO NOGUEIRA DE SOUZA",
              "JAMERSON VIEGAS QUEIROZ",
              "JAMILSON SIMOES BRASILEIRO",
              "JANAINA CRISTIANA DE OLIVEIRA CRISPIM FREITAS",
              "JANAINA DA SILVA ALVES",
              "JANAINA DIAS BARCELOS",
              "JANAINA WEISSHEIMER",
              "JANAINE SIBELLE FREIRES AIRES",
              "JANAYNNA DE MOURA FERRAZ",
              "JANE CARLA DE SOUZA",
              "JANE CRISTINA MEDEIROS",
              "JANE ROBERTA DE ASSIS BARBOSA",
              "JANETE GOUVEIA DE SOUZA",
              "JANETE LIMA DE CASTRO",
              "JANEUSA TRINDADE DE SOUTO",
              "JANICEIA LOPES SIMPLICIO LINS",
              "JANINE INEZ ROSSATO",
              "JANINE KARLA FRANCA DA SILVA BRAZ",
              "JANMILLI DA COSTA DANTAS",
              "JAQUELIGIA BRITO DA SILVA",
              "JAQUELINE CASTILHO MACHUCA",
              "JAQUES SILVEIRA LOPES",
              "JAZIELLI CARVALHO SA",
              "JEAN JOUBERT FREITAS MENDES",
              "JEANCARLO FERNANDES CAVALCANTE",
              "JEANNE CHRISTINE MENDES TEIXEIRA",
              "JEFERSON DE SOUZA CAVALCANTE",
              "JEFFERSON FERNANDES ALVES",
              "JEFFERSON SOARES DA COSTA",
              "JENNIFER SARAH COOPER",
              "JENNYS LOURDES MENESES BARILLAS",
              "JERONIMO MANOEL DE MENDONCA ROLIM",
              "JESONIAS DA SILVA OLIVEIRA",
              "JESUS LEODALY SALAZAR ARAMAYO",
              "JOABE DOS SANTOS PEREIRA",
              "JOANA CRISTINA MEDEIROS TAVARES MARQUES",
              "JOANA CUNHA DE HOLANDA",
              "JOANA DARC FREIRE DE MEDEIROS",
              "JOANA DARC MEDEIROS MARTINS",
              "JOANA TEREZA VAZ DE MOURA",
              "JOAO BATISTA DA COSTA JUNIOR",
              "JOAO BOSCO ARAUJO DA COSTA",
              "JOAO BOSCO LUCENA DE OLIVEIRA",
              "JOAO CARLOS ALCHIERI",
              "JOAO CARLOS XAVIER JUNIOR",
              "JOAO DANTAS PEREIRA",
              "JOAO DE CARVALHO FILHO",
              "JOAO FELIPE DE MEDEIROS FILHO",
              "JOAO FERNANDES DE SOUSA",
              "JOAO FIRMINO RODRIGUES NETO",
              "JOAO GOMES DA SILVA NETO",
              "JOAO MANOEL DE VASCONCELOS FILHO",
              "JOAO MARCOS DE ALMEIDA",
              "JOAO MARIA GOMES ALENCAR DE SOUZA",
              "JOAO MARIA MONTENEGRO RIBEIRO",
              "JOAO MARIA PAIVA PALHANO",
              "JOAO MATOS FILHO",
              "JOAO MEDEIROS DE ARAUJO",
              "JOAO PAULO DE ARAUJO",
              "JOAO PAULO DE SOUZA MEDEIROS",
              "JOAO PAULO DOS SANTOS MELO",
              "JOAO PAULO MARTINS GUEDES",
              "JOAO PAULO MATOS SANTOS LIMA",
              "JOAO QUINTINO DE MEDEIROS FILHO",
              "JOAO RODRIGO SOUZA LEAO",
              "JOAO TADEU WECK",
              "JOAO VITAL DA CUNHA JUNIOR",
              "JOCELINE CASSIA FEREZINI DE SA",
              "JOEL ARAUJO DO NASCIMENTO NETO",
              "JOEL CARLOS DE SOUZA ANDRADE",
              "JOELIA CELESTE VIEIRA GERMANO",
              "JOILSON BATISTA DE ALMEIDA REGO",
              "JONAS IVAN NOBRE OLIVEIRA",
              "JONAS SAMI ALBUQUERQUE DE OLIVEIRA",
              "JONATHAN MOTA DA SILVA",
              "JORDANA CRISTINA DE JESUS",
              "JORDI JULIA CASAS",
              "JORGE CARLOS LOPES BRAS SILVA PEREIRA",
              "JORGE DOS SANTOS CAVALCANTI",
              "JORGE EDUARDO LINS OLIVEIRA",
              "JORGE ESTEFANO SANTANA DE SOUZA",
              "JORGE LUCIO COSTA DE MEDEIROS DANTAS",
              "JORGE TARCISIO DA ROCHA FALCAO",
              "JOSAIR CUSTODIO DE MESQUITA",
              "JOSALMIR JOSE MELO DO AMARAL",
              "JOSE ADAILTON DA SILVA",
              "JOSE AIRTON CUNHA COSTA",
              "JOSE ALBERTO NICOLAU DE OLIVEIRA",
              "JOSE ALFREDO FERREIRA COSTA",
              "JOSE ALTAMIRO CARRILHO MOTA DOS SANTOS",
              "JOSE ANTONIO SPINELI LINDOZO",
              "JOSE APARECIDO MOREIRA",
              "JOSE BATISTA SIQUEIRA",
              "JOSE BRAZ DINIZ FILHO",
              "JOSE BRUNO DE ALMEIDA",
              "JOSE CLEWTON DO NASCIMENTO",
              "JOSE DA LUZ DA COSTA",
              "JOSE DIAS DO NASCIMENTO JUNIOR",
              "JOSE DINIZ DE MORAES",
              "JOSE DINIZ JUNIOR",
              "JOSE DIONISIO GOMES DA SILVA",
              "JOSE DOS SANTOS FIGUEIREDO",
              "JOSE EDMILSON FELIPE DA SILVA",
              "JOSE EMERSON FIRMINO",
              "JOSE EVANGELISTA FAGUNDES",
              "JOSE GLEBSON VIEIRA",
              "JOSE GUILHERME DA SILVA SANTA ROSA",
              "JOSE HAMILTON DA COSTA FILHO",
              "JOSE HENRIQUE FERNANDEZ",
              "JOSE HERIBERTO OLIVEIRA DO NASCIMENTO",
              "JOSE HIPOLITO DANTAS JUNIOR",
              "JOSE HOLMES DO REGO BARROS",
              "JOSE HUMBERTO DE ARAUJO",
              "JOSE IVAN DE MEDEIROS",
              "JOSE JAILSON DA SILVA",
              "JOSE JAILSON DE ALMEIDA JUNIOR",
              "JOSE LEOMARQUES VIEIRA DE MEDEIROS",
              "JOSE LUIS CARDOZO FONSECA",
              "JOSE LUIZ DA SILVA JUNIOR",
              "JOSE LUIZ DE ATTAYDE",
              "JOSE LUIZ DE SOUZA NETO",
              "JOSE LUIZ FERREIRA",
              "JOSE MIQUEIAS ANTAS DE GOUVEIA",
              "JOSE NERES DA SILVA FILHO",
              "JOSE ORLANDO RIBEIRO ROSARIO",
              "JOSE PATROCINIO DA SILVA",
              "JOSE PEREIRA DE MELO",
              "JOSE QUERGINALDO BEZERRA",
              "JOSE REBBERTY RODRIGO HOLANDA",
              "JOSE REINALDO ALVES PICANCO",
              "JOSE RENAN DE MEDEIROS",
              "JOSE RICARDO LAGRECA DE SALES CABRAL",
              "JOSE SANDRO PEREIRA DA SILVA",
              "JOSE SAVIO OLIVEIRA DE ARAUJO",
              "JOSE TAVARES DE OLIVEIRA",
              "JOSE VERISSIMO FERNANDES",
              "JOSE VILTON COSTA",
              "JOSE WILSON DE PAIVA MACEDO",
              "JOSE YURE GOMES DOS SANTOS",
              "JOSE ZILMAR ALVES DA COSTA",
              "JOSELI SOARES BRAZOROTTO",
              "JOSELIO MARIA GALVAO DE ARAUJO",
              "JOSEMERY ARAUJO ALVES",
              "JOSENALDE BARBOSA DE OLIVEIRA",
              "JOSENILDO SOARES BEZERRA",
              "JOSIBEL GOMES DE OLIVEIRA JUNIOR",
              "JOSILETE ALVES MOREIRA DE AZEVEDO",
              "JOSINALDO MENEZES DA SILVA",
              "JOSIVAN GOMES DE LIMA",
              "JOSIVANIA MARISA DANTAS",
              "JOSSANA MARIA DE SOUZA FERREIRA",
              "JOSUE LINS E SILVA",
              "JOSUÉ VITOR DE MEDEIROS JÚNIOR",
              "JOSÉ MEDEIROS DO NASCIMENTO FILHO",
              "JOVANKA BITTENCOURT LEITE DE CARVALHO",
              "JOÃO BATISTA BORGES NETO",
              "JOÃO CARLOS ARANTES COSTA JÚNIOR",
              "JOÃO WANDERLEY RODRIGUES PEREIRA",
              "JUAN ALBERTO ROJAS CRUZ",
              "JUCIANO DE SOUSA LACERDA",
              "JUCIMAR FRANCA VILAR LIMA",
              "JUDITH JOHANNA HOELZEMANN",
              "JUDNEY CLEY CAVALCANTE",
              "JULIA ROCHA ARAUJO",
              "JULIA VICTORIA TOLEDO BENAVIDES",
              "JULIANA ALVES AGUIAR DA SILVA COSTA",
              "JULIANA BACELAR DE ARAUJO",
              "JULIANA DELGADO TINOCO",
              "JULIANA DEO DIAS",
              "JULIANA ESPADA LICHSTON",
              "JULIANA FELIPE FARIAS",
              "JULIANA FERNANDES DOS SANTOS DAMETTO",
              "JULIANA FERNANDES GODOY",
              "JULIANA KELLY DA SILVA MAIA",
              "JULIANA LORENSI DO CANTO",
              "JULIANA MARIA GAZZOLA",
              "JULIANA MESQUITA HIDALGO FERREIRA",
              "JULIANA TEIXEIRA JALES MENESCAL PINTO",
              "JULIANA TEIXEIRA SOUZA",
              "JULIANE VARGAS WELTER",
              "JULIANNE PEREIRA DOS SANTOS",
              "JULIE ANTOINETTE CAVIGNAC",
              "JULIO CESAR DE MELO COLABARDINI",
              "JULIO CESAR MENDES E SILVA",
              "JULIO CESAR PAULINO DE MELO",
              "JULIO CESAR VIEIRA DE SOUSA",
              "JULIO GOMES JUNIOR",
              "JULITA DE CAMPOS PIPOLO HOLANDA",
              "JULLIANE TAMARA ARAUJO DE MELO CAMPOS",
              "JUSSARA MELO DE CERQUEIRA MAIA",
              "JÁRVIS CAMPOS",
              "JÓRISSA DANILLA NASCIMENTO AGUIAR",
              "JÚLIO CÉZAR DE OLIVEIRA FREITAS",
              "KALINE MELO DE SOUTO VIANA",
              "KAREN MARIA DA COSTA MATTOS",
              "KARILANY DANTAS COUTINHO",
              "KARINA CARDOSO MEIRA",
              "KARINA CARLA DE PAULA MEDEIROS",
              "KARINA PATRICIA VIEIRA DA CUNHA",
              "KARINA RIBEIRO",
              "KARINE CAVALCANTI MAURICIO DE SENA EVANGELISTA",
              "KARINNA VERISSIMO MEIRA TAVEIRA",
              "KARLA DANIELLY DA SILVA RIBEIRO RODRIGUES",
              "KARLA MORGANNA PEREIRA PINTO DE MENDONCA",
              "KARLA PATRICIA CARDOSO AMORIM",
              "KARLA SUSANNA CORREIA CAVALCANTI DE ALBUQUERQUE",
              "KARLA SUZANNE FLORENTINO DA SILVA CHAVES DAMASCENO",
              "KAROLINNE SOUZA MONTEIRO",
              "KARYNA MYRELLY OLIVEIRA BEZERRA DE FIGUEIREDO RIBEIRO",
              "KASSIO MICHELL GOMES DE LIMA",
              "KATHERINE CARRILHO DE OLIVEIRA DEUS",
              "KATIA AILY FRANCO DE CAMARGO",
              "KATIA CASTANHO SCORTECCI",
              "KATIA CRISTINA ARAUJO NASCIMENTO DE OLIVEIRA",
              "KATIA NICOLAU MATSUI",
              "KATIA REGINA BARROS RIBEIRO",
              "KATIA REGINA LOPES COSTA FREIRE",
              "KATIE MORAES DE ALMONDES",
              "KATIENE SYMONE DE BRITO PESSOA DA SILVA",
              "KATYA ANAYA JACINTO",
              "KAYO GONCALVES E SILVA",
              "KEITY MARA FERREIRA DE SOUZA E SABOYA",
              "KELLEN CARLA LIMA",
              "KELLY KALIANE REGO DA PAZ RODRIGUES",
              "KELLY SAMARA DE LIRA MOTA",
              "KENIA BEATRIZ FERREIRA MAIA",
              "KENIO COSTA DE LIMA",
              "KERSTIN ERIKA SCHMIDT",
              "KESIA KARINA DE OLIVEIRA SOUTO SILVA",
              "KESSYA DANTAS DINIZ",
              "KEYLA BORGES FERREIRA ROCHA",
              "KILDER CESAR DE ARAUJO RIBEIRO",
              "KISNA YASMIN ANDRADE ALVES",
              "KLAYTON GALANTE SOUSA",
              "KLEBER GIOVANNI LUZ",
              "KLEBER LUIZ DA FONSECA AZEVEDO",
              "KLEBER NOBRE DA CUNHA",
              "KLEIBER LIMA DE BESSA",
              "KURIOS IURI PINHEIRO DE MELO QUEIROZ",
              "LAECIO CUNHA DE SOUZA",
              "LAERCIO ALMEIDA DE MELO",
              "LAERCIO MARTINS DE MENDONCA",
              "LAIANE SANTOS EUFRASIO",
              "LAIS GUARALDO",
              "LAIS IZABEL MAIA MELO CRISANTO",
              "LAISE KELLEY LEMOS BARBOSA",
              "LARA DE MELO BARBOSA ANDRADE",
              "LARALIS NUNES DE SOUSA OLIVEIRA",
              "LARISSA BASTOS PIMENTEL",
              "LARISSA BASTOS TAVARES",
              "LARISSA GRACE NOGUEIRA SERAFIM DE MELO",
              "LARISSA JACHETA RIBERTI",
              "LARISSA KELLY DE OLIVEIRA MARQUES",
              "LARISSA MONT ALVERNE JUCA SEABRA",
              "LARISSE DE OLIVEIRA RODRIGUES",
              "LAURA EMMANUELLA ALVES DOS SANTOS SANTANA DE OLIVEIRA",
              "LAURA MARIA DE FIGUEIREDO",
              "LAURIANA MEDEIROS COSTA SANTOS",
              "LAURITA RICARDO DE SALLES",
              "LAURO WANDERLEY MELLER",
              "LAVINIA UCHOA AZEVEDO DE ARAUJO",
              "LEANDRO DE MAGALHAES GAZINEO",
              "LEANDRO DE SANTIS FERREIRA",
              "LEANDRO IBIAPINA BEVILAQUA",
              "LEANDSON ROBERTO FERNANDES DE LUCENA",
              "LEILANE DE MELO OLIVEIRA",
              "LEILIANNE MICHELLE TRINDADE DA SILVA BARRETO",
              "LELIA BATISTA DE SOUZA",
              "LELIA MARIA GUEDES QUEIROZ",
              "LEO GOUVEA MEDEIROS",
              "LEONARDO BERNARDO BEZERRA",
              "LEONARDO CAPISTRANO FERREIRA",
              "LEONARDO CESAR TEONACIO BEZERRA",
              "LEONARDO CUNHA DE MIRANDA",
              "LEONARDO DANTAS MACHADO",
              "LEONARDO DE MELO VERSIEUX",
              "LEONARDO FLAMARION MARQUES CHAVES",
              "LEONARDO MAFRA BEZERRIL",
              "LEONARDO MARTINS",
              "LEONARDO MOURA FERREIRA DE SOUZA",
              "LEONARDO RODRIGUES DE LIMA TEIXEIRA",
              "LEONARDO THIAGO DUARTE BARRETO NOBRE",
              "LEONARDO VILACA SALDANHA",
              "LEONIDAS DE OLIVEIRA NETO",
              "LETICIA DOS SANTOS CARVALHO",
              "LETICIA MARIA MENEZES NOBREGA",
              "LIA REJANE MULLER BEVILAQUA",
              "LIANA DE FIGUEIREDO MENDES",
              "LIANA FRANCO PADILHA",
              "LIANA GALVAO BACURAU PINHEIRO",
              "LIDIANE MARIA DE BRITO MACEDO FERREIRA",
              "LIDIANNE ARAUJO ALEIXO DE CARVALHO",
              "LIGIA REJANE SIQUEIRA GARCIA",
              "LIGIO JOSE DE OLIVEIRA MAIA",
              "LILIA ASUCA SUMIYA",
              "LILIAN CARLA MUNEIRO",
              "LILIAN GIOTTO ZAROS DE MEDEIROS",
              "LILIAN LIRA LISBOA",
              "LILIANE DOS SANTOS GUTIERRE",
              "LILIANE PEREIRA BRAGA",
              "LINDEMBERG DE JESUS NOGUEIRA DUARTE",
              "LINDIJANE DE SOUZA BENTO ALMEIDA",
              "LINDUARTE VARELA DE MORAIS",
              "LISABETE CORADINI",
              "LIVIA CIRNE DE AZEVEDO PEREIRA",
              "LIVIA NUNES CAVALCANTI",
              "LIZIE EMANUELLE EULALIO BRASILEIRO",
              "LORENA AZEVEDO DE SOUSA",
              "LORENA RAMOS CORREIA CARDOSO",
              "LOUISIANNY GUERRA DA ROCHA",
              "LOURENA KARIN DE MEDEIROS ROCHA",
              "LOURENA MAFRA VERISSIMO",
              "LOURIVAL ANDRADE JUNIOR",
              "LUANA ARAUJO CASTRO MACEDO",
              "LUANA JUNQUEIRA DIAS MYRRHA",
              "LUCELIO DANTAS DE AQUINO",
              "LUCIA DE FATIMA AMORIM",
              "LUCIA DE FATIMA ARAUJO",
              "LUCIA HELENA ALVES DA COSTA",
              "LUCIA LEITE LAIS",
              "LUCIANA CONCEICAO DE LIMA",
              "LUCIANA DE ALBUQUERQUE MOREIRA",
              "LUCIANA DE ANDRADE MENDES",
              "LUCIANA DE FIGUEIREDO LOPES LUCENA",
              "LUCIANA DE MEDEIROS",
              "LUCIANA DUARTE MARTINS DA MATTA",
              "LUCIANA FERNANDES DE MEDEIROS",
              "LUCIANA GUIMARAES ALVES FILGUEIRA",
              "LUCIANA SILVA CARNEIRO",
              "LUCIANE PAULA BATISTA ARAUJO DE OLIVEIRA",
              "LUCIANE TERRA DOS SANTOS GARCIA",
              "LUCIANI PAOLA ROCHA CRUZ BARROS",
              "LUCIANO ATHAYDE CHAVES",
              "LUCIANO CESAR BEZERRA BARBOSA",
              "LUCIANO MENEZES BEZERRA SAMPAIO",
              "LUCIANO RODRIGUES DA SILVA",
              "LUCIEN PERONI GUALDI",
              "LUCIENE DA SILVA SANTOS",
              "LUCILA MOURA RAMOS VASCONCELOS",
              "LUCINEIA CONTIERO",
              "LUCIO FLAVIO FERREIRA MOREIRA",
              "LUCIO MARASSI DE SOUZA ALMEIDA",
              "LUCYMARA FASSARELLA AGNEZ LIMA",
              "LUCYPAULA ANDRADE PINHEIRO FERNANDES",
              "LUIS ALFREDO FERNANDES DE ASSIS",
              "LUIS EDUARDO FIORI",
              "LUIS GONZAGA VIEIRA FILHO",
              "LUIS HENRIQUE FERNANDES BORBA",
              "LUIS ROBERTO ROSSI DEL CARRATORE",
              "LUIZ AFFONSO HENDERSON GUEDES DE OLIVEIRA",
              "LUIZ ALBERTO DA SILVA JUNIOR",
              "LUIZ ALESSANDRO PINHEIRO DA CAMARA DE QUEIROZ",
              "LUIZ ALVES MORAIS FILHO",
              "LUIZ ANTONIO CESTARO",
              "LUIZ AUGUSTO MACHADO MENDES FILHO",
              "LUIZ CARLOS RADTKE",
              "LUIZ CARVALHO DE ASSUNCAO",
              "LUIZ EDUARDO DE SOUZA FERNANDES DA SILVA",
              "LUIZ FELIPE DE QUEIROZ SILVEIRA",
              "LUIZ FERNANDO DAL PIAN NOBRE",
              "LUIZ GONZAGA DE QUEIROZ SILVEIRA JUNIOR",
              "LUIZ GUILHERME MEIRA DE SOUZA",
              "LUIZ HENRIQUE DA SILVA GASPAROTTO",
              "LUIZ MARCOS GARCIA GONCALVES",
              "LUIZ MURILLO LOPES DE BRITTO",
              "LUIZ PAULO DE ASSIS BARBOSA",
              "LUIZ PEDRO DE ARAUJO",
              "LUIZ PHILIPE ROLLA DE CAUX",
              "LUIZ REGINALDO MENEZES DA ROCHA",
              "LUIZ ROBERTO AUGUSTO NORO",
              "LUIZ ROBERTO DIZ DE ABREU",
              "LUIZ SEIXAS DAS NEVES",
              "LUIZ VIEIRA DE OLIVEIRA SOBRINHO",
              "LUIZA FALCAO SOARES CUNHA",
              "LUTIANE QUEIROZ DE ALMEIDA",
              "LUZ MILENA ZEA FERNANDEZ",
              "LUZIANA MARIA NUNES DE QUEIROZ",
              "LUZIENE DANTAS DE MACEDO",
              "LYGIA MARIA COSTA SOARES REGO",
              "LYGIA MARIA DE FIGUEIREDO MELO",
              "LYRENE FERNANDES DA SILVA",
              "MABEL SIMONE DE ARAUJO BEZERRA GUARDIA",
              "MADRAS VISWANATHAN GANDHI MOHAN",
              "MAGDI AHMED IBRAHIM ALOUFA",
              "MAGNA ANGELICA DOS SANTOS BEZERRA SOUSA",
              "MAGNO FRANCISCO DE JESUS SANTOS",
              "MAGNOLIA FERNANDES FLORENCIO DE ARAUJO",
              "MAHAYANA CRISTINA GODOY",
              "MAISA FERNANDES DUTRA VELOSO",
              "MAISA PAULINO RODRIGUES",
              "MAIZA ROCHA DE ABRANTES",
              "MAKARIOS MAIA BARBOSA",
              "MALCON DO PRADO COSTA",
              "MANILO SOARES MARQUES",
              "MANOEL FIRMINO DE MEDEIROS JUNIOR",
              "MANOEL LUCAS DANTAS FILHO",
              "MANOEL SILVA DE VASCONCELOS",
              "MANOEL VERAS DE SOUSA NETO",
              "MANOELLA DO MONTE ALVES",
              "MANUEL CLAUDEMIR SILVA CALDAS",
              "MANUELA DOS SANTOS CARVALHO SCHIAVON",
              "MANUELA SALES LIMA NASCIMENTO",
              "MARCEL VINICIUS MEDEIROS OLIVEIRA",
              "MARCELA ABBOTT GALVAO URURAHY",
              "MARCELA APARECIDA CUCCI SILVESTRE",
              "MARCELA COSTA DA CUNHA CHACEL",
              "MARCELA MARQUES VIEIRA",
              "MARCELLO BARBOSA OTONI GONCALVES GUEDES",
              "MARCELO AUGUSTO COSTA FERNANDES",
              "MARCELO BOLSHAW GOMES",
              "MARCELO BORGES NOGUEIRA",
              "MARCELO BOURGUIGNON PEREIRA",
              "MARCELO CARDOSO DE SOUZA",
              "MARCELO DA SILVA AMORIM",
              "MARCELO DA SILVA TAVEIRA",
              "MARCELO DE SOUSA DA SILVA",
              "MARCELO DOS SANTOS",
              "MARCELO DOS SANTOS CHAVES",
              "MARCELO GOMES PEREIRA",
              "MARCELO KIYOSHI KIAN NAKAEMA",
              "MARCELO MARINHO DE FIGUEIREDO",
              "MARCELO RIQUE CARICIO",
              "MARCELO VIANA DA COSTA",
              "MARCIA CRISTINA DA COSTA MIGUEL",
              "MARCIA GORETTE LIMA DA SILVA",
              "MARCIA JACYNTHA NUNES RODRIGUES LUCENA",
              "MARCIA MARIA DE CASTRO CRUZ",
              "MARCIA MARIA DE OLIVEIRA BEZERRA",
              "MARCIA MARIA DE SA ROCHA",
              "MARCIA REGINA DA SILVA PEDRINI",
              "MARCIA REJANE DE OLIVEIRA",
              "MARCIA RODRIGUES PEREIRA",
              "MARCIA SEVERINA VASQUES",
              "MARCIA TEIXEIRA BARROSO",
              "MARCIANO FURUKAVA",
              "MARCILIO DE SOUZA VIEIRA",
              "MARCIO ASSOLIN CORREA",
              "MARCIO DIAS PEREIRA",
              "MARCIO EDUARDO DA COSTA RODRIGUES",
              "MARCIO EDUARDO KREUTZ",
              "MARCIO FERRARI",
              "MARCIO RENATO PINHEIRO DA SILVA",
              "MARCIO ROMEU RIBAS DE OLIVEIRA",
              "MARCIO SALES SANTIAGO",
              "MARCIO VALERIO DE ARAUJO",
              "MARCIO VENICIO BARBOSA",
              "MARCIO VIEIRA DA SILVA",
              "MARCO ANTONIO LEANDRO CABRAL",
              "MARCO ANTONIO MORALES TORRES",
              "MARCO ANTONIO REY DE FARIA",
              "MARCO BRUNO MIRANDA CLEMENTINO",
              "MARCO CESAR GOLDBARG",
              "MARCO TULIO MENDONCA DINIZ",
              "MARCO VINICIUS MONTEIRO NAVARRO",
              "MARCONE GERALDO COSTA",
              "MARCONI CAMARA RODRIGUES",
              "MARCONI GOMES DA SILVA",
              "MARCONIO SILVA DOS SANTOS",
              "MARCOS ALBERTO ANDRUCHAK",
              "MARCOS ALLYSON FELIPE RODRIGUES",
              "MARCOS ANTONIO COSTA",
              "MARCOS ANTONIO DIAS DE ALMEIDA",
              "MARCOS ANTONIO LEITE DO NASCIMENTO",
              "MARCOS AURELIO DE ALBUQUERQUE COSTA",
              "MARCOS BRAGATO",
              "MARCOS CESAR MADRUGA ALVES PINHEIRO",
              "MARCOS CESAR TINDO BARBOSA",
              "MARCOS FELIPE SILVA DE LIMA",
              "MARCOS FERNANDO MACHADO DE MEDEIROS",
              "MARCOS LACERDA ALMEIDA",
              "MARCOS REINALDO DA SILVA",
              "MARCOS ROBERTO GONZAGA",
              "MARCOS ROGERIO CAMARA",
              "MARCOS ROMUALDO COSTA",
              "MARCOS SILVA DE AQUINO",
              "MARCUS ALEXANDRE NUNES",
              "MARCUS ANDRE VARELA VASCONCELOS",
              "MARCUS ANTONIO DE FREITAS MELO",
              "MARCUS AURELIO DE FREITAS BARROS",
              "MARCUS TULLIUS CICERO NOBREGA DE FARIA GOMES",
              "MARCUS VINICIUS PEREIRA JUNIOR",
              "MARGARIDA MARIA DIAS DE OLIVEIRA",
              "MARIA ALICE TAVARES",
              "MARIA ALZETE DE LIMA",
              "MARIA ANGELA FERNANDES FERREIRA",
              "MARIA ANGELA PAVAN",
              "MARIA APARECIDA DIAS",
              "MARIA APARECIDA PONTES DA FONSECA",
              "MARIA BERNARDETE CORDEIRO DE SOUSA",
              "MARIA CAROLINA BURGOS COSTA DO NASCIMENTO",
              "MARIA CELESTE NUNES DE MELO",
              "MARIA CELIA RIBEIRO DANTAS DE AGUIAR",
              "MARIA CHRISTINA BARBOSA DE ARAUJO",
              "MARIA CLAUDIA MEDEIROS DANTAS DE RUBIM COSTA",
              "MARIA CRISTINA DOS SANTOS MEDEIROS",
              "MARIA CRISTINA LEANDRO DE PAIVA",
              "MARIA CRISTINA LONGO CARDOSO DIAS",
              "MARIA DA APRESENTACAO BARRETO",
              "MARIA DA CONCEICAO DE MESQUITA CORNETTA",
              "MARIA DA CONCEICAO FRAGA",
              "MARIA DA CONCEICAO GUILHERME COELHO",
              "MARIA DA LUZ GOIS CAMPOS",
              "MARIA DA PENHA CASADO ALVES",
              "MARIA DAS GRACAS SOARES RODRIGUES",
              "MARIA DE FATIMA DANTAS DE MEDEIROS",
              "MARIA DE FATIMA DE SOUZA",
              "MARIA DE FATIMA FREIRE DE MELO XIMENES",
              "MARIA DE FATIMA GARCIA",
              "MARIA DE FATIMA PAIVA BARACHO",
              "MARIA DE FATIMA VITORIA DE MOURA",
              "MARIA DE JESUS GONCALVES",
              "MARIA DE LOURDES COSTA DA SILVA",
              "MARIA DE LURDES BARROS DA PAIXAO",
              "MARIA DEL PILAR DURANTE INGUNZA",
              "MARIA DO LIVRAMENTO MIRANDA CLEMENTINO",
              "MARIA DO SOCORRO FURTADO VELOSO",
              "MARIA DO SOCORRO LUNA CRUZ",
              "MARIA DO SOCORRO OLIVEIRA",
              "MARIA DO SOCORRO VALENTIM",
              "MARIA DULCE PICANÇO BENTES SOBRINHA",
              "MARIA FATIMA DE AZEVEDO",
              "MARIA FRANCINETE DE OLIVEIRA",
              "MARIA GORETE FELIPE",
              "MARIA GORETTE CAVALCANTE",
              "MARIA GORETTI CABRAL BARBALHO",
              "MARIA GORETTI DO NASCIMENTO SANTOS",
              "MARIA HOZANETE ALVES DE LIMA",
              "MARIA INES SUCUPIRA STAMATTO",
              "MARIA ISABEL BRANDAO DE SOUZA MENDES",
              "MARIA JALILA VIEIRA DE FIGUEIREDO LEITE",
              "MARIA JOSE NUNES GADELHA",
              "MARIA JOSE PEREIRA VILAR",
              "MARIA JUCIMEIRE DOS SANTOS",
              "MARIA LEONOR PAIVA DA SILVA",
              "MARIA LUCIA AZEVEDO FERREIRA DE MACEDO",
              "MARIA LUCIA BASTOS ALVES",
              "MARIA LUCIANA LIRA DE ANDRADE",
              "MARIA LUSSIEU DA SILVA",
              "MARIA RAQUEL BASILIO SPERI",
              "MARIA REGINA MACEDO COSTA",
              "MARIA SOCORRO DANTAS FERNANDES",
              "MARIA TERESA DA SILVA MOTA",
              "MARIA TERESA PIRES COSTA",
              "MARIA THEREZA ALBUQUERQUE BARBOSA CABRAL MICUSSI",
              "MARIA VALERIA PEREIRA DE ARAUJO",
              "MARIANA CORREIA DE ARAUJO",
              "MARIANA DE SIQUEIRA",
              "MARIANA MAZZINI MARCONDES",
              "MARIANA RODRIGUES DE ALMEIDA",
              "MARIANNA FERNANDES MOREIRA",
              "MARICELE NASCIMENTO BARBOSA",
              "MARILIA REGALADO GALVAO RABELO CALDAS",
              "MARILIA VARELLA BEZERRA DE FARIA",
              "MARIO ANDRE LEOCADIO MIGUEL",
              "MARIO CARDOSO DE ALBUQUERQUE NETO",
              "MARIO EMILIO TEIXEIRA DOURADO JUNIOR",
              "MARIO FRANCIS PETRY LONDERO",
              "MARIO LOURENCO DE MEDEIROS",
              "MARIO LUCIO BARBOSA CAVALCANTI JUNIOR",
              "MARIO ORESTES AGUIRRE GONZALEZ",
              "MARIO OTAVIO SALLES",
              "MARISA NARCIZO SAMPAIO",
              "MARISE COSTA DE SOUZA DUARTE",
              "MARISE MAGALY QUEIROZ ROCHA",
              "MARISE REIS DE FREITAS",
              "MARIZE BARROS DE SOUZA",
              "MARIZO VITOR PEREIRA",
              "MARJORY CRISTIANY DA COSTA ABREU",
              "MARKUS FIGUEIRA DA SILVA",
              "MARLOS ALVES BEZERRA",
              "MARTA APARECIDA GARCIA GONCALVES",
              "MARTA COSTA",
              "MARTA FIGUEREDO DOS ANJOS",
              "MARTIN ALEJANDRO MUSICANTE",
              "MARTIN PABLO CAMMAROTA",
              "MATHEUS DE FREITAS FERNANDES PEDROSA",
              "MATHEUS DE SOUSA MATA",
              "MATHEUS GAMINO GOMES",
              "MATILDE MEDEIROS DE ARAÚJO",
              "MATTHIEU SEBASTIEN CASTRO",
              "MAURICIO CORREA DA SILVA",
              "MAURICIO ROBERTO BOMIO DELMONTE",
              "MAURICIO ROBERTO CAMPELO DE MACEDO",
              "MAURO DUNDER",
              "MAURO LEMUEL DE OLIVEIRA ALEXANDRE",
              "MAURO PICHORIM",
              "MAURO VASCONCELOS PACHECO",
              "MAURÍCIO MHIRDAUI PERES",
              "MAX CHIANCA PIMENTEL FILHO",
              "MAX LEANDRO DE ARAUJO BRITO",
              "MAYRA MONTENEGRO DE SOUZA",
              "MELISSA DOS SANTOS LOPES",
              "MELQUESEDEQUE DA SILVA FREIRE",
              "MERCES DE FATIMA DOS SANTOS SILVA",
              "MEYSAM MASHHADIKARIMI",
              "MICHAEL MANFRED HANKE",
              "MICHAEL VANDESTEEN SILVA SOUTO",
              "MICHEL JAIRO VIEIRA DA SILVA",
              "MICHELE NOBREGA ELALI",
              "MICHELINE DAMIAO DIAS MOREIRA",
              "MICHELLE CEQUEIRA FEITOR",
              "MICHELLE CRISTINE MEDEIROS JACOB",
              "MICHELLINE DO VALE MACIEL",
              "MIGUEL ANGELO FONSECA DE SOUZA",
              "MILTON MORAIS XAVIER JUNIOR",
              "MILTON THIAGO SCHIVANI ALVES",
              "MIRELLA ALVES DA CUNHA",
              "MIRIAM DE ANDRADE BRANDAO",
              "MIRIAM PLAZA PINTO",
              "MIRIAM STELA MARIS DE OLIVEIRA COSTA",
              "MOAB PRAXEDES GOMES",
              "MOACIR GUILHERMINO DA SILVA",
              "MOISES ALBERTO CALLE AGUIRRE",
              "MOISES VIEIRA DE MELO",
              "MONICA BAUMGARDT BAY",
              "MONICA MAGALHAES PEREIRA",
              "MONICA MARIA FERNANDES DE LIMA",
              "MONICA MARQUES CARVALHO GALLOTTI",
              "MONIQUE GABRIELA DAS CHAGAS FAUSTINO ALVES",
              "MONIZE OLIVEIRA MOURA",
              "MORTON LUIZ FARIA DE MEDEIROS",
              "MOZART FAZITO REZENDE FILHO",
              "MÉRCIA MARIA DE SANTI",
              "NADJA CALDAS LOPES CARDOSO",
              "NAIANNE KELLY CLEBIS",
              "NAIRA NEIDE CIOTTI",
              "NAISANDRA BEZERRA DA SILVA FARIAS",
              "NAN QI",
              "NANCY CRISTINA BAUMGARTNER FERNANDES DE BARROS",
              "NANCY SANCHEZ TARRAGO",
              "NATHALIA DOMINGOS",
              "NEDJA LIMA DE LUCENA",
              "NEDJA SUELY FERNANDES",
              "NEEMIAS ALVES DE LIMA",
              "NEIL DE OLIVEIRA LIMA FILHO",
              "NELIO ALESSANDRO AZEVEDO CACHO",
              "NELSON FERREIRA DE SOUSA JUNIOR",
              "NESIO ANTONIO MOREIRA TEIXEIRA DE BARROS",
              "NEUCIANE GOMES DA SILVA",
              "NEUMA MARINHO DE QUEIROZ SANTOS",
              "NICOLAU APOENA CASTRO",
              "NICOLE LEITE GALVAO COELHO",
              "NILBA LIMA DE SOUZA",
              "NILZA PIRES",
              "NORBERTO BATISTA DE FARIA JUNIOR",
              "NUBIA MARIA FREIRE VIEIRA LIMA",
              "ODIRLEI SILVA JESUS",
              "OLAVO FRANCISCO DOS SANTOS JUNIOR",
              "OLIVIA MORAIS DE MEDEIROS NETA",
              "ORGIVAL BEZERRA DA NOBREGA JUNIOR",
              "ORIONE DANTAS DE MEDEIROS",
              "ORISON MARDEN BANDEIRA DE MELO JUNIOR",
              "ORIVALDO PIMENTEL LOPES JUNIOR",
              "ORIVALDO VIEIRA DE SANTANA JUNIOR",
              "OSVALDO CHIAVONE FILHO",
              "OSVALDO DE FREITAS NETO",
              "OSWALDO GOMES CORREA NEGRAO",
              "OSWALDO PEREIRA DE LIMA JUNIOR",
              "OTACILIO DOS SANTOS SILVEIRA NETO",
              "OTOM ANSELMO DE OLIVEIRA",
              "PABLO DE SOUSA SEIXAS",
              "PABLO JAVIER ALSINA",
              "PABLO SEBASTIAN MOREIRA FERNANDEZ",
              "PABLO VICENTE MENDES DE OLIVEIRA QUEIROZ",
              "PAMELA DE MEDEIROS BRANDÃO",
              "PAMERA MEDEIROS DA COSTA",
              "PATRICIA ANGELICA DE MIRANDA SILVA NOGUEIRA",
              "PATRICIA BORBA VILAR GUIMARAES",
              "PATRICIA DOS SANTOS CALDERON",
              "PATRICIA FERREIRA BOTELHO",
              "PATRICIA FLAVIA DA SILVA DIAS MOREIRA",
              "PATRICIA GARCIA LEAL",
              "PATRICIA KAORI SOARES",
              "PATRICIA TARGINO DUTRA",
              "PATRICIA TEIXEIRA DE OLIVEIRA",
              "PATRICIA WHEBBER SOUZA DE OLIVEIRA",
              "PATRICK RAMON STAFIN COQUEREL",
              "PAULA FERNANDA BRANDAO BATISTA DOS SANTOS",
              "PAULA REJANE FERNANDES",
              "PAULA RENATA LIMA MACHADO",
              "PAULO ALYSSON BRILHANTE FAHEINA DE SOUZA",
              "PAULO CESAR DE ARAUJO",
              "PAULO DANTAS SESION JUNIOR",
              "PAULO DE MEDEIROS ROCHA",
              "PAULO EDUARDO DA SILVA FRANCA",
              "PAULO EDUARDO VIEIRA CUNHA",
              "PAULO HEIDER FORTE FEIJO",
              "PAULO HENRIQUE DUQUE",
              "PAULO JOSE DE MEDEIROS",
              "PAULO MARCOS DA MATTA GUEDES",
              "PAULO MARIO CARVALHO DE FARIA",
              "PAULO MOREIRA SILVA DANTAS",
              "PAULO RANIERI DE ARAUJO MORAES",
              "PAULO ROBERTO DA SILVA",
              "PAULO ROBERTO DANTAS DE SOUZA LEAO",
              "PAULO ROBERTO DE ALBUQUERQUE",
              "PAULO ROBERTO DE ANDRADE SANTOS",
              "PAULO ROBERTO FERREIRA DOS SANTOS SILVA",
              "PAULO ROBERTO PAIVA CAMPOS",
              "PAULO ROBERTO SOUTO MAIOR JUNIOR",
              "PAULO ROGERIO SOARES DE OLIVEIRA",
              "PAULO SANTIAGO DE MORAIS BRITO",
              "PAULO SERGIO DA MOTTA PIRES",
              "PAULO SERGIO LUCIO",
              "PAULO SERGIO MARINHO LUCIO",
              "PAULO VICTOR LEITE LOPES",
              "PAULO WALDEMIRO SOARES CUNHA",
              "PEDRO ALVES BARBOSA NETO",
              "PEDRO DA CUNHA FERREIRA",
              "PEDRO FERNANDO BENDASSOLLI",
              "PEDRO PAULO DE ANDRADE SANTOS",
              "PETALA TUANI CANDIDO DE OLIVEIRA SALVADOR",
              "PETRUS GORGONIO BULHOES DA NOBREGA",
              "PETRUS PEREIRA GOMES",
              "PIO MARINHEIRO DE SOUZA NETO",
              "POLLYANA SOUZA CASTRO",
              "POLLYANNA GUIMARAES DA SILVA DE MORAIS",
              "PRISCILA FABIANA MACEDO LOPES",
              "PRISCILLA MOURA ROLIM",
              "PRISCILLA PINTO COSTA DA SILVA",
              "QUENIA CAMILLE SOARES MARTINS",
              "RADEGUNDIS ARANHA TAVARES FEITOSA",
              "RAFAEL BARBOSA DE ARAUJO",
              "RAFAEL BARROS GOMES DA CAMARA",
              "RAFAEL BESERRA GOMES",
              "RAFAEL CHAVES SOUTO ARAUJO",
              "RAFAELA BEZERRA FAÇANHA CORREIA",
              "RAFAELA CAROLINI DE OLIVEIRA TAVORA",
              "RAFAELA HORACINA SILVA ROCHA SOARES",
              "RAIMUNDO CARLOS SILVERIO FREIRE JUNIOR",
              "RAIMUNDO FERNANDES DE ARAUJO JUNIOR",
              "RAIMUNDO NONATO ARAUJO DA ROCHA",
              "RAIMUNDO NONATO JUNIOR",
              "RAIMUNDO NONATO NUNES",
              "RAIMUNDO PEREIRA ALENCAR ARRAIS",
              "RAIMUNDO SILVA JUNIOR",
              "RAMON JOSE AYRES SOUZA",
              "RAND RANDALL MARTINS",
              "RANILSON BEZERRA DE FARIAS",
              "RAPHAEL ARAUJO CARDOSO",
              "RAPHAEL RANIERE DE OLIVEIRA COSTA",
              "RAQUEL BRANDT GIORDANI",
              "RAQUEL CARMONA TORRES FELIX",
              "RAQUEL CORDEIRO THEODORO",
              "RAQUEL COUBE DE CARVALHO YAMAMOTO",
              "RAQUEL FARIAS DINIZ",
              "RAQUEL FRANCO DE SOUZA",
              "RAQUEL LITTERIO DE BASTOS",
              "RAQUEL MARIA DA COSTA SILVEIRA",
              "RAQUEL MENEZES BEZERRA SAMPAIO",
              "RAYSSA HORACIO LOPES",
              "REBECCA LUNA LUCENA",
              "REGINA CLAUDIA RAFAEL DE SOUZA MARINHO",
              "REGINA DANTAS JALES DE OLIVEIRA",
              "REGINA SIMON DA SILVA",
              "REGINA VENTURINI DA FONSECA",
              "REGINALDO ANTONIO DE OLIVEIRA FREITAS JUNIOR",
              "REGIVAN HUGO NUNES SANTIAGO",
              "REIDSON PEREIRA GOUVINHAS",
              "REJANE ANDRADE DE CARVALHO",
              "REJANE MARIA PAIVA DE MENEZES",
              "RENAN CIPRIANO MOIOLI",
              "RENATA ALEXANDRA MOREIRA DAS NEVES",
              "RENATA ANTONACI GAMA",
              "RENATA ARCHANJO",
              "RENATA DE FÁTIMA PANOSSO",
              "RENATA FIGUEIREDO ANOMAL",
              "RENATA GONCALVES FERREIRA",
              "RENATA MARTINS BRAGA",
              "RENATA MENDONÇA ARAUJO",
              "RENATA OLIVEIRA ALMEIDA MENEZES",
              "RENATA SANTORO DE SOUSA LIMA",
              "RENATA SWANY SOARES DO NASCIMENTO",
              "RENATA VEIGA ANDERSEN CAVALCANTI",
              "RENATA VIANA DE BARROS THOME",
              "RENATO AMADO PEIXOTO",
              "RENATO DE ALBUQUERQUE MEDEIROS",
              "RENATO DE MEDEIROS",
              "RENATO MOTTA NETO",
              "RENILMA PEREIRA DA SILVA",
              "REX ANTONIO DA COSTA MEDEIROS",
              "REYNALDO MARTINS E QUININO",
              "RHAYSSA DE OLIVEIRA E ARAUJO",
              "RICARDO ALENCAR DA SILVA",
              "RICARDO ALEXSANDRO DE MEDEIROS VALENTIM",
              "RICARDO ARAUJO",
              "RICARDO FARIAS DO AMARAL",
              "RICARDO FERNANDO ARRAIS",
              "RICARDO FERREIRA PINHEIRO",
              "RICARDO GUIMARAES SALLET",
              "RICARDO JOSE FONSECA DE OLIVEIRA",
              "RICARDO JOSE MATOS DE CARVALHO",
              "RICARDO LANZARINI GOMES SILVA",
              "RICARDO LUCIO DE ARAUJO RIBEIRO",
              "RICARDO OJIMA",
              "RICARDO OLIVEIRA GUERRA",
              "RICARDO PIRES DE SOUZA",
              "RICARDO SANTOS OLIVEIRA",
              "RICARDO SILVEIRA NASAR",
              "RICARDO TINOCO DE GOES",
              "RICARDO WAGNER DA COSTA MOREIRA",
              "RICARDO WAGNER DE ARAUJO",
              "RICHARDSON AUGUSTO ROSENDO DA SILVA",
              "RICHARDSON NAVES LEAO",
              "RIDALVO MEDEIROS ALVES DE OLIVEIRA",
              "RITA DE CASSIA BARBOSA PAIVA MAGALHAES",
              "RITA DE CASSIA MARIA NEVES",
              "RITA DIANA DE FREITAS GURGEL",
              "RITA LUZIA DE SOUZA SANTOS",
              "RIVA DE PAULA OLIVEIRA",
              "ROBERIO PAULINO RODRIGUES",
              "ROBERTA DE OLIVEIRA CACHO",
              "ROBERTA DE SOUZA COELHO",
              "ROBERTO AIRON SILVA",
              "ROBERTO JOSE DE MEDEIROS",
              "ROBERTO MARINHO ALVES DA SILVA",
              "ROBERTO SILVA DA PENHA",
              "ROBERTO TEODORO GURGEL DE OLIVEIRA",
              "ROBERVAL EDSON PINHEIRO DE LIMA",
              "ROBINSON DIAS DE MEDEIROS",
              "ROBSON ALEXSANDRO DE SOUSA",
              "ROBSON CARLOS HADERCHPEK",
              "ROBSON FERNANDES DE FARIAS",
              "ROBSON ROGERIO PESSOA COELHO",
              "RODIO LUIS BRANDAO CAMARA",
              "RODOLFO DANIEL DE ALMEIDA SOARES",
              "RODRIGO ALMEIDA FERREIRA",
              "RODRIGO ANTONIO PONCE DE LEON FERREIRA DE CARVALHO",
              "RODRIGO ASSIS NEVES DANTAS",
              "RODRIGO AZEVEDO DE OLIVEIRA",
              "RODRIGO BARROS",
              "RODRIGO BORGES LIMA GOUVEIA",
              "RODRIGO COSTA FERREIRA",
              "RODRIGO DE FREITAS AMORIM",
              "RODRIGO DOS SANTOS DINIZ",
              "RODRIGO FERNANDES LIRA DE HOLANDA",
              "RODRIGO FIGUEIREDO SUASSUNA",
              "RODRIGO GONCALVES PEREIRA",
              "RODRIGO JULIANI SIQUEIRA DALMOLIN",
              "RODRIGO MONTANDON BORN",
              "RODRIGO NAUMANN BOUFLEUR",
              "RODRIGO NEVES ROMCY PEREIRA",
              "RODRIGO OTHAVIO DE ASSUNCAO E SOUZA",
              "RODRIGO PARRON SANTOS",
              "RODRIGO PEGADO DE ABREU FREITAS",
              "RODRIGO SCATTONE DA SILVA",
              "RODRIGO TRIGUEIRO MORAIS DE PAIVA",
              "ROGER KREUTZ IMMICH",
              "ROGERIO DE ARAUJO LIMA",
              "ROGERIO MENDES COELHO",
              "ROGERSON RODRIGUES FREIRE RAMOS",
              "ROMUALDO DA SILVA CORREA",
              "RONAI MACHADO LISBOA",
              "RONALDO ANGELINI",
              "RONALDO CARLOTTO BATISTA",
              "RONALDO DE ANDRADE MARTINS",
              "RONALDO FREIRE DE LIMA",
              "RONALDO MENDES NEVES",
              "RONEDILK CAVALCANTE DANTAS",
              "RONNY DIOGENES DE MENEZES",
              "ROSALIA DE FATIMA E SILVA",
              "ROSANA LUCIA ALVES DE VILLAR",
              "ROSANA SILVA DE FRANCA",
              "ROSANGELA ALVES DE OLIVEIRA",
              "ROSANGELA CORREA MACIEL",
              "ROSANGELA DE CARVALHO BALABAN",
              "ROSANGELA GONDIM D OLIVEIRA",
              "ROSANNE BEZERRA DE ARAUJO",
              "ROSEANA DE ALMEIDA FREITAS",
              "ROSELENE FERREIRA DE ALENCAR",
              "ROSELY DE VASCONCELLOS MEISSNER",
              "ROSEMARY ARAUJO MONTEIRO",
              "ROSIANE VIANA ZUZA DINIZ",
              "ROSIE MARIE NASCIMENTO DE MEDEIROS",
              "ROSIMEIRE CAVALCANTE DOS SANTOS",
              "ROSIMEIRE FONTES DE QUEIROZ",
              "ROSIRES MAGALI BEZERRA DE BARROS",
              "ROSSANA KESS BRITO DE SOUZA PINHEIRO",
              "ROVENA CLARA GALVAO JANUARIO ENGELBERTH",
              "ROZELI MARIA PORTO",
              "RUBENILSON BRAZAO TEIXEIRA",
              "RUBENS EUGENIO BARRETO RAMOS",
              "RUBENS MARIBONDO DO NASCIMENTO",
              "RUCKER BEZERRA DE QUEIROZ",
              "RUMMENIGGE RUDSON DANTAS",
              "RUTACIO DE OLIVEIRA COSTA",
              "RUTE ALVES DE SOUSA",
              "RUTE REGIS DE OLIVEIRA DA SILVA",
              "RUTH MARIA DA COSTA ATAIDE",
              "RUTHINEIA DIOGENES ALVES UCHOA LINS",
              "RUTHNALDO RODRIGUES MELO DE LIMA",
              "RUY ALKMIM ROCHA FILHO",
              "SABRINA CAVALCANTI BARROS",
              "SAIONARA MARIA AIRES DA CAMARA",
              "SALETE MARTINS ALVES",
              "SAMAHERNI MORAIS DIAS",
              "SAMIR BEZERRA GORSKY",
              "SAMIRA ALBUQUERQUE DE SOUSA",
              "SAMUEL ANDERSON DE OLIVEIRA LIMA",
              "SAMUEL XAVIER DE SOUZA",
              "SAMYR SILVA BEZERRA JACOME",
              "SANCHA HELENA DE LIMA VALE",
              "SANDI ITAMAR SCHAFER DE SOUZA",
              "SANDRA CRISTINA BEZERRA DE BARROS",
              "SANDRA CRISTINA DE ANDRADE",
              "SANDRA CRISTINA GOMES",
              "SANDRA KELLY DE ARAUJO",
              "SANDRA LUCIA ARANTES",
              "SANDRA MICHELLE BESSA DE ANDRADE FERNANDES",
              "SANDRA RUFINO SANTOS",
              "SANDRA SASSETTI FERNANDES ERICKSON",
              "SANDRO JOSE DE SOUZA",
              "SANTOS DEMETRIO MIRANDA BORJAS",
              "SARA FERNANDES FLOR DE SOUZA",
              "SARA RAQUEL FERNANDES QUEIROZ DE MEDEIROS",
              "SEBASTIAN YURI CAVALCANTI CATUNDA",
              "SEBASTIAO AUGUSTO RABELO",
              "SEBASTIAO LEAL FERREIRA VARGAS NETTO",
              "SEBASTIAO LUIZ DE OLIVEIRA",
              "SEBASTIAO PACHECO DUQUE NETO",
              "SEBASTIAO RIBEIRO FERREIRA",
              "SEDINA DOS SANTOS JALES FERREIRA",
              "SELAN RODRIGUES DOS SANTOS",
              "SELMA MARIA BEZERRA JERONIMO",
              "SELMA SOUSA BRUNO",
              "SERGEI GODEIRO FERNANDES RABELO CALDAS",
              "SERGIO ADRIANE BEZERRA DE MOURA",
              "SERGIO ALEXANDRE DE MORAES BRAGA JUNIOR",
              "SERGIO EDUARDO LIMA DA SILVA",
              "SERGIO EDUARDO LIMA PRUDENTE",
              "SERGIO JOSE GONCALVES E SILVA",
              "SERGIO LUIS RIZZO DELA SAVIA",
              "SERGIO MAIA QUEIROZ LIMA",
              "SERGIO MARQUES JUNIOR",
              "SERGIO PEREIRA DE FARIAS",
              "SERGIO QUEIROZ DE MEDEIROS",
              "SERGIO RICARDO FERNANDES DE ARAUJO",
              "SERGIO RODRIGUES BARRA",
              "SERGIO RODRIGUEZ PEREZ",
              "SERGIO TULIO NEUENSCHWANDER MACIEL",
              "SEVERINA ALICE DA COSTA UCHOA",
              "SEVERINA CARLA VIEIRA CUNHA LIMA",
              "SEVERINO CESARIO DE LIMA",
              "SEVERINO PAULO GOMES NETO",
              "SHEILA ANDREOLI BALEN",
              "SHEILA RAMOS DE MIRANDA HENRIQUES",
              "SHEILA SAINT CLAIR DA SILVA TEODOSIO",
              "SHEYLA GOMES PEREIRA DE ALMEIDA",
              "SIBELE BERENICE CASTELLA PERGHER",
              "SIDARTA ARAUJO DE LIMA",
              "SIDARTA TOLLENDAL GOMES RIBEIRO",
              "SIDNEY CARLOS PRAXEDES",
              "SILVAGNER ADOLPHO VERISSIMO",
              "SILVANA ALVES PEREIRA",
              "SILVANA MARA DE MORAIS DOS SANTOS",
              "SILVANA MARIA ZUCOLOTTO LANGASSNER",
              "SILVIA MARIA DINIZ MONTEIRO MAIA",
              "SILVIA MARIA VARELA DE QUEIROZ",
              "SILVIA PIRES BASTOS COSTA",
              "SILVIA REGINA BATISTUZZO DE MEDEIROS",
              "SILVIA REGINA GROTO",
              "SILVIO BRAZ DE SOUSA",
              "SILVIO COSTA SAMPAIO",
              "SILVÂNIA LUCAS DOS SANTOS",
              "SIMONE ALMEIDA GAVILAN",
              "SIMONE BATISTA",
              "SIMONE DA NOBREGA TOMAZ MOREIRA",
              "SIMONE LORENA DA SILVA PEREIRA",
              "SIMONE PATRICIA SOARES DE SOUZA",
              "SIMONE PEDROSA LIMA",
              "SOCRATES DANTAS LOPES",
              "SOLANGE VIRGINIA GALARCA GOULART",
              "SONIA SOARES",
              "SORAIA MARIA DO SOCORRO CARLOS VIDAL",
              "SORAYA MARIA DE MEDEIROS",
              "STELA ANTAS URBANO",
              "STENIO GOMES DA SILVEIRA",
              "SUELENE SUASSUNA SILVESTRE DE ALENCAR",
              "SUELY FERREIRA CHAVANTE",
              "SUENIA SILVA DE MESQUITA XAVIER",
              "SULEMI FABIANO CAMPOS",
              "SUSANA ISABEL MARCELINO GUERRA DOMINGOS",
              "SUSANA MARGARIDA GOMES MOREIRA",
              "SUZANA NOBREGA DE MEDEIROS",
              "SUZIANNE RUTH HOSANAH LIMA",
              "SYLVIO QUEZADO DE MAGALHAES",
              "SYMONE FERNANDES DE MELO",
              "SÉRGIO PEÇANHA DE CARVALHO",
              "TACIANA DE LIMA BURGOS",
              "TACIANO DE MORAIS SILVA",
              "TAMARA MARIA COSTA E SILVA N DE ABREU",
              "TANIA CRISTINA MEIRA GARCIA",
              "TANIA FERNANDES CAMPOS",
              "TANIA MARIA DE ARAUJO LIMA",
              "TANIRO CHACON RODRIGUES",
              "TARCILIO VIANA DUTRA JUNIOR",
              "TARCIRO NORTARSON CHAVES MENDES",
              "TARCISIO AUGUSTO GONÇALVES JUNIOR",
              "TARCISIO GOMES FILHO",
              "TARCISO ANDRE FERREIRA VELHO",
              "TATIANA DE CAMPOS BICUDO",
              "TATIANA MARIA JACOME DE ARAUJO",
              "TATIANA SOUZA RIBEIRO",
              "TATYANA MARIA SILVA DE SOUZA ROSENDO",
              "TELMA MARIA ARAUJO MOURA LEMOS",
              "TEREZINHA PETRUCIA DA NOBREGA",
              "TETSU SAKAMOTO",
              "THAIS REIS SILVA DE PAULO",
              "THAIS SOUZA PASSOS",
              "THAIS VASCONCELOS BATISTA",
              "THAIZ MATTOS SUREIRA",
              "THAIZA TEIXEIRA XAVIER NOBRE",
              "THALES AUGUSTO MEDEIROS PENHA",
              "THAYANE SILVA CAMPOS",
              "THAYSE HANNE CAMARA RIBEIRO DO NASCIMENTO",
              "THELMA PIGNATARO",
              "THEMIS XAVIER DE ALBUQUERQUE PINHEIRO",
              "THEO DUARTE DA COSTA",
              "THERCIO HENRIQUE DE CARVALHO COSTA",
              "THIAGO CARDOSO DE SOUZA",
              "THIAGO CHELLAPPA",
              "THIAGO DE OLIVEIRA ALVES ROCHA",
              "THIAGO EMMANUEL ARAUJO SEVERO",
              "THIAGO FERREIRA DIAS",
              "THIAGO GOMES DA TRINDADE",
              "THIAGO OLIVEIRA MOREIRA",
              "THIAGO PEREZ JORGE",
              "TIAGO DE QUADROS MAIA CARVALHO",
              "TIAGO PINHEIRO BRAGA",
              "TICIANA BATISTA RAMOS",
              "TICIANO MACIEL DAMORE",
              "TIRZAH BRAZ PETTA",
              "TOMMASO MACRI",
              "TULIO FLAVIO ACCIOLY DE LIMA E MOURA",
              "TULIO OLIVEIRA DE SOUZA",
              "UBIRATAN CORREIA SILVA",
              "UBIRATHAN ROGERIO SOARES",
              "UILAME UMBELINO GOMES",
              "UIRA KULESZA",
              "ULISSES BORGES SOUTO",
              "UMBERTO LAINO FULCO",
              "UMBERTO RIVIECCIO",
              "UMBERTO SOUZA DA COSTA",
              "URSULA VIANA BAGNI",
              "VALDEMIR GALVAO DE CARVALHO",
              "VALDEMIR PRAXEDES DA SILVA NETO",
              "VALDENIA APOLINARIO",
              "VALDI DE LIMA JUNIOR",
              "VALENTIN OBAC RODA",
              "VALERIA CENTURION CORDOBA",
              "VALERIA SORAYA DE FARIAS SALES",
              "VALQUIRIA APARECIDA PASSOS KNEIPP",
              "VALTER FERREIRA DE ANDRADE NETO",
              "VALTER JOSE FERNANDES JUNIOR",
              "VANDA MARIA DE LIRA",
              "VANDINER RIBEIRO",
              "VANESSA BECKER",
              "VANESSA CRISTINA SANTANNA",
              "VANESSA DE PAULA SOARES RACHETTI",
              "VANESSA GIACCHINI",
              "VANESSA GIFFONI DE MEDEIROS NUNES PINHEIRO PEIXOTO",
              "VANESSA GRAZIELE STAGGEMEIER",
              "VANESSA PATRICIA SOARES DE SOUSA",
              "VANESSA REGIANE RESQUETI FREGONEZI",
              "VANESSA SPINOSA",
              "VANESSA TEIXEIRA DE LIMA OLIVEIRA",
              "VANIA APARECIDA COSTA",
              "VANIA SOUSA ANDRADE",
              "VANILDO PEREIRA DA FONSECA",
              "VANJA MARIA DE FRANCA BEZERRA",
              "VEDER RALFH FERNANDES DE MEDEIROS",
              "VENERANDO EUSTAQUIO AMARO",
              "VERA LUCIA LOPES DE CASTRO",
              "VERBENA SANTOS ARAUJO",
              "VERNER MAX LIGER DE MELLO MONTEIRO",
              "VERONICA MARIA FERNANDES DE LIMA",
              "VICENTE ANGELO DE SOUSA JUNIOR",
              "VIDAL SUNCION INFANTE",
              "VILANI MEDEIROS DE ARAUJO NUNES",
              "VINCENT PATRICK MARIE BOURGUET",
              "VINICIO DE SOUZA E ALMEIDA",
              "VINICIUS SILVA COSTA",
              "VIRGILIO FERNANDES DE MACEDO JUNIOR",
              "VIRGINIA MARIA CAVALARI HENRIQUES",
              "VITOR LUCIANI MEDEIROS BATISTA",
              "VIVIAN NOGUEIRA SILBIGER",
              "VIVIANE DA SILVA MEDEIROS",
              "VIVIANE EUZEBIA PEREIRA SANTOS",
              "VIVIANE KLEIN",
              "VIVIANE MUNIZ FONSECA",
              "VIVIANE SIMIOLI MEDEIROS CAMPOS",
              "VIVIANE SOUZA DO AMARAL",
              "VIVIANNE IZABELLE DE ARAUJO BAPTISTA",
              "VLADIMIR DA ROCHA FRANCA",
              "WAGNER FRANCO MOLINA",
              "WAGNER RANIER MACIEL DANTAS",
              "WALDENICE DE ALENCAR MORAIS LIMA",
              "WALLACE MOREIRA BESSA",
              "WALLACE SILVA DO NASCIMENTO",
              "WALTER EUGENIO DE MEDEIROS",
              "WALTER NUNES DA SILVA JUNIOR",
              "WALTER PINHEIRO BARBOSA JUNIOR",
              "WANESSA CRISTINA TOMAZ DOS SANTOS BARROS",
              "WASHINGTON JOSE DE SOUSA",
              "WATTSON JOSE SAENZ PERALES",
              "WEBER ANDRADE GONCALVES",
              "WENDELL DE PAIVA LEITE",
              "WERNER KLEYSON DA SILVA SOARES",
              "WIARA DE ASSIS GOMES",
              "WICLIFFE DE ANDRADE COSTA",
              "WIEBKE ROBEN DE ALENCAR XAVIER",
              "WILACI EUTROPIO FERNANDES JUNIOR",
              "WILKER RICARDO DE MENDONCA NOBREGA",
              "WILLIAM BRENNO DOS SANTOS OLIVEIRA",
              "WILLIAM EUFRASIO NUNES PEREIRA",
              "WILMA MARIA DA COSTA MEDEIROS",
              "WILSON ACCHAR",
              "WILSON ELMER NASCIMENTO",
              "WINIFRED KNOX",
              "WOUBER HÉRICKSON DE BRITO VIEIRA",
              "XISTO TIAGO DE MEDEIROS NETO",
              "YARA MARIA PEREIRA GURGEL",
              "YASHA EMERENCIANO BARROS",
              "YURI DANIEL JATOBA COSTA",
              "ZENEWTON ANDRÉ DA SILVA GAMA",
              "ZEU PALMEIRA SOBRINHO",
              "ZIVANILSON TEIXEIRA E SILVA",
              "ZORAIDE SOUZA PESSOA",
              "ZORANO SERGIO DE SOUZA",
              "ZULEIDE MARIA CARVALHO LIMA",
              "ZULMARA VIRGINIA DE CARVALHO"
            ],
            "_view_name": "DropdownView",
            "style": "IPY_MODEL_63721f16977e42f4babf968909f12489",
            "_dom_classes": [],
            "description": "Docente: ",
            "_model_name": "DropdownModel",
            "index": 1158,
            "_view_module": "@jupyter-widgets/controls",
            "_model_module_version": "1.5.0",
            "_view_count": null,
            "disabled": false,
            "_view_module_version": "1.5.0",
            "description_tooltip": null,
            "_model_module": "@jupyter-widgets/controls",
            "layout": "IPY_MODEL_4d5b39fdf9f4457e8546d73126aaa359"
          }
        },
        "722a3798bb5f44cf95bbfc3d58fff6e1": {
          "model_module": "@jupyter-widgets/controls",
          "model_name": "SelectMultipleModel",
          "state": {
            "_options_labels": [
              "SINAIS E SISTEMAS LINEARES",
              "SISTEMAS DE CONTROLE II",
              "SISTEMAS NÃO-LINEARES"
            ],
            "_view_name": "SelectMultipleView",
            "style": "IPY_MODEL_217cf9901eb64d04892083377f04af4c",
            "rows": 5,
            "_dom_classes": [],
            "description": "Disciplina: ",
            "_model_name": "SelectMultipleModel",
            "index": [
              0
            ],
            "_view_module": "@jupyter-widgets/controls",
            "_model_module_version": "1.5.0",
            "_view_count": null,
            "disabled": false,
            "_view_module_version": "1.5.0",
            "description_tooltip": null,
            "_model_module": "@jupyter-widgets/controls",
            "layout": "IPY_MODEL_b055cd9f8243449f95fb21903302cad4"
          }
        },
        "a91a17657cc7421389425be498328030": {
          "model_module": "@jupyter-widgets/controls",
          "model_name": "DescriptionStyleModel",
          "state": {
            "_view_name": "StyleView",
            "_model_name": "DescriptionStyleModel",
            "description_width": "",
            "_view_module": "@jupyter-widgets/base",
            "_model_module_version": "1.5.0",
            "_view_count": null,
            "_view_module_version": "1.2.0",
            "_model_module": "@jupyter-widgets/controls"
          }
        },
        "c789c8b440fc4eb4a708578629b29dad": {
          "model_module": "@jupyter-widgets/base",
          "model_name": "LayoutModel",
          "state": {
            "_view_name": "LayoutView",
            "grid_template_rows": null,
            "right": null,
            "justify_content": null,
            "_view_module": "@jupyter-widgets/base",
            "overflow": null,
            "_model_module_version": "1.2.0",
            "_view_count": null,
            "flex_flow": null,
            "width": "200px",
            "min_width": null,
            "border": null,
            "align_items": null,
            "bottom": null,
            "_model_module": "@jupyter-widgets/base",
            "top": null,
            "grid_column": null,
            "overflow_y": null,
            "overflow_x": null,
            "grid_auto_flow": null,
            "grid_area": null,
            "grid_template_columns": null,
            "flex": null,
            "_model_name": "LayoutModel",
            "justify_items": null,
            "grid_row": null,
            "max_height": null,
            "align_content": null,
            "visibility": null,
            "align_self": null,
            "height": null,
            "min_height": null,
            "padding": null,
            "grid_auto_rows": null,
            "grid_gap": null,
            "max_width": null,
            "order": null,
            "_view_module_version": "1.2.0",
            "grid_template_areas": null,
            "object_position": null,
            "object_fit": null,
            "grid_auto_columns": null,
            "margin": null,
            "display": null,
            "left": null
          }
        },
        "63721f16977e42f4babf968909f12489": {
          "model_module": "@jupyter-widgets/controls",
          "model_name": "DescriptionStyleModel",
          "state": {
            "_view_name": "StyleView",
            "_model_name": "DescriptionStyleModel",
            "description_width": "",
            "_view_module": "@jupyter-widgets/base",
            "_model_module_version": "1.5.0",
            "_view_count": null,
            "_view_module_version": "1.2.0",
            "_model_module": "@jupyter-widgets/controls"
          }
        },
        "4d5b39fdf9f4457e8546d73126aaa359": {
          "model_module": "@jupyter-widgets/base",
          "model_name": "LayoutModel",
          "state": {
            "_view_name": "LayoutView",
            "grid_template_rows": null,
            "right": null,
            "justify_content": null,
            "_view_module": "@jupyter-widgets/base",
            "overflow": null,
            "_model_module_version": "1.2.0",
            "_view_count": null,
            "flex_flow": null,
            "width": "400px",
            "min_width": null,
            "border": null,
            "align_items": null,
            "bottom": null,
            "_model_module": "@jupyter-widgets/base",
            "top": null,
            "grid_column": null,
            "overflow_y": null,
            "overflow_x": null,
            "grid_auto_flow": null,
            "grid_area": null,
            "grid_template_columns": null,
            "flex": null,
            "_model_name": "LayoutModel",
            "justify_items": null,
            "grid_row": null,
            "max_height": null,
            "align_content": null,
            "visibility": null,
            "align_self": null,
            "height": null,
            "min_height": null,
            "padding": null,
            "grid_auto_rows": null,
            "grid_gap": null,
            "max_width": null,
            "order": null,
            "_view_module_version": "1.2.0",
            "grid_template_areas": null,
            "object_position": null,
            "object_fit": null,
            "grid_auto_columns": null,
            "margin": null,
            "display": null,
            "left": null
          }
        },
        "217cf9901eb64d04892083377f04af4c": {
          "model_module": "@jupyter-widgets/controls",
          "model_name": "DescriptionStyleModel",
          "state": {
            "_view_name": "StyleView",
            "_model_name": "DescriptionStyleModel",
            "description_width": "",
            "_view_module": "@jupyter-widgets/base",
            "_model_module_version": "1.5.0",
            "_view_count": null,
            "_view_module_version": "1.2.0",
            "_model_module": "@jupyter-widgets/controls"
          }
        },
        "b055cd9f8243449f95fb21903302cad4": {
          "model_module": "@jupyter-widgets/base",
          "model_name": "LayoutModel",
          "state": {
            "_view_name": "LayoutView",
            "grid_template_rows": null,
            "right": null,
            "justify_content": null,
            "_view_module": "@jupyter-widgets/base",
            "overflow": null,
            "_model_module_version": "1.2.0",
            "_view_count": null,
            "flex_flow": null,
            "width": "600px",
            "min_width": null,
            "border": null,
            "align_items": null,
            "bottom": null,
            "_model_module": "@jupyter-widgets/base",
            "top": null,
            "grid_column": null,
            "overflow_y": null,
            "overflow_x": null,
            "grid_auto_flow": null,
            "grid_area": null,
            "grid_template_columns": null,
            "flex": null,
            "_model_name": "LayoutModel",
            "justify_items": null,
            "grid_row": null,
            "max_height": null,
            "align_content": null,
            "visibility": null,
            "align_self": null,
            "height": "300px",
            "min_height": null,
            "padding": null,
            "grid_auto_rows": null,
            "grid_gap": null,
            "max_width": null,
            "order": null,
            "_view_module_version": "1.2.0",
            "grid_template_areas": null,
            "object_position": null,
            "object_fit": null,
            "grid_auto_columns": null,
            "margin": null,
            "display": null,
            "left": null
          }
        },
        "121e485b13024d269256929154796462": {
          "model_module": "@jupyter-widgets/controls",
          "model_name": "HTMLModel",
          "state": {
            "_view_name": "HTMLView",
            "style": "IPY_MODEL_7aee7530aa6f4dd9ab947a9bfaa12c88",
            "_dom_classes": [],
            "description": "",
            "_model_name": "HTMLModel",
            "placeholder": "​",
            "_view_module": "@jupyter-widgets/controls",
            "_model_module_version": "1.5.0",
            "value": "<b><font color='black'><font size=5>Escolha as disciplinas para análise</b>",
            "_view_count": null,
            "_view_module_version": "1.5.0",
            "description_tooltip": null,
            "_model_module": "@jupyter-widgets/controls",
            "layout": "IPY_MODEL_c92530e799364348910a9feafd8f62ae"
          }
        },
        "7aee7530aa6f4dd9ab947a9bfaa12c88": {
          "model_module": "@jupyter-widgets/controls",
          "model_name": "DescriptionStyleModel",
          "state": {
            "_view_name": "StyleView",
            "_model_name": "DescriptionStyleModel",
            "description_width": "",
            "_view_module": "@jupyter-widgets/base",
            "_model_module_version": "1.5.0",
            "_view_count": null,
            "_view_module_version": "1.2.0",
            "_model_module": "@jupyter-widgets/controls"
          }
        },
        "c92530e799364348910a9feafd8f62ae": {
          "model_module": "@jupyter-widgets/base",
          "model_name": "LayoutModel",
          "state": {
            "_view_name": "LayoutView",
            "grid_template_rows": null,
            "right": null,
            "justify_content": null,
            "_view_module": "@jupyter-widgets/base",
            "overflow": null,
            "_model_module_version": "1.2.0",
            "_view_count": null,
            "flex_flow": null,
            "width": null,
            "min_width": null,
            "border": null,
            "align_items": null,
            "bottom": null,
            "_model_module": "@jupyter-widgets/base",
            "top": null,
            "grid_column": null,
            "overflow_y": null,
            "overflow_x": null,
            "grid_auto_flow": null,
            "grid_area": null,
            "grid_template_columns": null,
            "flex": null,
            "_model_name": "LayoutModel",
            "justify_items": null,
            "grid_row": null,
            "max_height": null,
            "align_content": null,
            "visibility": null,
            "align_self": null,
            "height": null,
            "min_height": null,
            "padding": null,
            "grid_auto_rows": null,
            "grid_gap": null,
            "max_width": null,
            "order": null,
            "_view_module_version": "1.2.0",
            "grid_template_areas": null,
            "object_position": null,
            "object_fit": null,
            "grid_auto_columns": null,
            "margin": null,
            "display": null,
            "left": null
          }
        },
        "696cf72196fa4eaa9a7e584d0df0640d": {
          "model_module": "@jupyter-widgets/controls",
          "model_name": "HBoxModel",
          "state": {
            "_view_name": "HBoxView",
            "_dom_classes": [],
            "_model_name": "HBoxModel",
            "_view_module": "@jupyter-widgets/controls",
            "_model_module_version": "1.5.0",
            "_view_count": null,
            "_view_module_version": "1.5.0",
            "box_style": "",
            "layout": "IPY_MODEL_c579778559bc415d97211b6d00fd689a",
            "_model_module": "@jupyter-widgets/controls",
            "children": [
              "IPY_MODEL_ee073cd20e874d84b8393720abb0c2b3",
              "IPY_MODEL_0940cb2d1d384ed1915440d29eb5dde9",
              "IPY_MODEL_ca99fba5b30d4dda85a8519b536d6787"
            ]
          }
        },
        "c579778559bc415d97211b6d00fd689a": {
          "model_module": "@jupyter-widgets/base",
          "model_name": "LayoutModel",
          "state": {
            "_view_name": "LayoutView",
            "grid_template_rows": null,
            "right": null,
            "justify_content": null,
            "_view_module": "@jupyter-widgets/base",
            "overflow": null,
            "_model_module_version": "1.2.0",
            "_view_count": null,
            "flex_flow": null,
            "width": null,
            "min_width": null,
            "border": null,
            "align_items": null,
            "bottom": null,
            "_model_module": "@jupyter-widgets/base",
            "top": null,
            "grid_column": null,
            "overflow_y": null,
            "overflow_x": null,
            "grid_auto_flow": null,
            "grid_area": null,
            "grid_template_columns": null,
            "flex": null,
            "_model_name": "LayoutModel",
            "justify_items": null,
            "grid_row": null,
            "max_height": null,
            "align_content": null,
            "visibility": null,
            "align_self": null,
            "height": null,
            "min_height": null,
            "padding": null,
            "grid_auto_rows": null,
            "grid_gap": null,
            "max_width": null,
            "order": null,
            "_view_module_version": "1.2.0",
            "grid_template_areas": null,
            "object_position": null,
            "object_fit": null,
            "grid_auto_columns": null,
            "margin": null,
            "display": null,
            "left": null
          }
        },
        "ee073cd20e874d84b8393720abb0c2b3": {
          "model_module": "@jupyter-widgets/controls",
          "model_name": "DropdownModel",
          "state": {
            "_options_labels": [
              "2018.1",
              "2018.2",
              "2019.1",
              "2019.2"
            ],
            "_view_name": "DropdownView",
            "style": "IPY_MODEL_7370abca484e4278bab90f7541178030",
            "_dom_classes": [],
            "description": "Semestre: ",
            "_model_name": "DropdownModel",
            "index": 3,
            "_view_module": "@jupyter-widgets/controls",
            "_model_module_version": "1.5.0",
            "_view_count": null,
            "disabled": false,
            "_view_module_version": "1.5.0",
            "description_tooltip": null,
            "_model_module": "@jupyter-widgets/controls",
            "layout": "IPY_MODEL_5b61f3451e74423191fa156ea0d9b720"
          }
        },
        "0940cb2d1d384ed1915440d29eb5dde9": {
          "model_module": "@jupyter-widgets/controls",
          "model_name": "DropdownModel",
          "state": {
            "_options_labels": [
              "CERES - DEPARTAMENTO DE GEOGRAFIA",
              "CERES - DEPARTAMENTO DE HISTÓRIA",
              "CERES - DEPTO CIÊNCIAS EXATAS E APLICADAS",
              "CERES - DEPTO CIÊNCIAS SOCIAIS E HUMANAS",
              "COORDENAÇÃO DO CURSO DE ARTES VISUAIS",
              "COORDENAÇÃO DO CURSO DE MEDICINA",
              "DEPARTAMENTO DE ADMINISTRAÇÃO PUBLICA E GESTÃO SOCIAL",
              "DEPARTAMENTO DE ANTROPOLOGIA",
              "DEPARTAMENTO DE ANÁLISES CLÍNICAS E TOXICOLÓGICAS",
              "DEPARTAMENTO DE ARQUITETURA",
              "DEPARTAMENTO DE ARTES",
              "DEPARTAMENTO DE BIOFÍSICA E FARMACOLOGIA",
              "DEPARTAMENTO DE BIOLOGIA CELULAR E GENÉTICA",
              "DEPARTAMENTO DE BIOQUÍMICA",
              "DEPARTAMENTO DE BOTÂNICA E ZOOLOGIA",
              "DEPARTAMENTO DE CIRURGIA",
              "DEPARTAMENTO DE CIÊNCIA DA INFORMAÇÃO",
              "DEPARTAMENTO DE CIÊNCIAS ADMINISTRATIVAS - DEPAD",
              "DEPARTAMENTO DE CIÊNCIAS ATMOSFÉRICAS E CLIMÁTICAS",
              "DEPARTAMENTO DE CIÊNCIAS CONTÁBEIS - DCC",
              "DEPARTAMENTO DE CIÊNCIAS SOCIAIS",
              "DEPARTAMENTO DE COMPUTAÇÃO E TECNOLOGIA",
              "DEPARTAMENTO DE COMUNICAÇÃO SOCIAL",
              "DEPARTAMENTO DE DEMOGRAFIA E CIENCIAS ATUARIAIS",
              "DEPARTAMENTO DE DIREITO - CERES",
              "DEPARTAMENTO DE DIREITO PRIVADO - DIPRI",
              "DEPARTAMENTO DE DIREITO PROCESSUAL E PROPEDÊUTICA - DEPRO",
              "DEPARTAMENTO DE DIREITO PUBLICO - DIPUB",
              "DEPARTAMENTO DE ECOLOGIA",
              "DEPARTAMENTO DE ECONOMIA - DEPEC",
              "DEPARTAMENTO DE EDUCAÇÃO - CERES",
              "DEPARTAMENTO DE EDUCAÇÃO FÍSICA",
              "DEPARTAMENTO DE ENFERMAGEM",
              "DEPARTAMENTO DE ENGENHARIA BIOMEDICA",
              "DEPARTAMENTO DE ENGENHARIA CIVIL",
              "DEPARTAMENTO DE ENGENHARIA DE COMPUTACAO E AUTOMACAO",
              "DEPARTAMENTO DE ENGENHARIA DE COMUNICACOES",
              "DEPARTAMENTO DE ENGENHARIA DE MATERIAIS",
              "DEPARTAMENTO DE ENGENHARIA DE PETROLEO",
              "DEPARTAMENTO DE ENGENHARIA ELÉTRICA",
              "DEPARTAMENTO DE ENGENHARIA MECANICA",
              "DEPARTAMENTO DE ENGENHARIA PRODUÇÃO",
              "DEPARTAMENTO DE ENGENHARIA QUIMICA",
              "DEPARTAMENTO DE ENGENHARIA TÊXTIL",
              "DEPARTAMENTO DE ESTATISTICA",
              "DEPARTAMENTO DE FARMACIA",
              "DEPARTAMENTO DE FILOSOFIA",
              "DEPARTAMENTO DE FISIOLOGIA E COMPORTAMENTO",
              "DEPARTAMENTO DE FISIOTERAPIA",
              "DEPARTAMENTO DE FONOAUDIOLOGIA",
              "DEPARTAMENTO DE FUNDAMENTOS E POLÍTICAS DA EDUCAÇÃO",
              "DEPARTAMENTO DE FÍSICA TEÓRICA E EXPERIMENTAL",
              "DEPARTAMENTO DE GEOFÍSICA",
              "DEPARTAMENTO DE GEOGRAFIA/CCHLA",
              "DEPARTAMENTO DE GEOLOGIA",
              "DEPARTAMENTO DE HISTÓRIA",
              "DEPARTAMENTO DE INFECTOLOGIA",
              "DEPARTAMENTO DE INFORMÁTICA E MATEMÁTICA APLICADA",
              "DEPARTAMENTO DE LETRAS",
              "DEPARTAMENTO DE LETRAS - CERES",
              "DEPARTAMENTO DE LINGUAS E LITERATURAS ESTRANGEIRAS MODERNAS",
              "DEPARTAMENTO DE MATEMÁTICA",
              "DEPARTAMENTO DE MEDICINA CLÍNICA",
              "DEPARTAMENTO DE MEDICINA INTEGRADA",
              "DEPARTAMENTO DE MICROBIOLOGIA E PARASITOLOGIA",
              "DEPARTAMENTO DE MORFOLOGIA",
              "DEPARTAMENTO DE NUTRIÇÃO",
              "DEPARTAMENTO DE OCEANOGRAFIA E LIMNOLOGIA",
              "DEPARTAMENTO DE ODONTOLOGIA",
              "DEPARTAMENTO DE PATOLOGIA",
              "DEPARTAMENTO DE PEDIATRIA",
              "DEPARTAMENTO DE POLÍTICAS PÚBLICAS",
              "DEPARTAMENTO DE PRÁTICAS EDUCACIONAIS E CURRÍCULO",
              "DEPARTAMENTO DE PSICOLOGIA",
              "DEPARTAMENTO DE SAÚDE COLETIVA",
              "DEPARTAMENTO DE SERVIÇO SOCIAL - DESSO",
              "DEPARTAMENTO DE TOCO-GINECOLOGIA",
              "DEPARTAMENTO DE TURISMO - DETUR",
              "ESCOLA AGRICOLA DE JUNDIAI - PRONATEC",
              "ESCOLA AGRÍCOLA DE JUNDIAÍ",
              "ESCOLA DE CIÊNCIAS E TECNOLOGIA",
              "ESCOLA DE MÚSICA",
              "ESCOLA DE SAÚDE",
              "ESCOLA MULTICAMPI DE CIÊNCIAS MÉDICAS DO RIO GRANDE DO NORTE",
              "FACULDADE DE CIÊNCIAS DA SAÚDE DO TRAIRI - FACISA",
              "INSTITUTO DE QUÍMICA",
              "INSTITUTO DO CÉREBRO",
              "INSTITUTO HUMANITAS DE ESTUDOS INTEGRADOS",
              "INSTITUTO METROPOLE DIGITAL",
              "INSTITUTO ÁGORA - LÍNGUAS, LITERATURAS E CULTURAS ESTRANGEIRAS MODERNAS",
              "PROGRAMA DE PÓS-GRADUAÇÃO EM ADMINISTRAÇÃO",
              "PROGRAMA DE PÓS-GRADUAÇÃO EM ANTROPOLOGIA SOCIAL",
              "PROGRAMA DE PÓS-GRADUAÇÃO EM ARQUITETURA E URBANISMO",
              "PROGRAMA DE PÓS-GRADUAÇÃO EM ARQUITETURA, PROJETO E MEIO AMBIENTE",
              "PROGRAMA DE PÓS-GRADUAÇÃO EM ARTES - REDE NACIONAL",
              "PROGRAMA DE PÓS-GRADUAÇÃO EM ARTES CÊNICAS",
              "PROGRAMA DE PÓS-GRADUAÇÃO EM BIOINFORMÁTICA",
              "PROGRAMA DE PÓS-GRADUAÇÃO EM BIOLOGIA ESTRUTURAL E FUNCIONAL",
              "PROGRAMA DE PÓS-GRADUAÇÃO EM BIOLOGIA PARASITÁRIA",
              "PROGRAMA DE PÓS-GRADUAÇÃO EM BIOQUÍMICA",
              "PROGRAMA DE PÓS-GRADUAÇÃO EM BIOTECNOLOGIA",
              "PROGRAMA DE PÓS-GRADUAÇÃO EM CIÊNCIA E ENGENHARIA DE MATERIAIS",
              "PROGRAMA DE PÓS-GRADUAÇÃO EM CIÊNCIA E ENGENHARIA DE PETRÓLEO",
              "PROGRAMA DE PÓS-GRADUAÇÃO EM CIÊNCIA, TECNOLOGIA E INOVAÇÃO",
              "PROGRAMA DE PÓS-GRADUAÇÃO EM CIÊNCIAS BIOLÓGICAS",
              "PROGRAMA DE PÓS-GRADUAÇÃO EM CIÊNCIAS CLIMÁTICAS",
              "PROGRAMA DE PÓS-GRADUAÇÃO EM CIÊNCIAS CONTÁBEIS",
              "PROGRAMA DE PÓS-GRADUAÇÃO EM CIÊNCIAS DA REABILITAÇÃO",
              "PROGRAMA DE PÓS-GRADUAÇÃO EM CIÊNCIAS DA SAÚDE",
              "PROGRAMA DE PÓS-GRADUAÇÃO EM CIÊNCIAS FARMACÊUTICAS",
              "PROGRAMA DE PÓS-GRADUAÇÃO EM CIÊNCIAS FLORESTAIS",
              "PROGRAMA DE PÓS-GRADUAÇÃO EM CIÊNCIAS ODONTOLÓGICAS",
              "PROGRAMA DE PÓS-GRADUAÇÃO EM CIÊNCIAS SOCIAIS",
              "PROGRAMA DE PÓS-GRADUAÇÃO EM DEMOGRAFIA",
              "PROGRAMA DE PÓS-GRADUAÇÃO EM DESENVOLVIMENTO E INOVAÇÃO TECNOLÓGICA EM MEDICAMENTOS",
              "PROGRAMA DE PÓS-GRADUAÇÃO EM DESENVOLVIMENTO E MEIO AMBIENTE - PRODEMA",
              "PROGRAMA DE PÓS-GRADUAÇÃO EM DIREITO",
              "PROGRAMA DE PÓS-GRADUAÇÃO EM ECOLOGIA",
              "PROGRAMA DE PÓS-GRADUAÇÃO EM ECONOMIA",
              "PROGRAMA DE PÓS-GRADUAÇÃO EM EDUCAÇÃO",
              "PROGRAMA DE PÓS-GRADUAÇÃO EM EDUCAÇÃO FÍSICA",
              "PROGRAMA DE PÓS-GRADUAÇÃO EM EDUCAÇÃO, TRABALHO E INOVAÇÃO EM MEDICINA",
              "PROGRAMA DE PÓS-GRADUAÇÃO EM ENERGIA ELÉTRICA",
              "PROGRAMA DE PÓS-GRADUAÇÃO EM ENFERMAGEM",
              "PROGRAMA DE PÓS-GRADUAÇÃO EM ENGENHARIA AEROESPACIAL",
              "PROGRAMA DE PÓS-GRADUAÇÃO EM ENGENHARIA CIVIL",
              "PROGRAMA DE PÓS-GRADUAÇÃO EM ENGENHARIA DE PRODUÇÃO",
              "PROGRAMA DE PÓS-GRADUAÇÃO EM ENGENHARIA ELÉTRICA E DE COMPUTAÇÃO",
              "PROGRAMA DE PÓS-GRADUAÇÃO EM ENGENHARIA MECATRÔNICA",
              "PROGRAMA DE PÓS-GRADUAÇÃO EM ENGENHARIA MECÂNICA",
              "PROGRAMA DE PÓS-GRADUAÇÃO EM ENGENHARIA QUÍMICA",
              "PROGRAMA DE PÓS-GRADUAÇÃO EM ENGENHARIA SANITÁRIA E AMBIENTAL",
              "PROGRAMA DE PÓS-GRADUAÇÃO EM ENGENHARIA TÊXTIL",
              "PROGRAMA DE PÓS-GRADUAÇÃO EM ENSINO DE CIÊNCIAS E MATEMÁTICA",
              "PROGRAMA DE PÓS-GRADUAÇÃO EM ENSINO DE CIÊNCIAS NATURAIS E MATEMÁTICA",
              "PROGRAMA DE PÓS-GRADUAÇÃO EM ENSINO DE FÍSICA - REDE NACIONAL",
              "PROGRAMA DE PÓS-GRADUAÇÃO EM ENSINO DE HISTÓRIA - REDE NACIONAL",
              "PROGRAMA DE PÓS-GRADUAÇÃO EM ENSINO NA SAÚDE",
              "PROGRAMA DE PÓS-GRADUAÇÃO EM ESTUDOS DA LINGUAGEM",
              "PROGRAMA DE PÓS-GRADUAÇÃO EM ESTUDOS DA MÍDIA",
              "PROGRAMA DE PÓS-GRADUAÇÃO EM ESTUDOS URBANOS E REGIONAIS",
              "PROGRAMA DE PÓS-GRADUAÇÃO EM FILOSOFIA",
              "PROGRAMA DE PÓS-GRADUAÇÃO EM FISIOTERAPIA",
              "PROGRAMA DE PÓS-GRADUAÇÃO EM FONOAUDIOLOGIA",
              "PROGRAMA DE PÓS-GRADUAÇÃO EM FÍSICA",
              "PROGRAMA DE PÓS-GRADUAÇÃO EM GEODINÂMICA E GEOFÍSICA",
              "PROGRAMA DE PÓS-GRADUAÇÃO EM GEOGRAFIA",
              "PROGRAMA DE PÓS-GRADUAÇÃO EM GEOGRAFIA - CERES",
              "PROGRAMA DE PÓS-GRADUAÇÃO EM GEOGRAFIA - GEOPROF - CERES",
              "PROGRAMA DE PÓS-GRADUAÇÃO EM GESTÃO DA INFORMAÇÃO E DO CONHECIMENTO",
              "PROGRAMA DE PÓS-GRADUAÇÃO EM GESTÃO DE PROCESSOS INSTITUCIONAIS",
              "PROGRAMA DE PÓS-GRADUAÇÃO EM GESTÃO E INOVAÇÃO EM SAÚDE",
              "PROGRAMA DE PÓS-GRADUAÇÃO EM GESTÃO PÚBLICA",
              "PROGRAMA DE PÓS-GRADUAÇÃO EM GESTÃO, TRABALHO, EDUCAÇÃO E SAÚDE",
              "PROGRAMA DE PÓS-GRADUAÇÃO EM HISTÓRIA",
              "PROGRAMA DE PÓS-GRADUAÇÃO EM HISTÓRIA/CERES",
              "PROGRAMA DE PÓS-GRADUAÇÃO EM INOVAÇÃO EM TECNOLOGIAS EDUCACIONAIS",
              "PROGRAMA DE PÓS-GRADUAÇÃO EM LETRAS - PROFLETRAS CURRAIS NOVOS",
              "PROGRAMA DE PÓS-GRADUAÇÃO EM LETRAS - PROFLETRAS NATAL",
              "PROGRAMA DE PÓS-GRADUAÇÃO EM MATEMÁTICA - REDE NACIONAL",
              "PROGRAMA DE PÓS-GRADUAÇÃO EM MATEMÁTICA APLICADA E ESTATÍSTICA",
              "PROGRAMA DE PÓS-GRADUAÇÃO EM MÚSICA",
              "PROGRAMA DE PÓS-GRADUAÇÃO EM NEUROCIÊNCIAS",
              "PROGRAMA DE PÓS-GRADUAÇÃO EM NUTRIÇÃO",
              "PROGRAMA DE PÓS-GRADUAÇÃO EM PRODUÇÃO ANIMAL",
              "PROGRAMA DE PÓS-GRADUAÇÃO EM PSICOBIOLOGIA",
              "PROGRAMA DE PÓS-GRADUAÇÃO EM PSICOLOGIA",
              "PROGRAMA DE PÓS-GRADUAÇÃO EM QUÍMICA",
              "PROGRAMA DE PÓS-GRADUAÇÃO EM QUÍMICA - REDE NACIONAL",
              "PROGRAMA DE PÓS-GRADUAÇÃO EM SAÚDE COLETIVA",
              "PROGRAMA DE PÓS-GRADUAÇÃO EM SAÚDE COLETIVA - FACISA",
              "PROGRAMA DE PÓS-GRADUAÇÃO EM SAÚDE E SOCIEDADE",
              "PROGRAMA DE PÓS-GRADUAÇÃO EM SERVIÇO SOCIAL",
              "PROGRAMA DE PÓS-GRADUAÇÃO EM SISTEMAS E COMPUTAÇÃO",
              "PROGRAMA DE PÓS-GRADUAÇÃO EM SISTEMÁTICA E EVOLUÇÃO",
              "PROGRAMA DE PÓS-GRADUAÇÃO EM TECNOLOGIA DA INFORMAÇÃO",
              "PROGRAMA DE PÓS-GRADUAÇÃO EM TURISMO",
              "PROGRAMA REGIONAL DE PÓS-GRADUAÇÃO EM CIÊNCIAS CONTÁBEIS",
              "PROGRAMA REGIONAL DE PÓS-GRADUAÇÃO EM DESENVOLVIMENTO E MEIO AMBIENTE - PRODEMA"
            ],
            "_view_name": "DropdownView",
            "style": "IPY_MODEL_7847906fca574515911af47b7ad00717",
            "_dom_classes": [],
            "description": "Unidade: ",
            "_model_name": "DropdownModel",
            "index": 61,
            "_view_module": "@jupyter-widgets/controls",
            "_model_module_version": "1.5.0",
            "_view_count": null,
            "disabled": false,
            "_view_module_version": "1.5.0",
            "description_tooltip": null,
            "_model_module": "@jupyter-widgets/controls",
            "layout": "IPY_MODEL_d939863ca5eb4d3eb47750182fde557a"
          }
        },
        "ca99fba5b30d4dda85a8519b536d6787": {
          "model_module": "@jupyter-widgets/controls",
          "model_name": "SelectMultipleModel",
          "state": {
            "_options_labels": [
              "ALGEBRA LINEAR",
              "ALGEBRA LINEAR APLICADA",
              "ALGEBRA LINEAR BASICA I",
              "ALGEBRA LINEAR PARA COMPUTAÇÃO",
              "ANÁLISE DE FOURIER E EQUAÇÕES DIFERENCIAIS PARCIAIS",
              "ANÁLISE REAL I",
              "ANÁLISE REAL II",
              "CALCULO BASICO I",
              "CALCULO BASICO II",
              "CALCULO DIFERENCIAL E INTEGRAL I",
              "CALCULO DIFERENCIAL E INTEGRAL II",
              "CALCULO FUNDAMENTAL I",
              "CALCULO FUNDAMENTAL II",
              "CALCULO FUNDAMENTAL III",
              "CÁLCULO I",
              "CÁLCULO I PARA ENGENHARIA DE PRODUÇÃO",
              "CÁLCULO II PARA ENGENHARIA DE PRODUÇÃO",
              "CÁLCULO III",
              "DIDÁTICA DA MATEMÁTICA I",
              "FUNDAMENTOS DE GEOMETRIA I",
              "FUNDAMENTOS DE GEOMETRIA II",
              "GEOMETRIA ANALITICA E ALGEBRA LINEAR",
              "GEOMETRIA ANALITICA E VETORIAL",
              "GEOMETRIA ANALÍTICA E VETORIAL",
              "GEOMETRIA DIFERENCIAL",
              "HISTÓRIA DA EDUCAÇÃO MATEMÁTICA",
              "LABORATÓRIO DE APOIO COMPUTACIONAL",
              "LABORATÓRIO DE ENSINO DA MATEMÁTICA I",
              "LABORATÓRIO DE ENSINO DA MATEMÁTICA II",
              "MATEMATICA PARA CIENCIAS CONTABEIS",
              "MATEMATICA PARA ENGENHARIA I",
              "MATEMATICA PARA ENGENHARIA II",
              "MATEMATICA PARA ENGENHARIA III",
              "MATEMÁTICA BÁSICA",
              "MATEMÁTICA PARA ADMINISTRAÇÃO",
              "MÉTODOS NUMÉRICOS I",
              "MÉTODOS NUMÉRICOS II",
              "RESOLUÇÃO DE PROBLEMAS",
              "TEORIA DOS NÚMEROS",
              "TEORIA INGÊNUA DOS CONJUNTOS",
              "TOPICOS EM ALGEBRA",
              "TOPOLOGIA DOS ESPAÇOS MÉTRICOS",
              "VARIÁVEIS COMPLEXAS",
              "ÁLGEBRA I",
              "ÁLGEBRA LINEAR I",
              "ÁLGEBRA LINEAR PARA ENGENHARIA DE PRODUÇÃO"
            ],
            "_view_name": "SelectMultipleView",
            "style": "IPY_MODEL_1cc6f5a8bd92492b9ed3ecfa4fe117a5",
            "rows": 5,
            "_dom_classes": [],
            "description": "Disciplina: ",
            "_model_name": "SelectMultipleModel",
            "index": [
              7,
              9,
              11,
              15,
              30
            ],
            "_view_module": "@jupyter-widgets/controls",
            "_model_module_version": "1.5.0",
            "_view_count": null,
            "disabled": false,
            "_view_module_version": "1.5.0",
            "description_tooltip": null,
            "_model_module": "@jupyter-widgets/controls",
            "layout": "IPY_MODEL_1843afabcef34de69d420d96ee335e5d"
          }
        },
        "7370abca484e4278bab90f7541178030": {
          "model_module": "@jupyter-widgets/controls",
          "model_name": "DescriptionStyleModel",
          "state": {
            "_view_name": "StyleView",
            "_model_name": "DescriptionStyleModel",
            "description_width": "",
            "_view_module": "@jupyter-widgets/base",
            "_model_module_version": "1.5.0",
            "_view_count": null,
            "_view_module_version": "1.2.0",
            "_model_module": "@jupyter-widgets/controls"
          }
        },
        "5b61f3451e74423191fa156ea0d9b720": {
          "model_module": "@jupyter-widgets/base",
          "model_name": "LayoutModel",
          "state": {
            "_view_name": "LayoutView",
            "grid_template_rows": null,
            "right": null,
            "justify_content": null,
            "_view_module": "@jupyter-widgets/base",
            "overflow": null,
            "_model_module_version": "1.2.0",
            "_view_count": null,
            "flex_flow": null,
            "width": "200px",
            "min_width": null,
            "border": null,
            "align_items": null,
            "bottom": null,
            "_model_module": "@jupyter-widgets/base",
            "top": null,
            "grid_column": null,
            "overflow_y": null,
            "overflow_x": null,
            "grid_auto_flow": null,
            "grid_area": null,
            "grid_template_columns": null,
            "flex": null,
            "_model_name": "LayoutModel",
            "justify_items": null,
            "grid_row": null,
            "max_height": null,
            "align_content": null,
            "visibility": null,
            "align_self": null,
            "height": null,
            "min_height": null,
            "padding": null,
            "grid_auto_rows": null,
            "grid_gap": null,
            "max_width": null,
            "order": null,
            "_view_module_version": "1.2.0",
            "grid_template_areas": null,
            "object_position": null,
            "object_fit": null,
            "grid_auto_columns": null,
            "margin": null,
            "display": null,
            "left": null
          }
        },
        "7847906fca574515911af47b7ad00717": {
          "model_module": "@jupyter-widgets/controls",
          "model_name": "DescriptionStyleModel",
          "state": {
            "_view_name": "StyleView",
            "_model_name": "DescriptionStyleModel",
            "description_width": "",
            "_view_module": "@jupyter-widgets/base",
            "_model_module_version": "1.5.0",
            "_view_count": null,
            "_view_module_version": "1.2.0",
            "_model_module": "@jupyter-widgets/controls"
          }
        },
        "d939863ca5eb4d3eb47750182fde557a": {
          "model_module": "@jupyter-widgets/base",
          "model_name": "LayoutModel",
          "state": {
            "_view_name": "LayoutView",
            "grid_template_rows": null,
            "right": null,
            "justify_content": null,
            "_view_module": "@jupyter-widgets/base",
            "overflow": null,
            "_model_module_version": "1.2.0",
            "_view_count": null,
            "flex_flow": null,
            "width": "400px",
            "min_width": null,
            "border": null,
            "align_items": null,
            "bottom": null,
            "_model_module": "@jupyter-widgets/base",
            "top": null,
            "grid_column": null,
            "overflow_y": null,
            "overflow_x": null,
            "grid_auto_flow": null,
            "grid_area": null,
            "grid_template_columns": null,
            "flex": null,
            "_model_name": "LayoutModel",
            "justify_items": null,
            "grid_row": null,
            "max_height": null,
            "align_content": null,
            "visibility": null,
            "align_self": null,
            "height": null,
            "min_height": null,
            "padding": null,
            "grid_auto_rows": null,
            "grid_gap": null,
            "max_width": null,
            "order": null,
            "_view_module_version": "1.2.0",
            "grid_template_areas": null,
            "object_position": null,
            "object_fit": null,
            "grid_auto_columns": null,
            "margin": null,
            "display": null,
            "left": null
          }
        },
        "1cc6f5a8bd92492b9ed3ecfa4fe117a5": {
          "model_module": "@jupyter-widgets/controls",
          "model_name": "DescriptionStyleModel",
          "state": {
            "_view_name": "StyleView",
            "_model_name": "DescriptionStyleModel",
            "description_width": "",
            "_view_module": "@jupyter-widgets/base",
            "_model_module_version": "1.5.0",
            "_view_count": null,
            "_view_module_version": "1.2.0",
            "_model_module": "@jupyter-widgets/controls"
          }
        },
        "1843afabcef34de69d420d96ee335e5d": {
          "model_module": "@jupyter-widgets/base",
          "model_name": "LayoutModel",
          "state": {
            "_view_name": "LayoutView",
            "grid_template_rows": null,
            "right": null,
            "justify_content": null,
            "_view_module": "@jupyter-widgets/base",
            "overflow": null,
            "_model_module_version": "1.2.0",
            "_view_count": null,
            "flex_flow": null,
            "width": "600px",
            "min_width": null,
            "border": null,
            "align_items": null,
            "bottom": null,
            "_model_module": "@jupyter-widgets/base",
            "top": null,
            "grid_column": null,
            "overflow_y": null,
            "overflow_x": null,
            "grid_auto_flow": null,
            "grid_area": null,
            "grid_template_columns": null,
            "flex": null,
            "_model_name": "LayoutModel",
            "justify_items": null,
            "grid_row": null,
            "max_height": null,
            "align_content": null,
            "visibility": null,
            "align_self": null,
            "height": "300px",
            "min_height": null,
            "padding": null,
            "grid_auto_rows": null,
            "grid_gap": null,
            "max_width": null,
            "order": null,
            "_view_module_version": "1.2.0",
            "grid_template_areas": null,
            "object_position": null,
            "object_fit": null,
            "grid_auto_columns": null,
            "margin": null,
            "display": null,
            "left": null
          }
        }
      }
    }
  },
  "cells": [
    {
      "cell_type": "markdown",
      "metadata": {
        "id": "XW_DhjdJXWuv"
      },
      "source": [
        "---\n",
        "\n",
        "Universidade Federal do Rio Grande do Norte\n",
        "\n",
        "Centro de Tecnologia\n",
        "\n",
        "Departamento de Engenharia de Computação e Automação\n",
        "\n",
        "DCA0131 - Ciência de Dados\n",
        "\n",
        "Discentes: \n",
        "\n",
        "- Levy Gabriel da Silva Galvão\n",
        "- Thiago Maia Souto\n",
        "- Vinícius Albuquerque Malafaya\n",
        "\n",
        "Título: **Análise exploratória de dados abertos da UFRN para apresentação de indicadores para tomadas de decisões administrativas**\n",
        "\n",
        "---"
      ]
    },
    {
      "cell_type": "code",
      "metadata": {
        "id": "XJM_4FNfT5Ar"
      },
      "source": [
        "# Bilbiotecas necessárias\n",
        "\n",
        "import numpy as np\n",
        "import pandas as pd\n",
        "import matplotlib.pyplot as plt\n",
        "import seaborn as sns\n",
        "import ipywidgets as widgets\n",
        "import re \n",
        "from google.colab import files"
      ],
      "execution_count": 48,
      "outputs": []
    },
    {
      "cell_type": "markdown",
      "metadata": {
        "id": "r_uTaXqZR7Kc"
      },
      "source": [
        "# 1. Introdução"
      ]
    },
    {
      "cell_type": "markdown",
      "metadata": {
        "id": "pjEHD-fRQZgw"
      },
      "source": [
        "Neste *notebook* serão desenvolvidas análises exploratórias de dados buscando determinar as disciplinas/docentes que mais reprovam e procurar traçar um conjunto de horários para estabelecer plantões de monitoria para uma disciplina qualquer na lista de componentes curriculares presenciais da UFRN.\n",
        "\n",
        "Consideram-se os melhores horários para o plantão de monitoria da disciplina $X$ aqueles que possuem a maior probabilidade de que os discentes matriculados na disciplina $X$ estejam livres, ou pelo menos sem horário de aula. Também as disciplinas que mais reprovam contribuem para a necessidade de uma monitoria.\n",
        "\n",
        "Dessa forma serão usados quatro conjuntos de dados disponibilizados pelo programa de [Dados Abertos da UFRN](http://dados.ufrn.br/), estes são:\n",
        "\n",
        "- [Componentes Curriculares Presenciais](http://dados.ufrn.br/dataset/componentes-curriculares/resource/9a3521d2-4bc5-4fda-93f0-f701c8a20727): o interesse nesse conjunto de dados é relacionar o **nome** ou **código da disciplina** com o **ID de componente** que determina o nome da disciplina e seu código;\n",
        "- [Turmas](http://dados.ufrn.br/dataset/turmas): esse conjunto de dados permitirá relacionar as **IDs de componente** obtidas no conjunto de dados anterior com o **ID de turma** que indicará quais componentes curriculares possuem turmas abertas;\n",
        "- [Matrículas em Componentes](http://dados.ufrn.br/dataset/matriculas-componentes): este conjunto de dados irá determinar quais **discentes** estão matriculados nessas turmas, assim permitindo identificar quais e quantas disciplinas estes **discentes** estão matriculados para que seja gerada uma estimativa de quais os melhores horários para a monitoria.\n",
        "- [Docentes](http://dados.ufrn.br/dataset/docentes): por fim, este conjunto de dados permite realizar a relação entre turmas abertas, disciplinas ofertadas, matriculas em componentes abertas e quais docentes às ministram. Para isso se vale do campo **siape** para identificar cada docente em suas turmas ministradas\n",
        "\n",
        "O portal de Dados Abertos da UFRN é uma ferramenta gratuita que possui dados factíveis com o objetivo de disponibilizar para toda a comunidade dados e informações públicas da Instituição, garantindo a concretização do acesso à informação (regulamentado pela Lei de Acesso à Informação Pública - Lei nº 12.527/2011) e o acompanhamento do funcionamento da Universidade.\n"
      ]
    },
    {
      "cell_type": "markdown",
      "metadata": {
        "id": "chrTon4LUukI"
      },
      "source": [
        "# 2. Captura dos dados"
      ]
    },
    {
      "cell_type": "markdown",
      "metadata": {
        "id": "83CfXdcmUwWu"
      },
      "source": [
        "Abaixo serão carregados os conjuntos de dados supracitados. Vale destacar que apenas a base de dados das *Componentes Curriculares Presenciais* e dos *Docentes* possui uma única planilha fixa, as demais possuem planilhas que se modificam de acordo com os semestres. \n",
        "\n",
        "Devido à excepcionalidades dos semestres que houveram aulas unicamente remotas (entre 2020.1 até 2021.2), estes serão ignorados nas análises. Também para não se prolongar fundo no passado as análises serão restritas aos anos letivos de 2018 e 2019."
      ]
    },
    {
      "cell_type": "code",
      "metadata": {
        "colab": {
          "base_uri": "https://localhost:8080/"
        },
        "id": "ZgYUdLxiVKT8",
        "outputId": "ea31835f-6c95-4776-a7d6-2eee45013132"
      },
      "source": [
        "# Base de dados: Componentes Curriculares Presenciais\n",
        "!wget http://dados.ufrn.br/dataset/3fea67e8-6916-4ed0-aaa6-9a8ca06a9bdc/resource/9a3521d2-4bc5-4fda-93f0-f701c8a20727/download/componentes-curriculares-presenciais.csv &> /dev/null\n",
        "\n",
        "# Base de dados: Docentes\n",
        "!wget http://dados.ufrn.br/dataset/8bf1a468-48ff-4f4d-95ee-b17b7a3a5592/resource/ff0a457e-76fa-4aca-ad99-48aebd7db070/download/docentes.csv &> /dev/null\n",
        "\n",
        "# Base de dados: Turmas\n",
        "!wget http://dados.ufrn.br/dataset/1938623d-fb07-41a4-a55a-1691f7c3b8b5/resource/3ae16138-4214-4a30-ac2d-6cffd6237031/download/turmas-2018.1.csv &> /dev/null\n",
        "!wget http://dados.ufrn.br/dataset/1938623d-fb07-41a4-a55a-1691f7c3b8b5/resource/77fe7603-0e71-4e21-8cd4-cb823353023f/download/turmas-2018.2.csv &> /dev/null\n",
        "!wget http://dados.ufrn.br/dataset/1938623d-fb07-41a4-a55a-1691f7c3b8b5/resource/1e42cd66-69d6-48d5-a346-d46766fd2c9c/download/turmas-2019.1.csv &> /dev/null\n",
        "!wget http://dados.ufrn.br/dataset/1938623d-fb07-41a4-a55a-1691f7c3b8b5/resource/d9c2863e-d1b2-4afd-b7dd-09517d5ed17d/download/turmas-2019.2.csv &> /dev/null\n",
        "\n",
        "# Base de dados: Matrículas em Componentes \n",
        "!wget http://dados.ufrn.br/dataset/c8650d55-3c5a-4787-a126-d28a4ef902a6/resource/3c1feba4-ced1-466e-8e94-a040224a51dc/download/matricula-componente-20181.csv &> /dev/null\n",
        "!wget http://dados.ufrn.br/dataset/c8650d55-3c5a-4787-a126-d28a4ef902a6/resource/0bfcaf6a-4424-4983-8ba8-d330350a8fbe/download/matricula-componente-20182.csv &> /dev/null\n",
        "!wget http://dados.ufrn.br/dataset/c8650d55-3c5a-4787-a126-d28a4ef902a6/resource/6d66d15a-8d0f-43a3-902b-d314f4a2a296/download/matricula-componente-20191.csv &> /dev/null\n",
        "!wget http://dados.ufrn.br/dataset/c8650d55-3c5a-4787-a126-d28a4ef902a6/resource/0d573a4f-de65-4c3d-b6bb-337473bc4e44/download/matricula-componente-20192.csv &> /dev/null\n",
        "\n",
        "print('Base de dados carregada com sucesso!')"
      ],
      "execution_count": 49,
      "outputs": [
        {
          "output_type": "stream",
          "text": [
            "Base de dados carregada com sucesso!\n"
          ],
          "name": "stdout"
        }
      ]
    },
    {
      "cell_type": "markdown",
      "metadata": {
        "id": "9PdpteAJa9p7"
      },
      "source": [
        "Após carregados, esses dados devem ser importados no formato de um objeto **DataFrame** da biblioteca Pandas. Antes da importação, o aquivo .csv deve ser verificado para que seja identificada as particularidades deles para realizar uma limpeza inicial. A função responsável por fazer essa importação e limpeza inicial será a: \n",
        "\n",
        "```\n",
        "load_dataframe(file_name)\n",
        "```\n",
        "\n",
        "Esta será descrita abaixo levando em conta todas as particularidades da limpeza inicial."
      ]
    },
    {
      "cell_type": "code",
      "metadata": {
        "id": "3Bu8lML6bOdr"
      },
      "source": [
        "def load_dataframe(file_name):\n",
        "  df = pd.read_csv(file_name,              # nome do arquivo .csv que será carregado\n",
        "                  delimiter=';',           # esses arquivos .csv possuem os dados serparados por ponto e vírgula (semicolon)\n",
        "                  decimal=\",\",             # esses arquivos .csv possuem o ponto decimal como uma vírgula, necessitando trocar para o ponto decimal\n",
        "                  encoding='utf-8',        # a codificação será em utf-8\n",
        "                  skiprows=0,              # skip default rows depending in dataframe configuration header\n",
        "                  )\n",
        "  return df"
      ],
      "execution_count": 50,
      "outputs": []
    },
    {
      "cell_type": "markdown",
      "metadata": {
        "id": "w6XGXApecStQ"
      },
      "source": [
        "Uma vez que foram utilizadas base de dados que variam conforme o período, optou-se por representa-las como *Dicionário de Dataframes* para facilitar operações entre as bases de dados de diferentes semestres. Assim, considerando o nome de cada um dos arquivos, estes podem ser devidamente importados, como expresso abaixo. A base de dados *Docentes* é um caso especial, visto que apesar de manter-se fixa ao longo dos semestres analisados, foi carregada repetidamente no Dataframe ***df_saida*** para cada semestre para facilitar as operações entre ela e outras bases de dados que modificam-se de acordo com os semestres ."
      ]
    },
    {
      "cell_type": "code",
      "metadata": {
        "id": "DooCHMJncYn8"
      },
      "source": [
        "df_componentes = load_dataframe('componentes-curriculares-presenciais.csv')\n",
        "\n",
        "df_matriculas = {'2018.1': pd.DataFrame(), '2018.2': pd.DataFrame(), '2019.1': pd.DataFrame(), '2019.2': pd.DataFrame()}\n",
        "df_turmas = {'2018.1': pd.DataFrame(), '2018.2': pd.DataFrame(), '2019.1': pd.DataFrame(), '2019.2': pd.DataFrame()}\n",
        "df_saida = {'2018.1': pd.DataFrame(), '2018.2': pd.DataFrame(), '2019.1': pd.DataFrame(), '2019.2': pd.DataFrame()}\n",
        "\n",
        "df_matriculas['2018.1'] = load_dataframe('matricula-componente-20181.csv')\n",
        "df_matriculas['2018.2'] = load_dataframe('matricula-componente-20182.csv')\n",
        "df_matriculas['2019.1'] = load_dataframe('matricula-componente-20191.csv')\n",
        "df_matriculas['2019.2'] = load_dataframe('matricula-componente-20192.csv')\n",
        "\n",
        "df_turmas['2018.1'] = load_dataframe('turmas-2018.1.csv')\n",
        "df_turmas['2018.2'] = load_dataframe('turmas-2018.2.csv')\n",
        "df_turmas['2019.1'] = load_dataframe('turmas-2019.1.csv')\n",
        "df_turmas['2019.2'] = load_dataframe('turmas-2019.2.csv')\n",
        "\n",
        "df_saida['2018.1'] = load_dataframe('docentes.csv')\n",
        "df_saida['2018.2'] = load_dataframe('docentes.csv')\n",
        "df_saida['2019.1'] = load_dataframe('docentes.csv')\n",
        "df_saida['2019.2'] = load_dataframe('docentes.csv')"
      ],
      "execution_count": 214,
      "outputs": []
    },
    {
      "cell_type": "markdown",
      "metadata": {
        "id": "MI40PtLpUDx1"
      },
      "source": [
        "# 3. Qualidade dos dados"
      ]
    },
    {
      "cell_type": "markdown",
      "metadata": {
        "id": "53m9pQvbUHDP"
      },
      "source": [
        "Para realizar o conjunto de análises impostas deve-se observar atentamente os *dataframes* para checar se existem dados capazes de corromper a análise. Estes conhecidos por dados faltosos, que são expressos por valores *NaN*. \n",
        "\n",
        "Abaixo procura-se identificar quais colunas possuem dados faltosos, pois estas coincidem com as que serão utilizadas. Futuramente na etapa de limpeza/imputação estes dados serão tratados.\n",
        "\n"
      ]
    },
    {
      "cell_type": "code",
      "metadata": {
        "id": "6MYbgnPtWaAw"
      },
      "source": [
        "semestre = '2019.2' # variável para checar amostras dos dataframes"
      ],
      "execution_count": 215,
      "outputs": []
    },
    {
      "cell_type": "code",
      "metadata": {
        "id": "Gz6keRycPF1m",
        "colab": {
          "base_uri": "https://localhost:8080/"
        },
        "outputId": "18e98fb3-3094-4d61-c622-1e2ea461a7e6"
      },
      "source": [
        "df_componentes.filter(['id_componente', 'nome']).info()"
      ],
      "execution_count": 216,
      "outputs": [
        {
          "output_type": "stream",
          "text": [
            "<class 'pandas.core.frame.DataFrame'>\n",
            "RangeIndex: 40656 entries, 0 to 40655\n",
            "Data columns (total 2 columns):\n",
            " #   Column         Non-Null Count  Dtype \n",
            "---  ------         --------------  ----- \n",
            " 0   id_componente  40656 non-null  int64 \n",
            " 1   nome           40655 non-null  object\n",
            "dtypes: int64(1), object(1)\n",
            "memory usage: 635.4+ KB\n"
          ],
          "name": "stdout"
        }
      ]
    },
    {
      "cell_type": "code",
      "metadata": {
        "colab": {
          "base_uri": "https://localhost:8080/"
        },
        "id": "LK3WKaR1W8Ei",
        "outputId": "bc8aca58-0d01-4bc2-8367-647c8f34c594"
      },
      "source": [
        "df_turmas[semestre].filter(['id_turma', 'siape', 'id_componente_curricular']).info() # checagem do dataframe das turmas"
      ],
      "execution_count": 217,
      "outputs": [
        {
          "output_type": "stream",
          "text": [
            "<class 'pandas.core.frame.DataFrame'>\n",
            "RangeIndex: 15169 entries, 0 to 15168\n",
            "Data columns (total 3 columns):\n",
            " #   Column                    Non-Null Count  Dtype  \n",
            "---  ------                    --------------  -----  \n",
            " 0   id_turma                  15169 non-null  int64  \n",
            " 1   siape                     14846 non-null  float64\n",
            " 2   id_componente_curricular  15169 non-null  int64  \n",
            "dtypes: float64(1), int64(2)\n",
            "memory usage: 355.6 KB\n"
          ],
          "name": "stdout"
        }
      ]
    },
    {
      "cell_type": "code",
      "metadata": {
        "colab": {
          "base_uri": "https://localhost:8080/"
        },
        "id": "3PGGJBhyW76-",
        "outputId": "1ca88011-a1d0-439d-bfeb-880983195211"
      },
      "source": [
        "df_matriculas[semestre].filter(['id_turma', 'discente', 'descricao']).info() # checagem do dataframe das matrículas"
      ],
      "execution_count": 218,
      "outputs": [
        {
          "output_type": "stream",
          "text": [
            "<class 'pandas.core.frame.DataFrame'>\n",
            "RangeIndex: 668235 entries, 0 to 668234\n",
            "Data columns (total 3 columns):\n",
            " #   Column     Non-Null Count   Dtype \n",
            "---  ------     --------------   ----- \n",
            " 0   id_turma   668235 non-null  int64 \n",
            " 1   discente   668235 non-null  object\n",
            " 2   descricao  668235 non-null  object\n",
            "dtypes: int64(1), object(2)\n",
            "memory usage: 15.3+ MB\n"
          ],
          "name": "stdout"
        }
      ]
    },
    {
      "cell_type": "code",
      "metadata": {
        "colab": {
          "base_uri": "https://localhost:8080/"
        },
        "id": "JlZ9UacrW7yw",
        "outputId": "bf8456e0-3927-4aa9-f2b8-953dfd03e2a8"
      },
      "source": [
        "df_saida[semestre].filter(['siape', 'nome']).info() # checagem do dataframe dos docentes"
      ],
      "execution_count": 219,
      "outputs": [
        {
          "output_type": "stream",
          "text": [
            "<class 'pandas.core.frame.DataFrame'>\n",
            "RangeIndex: 2386 entries, 0 to 2385\n",
            "Data columns (total 2 columns):\n",
            " #   Column  Non-Null Count  Dtype \n",
            "---  ------  --------------  ----- \n",
            " 0   siape   2386 non-null   int64 \n",
            " 1   nome    2386 non-null   object\n",
            "dtypes: int64(1), object(1)\n",
            "memory usage: 37.4+ KB\n"
          ],
          "name": "stdout"
        }
      ]
    },
    {
      "cell_type": "markdown",
      "metadata": {
        "id": "qHiv3VE8Xkqj"
      },
      "source": [
        "Como algumas entradas possuem valores nulos, a etapa de limpeza/imputação será fundamental."
      ]
    },
    {
      "cell_type": "markdown",
      "metadata": {
        "id": "7duaNclTYHk4"
      },
      "source": [
        "# 4. Análise de dados"
      ]
    },
    {
      "cell_type": "markdown",
      "metadata": {
        "id": "4K5Q2-xJYMTF"
      },
      "source": [
        "## 4.1. Procedimento de classificação de reprovações"
      ]
    },
    {
      "cell_type": "markdown",
      "metadata": {
        "id": "gsgYqpdOv0OC"
      },
      "source": [
        "### 4.1.2. Criação de funções para auxiliar tratamento de Dicionários de Dataframes"
      ]
    },
    {
      "cell_type": "markdown",
      "metadata": {
        "id": "GTTID8V_wDGG"
      },
      "source": [
        "Com o intuito de facilitar o tratamento dos dados representados por Dicionários de Dataframes, foram implementadas as seguintes funções de auxílio"
      ]
    },
    {
      "cell_type": "code",
      "metadata": {
        "id": "_6uIsdQrwb4w",
        "cellView": "form"
      },
      "source": [
        "#@title Funções auxiliares\n",
        "\n",
        "#@markdown Funções utilizadas para executar processamento básicos com os dicionários de dataframes para compor a análise de docentes e disciplinas que mais reprovam\n",
        "\n",
        "# Função para adicionar uma coluna a partir da soma das colunas de Aprovados e Reprovados de um Dicionário de Dataframes\n",
        "def add_column_sum(dict_df, name, iterators):\n",
        "    for iterator in iterators:\n",
        "        dict_df[iterator][name] =  dict_df[iterator]['aprovados'] +  dict_df[iterator]['reprovados']\n",
        "    return dict_df\n",
        "\n",
        "# Função para adicionar uma coluna a partir da porcentagem de alunos reprovados\n",
        "def add_column_reprovado_percent(dict_df,name, iterators):\n",
        "    for iterator in iterators:\n",
        "        dict_df[iterator][name] = (dict_df[iterator]['reprovados']/dict_df[iterator]['total_alunos'])*100\n",
        "    return dict_df\n",
        "\n",
        "# Função para filtrar elementos de Dataframes com base em um vetor booleano\n",
        "def logic_filter_dataframes(df, logic_filter):\n",
        "    return df[logic_filter]\n",
        "\n",
        "# Função para filtrar elementos Dicionários de Dataframes com base em um vetor booleano\n",
        "def logic_filter_dict_dataframe(dict_df, logic_filter, iterators):\n",
        "    for iterator in iterators:\n",
        "        dict_df[iterator] = logic_filter_dataframes(dict_df[iterator], logic_filter[iterator])\n",
        "    return dict_df\n",
        "   \n",
        "# Função para resetar os indices de Dataframes\n",
        "def reset_index_dataframes(df):\n",
        "    return df.reset_index()\n",
        "\n",
        "# Função para resetar os indices de Dicionários de Dataframes\n",
        "def reset_index_dict_dataframe(dict_df, iterators):\n",
        "    for iterator in iterators:\n",
        "        dict_df[iterator] = reset_index_dataframes(dict_df[iterator])\n",
        "    return dict_df\n",
        "\n",
        "# Função para ordernar valores de uma coluna de Dataframes\n",
        "def sort_decre_dataframes(df, col, ascending = False):\n",
        "    return df.sort_values(by = col, ascending = ascending )\n",
        "\n",
        "# Função para ordenar valores de uma coluna em Dicionários de Dataframes\n",
        "def sort_decre_dict_dataframe(dict_df, col, iterators, ascending = False):\n",
        "    for iterator in iterators:\n",
        "        dict_df[iterator] = sort_decre_dataframes(dict_df[iterator], col)\n",
        "    return dict_df\n",
        "\n",
        "# Função para substituir valores NAN por zero em Dataframes\n",
        "def fillna_dataframe(df):\n",
        "    return df.fillna(0, inplace=False)\n",
        "\n",
        "# Função para substituir valores NAN por zero em Dicionários de Dataframes\n",
        "def fillna_dict_dataframe(dict_df, iterators):\n",
        "    for iterator in iterators:\n",
        "        dict_df[iterator] = fillna_dataframe(dict_df[iterator])\n",
        "    return dict_df\n",
        "\n",
        "# Função para Concatenar 2 Series Multindexadas em um Dataframe\n",
        "def merge_series(serie1, serie2):\n",
        "    return pd.concat([serie1, serie2], axis = 1)\n",
        "    \n",
        "# Função para Concatenar 2 Dicionários de Series Multindexadas em Dicionários de Dataframes\n",
        "def merge_dict_series(dict_serie1, dict_serie2, iterators):\n",
        "    dict_df = {'2018.1': pd.DataFrame(), '2018.2': pd.DataFrame(), '2019.1': pd.DataFrame(), '2019.2': pd.DataFrame()}\n",
        "    for iterator in iterators:\n",
        "        dict_df[iterator] = merge_series(dict_serie1[iterator], dict_serie2[iterator])\n",
        "    return dict_df\n",
        "\n",
        "# Função para conversão de Series Multindexadas para Dataframes\n",
        "def rename_series(serie, new_name):\n",
        "    return serie.rename(new_name, inplace=True)\n",
        "    \n",
        "# Função para conversão de Dicionários de Series Multindexadas para Dicionário de Dataframes\n",
        "def rename_dict_series(dict_serie, new_name, iterators):\n",
        "    for iterator in iterators:\n",
        "        dict_serie[iterator] = rename_series(dict_serie[iterator], new_name)\n",
        "    return dict_serie\n",
        "\n",
        "# Função para realizar 'GroupBy' de Dataframes a partir do campo 'discente'\n",
        "def groupby_dataframe(df, col):\n",
        "    return df.groupby(col).count()['discente'];\n",
        "\n",
        "# Função para realizar 'GroupBy' de Dicionários de Dataframes a partir do campo 'discente'\n",
        "def groupby_dict_dataframe(dict_df, col, iterators):\n",
        "    for iterator in iterators:\n",
        "        dict_df[iterator] = groupby_dataframe(dict_df[iterator], col)\n",
        "    return dict_df\n",
        "\n",
        "# Função para aplicacao de filtros do tipo 'ISIN' em Dataframes\n",
        "def apply_filter_isin_dataframe(df, col, list_filters):\n",
        "    filtered = df[col].isin(list_filters)\n",
        "    return df[filtered]\n",
        "\n",
        "# Função para aplicacao de filtros do tipo 'ISIN' em Dicionários de Dataframes\n",
        "def apply_filter_isin_dict_dataframe(dict_df, col, list_filters, iterators):\n",
        "    for iterator in iterators:\n",
        "        dict_df[iterator] = apply_filter_isin_dataframe(dict_df[iterator], col, list_filters)\n",
        "    return dict_df\n",
        "\n",
        "# Função para realizar filtragem de colunas de Dataframes\n",
        "def filter_dataframe(df, filter_collumns):\n",
        "    return df.filter(filter_collumns)\n",
        "\n",
        "# Função para realizar filtragem de colunas em um Dicionário de Dataframes\n",
        "def filter_dict_dataframe(dict_df, filter_collumns, iterators):\n",
        "    for iterator in iterators:\n",
        "        dict_df[iterator] = filter_dataframe(dict_df[iterator], filter_collumns)\n",
        "    return dict_df\n",
        "\n",
        "# Função para renomar colunas de Dataframes\n",
        "def rename_dataframe(df, dict_collumns):\n",
        "   return df.rename(columns= dict_collumns, inplace=False)\n",
        "\n",
        "# Função para renomar colunas de Dicionários de Dataframes\n",
        "def rename_dict_dataframe(dict_df, dict_collumns, iterators):\n",
        "    for iterator in iterators:\n",
        "        dict_df[iterator] = rename_dataframe(dict_df[iterator], dict_collumns)\n",
        "    return dict_df\n",
        "\n",
        "# Função para excluir os registros repetidos de um Dataframe\n",
        "def clean_copies_dataframe(df,col):\n",
        "     return df.drop_duplicates(subset= col ,inplace=False)\n",
        "\n",
        "# Função para excluir os registros repetidos de um Dicionário de Dataframes\n",
        "def clean_copies_dict_dataframe(dict_df, col, iterators):\n",
        "     for iterator in iterators:\n",
        "         dict_df[iterator] = clean_copies_dataframe(dict_df[iterator], col)\n",
        "         \n",
        "     return dict_df\n",
        "\n",
        "# Função para remover registros sem siape do Dataframe de Turmas\n",
        "def clean_na_siapes_dataframe(dict_df, iterators):\n",
        "     for iterator in iterators:\n",
        "         dict_df[iterator] = dict_df[iterator].dropna(subset=['siape'], inplace=False)\n",
        "         \n",
        "     return dict_df\n",
        "\n",
        "# Função para dar Merge em 2 Dicionários de Dataframes\n",
        "def merge_dict_dataframe(dict_df1, dict_df2, iterators, left, right):\n",
        "     for iterator in iterators:\n",
        "         if isinstance(dict_df2, dict):\n",
        "             dict_df1[iterator] = pd.merge(dict_df1[iterator], dict_df2[iterator],\n",
        "                                           how = 'inner', left_on = left, right_on=right)\n",
        "         else:\n",
        "             dict_df1[iterator] = pd.merge(dict_df1[iterator], dict_df2,\n",
        "                                           how = 'inner', left_on = left, right_on=right)\n",
        "         \n",
        "     return dict_df1"
      ],
      "execution_count": 220,
      "outputs": []
    },
    {
      "cell_type": "markdown",
      "metadata": {
        "id": "1yk-x1qt2JJU"
      },
      "source": [
        "### 4.1.3. Tratamento, limpeza e análise de dados"
      ]
    },
    {
      "cell_type": "markdown",
      "metadata": {
        "id": "ux75xnHK2Opi"
      },
      "source": [
        "A primeira etapa da análise proposta neste trabalho consiste no tratamento e limpeza dos dados necessários para obtenção de uma base de dados que relacione cada docente e suas turmas em determinado semestre aos dados de aprovação e reprovação em cada uma dessas turmas. Nessa etapa do projeto foram utilizadas as funções auxiliares definidas na seção anterior para facilitar o tratamento com *Dicionário de Dataframes*. \n",
        "\n",
        "No trecho de código abaixo são definidas as colunas de interesse de cada base de dados utizada e uma lista contendo todos os semestres analisado - a qual irá servir como iterador para cada Dicionário de Dados - além do processo de filtragem de cada uma delas."
      ]
    },
    {
      "cell_type": "code",
      "metadata": {
        "id": "O3myZNRQ4mx-"
      },
      "source": [
        "semestres = list(df_saida.keys())\n",
        "\n",
        "componente_filtro = ['id_componente', 'nome']\n",
        "turma_filtro = ['id_turma', 'siape', 'id_componente_curricular']\n",
        "matricula_filtro = ['id_turma', 'discente', 'descricao']\n",
        "saida_filtro = ['siape', 'nome']\n",
        "\n",
        "df_componentes = filter_dataframe(df_componentes,componente_filtro)\n",
        "df_turmas = filter_dict_dataframe(df_turmas, turma_filtro, semestres)\n",
        "df_matriculas = filter_dict_dataframe(df_matriculas, matricula_filtro, semestres)\n",
        "df_saida = filter_dict_dataframe(df_saida, saida_filtro, semestres)"
      ],
      "execution_count": 222,
      "outputs": []
    },
    {
      "cell_type": "markdown",
      "metadata": {
        "id": "858pV7b96R3Z"
      },
      "source": [
        "É interessante ressaltar que durante o processo de estudo do 'Dicionário de Dados' oficial disponibilizado pela UFRN para a Base de Dados de Matriculas foi constatada a presença de uma coluna chamada **'descricao'** cujos valores indicavam o estado da matrícula de cada discente e que podiam assumir os valores:\n",
        "\n",
        "       'APROVADO', 'EXCLUIDA', 'CANCELADO', 'MATRICULADO',\n",
        "       'REPROVADO POR MÉDIA E POR FALTAS', 'TRANCADO',\n",
        "       'REPROVADO POR FALTAS', 'DISPENSADO', 'DESISTENCIA',\n",
        "       'APROVADO POR NOTA', 'REPROVADO', 'INDEFERIDO', 'CUMPRIU',\n",
        "       'AGUARDANDO DEFERIMENTO', 'REPROVADO POR NOTA',\n",
        "       'REPROVADO POR NOTA E FALTA', 'EM ESPERA'\n",
        "\n",
        "Como pode ser visto através do código abaixo:"
      ]
    },
    {
      "cell_type": "code",
      "metadata": {
        "colab": {
          "base_uri": "https://localhost:8080/"
        },
        "id": "ynB2Hyvw9c-P",
        "outputId": "a7799737-1e62-49ac-a33c-307a9b04f0dc"
      },
      "source": [
        "df_matriculas[semestre]['descricao'].unique()"
      ],
      "execution_count": 223,
      "outputs": [
        {
          "output_type": "execute_result",
          "data": {
            "text/plain": [
              "array(['APROVADO', 'EXCLUIDA', 'CANCELADO', 'MATRICULADO',\n",
              "       'REPROVADO POR MÉDIA E POR FALTAS', 'TRANCADO',\n",
              "       'REPROVADO POR FALTAS', 'DISPENSADO', 'DESISTENCIA',\n",
              "       'APROVADO POR NOTA', 'REPROVADO', 'INDEFERIDO', 'CUMPRIU',\n",
              "       'AGUARDANDO DEFERIMENTO', 'REPROVADO POR NOTA',\n",
              "       'REPROVADO POR NOTA E FALTA', 'EM ESPERA'], dtype=object)"
            ]
          },
          "metadata": {
            "tags": []
          },
          "execution_count": 223
        }
      ]
    },
    {
      "cell_type": "markdown",
      "metadata": {
        "id": "rXwKG0jw_Y62"
      },
      "source": [
        "Tendo em vista que apenas os valores indicativos de aprovação e reprovação do discente em determinada turma são relevantes, foi feita uma filtragem na Base de Dados de Matriculas para manter apenas os discentes que tivessem o campo **'descricao'** com os valores de interesse. O processo foi realizado de acordo com o trecho de código abaixo."
      ]
    },
    {
      "cell_type": "code",
      "metadata": {
        "id": "shhjvh9h8bfH"
      },
      "source": [
        "alunos_filtrados = ['APROVADO', 'REPROVADO', 'REPROVADO POR NOTA', \n",
        "                      'REPROVADO POR MÉDIA E POR FALTAS', \n",
        "                      'APROVADO POR NOTA', 'REPROVADO POR FALTAS', \n",
        "                      'REPROVADO POR NOTA E FALTA' ]\n",
        "                      \n",
        "df_alunos_filtrados = apply_filter_isin_dict_dataframe(df_matriculas, 'descricao' ,alunos_filtrados, semestres)"
      ],
      "execution_count": 224,
      "outputs": []
    },
    {
      "cell_type": "markdown",
      "metadata": {
        "id": "a1Ax1U2W_xY1"
      },
      "source": [
        "Além disso, outra peculiaridade encontrada na Base de Dados de Matriculas foi que existiam mais de um cadastro de discente por turma. Geralmente haviam 3 cadastros - um por unidade - em outros casos haviam até 4 indicando que o discente havia tentado se cadastrar mas foi indeferido na primeira vez por exemplo (caso já filtrado na etapa anterior) e casos de discentes com menos de 3 cadastros indicando que ele não concluiu as 3 unidades (caso também já filtrados anteriormente). Tal fato pode ser observado a partir do código abaixo para um discente específico e uma turma específica:"
      ]
    },
    {
      "cell_type": "code",
      "metadata": {
        "colab": {
          "base_uri": "https://localhost:8080/",
          "height": 0
        },
        "id": "c3PEAOI7-rAg",
        "outputId": "b689a474-3caf-4093-8486-74ac675c245c"
      },
      "source": [
        "filtro_discente_turma = (df_alunos_filtrados[semestre]['discente'] == '586a6df5d2d2e53e3a6084c845120270') & (df_alunos_filtrados[semestre]['id_turma'] == 57652251)\n",
        "df_alunos_filtrados[semestre][filtro_discente_turma]"
      ],
      "execution_count": 225,
      "outputs": [
        {
          "output_type": "execute_result",
          "data": {
            "text/html": [
              "<div>\n",
              "<style scoped>\n",
              "    .dataframe tbody tr th:only-of-type {\n",
              "        vertical-align: middle;\n",
              "    }\n",
              "\n",
              "    .dataframe tbody tr th {\n",
              "        vertical-align: top;\n",
              "    }\n",
              "\n",
              "    .dataframe thead th {\n",
              "        text-align: right;\n",
              "    }\n",
              "</style>\n",
              "<table border=\"1\" class=\"dataframe\">\n",
              "  <thead>\n",
              "    <tr style=\"text-align: right;\">\n",
              "      <th></th>\n",
              "      <th>id_turma</th>\n",
              "      <th>discente</th>\n",
              "      <th>descricao</th>\n",
              "    </tr>\n",
              "  </thead>\n",
              "  <tbody>\n",
              "    <tr>\n",
              "      <th>11</th>\n",
              "      <td>57652251</td>\n",
              "      <td>586a6df5d2d2e53e3a6084c845120270</td>\n",
              "      <td>APROVADO</td>\n",
              "    </tr>\n",
              "    <tr>\n",
              "      <th>12</th>\n",
              "      <td>57652251</td>\n",
              "      <td>586a6df5d2d2e53e3a6084c845120270</td>\n",
              "      <td>APROVADO</td>\n",
              "    </tr>\n",
              "    <tr>\n",
              "      <th>13</th>\n",
              "      <td>57652251</td>\n",
              "      <td>586a6df5d2d2e53e3a6084c845120270</td>\n",
              "      <td>APROVADO</td>\n",
              "    </tr>\n",
              "  </tbody>\n",
              "</table>\n",
              "</div>"
            ],
            "text/plain": [
              "    id_turma                          discente descricao\n",
              "11  57652251  586a6df5d2d2e53e3a6084c845120270  APROVADO\n",
              "12  57652251  586a6df5d2d2e53e3a6084c845120270  APROVADO\n",
              "13  57652251  586a6df5d2d2e53e3a6084c845120270  APROVADO"
            ]
          },
          "metadata": {
            "tags": []
          },
          "execution_count": 225
        }
      ]
    },
    {
      "cell_type": "markdown",
      "metadata": {
        "id": "fub6d5An8nCm"
      },
      "source": [
        "Como visto no trecho de código acima foi necessário retirar as cópias desses discentes que aparecem cadastrados mais de uma vez na mesma turma tendo o cuidado de não remover os cadastros desse mesmo discente nas demais turmas (visto que um aluno pode estar em mais de uma turma por semestre). Esse procedimento foi realizado da seguinte forma:"
      ]
    },
    {
      "cell_type": "code",
      "metadata": {
        "id": "UWm0R4bUOYaS"
      },
      "source": [
        "df_matriculas_sem_copia = clean_copies_dict_dataframe(df_alunos_filtrados, ['discente','id_turma'], semestres)\n"
      ],
      "execution_count": 226,
      "outputs": []
    },
    {
      "cell_type": "markdown",
      "metadata": {
        "id": "6rwxy8TUOgqI"
      },
      "source": [
        "Uma vez tratado os dados da Base de Dados de Matriculas foi necessário realizar uma limpeza na Base de Dados de Turmas, visto que algumas das turmas não possuiam a coluna '**siape**' (A qual indica o docente responsável por aquela turma) preenchida, como pode ser visto abaixo:"
      ]
    },
    {
      "cell_type": "code",
      "metadata": {
        "colab": {
          "base_uri": "https://localhost:8080/"
        },
        "id": "gypm0dtFPQVp",
        "outputId": "3e5af7fd-3cd9-43ad-d1c4-df1582dc10e1"
      },
      "source": [
        "df_turmas[semestre]['siape'].isnull().sum()"
      ],
      "execution_count": 227,
      "outputs": [
        {
          "output_type": "execute_result",
          "data": {
            "text/plain": [
              "323"
            ]
          },
          "metadata": {
            "tags": []
          },
          "execution_count": 227
        }
      ]
    },
    {
      "cell_type": "markdown",
      "metadata": {
        "id": "Qe3Wq6-zPmJE"
      },
      "source": [
        "A remoção das turmas cuja coluna '**siape**' não estavam preenchidas foi feita de acordo com o código abaixo:\n"
      ]
    },
    {
      "cell_type": "code",
      "metadata": {
        "id": "jr6q2gTxP7ew"
      },
      "source": [
        "df_turmas_sem_siape = clean_na_siapes_dataframe(df_turmas,semestres)\n"
      ],
      "execution_count": 228,
      "outputs": []
    },
    {
      "cell_type": "markdown",
      "metadata": {
        "id": "jEFQFZw5QBd0"
      },
      "source": [
        "Após esse tratamento nos dados começou a etapa de agrupamento de bases de dados diferente relacionadas por alguma coluna em comum. O primeiro desses agrupamentos foi realizado entre a Base de Dados de Turmas e Base de Dados de Componentes utilizando o código da componente curricular como base, dessa forma podendo obter o nome da disciplina de cada turma. Esse processo foi realizado como segue:"
      ]
    },
    {
      "cell_type": "code",
      "metadata": {
        "id": "Oe280lrrQ0jF"
      },
      "source": [
        "df_turma_componente = merge_dict_dataframe(df_turmas_sem_siape, df_componentes, semestres, 'id_componente_curricular', 'id_componente')\n"
      ],
      "execution_count": 229,
      "outputs": []
    },
    {
      "cell_type": "markdown",
      "metadata": {
        "id": "nzZp07YgQ-TX"
      },
      "source": [
        "O dataframe resultante do agrupamento ficou consistindo nas seguintes colunas:"
      ]
    },
    {
      "cell_type": "code",
      "metadata": {
        "colab": {
          "base_uri": "https://localhost:8080/"
        },
        "id": "UskvGDPfREEh",
        "outputId": "8e1db049-0afb-4366-d49a-d0549fc46b6e"
      },
      "source": [
        "print(df_turma_componente[semestre].columns.values)"
      ],
      "execution_count": 230,
      "outputs": [
        {
          "output_type": "stream",
          "text": [
            "['id_turma' 'siape' 'id_componente_curricular' 'id_componente' 'nome']\n"
          ],
          "name": "stdout"
        }
      ]
    },
    {
      "cell_type": "markdown",
      "metadata": {
        "id": "iWDv2mLsRbwS"
      },
      "source": [
        "Como pode ser visto do trecho acima, as colunas **id_componente_curricular** e **id_componente** permaneceram no dataframe, mesmo que não sejam mais necessárias visto que a coluna **nome** já contém o nome da disciplina. Para solucionar isso foi feita a seguinte filtragem"
      ]
    },
    {
      "cell_type": "code",
      "metadata": {
        "id": "saMWhfhcSFpM"
      },
      "source": [
        "df_turma_componente = filter_dict_dataframe(df_turma_componente, ['id_turma', 'siape', 'nome'], semestres)\n"
      ],
      "execution_count": 231,
      "outputs": []
    },
    {
      "cell_type": "markdown",
      "metadata": {
        "id": "3f6HGP17SLDv"
      },
      "source": [
        "Após a filtragem restaram apenas as colunas **id_turma**, **siape** e **nome**, como pode ser constatado abaixo:"
      ]
    },
    {
      "cell_type": "code",
      "metadata": {
        "colab": {
          "base_uri": "https://localhost:8080/"
        },
        "id": "PzFOut5GSXB2",
        "outputId": "8dad0165-0e37-4f0b-8311-a0ad05042d80"
      },
      "source": [
        "print(df_turma_componente[semestre].columns.values)"
      ],
      "execution_count": 232,
      "outputs": [
        {
          "output_type": "stream",
          "text": [
            "['id_turma' 'siape' 'nome']\n"
          ],
          "name": "stdout"
        }
      ]
    },
    {
      "cell_type": "markdown",
      "metadata": {
        "id": "WuSvlMzdSbO4"
      },
      "source": [
        "Apesar de já possuir os dados relevantes existe um problema. O problema consiste do fato de que a Base de Dados de Docentes que será agrupada posteriormente nesse dataframe resultante também contém uma coluna **nome**, a qual representa o nome do docente e ao agrupa-las iriam ter duas colunas de mesmo nome, para evitar isso a coluna **nome** representando o nome da disciplina foi renomeada para **disciplina** da seguinte forma:"
      ]
    },
    {
      "cell_type": "code",
      "metadata": {
        "id": "CbGwjyV4TNHO"
      },
      "source": [
        "dict_collumns = {'nome': 'disciplina'}\n",
        "df_turma_componente = rename_dict_dataframe(df_turma_componente, dict_collumns, semestres)"
      ],
      "execution_count": 233,
      "outputs": []
    },
    {
      "cell_type": "markdown",
      "metadata": {
        "id": "UnYUfgLZTSdq"
      },
      "source": [
        "O resultado então ficou de acordo com o desejado"
      ]
    },
    {
      "cell_type": "code",
      "metadata": {
        "colab": {
          "base_uri": "https://localhost:8080/"
        },
        "id": "gQqhX7M-SZ7M",
        "outputId": "dd7a9ec6-6de0-46bc-c30f-fc4aaf26a638"
      },
      "source": [
        "print(df_turma_componente[semestre].columns.values)"
      ],
      "execution_count": 234,
      "outputs": [
        {
          "output_type": "stream",
          "text": [
            "['id_turma' 'siape' 'disciplina']\n"
          ],
          "name": "stdout"
        }
      ]
    },
    {
      "cell_type": "markdown",
      "metadata": {
        "id": "vtnn_mYiUMb0"
      },
      "source": [
        "Para obter então a relação entre as turmas, o nome das disciplinas e o nome do professor responsável foi necessário fazer o agrupamento da Base de Dados de Docentes com o dataframe já tratado ***df_turma_componente***  usando a coluna **siape** como referencia da seguinte forma:\n"
      ]
    },
    {
      "cell_type": "code",
      "metadata": {
        "id": "vTkIgEWZUuT-"
      },
      "source": [
        "df_saida_mergeada  = merge_dict_dataframe(df_saida, df_turma_componente, semestres, 'siape', 'siape')"
      ],
      "execution_count": 235,
      "outputs": []
    },
    {
      "cell_type": "markdown",
      "metadata": {
        "id": "7ppLMDb3ZjPY"
      },
      "source": [
        "As colunas resultantes desse agrupamento encontram-se representadas abaixo:"
      ]
    },
    {
      "cell_type": "code",
      "metadata": {
        "colab": {
          "base_uri": "https://localhost:8080/"
        },
        "id": "gA9u1VHcZoXy",
        "outputId": "a82d221c-a5ed-421a-8c48-a263fc680b30"
      },
      "source": [
        "print(df_saida_mergeada[semestre].columns.values)"
      ],
      "execution_count": 236,
      "outputs": [
        {
          "output_type": "stream",
          "text": [
            "['siape' 'nome' 'id_turma' 'disciplina']\n"
          ],
          "name": "stdout"
        }
      ]
    },
    {
      "cell_type": "markdown",
      "metadata": {
        "id": "dcHnx4YUa0yg"
      },
      "source": [
        "Para obter o dataframe final relacionando todas as bases de dados foi necessário realizar o agrupamento do dataframe ***df_saida_mergeada*** com o dataframe já tratado contendo os dados das matrículas utilizando como referefência a coluna **id_turma**. Esse procedimento foi feito através do trecho de código abaixo:"
      ]
    },
    {
      "cell_type": "code",
      "metadata": {
        "id": "qa0PUrs1bh3t"
      },
      "source": [
        "df_merge_final =  merge_dict_dataframe(df_saida_mergeada, df_matriculas_sem_copia, semestres, 'id_turma', 'id_turma')\n"
      ],
      "execution_count": 237,
      "outputs": []
    },
    {
      "cell_type": "markdown",
      "metadata": {
        "id": "Clh5y7HjbxZ0"
      },
      "source": [
        "As colunas dos dataframe agrupado ficou conforme está mostrado abaixo:"
      ]
    },
    {
      "cell_type": "code",
      "metadata": {
        "colab": {
          "base_uri": "https://localhost:8080/"
        },
        "id": "hHtEiSx0b4oF",
        "outputId": "e60bcbe8-a763-4ee5-93a7-8538b6907583"
      },
      "source": [
        "print(df_merge_final[semestre].columns.values)"
      ],
      "execution_count": 238,
      "outputs": [
        {
          "output_type": "stream",
          "text": [
            "['siape' 'nome' 'id_turma' 'disciplina' 'discente' 'descricao']\n"
          ],
          "name": "stdout"
        }
      ]
    },
    {
      "cell_type": "markdown",
      "metadata": {
        "id": "jtNkP2LjcBn5"
      },
      "source": [
        "Agora que todos os dados relevantes estão agrupados em um único dataframe, resta obter os subconjuntos de dados contendo os discentes aprovados e reprovados. O código abaixo foi utilizado para realizar a filtragem dos discentes aprovados através dos valores da coluna **descricao**."
      ]
    },
    {
      "cell_type": "code",
      "metadata": {
        "id": "5IvucpHBcc-7"
      },
      "source": [
        "search_aprovado = ['APROVADO', 'APROVADO POR NOTA' ]\n",
        "df_alunos_aprovados = apply_filter_isin_dict_dataframe(df_merge_final.copy(), 'descricao', search_aprovado, semestres)"
      ],
      "execution_count": 239,
      "outputs": []
    },
    {
      "cell_type": "markdown",
      "metadata": {
        "id": "TMP04Rf9dIHJ"
      },
      "source": [
        "De maneira similar, foi possível obter o subconjunto dos discentes reprovados através da filtragem com base nos valores da coluna **descricao** conforme o código abaixo."
      ]
    },
    {
      "cell_type": "code",
      "metadata": {
        "id": "EfDz9rHZdcc7"
      },
      "source": [
        "search_reprovado = ['REPROVADO', 'REPROVADO POR NOTA', 'REPROVADO POR MÉDIA E POR FALTAS', 'REPROVADO POR FALTAS', 'REPROVADO POR NOTA E FALTA' ]\n",
        "df_alunos_reprovados = apply_filter_isin_dict_dataframe(df_merge_final.copy(), 'descricao', search_reprovado, semestres)"
      ],
      "execution_count": 240,
      "outputs": []
    },
    {
      "cell_type": "markdown",
      "metadata": {
        "id": "Q5y3_EzDdojz"
      },
      "source": [
        "Tendo obtido os subconjuntos relevantes para a análise foi realizada a ordenação dos subconjuntos com base nas colunas **nome** e **disciplina**, as quais correspondem ao nome do docente e a disciplina ministrada. O processo foi realizado como se segue:"
      ]
    },
    {
      "cell_type": "code",
      "metadata": {
        "id": "ddQa3uEveove"
      },
      "source": [
        "df_alunos_aprovados_group = groupby_dict_dataframe(df_alunos_aprovados.copy(), ['nome','disciplina'],semestres)\n",
        "df_alunos_reprovados_group = groupby_dict_dataframe(df_alunos_reprovados.copy(), ['nome','disciplina'],semestres)\n"
      ],
      "execution_count": 241,
      "outputs": []
    },
    {
      "cell_type": "markdown",
      "metadata": {
        "id": "tdbzvTOTeykV"
      },
      "source": [
        "Após o procedimento de ordenação os tipos do dados foram alterados, tornando-se Series MultIndexadas, conforme mostrado abaixo:"
      ]
    },
    {
      "cell_type": "code",
      "metadata": {
        "colab": {
          "base_uri": "https://localhost:8080/"
        },
        "id": "cf6KRMxJfFPl",
        "outputId": "d2ad063b-23d3-41f2-dd68-cda4a515dd3f"
      },
      "source": [
        "type(df_alunos_aprovados_group[semestre])"
      ],
      "execution_count": 242,
      "outputs": [
        {
          "output_type": "execute_result",
          "data": {
            "text/plain": [
              "pandas.core.series.Series"
            ]
          },
          "metadata": {
            "tags": []
          },
          "execution_count": 242
        }
      ]
    },
    {
      "cell_type": "markdown",
      "metadata": {
        "id": "BJtR48vefNjA"
      },
      "source": [
        "Além disso, os nomes das Series resultantes foram:"
      ]
    },
    {
      "cell_type": "code",
      "metadata": {
        "colab": {
          "base_uri": "https://localhost:8080/"
        },
        "id": "tO9-lP5FfecF",
        "outputId": "f6e90b11-d493-48c7-964e-e24e4f8f96b1"
      },
      "source": [
        "print(df_alunos_aprovados_group[semestre].name)\n",
        "print(df_alunos_reprovados_group[semestre].name)"
      ],
      "execution_count": 243,
      "outputs": [
        {
          "output_type": "stream",
          "text": [
            "discente\n",
            "discente\n"
          ],
          "name": "stdout"
        }
      ]
    },
    {
      "cell_type": "markdown",
      "metadata": {
        "id": "hCGZTao6fno8"
      },
      "source": [
        "O fato do nome das Series resultantes serem os mesmos é um problema, visto que elas serão agrupadas para gerar o dataframe desejado. Para resolver o problema o nome das Series foi alterado da seguinte forma:"
      ]
    },
    {
      "cell_type": "code",
      "metadata": {
        "id": "08KDFlsngK8I"
      },
      "source": [
        "aprovados_name = \"aprovados\"\n",
        "serie_aprovados = rename_dict_series(df_alunos_aprovados_group.copy(), aprovados_name,semestres)\n",
        "\n",
        "reprovados_name = \"reprovados\"\n",
        "serie_reprovados = rename_dict_series(df_alunos_reprovados_group.copy(), reprovados_name,semestres)"
      ],
      "execution_count": 244,
      "outputs": []
    },
    {
      "cell_type": "markdown",
      "metadata": {
        "id": "kv4WOEpNgTm7"
      },
      "source": [
        "O nome das Series agora estão conforme o desejado."
      ]
    },
    {
      "cell_type": "code",
      "metadata": {
        "colab": {
          "base_uri": "https://localhost:8080/"
        },
        "id": "jt99ItMpgfXC",
        "outputId": "43017a7a-232b-48a4-9562-b0e3dd365010"
      },
      "source": [
        "print(serie_aprovados[semestre].name)\n",
        "print(serie_reprovados[semestre].name)"
      ],
      "execution_count": 245,
      "outputs": [
        {
          "output_type": "stream",
          "text": [
            "aprovados\n",
            "reprovados\n"
          ],
          "name": "stdout"
        }
      ]
    },
    {
      "cell_type": "markdown",
      "metadata": {
        "id": "ypr9y-fRgnUp"
      },
      "source": [
        "Por fim foi realizado o agrupamento das Series MultIndexadas contendo os subconjutos de discentes aprovados e reprovados a partir do código abaixo:"
      ]
    },
    {
      "cell_type": "code",
      "metadata": {
        "id": "Z5CIQb7Hg9eL"
      },
      "source": [
        "df_final = merge_dict_series(serie_aprovados.copy(), serie_reprovados.copy(), semestres)"
      ],
      "execution_count": 246,
      "outputs": []
    },
    {
      "cell_type": "markdown",
      "metadata": {
        "id": "E_sP-uHmhBdE"
      },
      "source": [
        "Ao realizar uma inspeção dos valores nas colunas *aprovados* e *reprovados* é possível notar que alguns dos dados estão faltando, isso decorre do fato de existirem turmas cujos discentes foram todos reprovados ou todos aprovados. Isso é comprovado a partir do seguinte trecho de código:"
      ]
    },
    {
      "cell_type": "code",
      "metadata": {
        "colab": {
          "base_uri": "https://localhost:8080/"
        },
        "id": "hjViuLSuhi5s",
        "outputId": "7a6c9345-c194-4713-f136-1606790e9630"
      },
      "source": [
        "print(\"Quantidade de dados faltantes na coluna aprovados: \",df_final[semestre]['aprovados'].isnull().sum())\n",
        "print(\"Quantidade de dados faltantes na coluna reprovados: \",df_final[semestre]['reprovados'].isnull().sum())\n"
      ],
      "execution_count": 247,
      "outputs": [
        {
          "output_type": "stream",
          "text": [
            "Quantidade de dados faltantes na coluna aprovados:  19\n",
            "Quantidade de dados faltantes na coluna reprovados:  3703\n"
          ],
          "name": "stdout"
        }
      ]
    },
    {
      "cell_type": "markdown",
      "metadata": {
        "id": "MkP5umjCiDD9"
      },
      "source": [
        "Algo interessante a notar é que a quantidade de turmas em que todos os discentes são aprovados é bem maior que a quantidade de turmas em que todos os discentes são reprovados. No entanto para prosseguir com a análise desejada é necessário preencher os valores não-preenchidos com zeros para que eles não atrapalhem na contagem dos valores absolutos de discentes aprovados e reprovados. Isso é resolvido através do seguinte código:"
      ]
    },
    {
      "cell_type": "code",
      "metadata": {
        "id": "1MQhKwGgioqu"
      },
      "source": [
        "df_final = fillna_dict_dataframe(df_final.copy(), semestres)\n"
      ],
      "execution_count": 248,
      "outputs": []
    },
    {
      "cell_type": "markdown",
      "metadata": {
        "id": "ItqUd3XxiuA0"
      },
      "source": [
        "Como pode ser visto, não há mais dados faltantes no dataframe desejado."
      ]
    },
    {
      "cell_type": "code",
      "metadata": {
        "colab": {
          "base_uri": "https://localhost:8080/"
        },
        "id": "CuGoz02Ri0b2",
        "outputId": "f8071291-2724-4517-f735-c88db61f7d4d"
      },
      "source": [
        "print(\"Quantidade de dados faltantes na coluna aprovados: \",df_final[semestre]['aprovados'].isnull().sum())\n",
        "print(\"Quantidade de dados faltantes na coluna reprovados: \",df_final[semestre]['reprovados'].isnull().sum())"
      ],
      "execution_count": 249,
      "outputs": [
        {
          "output_type": "stream",
          "text": [
            "Quantidade de dados faltantes na coluna aprovados:  0\n",
            "Quantidade de dados faltantes na coluna reprovados:  0\n"
          ],
          "name": "stdout"
        }
      ]
    },
    {
      "cell_type": "markdown",
      "metadata": {
        "id": "3OLngpMUjIVp"
      },
      "source": [
        "Para garantir a possibilidade de visualização de dados percentualmente é interessante adicionar uma coluna extra no dataframe desejado contendo a soma dos discentes reprovados e aprovados em cada turma para obter dessa forma o número total de discentes por turma. Isso foi feito da seguinte forma:"
      ]
    },
    {
      "cell_type": "code",
      "metadata": {
        "id": "UM9kZOOxjlz9"
      },
      "source": [
        "df_final = add_column_sum(df_final.copy(), 'total_alunos', semestres)"
      ],
      "execution_count": 250,
      "outputs": []
    },
    {
      "cell_type": "markdown",
      "metadata": {
        "id": "xX1Gqxhhjnzh"
      },
      "source": [
        "Portanto, o dataframe desejado ficou da seguinte forma:"
      ]
    },
    {
      "cell_type": "code",
      "metadata": {
        "colab": {
          "base_uri": "https://localhost:8080/",
          "height": 0
        },
        "id": "DakEXdq4juiP",
        "outputId": "56d75e38-b631-4ae3-bd3c-8c4cb34de850"
      },
      "source": [
        "df_final[semestre].head()"
      ],
      "execution_count": 251,
      "outputs": [
        {
          "output_type": "execute_result",
          "data": {
            "text/html": [
              "<div>\n",
              "<style scoped>\n",
              "    .dataframe tbody tr th:only-of-type {\n",
              "        vertical-align: middle;\n",
              "    }\n",
              "\n",
              "    .dataframe tbody tr th {\n",
              "        vertical-align: top;\n",
              "    }\n",
              "\n",
              "    .dataframe thead th {\n",
              "        text-align: right;\n",
              "    }\n",
              "</style>\n",
              "<table border=\"1\" class=\"dataframe\">\n",
              "  <thead>\n",
              "    <tr style=\"text-align: right;\">\n",
              "      <th></th>\n",
              "      <th></th>\n",
              "      <th>aprovados</th>\n",
              "      <th>reprovados</th>\n",
              "      <th>total_alunos</th>\n",
              "    </tr>\n",
              "    <tr>\n",
              "      <th>nome</th>\n",
              "      <th>disciplina</th>\n",
              "      <th></th>\n",
              "      <th></th>\n",
              "      <th></th>\n",
              "    </tr>\n",
              "  </thead>\n",
              "  <tbody>\n",
              "    <tr>\n",
              "      <th rowspan=\"5\" valign=\"top\">ABRAHAO SANDERSON NUNES FERNANDES DA SILVA</th>\n",
              "      <th>DOCÊNCIA NO ENSINO SUPERIOR</th>\n",
              "      <td>14.0</td>\n",
              "      <td>0.0</td>\n",
              "      <td>14.0</td>\n",
              "    </tr>\n",
              "    <tr>\n",
              "      <th>HISTÓRIA INDÍGENA</th>\n",
              "      <td>31.0</td>\n",
              "      <td>5.0</td>\n",
              "      <td>36.0</td>\n",
              "    </tr>\n",
              "    <tr>\n",
              "      <th>LEITURAS DIRIGIDAS EM CULTURA MATERIAL, SOCIEDADE E PODER I</th>\n",
              "      <td>2.0</td>\n",
              "      <td>0.0</td>\n",
              "      <td>2.0</td>\n",
              "    </tr>\n",
              "    <tr>\n",
              "      <th>PRÉ-HISTÓRIA DO BRASIL</th>\n",
              "      <td>11.0</td>\n",
              "      <td>1.0</td>\n",
              "      <td>12.0</td>\n",
              "    </tr>\n",
              "    <tr>\n",
              "      <th>RESIDÊNCIA PEDAGÓGICA II</th>\n",
              "      <td>2.0</td>\n",
              "      <td>0.0</td>\n",
              "      <td>2.0</td>\n",
              "    </tr>\n",
              "  </tbody>\n",
              "</table>\n",
              "</div>"
            ],
            "text/plain": [
              "                                                                                               aprovados  ...  total_alunos\n",
              "nome                                       disciplina                                                     ...              \n",
              "ABRAHAO SANDERSON NUNES FERNANDES DA SILVA DOCÊNCIA NO ENSINO SUPERIOR                              14.0  ...          14.0\n",
              "                                           HISTÓRIA INDÍGENA                                        31.0  ...          36.0\n",
              "                                           LEITURAS DIRIGIDAS EM CULTURA MATERIAL, SOCIEDA...        2.0  ...           2.0\n",
              "                                           PRÉ-HISTÓRIA DO BRASIL                                   11.0  ...          12.0\n",
              "                                           RESIDÊNCIA PEDAGÓGICA II                                  2.0  ...           2.0\n",
              "\n",
              "[5 rows x 3 columns]"
            ]
          },
          "metadata": {
            "tags": []
          },
          "execution_count": 251
        }
      ]
    },
    {
      "cell_type": "markdown",
      "metadata": {
        "id": "r56KroMZmrVx"
      },
      "source": [
        "### 4.1.4. Visualização dos dados"
      ]
    },
    {
      "cell_type": "markdown",
      "metadata": {
        "id": "eblK1wIrmynH"
      },
      "source": [
        "Para a visualização dos dados a partir do dataframe desejado optou-se pela utilização da biblioteca IPyWidgets para facilitar na seleção dos parâmetros para avaliação. O código a seguir implementa essa funcionalidade"
      ]
    },
    {
      "cell_type": "code",
      "metadata": {
        "colab": {
          "base_uri": "https://localhost:8080/",
          "height": 357,
          "referenced_widgets": [
            "a5ddc367237b4328aee9d0f7e8964095",
            "8bc58b4ea7cd479487698cf39bc8dcd3",
            "d706e53abc6744c381020e9cedcc514e",
            "419fd771bd6c447095e803eb58905b09",
            "9ad9ef5d2a914d1aad100db9593a8914",
            "ad27dece6965481d8d860e37b048cde0",
            "2d22ca10701b4fbbbbfad1757fc2f647",
            "722a3798bb5f44cf95bbfc3d58fff6e1",
            "a91a17657cc7421389425be498328030",
            "c789c8b440fc4eb4a708578629b29dad",
            "63721f16977e42f4babf968909f12489",
            "4d5b39fdf9f4457e8546d73126aaa359",
            "217cf9901eb64d04892083377f04af4c",
            "b055cd9f8243449f95fb21903302cad4"
          ]
        },
        "id": "9BcX0C4JngX7",
        "outputId": "a6eb5d9d-0169-49f7-d1f8-90d1f1585d6a"
      },
      "source": [
        "def escolha_semestre_eventhandler(change):\n",
        "    semestre = widget_0.value\n",
        "    widget_1.options = list(df_final[semestre].index.levels[0].values)\n",
        "def docente_eventhandler(change):\n",
        "    semestre = widget_0.value\n",
        "    widget_2.options = df_final[semestre].loc[widget_1.value].index\n",
        "def disciplinas_eventhandler(change):\n",
        "    if change['type'] == 'change' and change['name'] == 'value':\n",
        "        for elem in change['new']:\n",
        "            if elem not in disciplinas:\n",
        "                disciplinas.append(elem)\n",
        "        for elem in disciplinas:\n",
        "            if elem not in change['new']:\n",
        "                disciplinas.remove(elem)\n",
        "\n",
        "disciplinas = []\n",
        "\n",
        "widget_0 = widgets.Dropdown(options = semestres, description = 'Semestre: ', layout=widgets.Layout(width='200px'))\n",
        "widget_1 = widgets.Dropdown(options = [], description = 'Docente: ', layout=widgets.Layout(width='400px'))\n",
        "widget_2 = widgets.SelectMultiple(options = [], description = 'Disciplina: ', layout=widgets.Layout(width='600px', height='300px'))\n",
        "\n",
        "widget_0.observe(escolha_semestre_eventhandler, names='value')\n",
        "widget_1.observe(docente_eventhandler, names='value')\n",
        "widget_2.observe(disciplinas_eventhandler)\n",
        "\n",
        "display(widgets.HTML(value = f\"<b><font color='black'><font size=5>{'Escolha as disciplinas para análise'}</b>\"))\n",
        "widgets.HBox([ widget_0, widget_1, widget_2])\n",
        "\n"
      ],
      "execution_count": 252,
      "outputs": [
        {
          "output_type": "display_data",
          "data": {
            "application/vnd.jupyter.widget-view+json": {
              "model_id": "a5ddc367237b4328aee9d0f7e8964095",
              "version_minor": 0,
              "version_major": 2
            },
            "text/plain": [
              "HTML(value=\"<b><font color='black'><font size=5>Escolha as disciplinas para análise</b>\")"
            ]
          },
          "metadata": {
            "tags": []
          }
        },
        {
          "output_type": "display_data",
          "data": {
            "application/vnd.jupyter.widget-view+json": {
              "model_id": "419fd771bd6c447095e803eb58905b09",
              "version_minor": 0,
              "version_major": 2
            },
            "text/plain": [
              "HBox(children=(Dropdown(description='Semestre: ', layout=Layout(width='200px'), options=('2018.1', '2018.2', '…"
            ]
          },
          "metadata": {
            "tags": []
          }
        }
      ]
    },
    {
      "cell_type": "markdown",
      "metadata": {
        "id": "4vEYTff3n2y8"
      },
      "source": [
        "A plotagem do Pie Chart contendo os percentuais de alunos aprovados e reprovados por turma encontra-se a seguir:"
      ]
    },
    {
      "cell_type": "code",
      "metadata": {
        "colab": {
          "base_uri": "https://localhost:8080/",
          "height": 563
        },
        "id": "BHoQw32uoCdE",
        "outputId": "1b12250e-a8d0-4bfb-e1f0-edf92ffa298a"
      },
      "source": [
        "fig, ax = plt.subplots(figsize=(6,6))\n",
        "\n",
        "semestre = widget_0.value # capturar semestre escolhido\n",
        "disciplinas = [widget_1.value, list(widget_2.value)[0]] # capturar docente selecionadas para análise\n",
        "explode = (0.1, 0.0)\n",
        "data = df_final[semestre].loc[tuple(disciplinas)][0:2]\n",
        "total = df_final[semestre].loc[tuple(disciplinas)][2]\n",
        "ax.pie(data, labels = ['Aprovados', 'Reprovados'], \n",
        "       shadow=True, startangle=180, explode = explode,\n",
        "       autopct = lambda pct: \"{:.1f}%\\n{:.0f} discentes\".format(pct, np.ceil(pct*np.float(total)/100)));\n",
        "fig.legend()\n",
        "ax.set_title('Indicativo de sucesso na disciplina');"
      ],
      "execution_count": 253,
      "outputs": [
        {
          "output_type": "display_data",
          "data": {
            "image/png": "[encoded data removed]",
            "text/plain": [
              "<Figure size 600x600 with 1 Axes>"
            ]
          },
          "metadata": {
            "tags": []
          }
        }
      ]
    },
    {
      "cell_type": "markdown",
      "metadata": {
        "id": "-DXcvIQbqad2"
      },
      "source": [
        "Outra estatística interessante de visualizar são as turmas com maior taxa de reprovação. Para fazer isso a partir do dataframe obtido após o tratamento dos dados é possível simplificá-lo desfazendo a MultIndexação da seguinte forma:"
      ]
    },
    {
      "cell_type": "code",
      "metadata": {
        "id": "X2Vg_8oOLNLy"
      },
      "source": [
        "df_extra = reset_index_dict_dataframe(df_final.copy(), semestres)"
      ],
      "execution_count": 254,
      "outputs": []
    },
    {
      "cell_type": "markdown",
      "metadata": {
        "id": "dELMnEbMLT5f"
      },
      "source": [
        "Em seguida acrescenta-se uma coluna extra ao dataframe desejado a partir da divisão dos valores das colunas **reprovados** e **total_alunos** e posterior multiplicação por 100 para obtenção do valor percentual."
      ]
    },
    {
      "cell_type": "code",
      "metadata": {
        "id": "eYY0WSxuL215"
      },
      "source": [
        "new_column = 'percentual'\n",
        "df_extra = add_column_reprovado_percent(df_extra.copy(), new_column, semestres )"
      ],
      "execution_count": 255,
      "outputs": []
    },
    {
      "cell_type": "markdown",
      "metadata": {
        "id": "Y5ZFMS8gL82j"
      },
      "source": [
        "O novo formato do dataframe passa a ser então:"
      ]
    },
    {
      "cell_type": "code",
      "metadata": {
        "colab": {
          "base_uri": "https://localhost:8080/"
        },
        "id": "3JrL_6LnMVBi",
        "outputId": "dca9fd75-ff3b-44ef-fd54-fed3a4958dc7"
      },
      "source": [
        "print(df_extra[semestre].columns.values)"
      ],
      "execution_count": 256,
      "outputs": [
        {
          "output_type": "stream",
          "text": [
            "['nome' 'disciplina' 'aprovados' 'reprovados' 'total_alunos' 'percentual']\n"
          ],
          "name": "stdout"
        }
      ]
    },
    {
      "cell_type": "markdown",
      "metadata": {
        "id": "KYDMBqJYMmiz"
      },
      "source": [
        "Para facilitar a obtenção dos registros com as maiores taxas de reprovação foi realizada uma ordenação em ordem decrescente tomando como referência a coluna **percentual** do dataframe da seguinte forma:"
      ]
    },
    {
      "cell_type": "code",
      "metadata": {
        "id": "4zN3-mRXNX7V"
      },
      "source": [
        "byColumn = 'percentual'\n",
        "df_extra = sort_decre_dict_dataframe(dict_df = df_extra.copy(), col = byColumn, iterators = semestres, ascending = False)"
      ],
      "execution_count": 257,
      "outputs": []
    },
    {
      "cell_type": "markdown",
      "metadata": {
        "id": "zj7vcyY_NcbJ"
      },
      "source": [
        "O resultado obtido até agora com o procedimento está representado abaixo:\n"
      ]
    },
    {
      "cell_type": "code",
      "metadata": {
        "colab": {
          "base_uri": "https://localhost:8080/",
          "height": 204
        },
        "id": "g6S4rHzcNoQ2",
        "outputId": "3870117f-eff3-4070-be1b-b76e3cabbc76"
      },
      "source": [
        "df_extra[semestre].head()"
      ],
      "execution_count": 258,
      "outputs": [
        {
          "output_type": "execute_result",
          "data": {
            "text/html": [
              "<div>\n",
              "<style scoped>\n",
              "    .dataframe tbody tr th:only-of-type {\n",
              "        vertical-align: middle;\n",
              "    }\n",
              "\n",
              "    .dataframe tbody tr th {\n",
              "        vertical-align: top;\n",
              "    }\n",
              "\n",
              "    .dataframe thead th {\n",
              "        text-align: right;\n",
              "    }\n",
              "</style>\n",
              "<table border=\"1\" class=\"dataframe\">\n",
              "  <thead>\n",
              "    <tr style=\"text-align: right;\">\n",
              "      <th></th>\n",
              "      <th>nome</th>\n",
              "      <th>disciplina</th>\n",
              "      <th>aprovados</th>\n",
              "      <th>reprovados</th>\n",
              "      <th>total_alunos</th>\n",
              "      <th>percentual</th>\n",
              "    </tr>\n",
              "  </thead>\n",
              "  <tbody>\n",
              "    <tr>\n",
              "      <th>1118</th>\n",
              "      <td>CAROLINA TODESCO</td>\n",
              "      <td>METODOLOGIA DE PESQUISA EM TURISMO</td>\n",
              "      <td>0.0</td>\n",
              "      <td>1.0</td>\n",
              "      <td>1.0</td>\n",
              "      <td>100.0</td>\n",
              "    </tr>\n",
              "    <tr>\n",
              "      <th>1670</th>\n",
              "      <td>EDNEY RAFAEL VIANA PINHEIRO GALVAO</td>\n",
              "      <td>TERMODINÂMICA APLICADA À ENGENHARIA DE PETRÓLEO</td>\n",
              "      <td>0.0</td>\n",
              "      <td>1.0</td>\n",
              "      <td>1.0</td>\n",
              "      <td>100.0</td>\n",
              "    </tr>\n",
              "    <tr>\n",
              "      <th>3490</th>\n",
              "      <td>JOSUE LINS E SILVA</td>\n",
              "      <td>ESTÁGIO SUPERVISIONADO EM CONTABILIDADE</td>\n",
              "      <td>0.0</td>\n",
              "      <td>2.0</td>\n",
              "      <td>2.0</td>\n",
              "      <td>100.0</td>\n",
              "    </tr>\n",
              "    <tr>\n",
              "      <th>6476</th>\n",
              "      <td>VALDEMIR PRAXEDES DA SILVA NETO</td>\n",
              "      <td>PROJETO DE PESQUISA II</td>\n",
              "      <td>0.0</td>\n",
              "      <td>1.0</td>\n",
              "      <td>1.0</td>\n",
              "      <td>100.0</td>\n",
              "    </tr>\n",
              "    <tr>\n",
              "      <th>1822</th>\n",
              "      <td>ELKE BEATRIZ RIEDEL</td>\n",
              "      <td>CANTO II</td>\n",
              "      <td>0.0</td>\n",
              "      <td>1.0</td>\n",
              "      <td>1.0</td>\n",
              "      <td>100.0</td>\n",
              "    </tr>\n",
              "  </tbody>\n",
              "</table>\n",
              "</div>"
            ],
            "text/plain": [
              "                                    nome  ... percentual\n",
              "1118                    CAROLINA TODESCO  ...      100.0\n",
              "1670  EDNEY RAFAEL VIANA PINHEIRO GALVAO  ...      100.0\n",
              "3490                  JOSUE LINS E SILVA  ...      100.0\n",
              "6476     VALDEMIR PRAXEDES DA SILVA NETO  ...      100.0\n",
              "1822                 ELKE BEATRIZ RIEDEL  ...      100.0\n",
              "\n",
              "[5 rows x 6 columns]"
            ]
          },
          "metadata": {
            "tags": []
          },
          "execution_count": 258
        }
      ]
    },
    {
      "cell_type": "markdown",
      "metadata": {
        "id": "NI5_k-KgNt7q"
      },
      "source": [
        "A partir da análise do dataframe percebe-se que as turmas com maior percentual de reprovação também possuem uma quantidade ínfima de discentes matriculados, de forma a aumentar muito o peso de uma reprovação em termos absolutos. Além disso as disciplinas de interesse para análise de viabilidade dos melhores horários para plantões de monitoria são as disciplinas mais tradicionais e que comportam vários discentes. \n",
        "\n",
        "Para obtenção desses dados mais interessantes, definiu-se um limite inferior de 10 discentes matriculados por disciplina para verificação da taxa de reprovação. Para isso foi realizada uma filtragem dos dados conforme o código abaixo:"
      ]
    },
    {
      "cell_type": "code",
      "metadata": {
        "id": "WZntsp2ZP3cv"
      },
      "source": [
        "logic_filter = {'2018.1': pd.Series(dtype=np.bool), '2018.2' : pd.Series(dtype= np.bool), '2019.1': pd.Series(dtype=np.bool), '2019.2': pd.Series(dtype= np.bool)}\n",
        "\n",
        "for semestre in semestres:\n",
        "  logic_filter[semestre] = (df_extra[semestre].total_alunos >10 ) \n",
        "\n",
        "df_extra = logic_filter_dict_dataframe(df_extra.copy(), logic_filter, semestres )"
      ],
      "execution_count": 259,
      "outputs": []
    },
    {
      "cell_type": "markdown",
      "metadata": {
        "id": "l_-Th9YkQAG7"
      },
      "source": [
        "O resultado obtido com essa filtragem está representado abaixo:"
      ]
    },
    {
      "cell_type": "code",
      "metadata": {
        "colab": {
          "base_uri": "https://localhost:8080/",
          "height": 204
        },
        "id": "YHCwHplaqxWF",
        "outputId": "0c0a857d-040d-4250-f283-f6cd0e3c5615"
      },
      "source": [
        "df_extra[semestre].head() \n"
      ],
      "execution_count": 260,
      "outputs": [
        {
          "output_type": "execute_result",
          "data": {
            "text/html": [
              "<div>\n",
              "<style scoped>\n",
              "    .dataframe tbody tr th:only-of-type {\n",
              "        vertical-align: middle;\n",
              "    }\n",
              "\n",
              "    .dataframe tbody tr th {\n",
              "        vertical-align: top;\n",
              "    }\n",
              "\n",
              "    .dataframe thead th {\n",
              "        text-align: right;\n",
              "    }\n",
              "</style>\n",
              "<table border=\"1\" class=\"dataframe\">\n",
              "  <thead>\n",
              "    <tr style=\"text-align: right;\">\n",
              "      <th></th>\n",
              "      <th>nome</th>\n",
              "      <th>disciplina</th>\n",
              "      <th>aprovados</th>\n",
              "      <th>reprovados</th>\n",
              "      <th>total_alunos</th>\n",
              "      <th>percentual</th>\n",
              "    </tr>\n",
              "  </thead>\n",
              "  <tbody>\n",
              "    <tr>\n",
              "      <th>939</th>\n",
              "      <td>BRUNO DOS SANTOS GOIS</td>\n",
              "      <td>CALCULO DIFERENCIAL E INTEGRAL I</td>\n",
              "      <td>0.0</td>\n",
              "      <td>11.0</td>\n",
              "      <td>11.0</td>\n",
              "      <td>100.000000</td>\n",
              "    </tr>\n",
              "    <tr>\n",
              "      <th>1834</th>\n",
              "      <td>EMANUELE ORAZI</td>\n",
              "      <td>CÁLCULO I</td>\n",
              "      <td>14.0</td>\n",
              "      <td>163.0</td>\n",
              "      <td>177.0</td>\n",
              "      <td>92.090395</td>\n",
              "    </tr>\n",
              "    <tr>\n",
              "      <th>5245</th>\n",
              "      <td>PAULO DANTAS SESION JUNIOR</td>\n",
              "      <td>VETORES E GEOMETRIA ANALÍTICA</td>\n",
              "      <td>17.0</td>\n",
              "      <td>196.0</td>\n",
              "      <td>213.0</td>\n",
              "      <td>92.018779</td>\n",
              "    </tr>\n",
              "    <tr>\n",
              "      <th>5842</th>\n",
              "      <td>RONALDO CARLOTTO BATISTA</td>\n",
              "      <td>VETORES E GEOMETRIA ANALÍTICA</td>\n",
              "      <td>12.0</td>\n",
              "      <td>108.0</td>\n",
              "      <td>120.0</td>\n",
              "      <td>90.000000</td>\n",
              "    </tr>\n",
              "    <tr>\n",
              "      <th>3875</th>\n",
              "      <td>LEANDRO IBIAPINA BEVILAQUA</td>\n",
              "      <td>PRÉ-CÁLCULO</td>\n",
              "      <td>28.0</td>\n",
              "      <td>174.0</td>\n",
              "      <td>202.0</td>\n",
              "      <td>86.138614</td>\n",
              "    </tr>\n",
              "  </tbody>\n",
              "</table>\n",
              "</div>"
            ],
            "text/plain": [
              "                            nome  ...  percentual\n",
              "939        BRUNO DOS SANTOS GOIS  ...  100.000000\n",
              "1834              EMANUELE ORAZI  ...   92.090395\n",
              "5245  PAULO DANTAS SESION JUNIOR  ...   92.018779\n",
              "5842    RONALDO CARLOTTO BATISTA  ...   90.000000\n",
              "3875  LEANDRO IBIAPINA BEVILAQUA  ...   86.138614\n",
              "\n",
              "[5 rows x 6 columns]"
            ]
          },
          "metadata": {
            "tags": []
          },
          "execution_count": 260
        }
      ]
    },
    {
      "cell_type": "markdown",
      "metadata": {
        "id": "dbhphZuCMgDZ"
      },
      "source": [
        "Uma forma de visualizar as disciplinas com a maior taxa de reprovação pode ser feita por meio de um gráfico de barras horizontal, no qual o comprimento de cada barra indica a porcentagem de reprovação em relação ao total de discentes com o nome da discplina ao lado. A plotagem do gráfico foi feita conforme o trecho de código abaixo:"
      ]
    },
    {
      "cell_type": "code",
      "metadata": {
        "colab": {
          "base_uri": "https://localhost:8080/",
          "height": 480
        },
        "id": "rLhPSc--7WW4",
        "outputId": "463dab9c-b4c4-405d-e248-df7a414f7fbc"
      },
      "source": [
        "tam = 5\n",
        "fig, ax = plt.subplots()\n",
        "labels = df_extra[semestre]['disciplina'].iloc[0:tam]\n",
        "data = df_extra[semestre]['percentual'].iloc[0:tam]\n",
        "ax.barh(y=labels ,width= data, align='center', color = 'r')\n",
        "ax.invert_yaxis()\n",
        "ax.set_xlabel('Taxa de reprovação')\n",
        "ax.set_ylabel('Disciplina')\n",
        "ax.set_title('Disciplinas com maior taxa de reprovação em 2019.2')\n",
        "rects = ax.patches\n",
        "itr = 0\n",
        "for rect, label in zip(rects, data):\n",
        "  if(itr > tam -2):\n",
        "    break\n",
        "  ax.text(rect.get_x() + rect.get_width() -10 , itr, str(np.round(label,2))+'%', ha='center', va='center', color='white')\n",
        "  itr += 1   \n",
        "plt.show()"
      ],
      "execution_count": 261,
      "outputs": [
        {
          "output_type": "display_data",
          "data": {
            "image/png": "[encoded data removed]",
            "text/plain": [
              "<Figure size 640x480 with 1 Axes>"
            ]
          },
          "metadata": {
            "tags": []
          }
        }
      ]
    },
    {
      "cell_type": "markdown",
      "metadata": {
        "id": "7mm-apKWa9Wk"
      },
      "source": [
        "## 4.2. Procedimento de seleção de horários para monitoria"
      ]
    },
    {
      "cell_type": "markdown",
      "metadata": {
        "id": "Xt-2-JRtheWb"
      },
      "source": [
        "### 4.2.1. Tratamento e limpeza dos dados"
      ]
    },
    {
      "cell_type": "markdown",
      "metadata": {
        "id": "3E1GRYxr5uqx"
      },
      "source": [
        "A primeira parte da limpeza e imediatamente após a importação é filtrar as colunas para o *dataframe* comportar apenas àquelas necessárias para a análise.\n",
        "\n",
        "A coluna **siape** deve possuir apenas valores válidos. No caso de valor *NaN*, estes não podem ser imputados, pois são de origem única e não interpoláveis, portando estes serão descartados com o método **.dropna** do Pandas.\n",
        "\n",
        "Outra limpeza necessária é remover os discentes que aparecem triplicados em cada matéria a qual ele está matriculado. Isso pois o *dataset* de matrículas mantém registros em linhas para cada unidade do discente.\n",
        "\n",
        "Como mais a frente serão contabilizados os horários das disciplinas, a coluna **descricao_horario** deve possuir apenas valores válidos. No caso de valor *NaN*, estes não podem ser imputados, pois são de origem única e não interpoláveis, portando estes serão descartados com o método **.dropna** do Pandas."
      ]
    },
    {
      "cell_type": "code",
      "metadata": {
        "id": "3w38lNG2bNgW"
      },
      "source": [
        "df_turmas['2018.1'] = load_dataframe('turmas-2018.1.csv')\n",
        "df_turmas['2018.2'] = load_dataframe('turmas-2018.2.csv')\n",
        "df_turmas['2019.1'] = load_dataframe('turmas-2019.1.csv')\n",
        "df_turmas['2019.2'] = load_dataframe('turmas-2019.2.csv')\n",
        "df_componentes = load_dataframe('componentes-curriculares-presenciais.csv')"
      ],
      "execution_count": 262,
      "outputs": []
    },
    {
      "cell_type": "code",
      "metadata": {
        "id": "aiPqh6ix5qLW"
      },
      "source": [
        "semestres = list(df_turmas.keys())\n",
        "colunas_turmas = ['id_turma', 'id_componente_curricular', 'descricao_horario']\n",
        "colunas_componentes = ['id_componente', 'unidade_responsavel', 'nome']\n",
        "\n",
        "for semestre in semestres:\n",
        "  df_turmas[semestre] = df_turmas[semestre].filter(colunas_turmas).reset_index() # manter colunas essenciais\n",
        "  df_turmas[semestre] = df_turmas[semestre].dropna(subset=['descricao_horario']) # descricao_horario deve ser não nula, qualquer entrada NaN deve ser descartada                   \n"
      ],
      "execution_count": 263,
      "outputs": []
    },
    {
      "cell_type": "markdown",
      "metadata": {
        "id": "iu7FlEdKh23a"
      },
      "source": [
        "### 4.2.2. Análise dos dados"
      ]
    },
    {
      "cell_type": "markdown",
      "metadata": {
        "id": "pmyc4EdoiEXD"
      },
      "source": [
        "A etapa da análise de dados pode ser dividida em alguns tópicos, estes são:\n",
        "\n",
        "1. Identificar quais **componentes curriculares** possuem **turmas abertas** em cada semestre;\n",
        "2. Realizar a escolha das **disciplinas** que terão o melhor horário para monitoria definido;\n",
        "3. Localizar todos os discentes matriculados nessas turmas e todas as turmas que os discentes estão matriculados; \n",
        "4. Contabilizar melhores horários para monitoria com base nos horários com maior probabilidade dos discentes estarem livres. \n",
        "\n"
      ]
    },
    {
      "cell_type": "markdown",
      "metadata": {
        "id": "4zjNmt1gjUGd"
      },
      "source": [
        "#### 4.2.2.1. Componentes curriculares com turmas abertas"
      ]
    },
    {
      "cell_type": "markdown",
      "metadata": {
        "id": "AD9ULMw6jhO9"
      },
      "source": [
        "As componentes curriculares com turmas ativas serão aquelas do *dataframe* das **Componentes Curriculares Presenciais** que possuem a coluna **id_componente** igual a coluna **id_componente_curricular** dos *dataframes* de **Turmas**. \n",
        "\n",
        "Assim será incorporado aos *dataframes* **Turmas** as colunas adicionais **nome** e **unidade_responsavel**, permitindo a correta identificação de cada turma. Para isso será utilizado um *inner merge* entre os *dataframes* supracitados com base nas colunas que possuem o ID da componente curricular. \n",
        "\n",
        "Após a mesclagem a coluna de **id_componente** não terá mais utilidade, podendo assim ser descartada. \n",
        "\n",
        "Ao final da célula há um exemplo de como um dos *dataframes* ficaram."
      ]
    },
    {
      "cell_type": "code",
      "metadata": {
        "id": "vLj7F7WplH_-"
      },
      "source": [
        "columns_to_drop = ['id_componente_curricular', 'id_componente']\n",
        "for semestre in semestres: \n",
        "  df_turmas[semestre] = pd.merge(df_turmas[semestre], df_componentes, \n",
        "                                 how='inner', left_on='id_componente_curricular',\n",
        "                                 right_on='id_componente').drop(columns_to_drop, axis=1) # nomeando turmas com base na sua ID de componente curricular\n",
        "  df_turmas[semestre] = df_turmas[semestre].rename(columns= {'nome': 'disciplina'}, inplace=False) # renomear coluna para que fique claro o nome da disciplina\n",
        " "
      ],
      "execution_count": 264,
      "outputs": []
    },
    {
      "cell_type": "markdown",
      "metadata": {
        "id": "-AVVI_Xyl5bm"
      },
      "source": [
        "#### 4.2.2.2. Escolha das disciplinas a serem analisadas"
      ]
    },
    {
      "cell_type": "markdown",
      "metadata": {
        "id": "-0RX_Lq5o034"
      },
      "source": [
        "A escolha da disciplina se dará por meio de **Widgets** da biblioteca *ipywidgets*. Estes permitirão que a unidade responsável pela turma seja selecionada, assim reduzindo a quantidade de escolhas de disciplinas.\n",
        "\n",
        "A análise de agora em diante deve ser feita por semestres. Portanto haverá um widget para definir o semestre de escolha entre os semestres disponíveis."
      ]
    },
    {
      "cell_type": "code",
      "metadata": {
        "colab": {
          "base_uri": "https://localhost:8080/",
          "height": 372,
          "referenced_widgets": [
            "121e485b13024d269256929154796462",
            "7aee7530aa6f4dd9ab947a9bfaa12c88",
            "c92530e799364348910a9feafd8f62ae",
            "696cf72196fa4eaa9a7e584d0df0640d",
            "c579778559bc415d97211b6d00fd689a",
            "ee073cd20e874d84b8393720abb0c2b3",
            "0940cb2d1d384ed1915440d29eb5dde9",
            "ca99fba5b30d4dda85a8519b536d6787",
            "7370abca484e4278bab90f7541178030",
            "5b61f3451e74423191fa156ea0d9b720",
            "7847906fca574515911af47b7ad00717",
            "d939863ca5eb4d3eb47750182fde557a",
            "1cc6f5a8bd92492b9ed3ecfa4fe117a5",
            "1843afabcef34de69d420d96ee335e5d"
          ]
        },
        "id": "TKBDFCempnFi",
        "outputId": "33f46315-586b-4f63-e9bf-20704c31d76a"
      },
      "source": [
        "def escolha_semestre_eventhandler(change):\n",
        "    semestre = widget_0.value\n",
        "    widget_1.options = df_turmas[semestre]['unidade_responsavel'].sort_values().unique()\n",
        "def unidade_responsavel_eventhandler(change):\n",
        "    semestre = widget_0.value\n",
        "    widget_2.options = df_turmas[semestre]['disciplina'][df_turmas[semestre]['unidade_responsavel']==widget_1.value].sort_values().unique()\n",
        "def disciplinas_eventhandler(change):\n",
        "    if change['type'] == 'change' and change['name'] == 'value':\n",
        "        for elem in change['new']:\n",
        "            if elem not in disciplinas:\n",
        "                disciplinas.append(elem)\n",
        "        for elem in disciplinas:\n",
        "            if elem not in change['new']:\n",
        "                disciplinas.remove(elem)\n",
        "\n",
        "disciplinas = []\n",
        "\n",
        "widget_0 = widgets.Dropdown(options = semestres, description = 'Semestre: ', layout=widgets.Layout(width='200px'))\n",
        "widget_1 = widgets.Dropdown(options = [], description = 'Unidade: ', layout=widgets.Layout(width='400px'))\n",
        "widget_2 = widgets.SelectMultiple(options = [], description = 'Disciplina: ', layout=widgets.Layout(width='600px', height='300px'))\n",
        "\n",
        "widget_0.observe(escolha_semestre_eventhandler, names='value')\n",
        "widget_1.observe(unidade_responsavel_eventhandler, names='value')\n",
        "widget_2.observe(disciplinas_eventhandler)\n",
        "\n",
        "display(widgets.HTML(value = f\"<b><font color='black'><font size=5>{'Escolha as disciplinas para análise'}</b>\"))\n",
        "widgets.HBox([ widget_0, widget_1, widget_2])"
      ],
      "execution_count": 265,
      "outputs": [
        {
          "output_type": "display_data",
          "data": {
            "application/vnd.jupyter.widget-view+json": {
              "model_id": "121e485b13024d269256929154796462",
              "version_minor": 0,
              "version_major": 2
            },
            "text/plain": [
              "HTML(value=\"<b><font color='black'><font size=5>Escolha as disciplinas para análise</b>\")"
            ]
          },
          "metadata": {
            "tags": []
          }
        },
        {
          "output_type": "display_data",
          "data": {
            "application/vnd.jupyter.widget-view+json": {
              "model_id": "696cf72196fa4eaa9a7e584d0df0640d",
              "version_minor": 0,
              "version_major": 2
            },
            "text/plain": [
              "HBox(children=(Dropdown(description='Semestre: ', layout=Layout(width='200px'), options=('2018.1', '2018.2', '…"
            ]
          },
          "metadata": {
            "tags": []
          }
        }
      ]
    },
    {
      "cell_type": "markdown",
      "metadata": {
        "id": "50TYTWMidu26"
      },
      "source": [
        "A célula abaixo permitirá salvar os valores importantes escolhidos nos *widgets* anteriores. Portanto, estes serão o **semestre** em análise e uma lista de **disciplinas** que consistem na componente curricular candidata a classificação do melhor horário de monitoria."
      ]
    },
    {
      "cell_type": "code",
      "metadata": {
        "id": "hg0TJGHtrImX"
      },
      "source": [
        "semestre = widget_0.value # capturar semestre escolhido\n",
        "disciplinas = list(widget_2.value) # capturar disciplinas selecionadas para análise"
      ],
      "execution_count": 266,
      "outputs": []
    },
    {
      "cell_type": "markdown",
      "metadata": {
        "id": "5g5fHatLugh9"
      },
      "source": [
        "#### 4.2.2.3. Localizar discentes matriculados nas disciplinas selecionadas"
      ]
    },
    {
      "cell_type": "markdown",
      "metadata": {
        "id": "3p-LsagBulXB"
      },
      "source": [
        "Após escolher a/as disciplina/as de interesse, o próximo passo é identificar quantos e quais discentes estão matriculados nelas. \n",
        "\n",
        "O trecho abaixo permitirá localizar os *id_turma* de todas as turmas cujos nomes coincidam com os nomes das disciplinas selecionadas:\n",
        "\n",
        "```\n",
        "id_turmas_selecionadas = list(df_turmas[semestre][df_turmas[semestre]['nome'].isin(disciplinas)]['id_turma'])\n",
        "```\n",
        "\n",
        "Em seguida os discentes que estão matriculados nessas turmas serão listados (extraindo valores únicos). Estes discentes serão fundamentais para a análise, pois será a partir das turmas que eles estão matriculados que será levantada uma taxa de ocupação dos horários.\n",
        "\n",
        "```\n",
        "discentes_selecionados = df_matriculas[semestre][df_matriculas[semestre]['id_turma'].isin(id_turmas_selecionadas)]['discente'].unique() \n",
        "```\n",
        "\n",
        "Por fim os identificadores de todas as turmas cujos discentes selecionados estão matriculados serão listadas (extraindo valores únicos). Juntamente com a identificação das turmas, também será levantado um peso para cada turma que indica quantos dos discentes anteriormente escolhidos estão matriculados. \n",
        "\n",
        "\n",
        "```\n",
        "turmas_discentes_selecionados = df_matriculas[semestre][df_matriculas[semestre]['discente'].isin(discentes_selecionados)].drop(columns=['index']).drop_duplicates().groupby(['id_turma'])['discente'].describe()[['count']].reset_index()\n",
        "```\n",
        "\n"
      ]
    },
    {
      "cell_type": "code",
      "metadata": {
        "id": "PoAy7StAuzJE",
        "colab": {
          "base_uri": "https://localhost:8080/",
          "height": 419
        },
        "outputId": "6d2adbc2-4fe7-4080-8abc-b2994f4cbc90"
      },
      "source": [
        "id_turmas_selecionadas = list(df_turmas[semestre][df_turmas[semestre]['disciplina'].isin(disciplinas)]['id_turma']) # id das turmas referentes às disciplinas selecionadas\n",
        "discentes_selecionados = df_matriculas[semestre][df_matriculas[semestre].id_turma.isin(id_turmas_selecionadas)]['discente'].unique() # discentes que estão matriculados nas turmas buscadas\n",
        "total_discentes_selecionados = discentes_selecionados.size # quantidade de discentes_selecionados \n",
        "turmas_discentes_selecionados = df_matriculas[semestre][df_matriculas[semestre]['discente'].isin(discentes_selecionados)].drop_duplicates().groupby(['id_turma'])['discente'].describe()[['count']].reset_index() # todas as turmas que os discentes selecionados estão matriculados\n",
        "turmas_discentes_selecionados[turmas_discentes_selecionados['count']>=10]"
      ],
      "execution_count": 267,
      "outputs": [
        {
          "output_type": "execute_result",
          "data": {
            "text/html": [
              "<div>\n",
              "<style scoped>\n",
              "    .dataframe tbody tr th:only-of-type {\n",
              "        vertical-align: middle;\n",
              "    }\n",
              "\n",
              "    .dataframe tbody tr th {\n",
              "        vertical-align: top;\n",
              "    }\n",
              "\n",
              "    .dataframe thead th {\n",
              "        text-align: right;\n",
              "    }\n",
              "</style>\n",
              "<table border=\"1\" class=\"dataframe\">\n",
              "  <thead>\n",
              "    <tr style=\"text-align: right;\">\n",
              "      <th></th>\n",
              "      <th>id_turma</th>\n",
              "      <th>count</th>\n",
              "    </tr>\n",
              "  </thead>\n",
              "  <tbody>\n",
              "    <tr>\n",
              "      <th>0</th>\n",
              "      <td>57643608</td>\n",
              "      <td>29</td>\n",
              "    </tr>\n",
              "    <tr>\n",
              "      <th>3</th>\n",
              "      <td>57643653</td>\n",
              "      <td>18</td>\n",
              "    </tr>\n",
              "    <tr>\n",
              "      <th>4</th>\n",
              "      <td>57643654</td>\n",
              "      <td>19</td>\n",
              "    </tr>\n",
              "    <tr>\n",
              "      <th>5</th>\n",
              "      <td>57643655</td>\n",
              "      <td>25</td>\n",
              "    </tr>\n",
              "    <tr>\n",
              "      <th>27</th>\n",
              "      <td>57644662</td>\n",
              "      <td>29</td>\n",
              "    </tr>\n",
              "    <tr>\n",
              "      <th>...</th>\n",
              "      <td>...</td>\n",
              "      <td>...</td>\n",
              "    </tr>\n",
              "    <tr>\n",
              "      <th>250</th>\n",
              "      <td>57650237</td>\n",
              "      <td>16</td>\n",
              "    </tr>\n",
              "    <tr>\n",
              "      <th>251</th>\n",
              "      <td>57650246</td>\n",
              "      <td>15</td>\n",
              "    </tr>\n",
              "    <tr>\n",
              "      <th>252</th>\n",
              "      <td>57650247</td>\n",
              "      <td>10</td>\n",
              "    </tr>\n",
              "    <tr>\n",
              "      <th>257</th>\n",
              "      <td>57650452</td>\n",
              "      <td>21</td>\n",
              "    </tr>\n",
              "    <tr>\n",
              "      <th>265</th>\n",
              "      <td>57651791</td>\n",
              "      <td>14</td>\n",
              "    </tr>\n",
              "  </tbody>\n",
              "</table>\n",
              "<p>66 rows × 2 columns</p>\n",
              "</div>"
            ],
            "text/plain": [
              "     id_turma count\n",
              "0    57643608    29\n",
              "3    57643653    18\n",
              "4    57643654    19\n",
              "5    57643655    25\n",
              "27   57644662    29\n",
              "..        ...   ...\n",
              "250  57650237    16\n",
              "251  57650246    15\n",
              "252  57650247    10\n",
              "257  57650452    21\n",
              "265  57651791    14\n",
              "\n",
              "[66 rows x 2 columns]"
            ]
          },
          "metadata": {
            "tags": []
          },
          "execution_count": 267
        }
      ]
    },
    {
      "cell_type": "markdown",
      "metadata": {
        "id": "E9izdjq-1VDN"
      },
      "source": [
        "#### 4.2.2.4. Filtrar os melhores horários para a monitoria"
      ]
    },
    {
      "cell_type": "markdown",
      "metadata": {
        "id": "x9MGzeh31Y3N"
      },
      "source": [
        "Uma vez que os identificadores de todas as turmas que os discentes estão matriculados estão acessíveis, basta filtrar o *dataframe* de **Turmas** para encontrar os horários dessas disciplinas.\n",
        "\n",
        "Assim permitirá que dado o horário da turma multiplicado pelo peso da quantidade de discentes da disciplina escolhida para monitoria, seja identificada uma taxa de ocupação dos horários pelos discentes escolhidos.\n",
        "\n",
        "OBS: A coluna **id_turma** foi descartada, pois esta não é mais necessária para análise. "
      ]
    },
    {
      "cell_type": "code",
      "metadata": {
        "colab": {
          "base_uri": "https://localhost:8080/",
          "height": 204
        },
        "id": "SFDYUIz01uCk",
        "outputId": "46c92463-6626-4537-af14-178abc02a9e0"
      },
      "source": [
        "horarios = df_turmas[semestre][df_turmas[semestre]['id_turma'].isin(turmas_discentes_selecionados['id_turma'])][['descricao_horario','id_turma']].reset_index()\n",
        "horarios = horarios.join(turmas_discentes_selecionados.set_index('id_turma'),on='id_turma').drop(columns=['index', 'id_turma']).rename(columns={\"count\": \"peso\"})\n",
        "horarios.head()"
      ],
      "execution_count": 268,
      "outputs": [
        {
          "output_type": "execute_result",
          "data": {
            "text/html": [
              "<div>\n",
              "<style scoped>\n",
              "    .dataframe tbody tr th:only-of-type {\n",
              "        vertical-align: middle;\n",
              "    }\n",
              "\n",
              "    .dataframe tbody tr th {\n",
              "        vertical-align: top;\n",
              "    }\n",
              "\n",
              "    .dataframe thead th {\n",
              "        text-align: right;\n",
              "    }\n",
              "</style>\n",
              "<table border=\"1\" class=\"dataframe\">\n",
              "  <thead>\n",
              "    <tr style=\"text-align: right;\">\n",
              "      <th></th>\n",
              "      <th>descricao_horario</th>\n",
              "      <th>peso</th>\n",
              "    </tr>\n",
              "  </thead>\n",
              "  <tbody>\n",
              "    <tr>\n",
              "      <th>0</th>\n",
              "      <td>35M12</td>\n",
              "      <td>29</td>\n",
              "    </tr>\n",
              "    <tr>\n",
              "      <th>1</th>\n",
              "      <td>35T56</td>\n",
              "      <td>29</td>\n",
              "    </tr>\n",
              "    <tr>\n",
              "      <th>2</th>\n",
              "      <td>46N12</td>\n",
              "      <td>30</td>\n",
              "    </tr>\n",
              "    <tr>\n",
              "      <th>3</th>\n",
              "      <td>35M456</td>\n",
              "      <td>8</td>\n",
              "    </tr>\n",
              "    <tr>\n",
              "      <th>4</th>\n",
              "      <td>4M56 6M3456</td>\n",
              "      <td>1</td>\n",
              "    </tr>\n",
              "  </tbody>\n",
              "</table>\n",
              "</div>"
            ],
            "text/plain": [
              "  descricao_horario peso\n",
              "0             35M12   29\n",
              "1             35T56   29\n",
              "2             46N12   30\n",
              "3            35M456    8\n",
              "4       4M56 6M3456    1"
            ]
          },
          "metadata": {
            "tags": []
          },
          "execution_count": 268
        }
      ]
    },
    {
      "cell_type": "markdown",
      "metadata": {
        "id": "Ch7JRdx220NT"
      },
      "source": [
        "Apesar dos horários estarem listados, o formato padrão definido pela UFRN não favorece a presente análise. Portanto foi desenvolvida uma API para converter os horários fornecidos pela UFRN, para uma matriz.\n",
        "\n",
        "A imagem abaixo mostra como os horários são dispostos em um dia:"
      ]
    },
    {
      "cell_type": "markdown",
      "metadata": {
        "id": "lQ9XxcYohVjF"
      },
      "source": [
        "![image.png](data:image/png;base64,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)"
      ]
    },
    {
      "cell_type": "markdown",
      "metadata": {
        "id": "8MrO6WRO3dGK"
      },
      "source": [
        "Se considerar que estes horários se repetem de segunda à sábado, pode-se definir uma matriz com 16 linhas (6 horários da manhã, 6 horários da tarde e 4 horários da noite) e 6 colunas (segunda, terça, quarta, quinta, sexta e sábado).\n",
        "\n",
        "Primeiro tem-se que se entender como os horários estão dispostos, abaixo alguns exemplos: \n",
        "\n",
        "- 7M12345  \n",
        "- 4T456 (22/07/2019 - 07/12/2019)\n",
        "- 6T23456 7T123456  6N12345\n",
        "\n",
        "No exemplos acima o primeiro caso se refere a uma disciplina ministrada no sábado (7) pela manhã (M) nos cinco primeiros horários (12345). Esse será o formato padrão para conversão.\n",
        "\n",
        "O outro exemplo segue um formato parecido, porém com uma data: (22/07/2019 - 07/12/2019). Não há utilidade para essa data, portanto será usado *regex* para remover qualquer *string* entre os parenthesis.\n",
        "\n",
        "O último exemplo é uma disciplina com horários divididos em três strings. Estas devem ser divididas e aplicadas o mesmo algoritmo que no primeiro caso, porém iterando as três vezes."
      ]
    },
    {
      "cell_type": "markdown",
      "metadata": {
        "id": "1ECCbhv-42xn"
      },
      "source": [
        "O trecho abaixo implementa a total conversão dos horários no formato oferecido pela UFRN em um formato mais adequado para a análise de dados."
      ]
    },
    {
      "cell_type": "code",
      "metadata": {
        "id": "RF1yro9yO_4q"
      },
      "source": [
        "def map_period_tuple(tuple_, array_):\n",
        "  # first index:  day of the week - {'2':0, '3':1, '4':2, '5':3, '6':4, '7':5}\n",
        "  # second index: shift           - {'M':M, 'T':A, 'N':N}\n",
        "  # third index:  hour            - {'1':0, '2':1, '3':2, '4':3, '5':4, '6':5}\n",
        "  list_days = []\n",
        "  list_hours = []\n",
        "  dict_shift = {'M':0, 'T':6, 'N':12} # deslocadores da linha\n",
        "  [list_days.append(int(x)-2) for x in tuple_[0]] # -2 para converter do formato 234567 para 012345\n",
        "  [list_hours.append(int(x)-1) for x in tuple_[2]] # -1 para converter do formato 123456 para 012345\n",
        "\n",
        "  for i in list_hours: # linhas com base nos horários\n",
        "    for j in list_days: # colunas com base nos dias da semana\n",
        "      try: array_[i+dict_shift[tuple_[1]]][j] = True # preencher matriz onde foi identificado um horário\n",
        "      except: pass\n",
        "  return array_\n",
        "\n",
        "def extract_numeric_period(list_):\n",
        "  M = np.zeros((6,6), dtype=np.int) # morning\n",
        "  A = np.zeros((6,6), dtype=np.int) # afternoon\n",
        "  N = np.zeros((4,6), dtype=np.int) # night\n",
        "  array_ = np.concatenate((M,A,N), axis=0)\n",
        "  for str_ in list_: # iterando sobre todos os horários disponíveis, e.g: [6T23456, 7T123456, 6N12345]\n",
        "    match = re.match(r\"([0-9]+)([a-z]+)([0-9]+)\", str_, re.I) # identificar padrão da string NúmeroLetraNúmero, separando 6T23456 em (6, T, 23456)\n",
        "    if match: array_ = map_period_tuple(match.groups(), array_) # se identificar padrão anterior, deverá converte-lo em matriz\n",
        "  return array_\n",
        "\n",
        "horarios_modificando = horarios['descricao_horario'].str.replace(\"[(@*&?].*[)@*&?]\", \"\", regex=True) # remover conteúdo entre parenthesis das strings e.g: 4T456 (22/07/2019 - 07/12/2019) -> 4T456 \n",
        "horarios_listas = horarios_modificando.str.split(' ').dropna() # dividir string '6T23456 7T123456 6N12345' em lista [6T23456, 7T123456, 6N12345]\n",
        "horarios_matrix = horarios_listas.apply(extract_numeric_period) # aplicar conversão de horário formato UFRN para matriz\n",
        "horarios_matrix_pesos = horarios_matrix*horarios['peso'] # aplicando os pesos aos horários existentes"
      ],
      "execution_count": 269,
      "outputs": []
    },
    {
      "cell_type": "markdown",
      "metadata": {
        "id": "AxHL3d0aKO0b"
      },
      "source": [
        "Finalmente o objeto *Series* armazenado em:\n",
        "\n",
        "```\n",
        "horarios_matrix_pesos\n",
        "```\n",
        "\n",
        "Armazena todas as matrizes dos horários ponderada pelos pesos escolhidos. Somando todas essas matrizes de mesma dimensão, consegue-se uma boa estimativa da taxa de ocupação dos horários dos discentes escolhidos, permitindo selecionar o horário da monitoria em momentos que haverá uma maior probabilidade de discentes que necessitam da monitoria não haverem aula.\n",
        "\n"
      ]
    },
    {
      "cell_type": "markdown",
      "metadata": {
        "id": "_V3FyszVgThW"
      },
      "source": [
        "Assim, na célula abaixo são calculados dois indicadores, que basicamente indicam a mesma coisa, um é:\n",
        "\n",
        "```\n",
        "piores_horarios_monitoria\n",
        "```\n",
        "\n",
        "Que representa a quantidade de discentes que frequentam as disciplinas escolhidas que estão atarefados com aula.\n",
        "\n",
        "Já o indicador:\n",
        "\n",
        "\n",
        "```\n",
        "melhores_horarios_monitoria\n",
        "```\n",
        "\n",
        "É o complementar do anterior, pois ele subtrai do total dos discentes que  frequentam disciplinas escolhidas os horários para cada dia, resultando em uma indicativa de quais horários possuem maior probabilidade dos discentes estarem vagos.\n"
      ]
    },
    {
      "cell_type": "code",
      "metadata": {
        "id": "a73pRhU7KpGI"
      },
      "source": [
        "total_discentes_selecionados = np.max(piores_horarios_monitoria)\n",
        "piores_horarios_monitoria = horarios_matrix_pesos.sum() # quanto maior o valor, mais discentes (dos escolhidos) estão ocupados\n",
        "melhores_horarios_monitoria = total_discentes_selecionados-piores_horarios_monitoria # quanto maior o valor, mais discentes (dos escolhidos) estão desocupados"
      ],
      "execution_count": 270,
      "outputs": []
    },
    {
      "cell_type": "markdown",
      "metadata": {
        "id": "ejQHcw6kh5E7"
      },
      "source": [
        "### 4.2.3. Visualização dos resultados"
      ]
    },
    {
      "cell_type": "markdown",
      "metadata": {
        "id": "MJVJ4KMdKwmA"
      },
      "source": [
        "A melhor forma de observar os resultados é por meio de um *heatmap* destacando o calendário dos horários durante a semana e plotando o resultado final."
      ]
    },
    {
      "cell_type": "code",
      "metadata": {
        "id": "5nXa4afAVAVO"
      },
      "source": [
        "labels_dia_semana = ['SEG','TER','QUA','QUI','SEX','SAB','']\n",
        "labels_horario = ['M1', 'M2', 'M3', 'M4', 'M5', 'M6', \n",
        "                  'T1', 'T2', 'T3', 'T4', 'T5', 'T6', \n",
        "                  'N1', 'N2', 'N3', 'N4']"
      ],
      "execution_count": 271,
      "outputs": []
    },
    {
      "cell_type": "code",
      "metadata": {
        "colab": {
          "base_uri": "https://localhost:8080/",
          "height": 433
        },
        "id": "XMoR-3F5nznQ",
        "outputId": "976e5d51-70a8-4699-fe0d-bef043897c63"
      },
      "source": [
        "sns.set(font_scale=1)\n",
        "f, heatmap = plt.subplots(figsize=(12, 32))\n",
        "heatmap = sns.heatmap(np.transpose(melhores_horarios_monitoria)/total_discentes_selecionados, annot=True, fmt=\".0%\", linewidths=.5, cmap=\"RdYlGn\", cbar=False, square=True)\n",
        "heatmap.set_yticklabels(labels_dia_semana) \n",
        "heatmap.set_xticklabels(labels_horario)\n",
        "plt.ylabel(\"Dia da semana\")\n",
        "plt.xlabel(\"Horário\") \n",
        "plt.title(\"Densidade de horários livres\");"
      ],
      "execution_count": 272,
      "outputs": [
        {
          "output_type": "display_data",
          "data": {
            "image/png": "[encoded data removed]",
            "text/plain": [
              "<Figure size 1200x3200 with 1 Axes>"
            ]
          },
          "metadata": {
            "tags": []
          }
        }
      ]
    },
    {
      "cell_type": "markdown",
      "metadata": {
        "id": "ox1oQ26qiIRz"
      },
      "source": [
        "Em alguns casos torna-se melhor excluir o sábado da visualização, pois este é um horário que geralmente não há aula presencial e não é tão recomendado para plantões de monitoria (apesar de existirem em casos excepcionais)."
      ]
    },
    {
      "cell_type": "code",
      "metadata": {
        "colab": {
          "base_uri": "https://localhost:8080/",
          "height": 379
        },
        "id": "uDhTRnWbiHoF",
        "outputId": "1b8ef14c-d16a-4d24-ded2-31d426a03908"
      },
      "source": [
        "sns.set(font_scale=1)\n",
        "f, heatmap = plt.subplots(figsize=(12, 32))\n",
        "heatmap = sns.heatmap(np.transpose(melhores_horarios_monitoria)[:-1]/total_discentes_selecionados, annot=True, fmt=\".0%\", linewidths=.5, cmap=\"RdYlGn\", cbar=False, square=True)\n",
        "heatmap.set_yticklabels(labels_dia_semana[:-1]) \n",
        "heatmap.set_xticklabels(labels_horario)\n",
        "plt.ylabel(\"Dia da semana\")\n",
        "plt.xlabel(\"Horário\") \n",
        "plt.title(\"Densidade de horários livres\");"
      ],
      "execution_count": 273,
      "outputs": [
        {
          "output_type": "display_data",
          "data": {
            "image/png": "[encoded data removed]",
            "text/plain": [
              "<Figure size 1200x3200 with 1 Axes>"
            ]
          },
          "metadata": {
            "tags": []
          }
        }
      ]
    },
    {
      "cell_type": "markdown",
      "metadata": {
        "id": "hUmtxZdch-Zd"
      },
      "source": [
        "Ainda assim, em meio a tantos horários livres e com passe livre para habilitar plantões de monitoria, resta uma decisão final. Esta decisão pode ser norteada por um gráfico de barras horizontal, que indica uma quantidade $n$ dos melhores horários para plantões."
      ]
    },
    {
      "cell_type": "markdown",
      "metadata": {
        "id": "_l5J3WUwjINt"
      },
      "source": [
        "Mas antes disso, a representação por matrizes dos horários deverá ser convertida para a representação original por meio da célula abaixo."
      ]
    },
    {
      "cell_type": "code",
      "metadata": {
        "id": "YSBuP7wnjAaF"
      },
      "source": [
        "def coordinates_to_horary(x,y):\n",
        "  day = 0\n",
        "  shift = 'A'\n",
        "  hour = 0\n",
        "  if(y>=0 and y<=5): day = y+2\n",
        "  if(x>=0 and x<=5): # M\n",
        "    shift = 'M'\n",
        "    hour = x+1\n",
        "  elif(x>=6 and x<=11): # T\n",
        "    shift = 'T'\n",
        "    hour = x+1-6\n",
        "  elif(x>=12 and x<=15): # N\n",
        "    shift = 'N'\n",
        "    hour = x+1-12\n",
        "  return str(day) + shift + str(hour)\n",
        "\n",
        "rows, columns = np.unravel_index(np.argsort(melhores_horarios_monitoria, axis=None), melhores_horarios_monitoria.shape)\n",
        "ocorrencia_por_horario = {}\n",
        "for x,y in zip(rows,columns): # vasculha todas as posições da matriz final, obtendo densidade de horarios para cada horario do dia e semana\n",
        "  if(y!=5): # exclui do ranking o SÁBADO\n",
        "    ocorrencia_por_horario[coordinates_to_horary(x,y)] = melhores_horarios_monitoria[x,y]  \n",
        "ranqueado = sorted(ocorrencia_por_horario.items(), key=lambda x: x[1], reverse=True)"
      ],
      "execution_count": 274,
      "outputs": []
    },
    {
      "cell_type": "code",
      "metadata": {
        "colab": {
          "base_uri": "https://localhost:8080/",
          "height": 481
        },
        "id": "TULu8VBDh-JY",
        "outputId": "08791c9c-4a24-469a-c7ed-ac3c73fec261"
      },
      "source": [
        "numero_de_horarios = 5\n",
        "labels = []\n",
        "data = []\n",
        "for itr in range(numero_de_horarios): \n",
        "  labels.append(ranqueado[itr][0])\n",
        "  data.append(100*ranqueado[itr][1]/total_discentes_selecionados)\n",
        "\n",
        "fig, ax = plt.subplots()\n",
        "ax.barh(y=labels, width=data, align='center', color = 'g')\n",
        "ax.invert_yaxis()\n",
        "ax.set_xlabel('Taxa de ociosidade')\n",
        "ax.set_ylabel('Horários')\n",
        "ax.set_title('Ranking horários que os discentes estão mais livres em '+ str(semestre))\n",
        "rects = ax.patches\n",
        "itr = 0\n",
        "for rect, label in zip(rects, data):\n",
        "  if(itr > numero_de_horarios -1):\n",
        "    break\n",
        "  ax.text(rect.get_x() + rect.get_width() -10 , itr, str(np.round(label,2))+'%', ha='center', va='center', color='white')\n",
        "  itr += 1   \n",
        "plt.show()"
      ],
      "execution_count": 292,
      "outputs": [
        {
          "output_type": "display_data",
          "data": {
            "image/png": "[encoded data removed]",
            "text/plain": [
              "<Figure size 640x480 with 1 Axes>"
            ]
          },
          "metadata": {
            "tags": []
          }
        }
      ]
    },
    {
      "cell_type": "markdown",
      "metadata": {
        "id": "rUvEfl2-n_3E"
      },
      "source": [
        "O plot seguinte consistirá em um gráfico de pizza que apresentará os dias da semana que possuem menos discentes matriculados. Os dados foram obtidos somando os resultados do *heatmep* no eixo do dias, assim obtendo quantos horários livres existem no dado dia. O resultado final destacará o dia com maior porcentagem de horários livres, assim permitindo ter uma noção de que dia estes discentes estão mais livres."
      ]
    },
    {
      "cell_type": "code",
      "metadata": {
        "colab": {
          "base_uri": "https://localhost:8080/",
          "height": 675
        },
        "id": "MV5mNbimonra",
        "outputId": "51df90b3-775e-4db3-b8ef-bc2ec350c615"
      },
      "source": [
        "melhor_dia_da_semana = np.sort(np.sum(melhores_horarios_monitoria, axis=0)[:-1])\n",
        "explode = np.zeros(5)\n",
        "explode[-1] += 0.1 \n",
        "df_pie = pd.DataFrame({'dia_mais_ocupado': melhor_dia_da_semana/np.sum(melhor_dia_da_semana)}, index= ['SEG','TER','QUA','QUI','SEX'])\n",
        "plot = df_pie.plot.pie(y='dia_mais_ocupado', figsize=(8, 8), autopct='%1.2lf%%', explode=explode)\n",
        "plt.title('Dia da semana menos ocupado')\n",
        "plt.ylabel('Dia da semana');"
      ],
      "execution_count": 293,
      "outputs": [
        {
          "output_type": "display_data",
          "data": {
            "image/png": "[encoded data removed]",
            "text/plain": [
              "<Figure size 800x800 with 1 Axes>"
            ]
          },
          "metadata": {
            "tags": []
          }
        }
      ]
    },
    {
      "cell_type": "markdown",
      "metadata": {
        "id": "ZDj5xu0uilQA"
      },
      "source": [
        "# 5. Conclusões"
      ]
    },
    {
      "cell_type": "markdown",
      "metadata": {
        "id": "7jviSa8Ci9ad"
      },
      "source": [
        "Apesar dos resultados mostrarem um impacto visual imediato, o sucesso da análise está diretamente atrelado à sua implementação prática.\n",
        "\n",
        "Portanto os próximos passos consistem em apresentar essa análise exploratória desses dados para gestores de forma que direcionamentos possam ser tomados e os resultados sejam testados na prática.\n",
        "\n",
        "Apesar da robustez do procedimento de análise, este ainda está refém ao conjunto de dados alimentado. Por isso deve-se evitar utilizar *datasets* demasiadamente antigos.\n",
        "\n",
        "Também deve-se manter atento à paridade do semestre em análise. Resultados de um semestre ímpar, estão mais aptos a contribuírem para bons resultados práticos se implementados em semestre ímpares e vice-versa para os pares. Garantindo o respeito ao rodízio de turmas que comumente é realizado entre semestres.\n",
        "\n",
        "Os próximos passos que podem ser tomados em relação ao trabalho é voltar a atenção aos semestres que houveram aulas remotas. Porém, a análise será tão objetiva se a modalidade remota for perdurar.\n",
        "\n",
        "O desenvolvimento de uma interface Web para a acessar a análise exploratória é um passo seguinte essencial, pois esta permitirá a desassociação entre o usuário e o código, permitindo que a ferramenta seja utilizada em grande escala e por usuários leigos ao estilo de programação utilizada neste trabalho."
      ]
    }
  ]
}