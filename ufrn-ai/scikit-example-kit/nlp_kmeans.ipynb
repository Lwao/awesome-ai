{
  "nbformat": 4,
  "nbformat_minor": 0,
  "metadata": {
    "colab": {
      "name": "nlp_kmeans.ipynb",
      "provenance": [],
      "collapsed_sections": [
        "TH414VOJNEaQ",
        "Nx22BV9ecaH0",
        "iF9flU_Yez1a",
        "yf3bOVKvHa_E"
      ]
    },
    "interpreter": {
      "hash": "1e87f45ea6456f954092e3c66abf7b40f0e1d2f9e9713a423f4cac954e0c2624"
    },
    "kernelspec": {
      "display_name": "Python 3 (ipykernel)",
      "language": "python",
      "name": "python3"
    },
    "language_info": {
      "codemirror_mode": {
        "name": "ipython",
        "version": 3
      },
      "file_extension": ".py",
      "mimetype": "text/x-python",
      "name": "python",
      "nbconvert_exporter": "python",
      "pygments_lexer": "ipython3",
      "version": "3.8.10"
    }
  },
  "cells": [
    {
      "cell_type": "markdown",
      "metadata": {
        "id": "PwzBcli03geO"
      },
      "source": [
        "---\n",
        "\n",
        "Universidade Federal do Rio Grande do Norte\n",
        "\n",
        "Centro de Tecnologia\n",
        "\n",
        "Departamento de Engenharia de Computação e Automação\n",
        "\n",
        "ELE0606 - Tópicos especiais em inteligência artificial\n",
        "\n",
        "Student: Levy Gabriel da Silva Galvão\n",
        "\n",
        "Título: Natural Language Processing with K-means\n",
        "\n",
        "---"
      ]
    },
    {
      "cell_type": "markdown",
      "metadata": {
        "id": "L8OZSjc4WW9F"
      },
      "source": [
        "# Libraries import"
      ]
    },
    {
      "cell_type": "code",
      "metadata": {
        "id": "XJM_4FNfT5Ar"
      },
      "source": [
        "# Data manipulation\n",
        "import numpy as np\n",
        "import pandas as pd\n",
        "import seaborn as sns\n",
        "import matplotlib.pyplot as plt\n",
        "\n",
        "sns.set_theme();\n",
        "\n",
        "import time\n",
        "import requests\n",
        "import re\n",
        "import multiprocessing\n",
        "\n",
        "!pip install kneed &> /dev/null\n",
        "!pip install vagalume &> /dev/null\n",
        "\n",
        "from bs4 import BeautifulSoup\n",
        "from vagalume import lyrics\n",
        "from google.colab import files\n",
        "from tqdm import tqdm\n",
        "from kneed import KneeLocator\n",
        "\n",
        "# Preprocess\n",
        "import nltk\n",
        "from nltk import word_tokenize\n",
        "from nltk.stem import WordNetLemmatizer\n",
        "\n",
        "# Feature extraction\n",
        "import gensim\n",
        "from gensim.models import Doc2Vec\n",
        "from gensim.models.doc2vec import TaggedDocument\n",
        "\n",
        "\n",
        "# Machine Learning\n",
        "\n",
        "from sklearn import utils\n",
        "from sklearn.preprocessing import MinMaxScaler\n",
        "from sklearn.decomposition import PCA\n",
        "from sklearn.cluster import KMeans\n"
      ],
      "execution_count": 21,
      "outputs": []
    },
    {
      "cell_type": "markdown",
      "source": [
        "# Objective"
      ],
      "metadata": {
        "id": "TH414VOJNEaQ"
      }
    },
    {
      "cell_type": "markdown",
      "source": [
        "The objective of this work is to parse the lexical composing of the lyrics of The Smiths in all its discography with K-Means clustering in the Natural Language Processing context."
      ],
      "metadata": {
        "id": "yBWS421ONGbi"
      }
    },
    {
      "cell_type": "markdown",
      "source": [
        "# Data fetching"
      ],
      "metadata": {
        "id": "Nx22BV9ecaH0"
      }
    },
    {
      "cell_type": "markdown",
      "source": [
        "The first thing to do is to get the hands in all lyrics from the band. This will be made using the [vagalume](https://github.com/diegoteixeir4/python-vagalume) API for Python. But the API requires at least the name of the song to fetch the lyrics. So the first priority is to list all the knowing songs of The Smiths.\n",
        "\n",
        "There is a [wikipedia page](https://en.wikipedia.org/wiki/List_of_songs_recorded_by_the_Smiths) that lists all songs recorded by The Smiths and with it all sorts of information. But first, it will be used the `requests` library from Python to get the `.html` content of this page and then use `BeautifulSoup` to parse the text to extract the table with all data. The code below build the data set that lists all The Smiths musics."
      ],
      "metadata": {
        "id": "schrKvKiccEo"
      }
    },
    {
      "cell_type": "code",
      "source": [
        "# https://stackoverflow.com/questions/64513615/how-can-i-extract-a-table-from-wikipedia-using-beautiful-soup\n",
        "page = requests.get('https://en.wikipedia.org/wiki/List_of_songs_recorded_by_the_Smiths').text\n",
        "soup = BeautifulSoup(page, 'html.parser')\n",
        "table = soup.find('table', class_=\"wikitable sortable plainrowheaders\")\n",
        "\n",
        "df = pd.read_html(str(table))\n",
        "df = pd.concat(df)\n",
        "\n",
        "df['Song'] = [re.search(r\".+?(?=\\\")\", song).group(0).replace('\"','') for song in df['Song']]\n",
        "df = df.drop_duplicates(['Song'])\n",
        "df.sample(5)"
      ],
      "metadata": {
        "colab": {
          "base_uri": "https://localhost:8080/",
          "height": 206
        },
        "id": "P4kfkJ-yd3Id",
        "outputId": "d751159d-b5d2-4da1-b58e-4956397d91e3"
      },
      "execution_count": 2,
      "outputs": [
        {
          "output_type": "execute_result",
          "data": {
            "text/html": [
              "\n",
              "  <div id=\"df-016b092c-7994-42c7-a552-c3dcdfffc45c\">\n",
              "    <div class=\"colab-df-container\">\n",
              "      <div>\n",
              "<style scoped>\n",
              "    .dataframe tbody tr th:only-of-type {\n",
              "        vertical-align: middle;\n",
              "    }\n",
              "\n",
              "    .dataframe tbody tr th {\n",
              "        vertical-align: top;\n",
              "    }\n",
              "\n",
              "    .dataframe thead th {\n",
              "        text-align: right;\n",
              "    }\n",
              "</style>\n",
              "<table border=\"1\" class=\"dataframe\">\n",
              "  <thead>\n",
              "    <tr style=\"text-align: right;\">\n",
              "      <th></th>\n",
              "      <th>Song</th>\n",
              "      <th>Writer(s)</th>\n",
              "      <th>Original release</th>\n",
              "      <th>Year</th>\n",
              "      <th>Ref(s)</th>\n",
              "    </tr>\n",
              "  </thead>\n",
              "  <tbody>\n",
              "    <tr>\n",
              "      <th>52</th>\n",
              "      <td>Still Ill</td>\n",
              "      <td>Johnny MarrMorrissey</td>\n",
              "      <td>The Smiths</td>\n",
              "      <td>1984</td>\n",
              "      <td>[29]</td>\n",
              "    </tr>\n",
              "    <tr>\n",
              "      <th>51</th>\n",
              "      <td>Some Girls Are Bigger Than Others</td>\n",
              "      <td>Johnny MarrMorrissey</td>\n",
              "      <td>The Queen Is Dead</td>\n",
              "      <td>1986</td>\n",
              "      <td>[22]</td>\n",
              "    </tr>\n",
              "    <tr>\n",
              "      <th>19</th>\n",
              "      <td>The Headmaster Ritual</td>\n",
              "      <td>Johnny MarrMorrissey</td>\n",
              "      <td>Meat Is Murder</td>\n",
              "      <td>1985</td>\n",
              "      <td>[21]</td>\n",
              "    </tr>\n",
              "    <tr>\n",
              "      <th>73</th>\n",
              "      <td>You've Got Everything Now</td>\n",
              "      <td>Johnny MarrMorrissey</td>\n",
              "      <td>The Smiths</td>\n",
              "      <td>1984</td>\n",
              "      <td>[29]</td>\n",
              "    </tr>\n",
              "    <tr>\n",
              "      <th>4</th>\n",
              "      <td>Barbarism Begins at Home</td>\n",
              "      <td>Johnny MarrMorrissey</td>\n",
              "      <td>Meat Is Murder</td>\n",
              "      <td>1985</td>\n",
              "      <td>[21]</td>\n",
              "    </tr>\n",
              "  </tbody>\n",
              "</table>\n",
              "</div>\n",
              "      <button class=\"colab-df-convert\" onclick=\"convertToInteractive('df-016b092c-7994-42c7-a552-c3dcdfffc45c')\"\n",
              "              title=\"Convert this dataframe to an interactive table.\"\n",
              "              style=\"display:none;\">\n",
              "        \n",
              "  <svg xmlns=\"http://www.w3.org/2000/svg\" height=\"24px\"viewBox=\"0 0 24 24\"\n",
              "       width=\"24px\">\n",
              "    <path d=\"M0 0h24v24H0V0z\" fill=\"none\"/>\n",
              "    <path d=\"M18.56 5.44l.94 2.06.94-2.06 2.06-.94-2.06-.94-.94-2.06-.94 2.06-2.06.94zm-11 1L8.5 8.5l.94-2.06 2.06-.94-2.06-.94L8.5 2.5l-.94 2.06-2.06.94zm10 10l.94 2.06.94-2.06 2.06-.94-2.06-.94-.94-2.06-.94 2.06-2.06.94z\"/><path d=\"M17.41 7.96l-1.37-1.37c-.4-.4-.92-.59-1.43-.59-.52 0-1.04.2-1.43.59L10.3 9.45l-7.72 7.72c-.78.78-.78 2.05 0 2.83L4 21.41c.39.39.9.59 1.41.59.51 0 1.02-.2 1.41-.59l7.78-7.78 2.81-2.81c.8-.78.8-2.07 0-2.86zM5.41 20L4 18.59l7.72-7.72 1.47 1.35L5.41 20z\"/>\n",
              "  </svg>\n",
              "      </button>\n",
              "      \n",
              "  <style>\n",
              "    .colab-df-container {\n",
              "      display:flex;\n",
              "      flex-wrap:wrap;\n",
              "      gap: 12px;\n",
              "    }\n",
              "\n",
              "    .colab-df-convert {\n",
              "      background-color: #E8F0FE;\n",
              "      border: none;\n",
              "      border-radius: 50%;\n",
              "      cursor: pointer;\n",
              "      display: none;\n",
              "      fill: #1967D2;\n",
              "      height: 32px;\n",
              "      padding: 0 0 0 0;\n",
              "      width: 32px;\n",
              "    }\n",
              "\n",
              "    .colab-df-convert:hover {\n",
              "      background-color: #E2EBFA;\n",
              "      box-shadow: 0px 1px 2px rgba(60, 64, 67, 0.3), 0px 1px 3px 1px rgba(60, 64, 67, 0.15);\n",
              "      fill: #174EA6;\n",
              "    }\n",
              "\n",
              "    [theme=dark] .colab-df-convert {\n",
              "      background-color: #3B4455;\n",
              "      fill: #D2E3FC;\n",
              "    }\n",
              "\n",
              "    [theme=dark] .colab-df-convert:hover {\n",
              "      background-color: #434B5C;\n",
              "      box-shadow: 0px 1px 3px 1px rgba(0, 0, 0, 0.15);\n",
              "      filter: drop-shadow(0px 1px 2px rgba(0, 0, 0, 0.3));\n",
              "      fill: #FFFFFF;\n",
              "    }\n",
              "  </style>\n",
              "\n",
              "      <script>\n",
              "        const buttonEl =\n",
              "          document.querySelector('#df-016b092c-7994-42c7-a552-c3dcdfffc45c button.colab-df-convert');\n",
              "        buttonEl.style.display =\n",
              "          google.colab.kernel.accessAllowed ? 'block' : 'none';\n",
              "\n",
              "        async function convertToInteractive(key) {\n",
              "          const element = document.querySelector('#df-016b092c-7994-42c7-a552-c3dcdfffc45c');\n",
              "          const dataTable =\n",
              "            await google.colab.kernel.invokeFunction('convertToInteractive',\n",
              "                                                     [key], {});\n",
              "          if (!dataTable) return;\n",
              "\n",
              "          const docLinkHtml = 'Like what you see? Visit the ' +\n",
              "            '<a target=\"_blank\" href=https://colab.research.google.com/notebooks/data_table.ipynb>data table notebook</a>'\n",
              "            + ' to learn more about interactive tables.';\n",
              "          element.innerHTML = '';\n",
              "          dataTable['output_type'] = 'display_data';\n",
              "          await google.colab.output.renderOutput(dataTable, element);\n",
              "          const docLink = document.createElement('div');\n",
              "          docLink.innerHTML = docLinkHtml;\n",
              "          element.appendChild(docLink);\n",
              "        }\n",
              "      </script>\n",
              "    </div>\n",
              "  </div>\n",
              "  "
            ],
            "text/plain": [
              "                                 Song             Writer(s)  ...  Year  Ref(s)\n",
              "52                          Still Ill  Johnny MarrMorrissey  ...  1984    [29]\n",
              "51  Some Girls Are Bigger Than Others  Johnny MarrMorrissey  ...  1986    [22]\n",
              "19              The Headmaster Ritual  Johnny MarrMorrissey  ...  1985    [21]\n",
              "73          You've Got Everything Now  Johnny MarrMorrissey  ...  1984    [29]\n",
              "4            Barbarism Begins at Home  Johnny MarrMorrissey  ...  1985    [21]\n",
              "\n",
              "[5 rows x 5 columns]"
            ]
          },
          "metadata": {},
          "execution_count": 2
        }
      ]
    },
    {
      "cell_type": "markdown",
      "source": [
        "The table contains six columns with data regarding:"
      ],
      "metadata": {
        "id": "5z0eMG6te9-l"
      }
    },
    {
      "cell_type": "code",
      "source": [
        "print(list(df.columns))"
      ],
      "metadata": {
        "colab": {
          "base_uri": "https://localhost:8080/"
        },
        "id": "SVkXoYbDfDN0",
        "outputId": "caf903d4-dbf0-4e42-cb92-949d3b9ce5a1"
      },
      "execution_count": 3,
      "outputs": [
        {
          "output_type": "stream",
          "name": "stdout",
          "text": [
            "['Song', 'Writer(s)', 'Original release', 'Year', 'Ref(s)']\n"
          ]
        }
      ]
    },
    {
      "cell_type": "markdown",
      "source": [
        "In this analysis the `Writer(s)` and `Ref(s)` will be discarded and the remaining columns will be renamed to `song`, `release` and `year`."
      ],
      "metadata": {
        "id": "HJk2rb7df3O_"
      }
    },
    {
      "cell_type": "code",
      "source": [
        "df = df.drop(columns=['Writer(s)', 'Ref(s)'])\n",
        "df.columns = ['song','release','year']\n",
        "df['song'] = df['song'].str.lower()\n",
        "df['release'] = df['release'].str.lower()\n",
        "df.sample(5)"
      ],
      "metadata": {
        "colab": {
          "base_uri": "https://localhost:8080/",
          "height": 206
        },
        "id": "0quAHAZkq-MM",
        "outputId": "8d2bfd37-6214-4bbf-a09a-833bc10cc2ac"
      },
      "execution_count": 4,
      "outputs": [
        {
          "output_type": "execute_result",
          "data": {
            "text/html": [
              "\n",
              "  <div id=\"df-4301d727-76fd-4d45-9bfd-7095c1459238\">\n",
              "    <div class=\"colab-df-container\">\n",
              "      <div>\n",
              "<style scoped>\n",
              "    .dataframe tbody tr th:only-of-type {\n",
              "        vertical-align: middle;\n",
              "    }\n",
              "\n",
              "    .dataframe tbody tr th {\n",
              "        vertical-align: top;\n",
              "    }\n",
              "\n",
              "    .dataframe thead th {\n",
              "        text-align: right;\n",
              "    }\n",
              "</style>\n",
              "<table border=\"1\" class=\"dataframe\">\n",
              "  <thead>\n",
              "    <tr style=\"text-align: right;\">\n",
              "      <th></th>\n",
              "      <th>song</th>\n",
              "      <th>release</th>\n",
              "      <th>year</th>\n",
              "    </tr>\n",
              "  </thead>\n",
              "  <tbody>\n",
              "    <tr>\n",
              "      <th>29</th>\n",
              "      <td>is it really so strange?</td>\n",
              "      <td>louder than bombs(b-side to \"sheila take a bow\")</td>\n",
              "      <td>1987</td>\n",
              "    </tr>\n",
              "    <tr>\n",
              "      <th>65</th>\n",
              "      <td>well i wonder</td>\n",
              "      <td>meat is murder</td>\n",
              "      <td>1985</td>\n",
              "    </tr>\n",
              "    <tr>\n",
              "      <th>4</th>\n",
              "      <td>barbarism begins at home</td>\n",
              "      <td>meat is murder</td>\n",
              "      <td>1985</td>\n",
              "    </tr>\n",
              "    <tr>\n",
              "      <th>17</th>\n",
              "      <td>the hand that rocks the cradle</td>\n",
              "      <td>the smiths</td>\n",
              "      <td>1984</td>\n",
              "    </tr>\n",
              "    <tr>\n",
              "      <th>44</th>\n",
              "      <td>reel around the fountain</td>\n",
              "      <td>the smiths</td>\n",
              "      <td>1984</td>\n",
              "    </tr>\n",
              "  </tbody>\n",
              "</table>\n",
              "</div>\n",
              "      <button class=\"colab-df-convert\" onclick=\"convertToInteractive('df-4301d727-76fd-4d45-9bfd-7095c1459238')\"\n",
              "              title=\"Convert this dataframe to an interactive table.\"\n",
              "              style=\"display:none;\">\n",
              "        \n",
              "  <svg xmlns=\"http://www.w3.org/2000/svg\" height=\"24px\"viewBox=\"0 0 24 24\"\n",
              "       width=\"24px\">\n",
              "    <path d=\"M0 0h24v24H0V0z\" fill=\"none\"/>\n",
              "    <path d=\"M18.56 5.44l.94 2.06.94-2.06 2.06-.94-2.06-.94-.94-2.06-.94 2.06-2.06.94zm-11 1L8.5 8.5l.94-2.06 2.06-.94-2.06-.94L8.5 2.5l-.94 2.06-2.06.94zm10 10l.94 2.06.94-2.06 2.06-.94-2.06-.94-.94-2.06-.94 2.06-2.06.94z\"/><path d=\"M17.41 7.96l-1.37-1.37c-.4-.4-.92-.59-1.43-.59-.52 0-1.04.2-1.43.59L10.3 9.45l-7.72 7.72c-.78.78-.78 2.05 0 2.83L4 21.41c.39.39.9.59 1.41.59.51 0 1.02-.2 1.41-.59l7.78-7.78 2.81-2.81c.8-.78.8-2.07 0-2.86zM5.41 20L4 18.59l7.72-7.72 1.47 1.35L5.41 20z\"/>\n",
              "  </svg>\n",
              "      </button>\n",
              "      \n",
              "  <style>\n",
              "    .colab-df-container {\n",
              "      display:flex;\n",
              "      flex-wrap:wrap;\n",
              "      gap: 12px;\n",
              "    }\n",
              "\n",
              "    .colab-df-convert {\n",
              "      background-color: #E8F0FE;\n",
              "      border: none;\n",
              "      border-radius: 50%;\n",
              "      cursor: pointer;\n",
              "      display: none;\n",
              "      fill: #1967D2;\n",
              "      height: 32px;\n",
              "      padding: 0 0 0 0;\n",
              "      width: 32px;\n",
              "    }\n",
              "\n",
              "    .colab-df-convert:hover {\n",
              "      background-color: #E2EBFA;\n",
              "      box-shadow: 0px 1px 2px rgba(60, 64, 67, 0.3), 0px 1px 3px 1px rgba(60, 64, 67, 0.15);\n",
              "      fill: #174EA6;\n",
              "    }\n",
              "\n",
              "    [theme=dark] .colab-df-convert {\n",
              "      background-color: #3B4455;\n",
              "      fill: #D2E3FC;\n",
              "    }\n",
              "\n",
              "    [theme=dark] .colab-df-convert:hover {\n",
              "      background-color: #434B5C;\n",
              "      box-shadow: 0px 1px 3px 1px rgba(0, 0, 0, 0.15);\n",
              "      filter: drop-shadow(0px 1px 2px rgba(0, 0, 0, 0.3));\n",
              "      fill: #FFFFFF;\n",
              "    }\n",
              "  </style>\n",
              "\n",
              "      <script>\n",
              "        const buttonEl =\n",
              "          document.querySelector('#df-4301d727-76fd-4d45-9bfd-7095c1459238 button.colab-df-convert');\n",
              "        buttonEl.style.display =\n",
              "          google.colab.kernel.accessAllowed ? 'block' : 'none';\n",
              "\n",
              "        async function convertToInteractive(key) {\n",
              "          const element = document.querySelector('#df-4301d727-76fd-4d45-9bfd-7095c1459238');\n",
              "          const dataTable =\n",
              "            await google.colab.kernel.invokeFunction('convertToInteractive',\n",
              "                                                     [key], {});\n",
              "          if (!dataTable) return;\n",
              "\n",
              "          const docLinkHtml = 'Like what you see? Visit the ' +\n",
              "            '<a target=\"_blank\" href=https://colab.research.google.com/notebooks/data_table.ipynb>data table notebook</a>'\n",
              "            + ' to learn more about interactive tables.';\n",
              "          element.innerHTML = '';\n",
              "          dataTable['output_type'] = 'display_data';\n",
              "          await google.colab.output.renderOutput(dataTable, element);\n",
              "          const docLink = document.createElement('div');\n",
              "          docLink.innerHTML = docLinkHtml;\n",
              "          element.appendChild(docLink);\n",
              "        }\n",
              "      </script>\n",
              "    </div>\n",
              "  </div>\n",
              "  "
            ],
            "text/plain": [
              "                              song  ...  year\n",
              "29        is it really so strange?  ...  1987\n",
              "65                   well i wonder  ...  1985\n",
              "4         barbarism begins at home  ...  1985\n",
              "17  the hand that rocks the cradle  ...  1984\n",
              "44        reel around the fountain  ...  1984\n",
              "\n",
              "[5 rows x 3 columns]"
            ]
          },
          "metadata": {},
          "execution_count": 4
        }
      ]
    },
    {
      "cell_type": "markdown",
      "source": [
        "Next the lyrics are fetched and concatenated to the dataset:"
      ],
      "metadata": {
        "id": "JVzLfKpYrqmq"
      }
    },
    {
      "cell_type": "code",
      "source": [
        "list_ = []\n",
        "for s in df['song']:\n",
        "  while True:\n",
        "    try:\n",
        "      result = lyrics.find('the smiths', s)\n",
        "      break\n",
        "    except: pass\n",
        "  if not result.is_not_found(): list_.append(result.song.lyric)\n",
        "df['lyrics'] = pd.Series(list_)\n",
        "df.head(3)"
      ],
      "metadata": {
        "id": "pWikqnDctF9W",
        "colab": {
          "base_uri": "https://localhost:8080/",
          "height": 143
        },
        "outputId": "052f929f-bb82-498d-8623-9cc01a7db37c"
      },
      "execution_count": 7,
      "outputs": [
        {
          "output_type": "execute_result",
          "data": {
            "text/html": [
              "\n",
              "  <div id=\"df-57bea36c-816b-4be9-8ce5-061851e4840f\">\n",
              "    <div class=\"colab-df-container\">\n",
              "      <div>\n",
              "<style scoped>\n",
              "    .dataframe tbody tr th:only-of-type {\n",
              "        vertical-align: middle;\n",
              "    }\n",
              "\n",
              "    .dataframe tbody tr th {\n",
              "        vertical-align: top;\n",
              "    }\n",
              "\n",
              "    .dataframe thead th {\n",
              "        text-align: right;\n",
              "    }\n",
              "</style>\n",
              "<table border=\"1\" class=\"dataframe\">\n",
              "  <thead>\n",
              "    <tr style=\"text-align: right;\">\n",
              "      <th></th>\n",
              "      <th>song</th>\n",
              "      <th>release</th>\n",
              "      <th>year</th>\n",
              "      <th>lyrics</th>\n",
              "    </tr>\n",
              "  </thead>\n",
              "  <tbody>\n",
              "    <tr>\n",
              "      <th>0</th>\n",
              "      <td>accept yourself</td>\n",
              "      <td>hatful of hollow</td>\n",
              "      <td>1984</td>\n",
              "      <td>Every day you must say\\nSo, how do I feel abou...</td>\n",
              "    </tr>\n",
              "    <tr>\n",
              "      <th>1</th>\n",
              "      <td>ask</td>\n",
              "      <td>the world won't listen(non-album single)</td>\n",
              "      <td>1986</td>\n",
              "      <td>Shyness is nice, and\\nShyness can stop you\\nFr...</td>\n",
              "    </tr>\n",
              "    <tr>\n",
              "      <th>2</th>\n",
              "      <td>asleep</td>\n",
              "      <td>the world won't listen(b-side to \"the boy with...</td>\n",
              "      <td>1985</td>\n",
              "      <td>Sing me to sleep\\nSing me to sleep\\nI'm tired ...</td>\n",
              "    </tr>\n",
              "  </tbody>\n",
              "</table>\n",
              "</div>\n",
              "      <button class=\"colab-df-convert\" onclick=\"convertToInteractive('df-57bea36c-816b-4be9-8ce5-061851e4840f')\"\n",
              "              title=\"Convert this dataframe to an interactive table.\"\n",
              "              style=\"display:none;\">\n",
              "        \n",
              "  <svg xmlns=\"http://www.w3.org/2000/svg\" height=\"24px\"viewBox=\"0 0 24 24\"\n",
              "       width=\"24px\">\n",
              "    <path d=\"M0 0h24v24H0V0z\" fill=\"none\"/>\n",
              "    <path d=\"M18.56 5.44l.94 2.06.94-2.06 2.06-.94-2.06-.94-.94-2.06-.94 2.06-2.06.94zm-11 1L8.5 8.5l.94-2.06 2.06-.94-2.06-.94L8.5 2.5l-.94 2.06-2.06.94zm10 10l.94 2.06.94-2.06 2.06-.94-2.06-.94-.94-2.06-.94 2.06-2.06.94z\"/><path d=\"M17.41 7.96l-1.37-1.37c-.4-.4-.92-.59-1.43-.59-.52 0-1.04.2-1.43.59L10.3 9.45l-7.72 7.72c-.78.78-.78 2.05 0 2.83L4 21.41c.39.39.9.59 1.41.59.51 0 1.02-.2 1.41-.59l7.78-7.78 2.81-2.81c.8-.78.8-2.07 0-2.86zM5.41 20L4 18.59l7.72-7.72 1.47 1.35L5.41 20z\"/>\n",
              "  </svg>\n",
              "      </button>\n",
              "      \n",
              "  <style>\n",
              "    .colab-df-container {\n",
              "      display:flex;\n",
              "      flex-wrap:wrap;\n",
              "      gap: 12px;\n",
              "    }\n",
              "\n",
              "    .colab-df-convert {\n",
              "      background-color: #E8F0FE;\n",
              "      border: none;\n",
              "      border-radius: 50%;\n",
              "      cursor: pointer;\n",
              "      display: none;\n",
              "      fill: #1967D2;\n",
              "      height: 32px;\n",
              "      padding: 0 0 0 0;\n",
              "      width: 32px;\n",
              "    }\n",
              "\n",
              "    .colab-df-convert:hover {\n",
              "      background-color: #E2EBFA;\n",
              "      box-shadow: 0px 1px 2px rgba(60, 64, 67, 0.3), 0px 1px 3px 1px rgba(60, 64, 67, 0.15);\n",
              "      fill: #174EA6;\n",
              "    }\n",
              "\n",
              "    [theme=dark] .colab-df-convert {\n",
              "      background-color: #3B4455;\n",
              "      fill: #D2E3FC;\n",
              "    }\n",
              "\n",
              "    [theme=dark] .colab-df-convert:hover {\n",
              "      background-color: #434B5C;\n",
              "      box-shadow: 0px 1px 3px 1px rgba(0, 0, 0, 0.15);\n",
              "      filter: drop-shadow(0px 1px 2px rgba(0, 0, 0, 0.3));\n",
              "      fill: #FFFFFF;\n",
              "    }\n",
              "  </style>\n",
              "\n",
              "      <script>\n",
              "        const buttonEl =\n",
              "          document.querySelector('#df-57bea36c-816b-4be9-8ce5-061851e4840f button.colab-df-convert');\n",
              "        buttonEl.style.display =\n",
              "          google.colab.kernel.accessAllowed ? 'block' : 'none';\n",
              "\n",
              "        async function convertToInteractive(key) {\n",
              "          const element = document.querySelector('#df-57bea36c-816b-4be9-8ce5-061851e4840f');\n",
              "          const dataTable =\n",
              "            await google.colab.kernel.invokeFunction('convertToInteractive',\n",
              "                                                     [key], {});\n",
              "          if (!dataTable) return;\n",
              "\n",
              "          const docLinkHtml = 'Like what you see? Visit the ' +\n",
              "            '<a target=\"_blank\" href=https://colab.research.google.com/notebooks/data_table.ipynb>data table notebook</a>'\n",
              "            + ' to learn more about interactive tables.';\n",
              "          element.innerHTML = '';\n",
              "          dataTable['output_type'] = 'display_data';\n",
              "          await google.colab.output.renderOutput(dataTable, element);\n",
              "          const docLink = document.createElement('div');\n",
              "          docLink.innerHTML = docLinkHtml;\n",
              "          element.appendChild(docLink);\n",
              "        }\n",
              "      </script>\n",
              "    </div>\n",
              "  </div>\n",
              "  "
            ],
            "text/plain": [
              "              song  ...                                             lyrics\n",
              "0  accept yourself  ...  Every day you must say\\nSo, how do I feel abou...\n",
              "1              ask  ...  Shyness is nice, and\\nShyness can stop you\\nFr...\n",
              "2           asleep  ...  Sing me to sleep\\nSing me to sleep\\nI'm tired ...\n",
              "\n",
              "[3 rows x 4 columns]"
            ]
          },
          "metadata": {},
          "execution_count": 7
        }
      ]
    },
    {
      "cell_type": "markdown",
      "source": [
        "After fetching the lyrics some information are checked to see if there is any NULL variable."
      ],
      "metadata": {
        "id": "W4Y-TPL27-Lp"
      }
    },
    {
      "cell_type": "code",
      "source": [
        "df.info()"
      ],
      "metadata": {
        "colab": {
          "base_uri": "https://localhost:8080/"
        },
        "id": "IWWUwenq74UM",
        "outputId": "478b6581-6844-41c3-dd11-aacdfcfd25d2"
      },
      "execution_count": 10,
      "outputs": [
        {
          "output_type": "stream",
          "name": "stdout",
          "text": [
            "<class 'pandas.core.frame.DataFrame'>\n",
            "Int64Index: 74 entries, 0 to 73\n",
            "Data columns (total 4 columns):\n",
            " #   Column   Non-Null Count  Dtype \n",
            "---  ------   --------------  ----- \n",
            " 0   song     74 non-null     object\n",
            " 1   release  74 non-null     object\n",
            " 2   year     74 non-null     int64 \n",
            " 3   lyrics   73 non-null     object\n",
            "dtypes: int64(1), object(3)\n",
            "memory usage: 2.9+ KB\n"
          ]
        }
      ]
    },
    {
      "cell_type": "markdown",
      "source": [
        "Since there is a lyric missing for a song, this row must be excluded"
      ],
      "metadata": {
        "id": "4zIc03eB8Fx7"
      }
    },
    {
      "cell_type": "code",
      "source": [
        "df = df.dropna()\n",
        "df.info()"
      ],
      "metadata": {
        "colab": {
          "base_uri": "https://localhost:8080/"
        },
        "id": "1xxsMkaK8cCY",
        "outputId": "14e5f73e-d864-4a11-eea9-9d5996e077fc"
      },
      "execution_count": 15,
      "outputs": [
        {
          "output_type": "stream",
          "name": "stdout",
          "text": [
            "<class 'pandas.core.frame.DataFrame'>\n",
            "Int64Index: 73 entries, 0 to 72\n",
            "Data columns (total 4 columns):\n",
            " #   Column   Non-Null Count  Dtype \n",
            "---  ------   --------------  ----- \n",
            " 0   song     73 non-null     object\n",
            " 1   release  73 non-null     object\n",
            " 2   year     73 non-null     int64 \n",
            " 3   lyrics   73 non-null     object\n",
            "dtypes: int64(1), object(3)\n",
            "memory usage: 2.9+ KB\n"
          ]
        }
      ]
    },
    {
      "cell_type": "markdown",
      "source": [
        "Thus the dataset is saved for later use."
      ],
      "metadata": {
        "id": "eiJbIw2A85Sz"
      }
    },
    {
      "cell_type": "code",
      "source": [
        "df.to_csv('the_smiths_songs.csv')\n",
        "files.download('the_smiths_songs.csv')"
      ],
      "metadata": {
        "colab": {
          "base_uri": "https://localhost:8080/",
          "height": 17
        },
        "id": "huKWes1P8RT0",
        "outputId": "e62f59ac-8cc7-4e17-e05b-bd94498e0e87"
      },
      "execution_count": 17,
      "outputs": [
        {
          "output_type": "display_data",
          "data": {
            "application/javascript": [
              "\n",
              "    async function download(id, filename, size) {\n",
              "      if (!google.colab.kernel.accessAllowed) {\n",
              "        return;\n",
              "      }\n",
              "      const div = document.createElement('div');\n",
              "      const label = document.createElement('label');\n",
              "      label.textContent = `Downloading \"${filename}\": `;\n",
              "      div.appendChild(label);\n",
              "      const progress = document.createElement('progress');\n",
              "      progress.max = size;\n",
              "      div.appendChild(progress);\n",
              "      document.body.appendChild(div);\n",
              "\n",
              "      const buffers = [];\n",
              "      let downloaded = 0;\n",
              "\n",
              "      const channel = await google.colab.kernel.comms.open(id);\n",
              "      // Send a message to notify the kernel that we're ready.\n",
              "      channel.send({})\n",
              "\n",
              "      for await (const message of channel.messages) {\n",
              "        // Send a message to notify the kernel that we're ready.\n",
              "        channel.send({})\n",
              "        if (message.buffers) {\n",
              "          for (const buffer of message.buffers) {\n",
              "            buffers.push(buffer);\n",
              "            downloaded += buffer.byteLength;\n",
              "            progress.value = downloaded;\n",
              "          }\n",
              "        }\n",
              "      }\n",
              "      const blob = new Blob(buffers, {type: 'application/binary'});\n",
              "      const a = document.createElement('a');\n",
              "      a.href = window.URL.createObjectURL(blob);\n",
              "      a.download = filename;\n",
              "      div.appendChild(a);\n",
              "      a.click();\n",
              "      div.remove();\n",
              "    }\n",
              "  "
            ],
            "text/plain": [
              "<IPython.core.display.Javascript object>"
            ]
          },
          "metadata": {}
        },
        {
          "output_type": "display_data",
          "data": {
            "application/javascript": [
              "download(\"download_e23cb387-f54b-434b-98ef-4a86454c7237\", \"the_smiths_songs.csv\", 74297)"
            ],
            "text/plain": [
              "<IPython.core.display.Javascript object>"
            ]
          },
          "metadata": {}
        }
      ]
    },
    {
      "cell_type": "markdown",
      "metadata": {
        "id": "iF9flU_Yez1a"
      },
      "source": [
        "# Preprocessing"
      ]
    },
    {
      "cell_type": "markdown",
      "source": [
        "For preprocessing, first the data set is properly load from GitHub:"
      ],
      "metadata": {
        "id": "lsKYxoIT9Ub0"
      }
    },
    {
      "cell_type": "code",
      "source": [
        "df = pd.read_csv('https://raw.githubusercontent.com/Lwao/awesome-ai/main/ufrn-ai/datasets/the_smiths_songs.csv', \n",
        "            usecols=['song','release','year','lyrics'])\n",
        "df.head()"
      ],
      "metadata": {
        "colab": {
          "base_uri": "https://localhost:8080/",
          "height": 206
        },
        "id": "4lbfRv_P9YHU",
        "outputId": "d46cb849-a53c-42b3-a61c-8a613399dfd4"
      },
      "execution_count": 20,
      "outputs": [
        {
          "output_type": "execute_result",
          "data": {
            "text/html": [
              "\n",
              "  <div id=\"df-7a04b1b2-42c0-4840-b135-713009f5e9f6\">\n",
              "    <div class=\"colab-df-container\">\n",
              "      <div>\n",
              "<style scoped>\n",
              "    .dataframe tbody tr th:only-of-type {\n",
              "        vertical-align: middle;\n",
              "    }\n",
              "\n",
              "    .dataframe tbody tr th {\n",
              "        vertical-align: top;\n",
              "    }\n",
              "\n",
              "    .dataframe thead th {\n",
              "        text-align: right;\n",
              "    }\n",
              "</style>\n",
              "<table border=\"1\" class=\"dataframe\">\n",
              "  <thead>\n",
              "    <tr style=\"text-align: right;\">\n",
              "      <th></th>\n",
              "      <th>song</th>\n",
              "      <th>release</th>\n",
              "      <th>year</th>\n",
              "      <th>lyrics</th>\n",
              "    </tr>\n",
              "  </thead>\n",
              "  <tbody>\n",
              "    <tr>\n",
              "      <th>0</th>\n",
              "      <td>accept yourself</td>\n",
              "      <td>hatful of hollow</td>\n",
              "      <td>1984</td>\n",
              "      <td>Every day you must say\\nSo, how do I feel abou...</td>\n",
              "    </tr>\n",
              "    <tr>\n",
              "      <th>1</th>\n",
              "      <td>ask</td>\n",
              "      <td>the world won't listen(non-album single)</td>\n",
              "      <td>1986</td>\n",
              "      <td>Shyness is nice, and\\nShyness can stop you\\nFr...</td>\n",
              "    </tr>\n",
              "    <tr>\n",
              "      <th>2</th>\n",
              "      <td>asleep</td>\n",
              "      <td>the world won't listen(b-side to \"the boy with...</td>\n",
              "      <td>1985</td>\n",
              "      <td>Sing me to sleep\\nSing me to sleep\\nI'm tired ...</td>\n",
              "    </tr>\n",
              "    <tr>\n",
              "      <th>3</th>\n",
              "      <td>back to the old house</td>\n",
              "      <td>hatful of hollow(b-side to \"what difference do...</td>\n",
              "      <td>1984</td>\n",
              "      <td>I would rather not go\\nBack to the old house\\n...</td>\n",
              "    </tr>\n",
              "    <tr>\n",
              "      <th>4</th>\n",
              "      <td>barbarism begins at home</td>\n",
              "      <td>meat is murder</td>\n",
              "      <td>1985</td>\n",
              "      <td>Unruly boys\\nWho will not grow up\\nMust be tak...</td>\n",
              "    </tr>\n",
              "  </tbody>\n",
              "</table>\n",
              "</div>\n",
              "      <button class=\"colab-df-convert\" onclick=\"convertToInteractive('df-7a04b1b2-42c0-4840-b135-713009f5e9f6')\"\n",
              "              title=\"Convert this dataframe to an interactive table.\"\n",
              "              style=\"display:none;\">\n",
              "        \n",
              "  <svg xmlns=\"http://www.w3.org/2000/svg\" height=\"24px\"viewBox=\"0 0 24 24\"\n",
              "       width=\"24px\">\n",
              "    <path d=\"M0 0h24v24H0V0z\" fill=\"none\"/>\n",
              "    <path d=\"M18.56 5.44l.94 2.06.94-2.06 2.06-.94-2.06-.94-.94-2.06-.94 2.06-2.06.94zm-11 1L8.5 8.5l.94-2.06 2.06-.94-2.06-.94L8.5 2.5l-.94 2.06-2.06.94zm10 10l.94 2.06.94-2.06 2.06-.94-2.06-.94-.94-2.06-.94 2.06-2.06.94z\"/><path d=\"M17.41 7.96l-1.37-1.37c-.4-.4-.92-.59-1.43-.59-.52 0-1.04.2-1.43.59L10.3 9.45l-7.72 7.72c-.78.78-.78 2.05 0 2.83L4 21.41c.39.39.9.59 1.41.59.51 0 1.02-.2 1.41-.59l7.78-7.78 2.81-2.81c.8-.78.8-2.07 0-2.86zM5.41 20L4 18.59l7.72-7.72 1.47 1.35L5.41 20z\"/>\n",
              "  </svg>\n",
              "      </button>\n",
              "      \n",
              "  <style>\n",
              "    .colab-df-container {\n",
              "      display:flex;\n",
              "      flex-wrap:wrap;\n",
              "      gap: 12px;\n",
              "    }\n",
              "\n",
              "    .colab-df-convert {\n",
              "      background-color: #E8F0FE;\n",
              "      border: none;\n",
              "      border-radius: 50%;\n",
              "      cursor: pointer;\n",
              "      display: none;\n",
              "      fill: #1967D2;\n",
              "      height: 32px;\n",
              "      padding: 0 0 0 0;\n",
              "      width: 32px;\n",
              "    }\n",
              "\n",
              "    .colab-df-convert:hover {\n",
              "      background-color: #E2EBFA;\n",
              "      box-shadow: 0px 1px 2px rgba(60, 64, 67, 0.3), 0px 1px 3px 1px rgba(60, 64, 67, 0.15);\n",
              "      fill: #174EA6;\n",
              "    }\n",
              "\n",
              "    [theme=dark] .colab-df-convert {\n",
              "      background-color: #3B4455;\n",
              "      fill: #D2E3FC;\n",
              "    }\n",
              "\n",
              "    [theme=dark] .colab-df-convert:hover {\n",
              "      background-color: #434B5C;\n",
              "      box-shadow: 0px 1px 3px 1px rgba(0, 0, 0, 0.15);\n",
              "      filter: drop-shadow(0px 1px 2px rgba(0, 0, 0, 0.3));\n",
              "      fill: #FFFFFF;\n",
              "    }\n",
              "  </style>\n",
              "\n",
              "      <script>\n",
              "        const buttonEl =\n",
              "          document.querySelector('#df-7a04b1b2-42c0-4840-b135-713009f5e9f6 button.colab-df-convert');\n",
              "        buttonEl.style.display =\n",
              "          google.colab.kernel.accessAllowed ? 'block' : 'none';\n",
              "\n",
              "        async function convertToInteractive(key) {\n",
              "          const element = document.querySelector('#df-7a04b1b2-42c0-4840-b135-713009f5e9f6');\n",
              "          const dataTable =\n",
              "            await google.colab.kernel.invokeFunction('convertToInteractive',\n",
              "                                                     [key], {});\n",
              "          if (!dataTable) return;\n",
              "\n",
              "          const docLinkHtml = 'Like what you see? Visit the ' +\n",
              "            '<a target=\"_blank\" href=https://colab.research.google.com/notebooks/data_table.ipynb>data table notebook</a>'\n",
              "            + ' to learn more about interactive tables.';\n",
              "          element.innerHTML = '';\n",
              "          dataTable['output_type'] = 'display_data';\n",
              "          await google.colab.output.renderOutput(dataTable, element);\n",
              "          const docLink = document.createElement('div');\n",
              "          docLink.innerHTML = docLinkHtml;\n",
              "          element.appendChild(docLink);\n",
              "        }\n",
              "      </script>\n",
              "    </div>\n",
              "  </div>\n",
              "  "
            ],
            "text/plain": [
              "                       song  ...                                             lyrics\n",
              "0           accept yourself  ...  Every day you must say\\nSo, how do I feel abou...\n",
              "1                       ask  ...  Shyness is nice, and\\nShyness can stop you\\nFr...\n",
              "2                    asleep  ...  Sing me to sleep\\nSing me to sleep\\nI'm tired ...\n",
              "3     back to the old house  ...  I would rather not go\\nBack to the old house\\n...\n",
              "4  barbarism begins at home  ...  Unruly boys\\nWho will not grow up\\nMust be tak...\n",
              "\n",
              "[5 rows x 4 columns]"
            ]
          },
          "metadata": {},
          "execution_count": 20
        }
      ]
    },
    {
      "cell_type": "markdown",
      "source": [
        "Then the data will be organized in such manner to guarantee more representative feature. Thus the preprocessing pipeline will contain:\n",
        "\n",
        "1. Ensure all words in the lyrics are in lower case to avoid multiple representation and remove useless characters like: `\\n`, `(`, `)`, `\"`, `...`, `,`, `.`, `;`, `:`, `-`, `_`, `?`, `!`; that are not NLP interpretable;\n",
        "2. Tokenization to separate all word in a lyric;\n",
        "3. Remove stop words that are mainly used to connect meaningful word and they itself do not hold any significance for analysis;\n",
        "4. Apply lemmatization to reduce the words for its radical, dissipating any verbs conjugation or plural of nouns;"
      ],
      "metadata": {
        "id": "cTl8vKzQ-P4r"
      }
    },
    {
      "cell_type": "code",
      "source": [
        "nltk.download('stopwords')\n",
        "nltk.download('wordnet')"
      ],
      "metadata": {
        "colab": {
          "base_uri": "https://localhost:8080/"
        },
        "id": "lhkiCb7tCr68",
        "outputId": "68a0ac47-843f-400f-d7bf-eeefd84ce17b"
      },
      "execution_count": 27,
      "outputs": [
        {
          "output_type": "stream",
          "name": "stdout",
          "text": [
            "[nltk_data] Downloading package stopwords to /root/nltk_data...\n",
            "[nltk_data]   Unzipping corpora/stopwords.zip.\n",
            "[nltk_data] Downloading package wordnet to /root/nltk_data...\n",
            "[nltk_data]   Unzipping corpora/wordnet.zip.\n"
          ]
        },
        {
          "output_type": "execute_result",
          "data": {
            "text/plain": [
              "True"
            ]
          },
          "metadata": {},
          "execution_count": 27
        }
      ]
    },
    {
      "cell_type": "code",
      "source": [
        "def preprocess(text):\n",
        "  stopwords = set(nltk.corpus.stopwords.words('english'))\n",
        "  lemmatizer = WordNetLemmatizer()\n",
        "\n",
        "  words = re.findall(r'\\b[A-zÀ-úü]+\\b', text.lower()) # step 1 and 2\n",
        "  meaningful_words= [i for i in words if not i in stopwords] # step 3\n",
        "  rooted_meaningful_words = [lemmatizer.lemmatize(word) for word in meaningful_words] # step 4\n",
        "  return rooted_meaningful_words"
      ],
      "metadata": {
        "id": "SsW7Ko8pCYgS"
      },
      "execution_count": 38,
      "outputs": []
    },
    {
      "cell_type": "markdown",
      "source": [
        "Below is a quick example of how the `preprocess` pipeline will work."
      ],
      "metadata": {
        "id": "oi0M-J2IFgN4"
      }
    },
    {
      "cell_type": "code",
      "source": [
        "preprocess(r\"Roses are red, violets don't\")"
      ],
      "metadata": {
        "colab": {
          "base_uri": "https://localhost:8080/"
        },
        "id": "gRgoVkm-_XwV",
        "outputId": "a17e82eb-ed57-4933-ae74-7d1f2a67eb12"
      },
      "execution_count": 40,
      "outputs": [
        {
          "output_type": "execute_result",
          "data": {
            "text/plain": [
              "['rose', 'red', 'violet']"
            ]
          },
          "metadata": {},
          "execution_count": 40
        }
      ]
    },
    {
      "cell_type": "markdown",
      "source": [
        "Then proceed to get all meaningful words from The Smiths by applying the preprocessing pipeline:"
      ],
      "metadata": {
        "id": "NU243BkyF2_L"
      }
    },
    {
      "cell_type": "code",
      "source": [
        "def batch_preprocess(series_):\n",
        "  return (\" \".join([\" \".join(preprocess(lyric)) for lyric in series_])).split()\n",
        "\n",
        "tokens = batch_preprocess(df['lyrics'])\n",
        "tokens[:5]"
      ],
      "metadata": {
        "colab": {
          "base_uri": "https://localhost:8080/"
        },
        "id": "aKoKu-5fCIjT",
        "outputId": "7cc87400-0c1f-4778-bd2b-8be2dbf3a73c"
      },
      "execution_count": 60,
      "outputs": [
        {
          "output_type": "execute_result",
          "data": {
            "text/plain": [
              "['every', 'day', 'must', 'say', 'feel']"
            ]
          },
          "metadata": {},
          "execution_count": 60
        }
      ]
    },
    {
      "cell_type": "markdown",
      "source": [
        "# Lexical frequency"
      ],
      "metadata": {
        "id": "yf3bOVKvHa_E"
      }
    },
    {
      "cell_type": "markdown",
      "source": [
        "In this section the word frequency will be analysed based on the words get from The Smiths discography. The frequency of the words can be obtained using NLTK. Then it can be plotted a given number of the most frequent words from The Smiths vocabulary, as seen below:"
      ],
      "metadata": {
        "id": "RebHGhyoHcuF"
      }
    },
    {
      "cell_type": "code",
      "source": [
        "def frequency_plot(tokens, title):\n",
        "  plt.figure(figsize=(10,5))\n",
        "  fd = nltk.FreqDist(tokens)\n",
        "  fd.plot(30,title=title,cumulative=False)\n",
        "\n",
        "frequency_plot(tokens, \"Lexical frequency - The Smiths\")"
      ],
      "metadata": {
        "colab": {
          "base_uri": "https://localhost:8080/",
          "height": 385
        },
        "id": "cZ0p5-eAIG0n",
        "outputId": "a22d0167-1d7b-469c-f753-341b763ae486"
      },
      "execution_count": 64,
      "outputs": [
        {
          "output_type": "display_data",
          "data": {
            "image/png": "[encoded data removed]",
            "text/plain": [
              "<Figure size 720x360 with 1 Axes>"
            ]
          },
          "metadata": {}
        }
      ]
    },
    {
      "cell_type": "markdown",
      "source": [
        "Looking the plotting, they sure like to \"Oh\" around.\n",
        "\n",
        "Since other columns exist in the data set, some narrow filters can be made to extract the lexical frequency of a restricted album or from a given year, in this case the examples are shown below."
      ],
      "metadata": {
        "id": "Lz3EVF6EJCeU"
      }
    },
    {
      "cell_type": "code",
      "source": [
        "print('Some albums: ' + str(df['release'].unique()[:3]))\n",
        "frequency_plot(batch_preprocess(df['lyrics'][df['release']=='hatful of hollow']), \n",
        "               \"Lexical frequency for the album Hatful of Hollow - The Smiths\")"
      ],
      "metadata": {
        "colab": {
          "base_uri": "https://localhost:8080/",
          "height": 439
        },
        "id": "wPetDmLtJsyg",
        "outputId": "4614dff7-d255-4e40-e408-080ac5b8a7c1"
      },
      "execution_count": 65,
      "outputs": [
        {
          "output_type": "stream",
          "name": "stdout",
          "text": [
            "Some albums: ['hatful of hollow' \"the world won't listen(non-album single)\"\n",
            " 'the world won\\'t listen(b-side to \"the boy with the thorn in his side\")']\n"
          ]
        },
        {
          "output_type": "display_data",
          "data": {
            "image/png": "[encoded data removed]",
            "text/plain": [
              "<Figure size 720x360 with 1 Axes>"
            ]
          },
          "metadata": {}
        }
      ]
    },
    {
      "cell_type": "code",
      "source": [
        "print('Year of releases: ' + str(df['year'].unique()))\n",
        "frequency_plot(batch_preprocess(df['lyrics'][df['year']==1984]), \n",
        "               \"Lexical frequency for the year 1984 - The Smiths\")"
      ],
      "metadata": {
        "colab": {
          "base_uri": "https://localhost:8080/",
          "height": 403
        },
        "id": "RnviJKp_JiAU",
        "outputId": "b172b440-3fcc-4f75-e33c-49728ac17b52"
      },
      "execution_count": 68,
      "outputs": [
        {
          "output_type": "stream",
          "name": "stdout",
          "text": [
            "Year of releases: [1984 1986 1985 1987 1988 1983]\n"
          ]
        },
        {
          "output_type": "display_data",
          "data": {
            "image/png": "[encoded data removed]",
            "text/plain": [
              "<Figure size 720x360 with 1 Axes>"
            ]
          },
          "metadata": {}
        }
      ]
    },
    {
      "cell_type": "markdown",
      "source": [
        "# Group by similarities"
      ],
      "metadata": {
        "id": "6g_nJvJ-Leg6"
      }
    },
    {
      "cell_type": "markdown",
      "source": [
        "In this last section the content of the musics will be vectorized using `Doc2Vec`, so each music can be represented by a $\\text{n} \\; th$ dimensional vector, thus allowing to algebrically compare each vector.\n",
        "\n",
        "\n",
        "\n",
        "As a disclaimer, the `Doc2Vec` will use the Distributed Bag of Words (DBOW) architecture."
      ],
      "metadata": {
        "id": "pIK32lmzLht3"
      }
    },
    {
      "cell_type": "markdown",
      "source": [
        "In this case the data should be organized as a `TaggedDocument` so each music lyrics are associated correctly."
      ],
      "metadata": {
        "id": "115TnVyBRENO"
      }
    },
    {
      "cell_type": "code",
      "source": [
        "df['td'] = df.apply(lambda r: TaggedDocument(words=preprocess(r['lyrics']), tags=[r.song]), axis=1).values\n",
        "df.filter(['lyrics','td']).head()"
      ],
      "metadata": {
        "colab": {
          "base_uri": "https://localhost:8080/",
          "height": 206
        },
        "id": "ziYP0CPoRO1M",
        "outputId": "154c0eeb-46ca-40f7-ec16-ecfa5ac6c795"
      },
      "execution_count": 80,
      "outputs": [
        {
          "output_type": "execute_result",
          "data": {
            "text/html": [
              "\n",
              "  <div id=\"df-d8827734-ea7e-49bb-a8d1-d1267522fbe5\">\n",
              "    <div class=\"colab-df-container\">\n",
              "      <div>\n",
              "<style scoped>\n",
              "    .dataframe tbody tr th:only-of-type {\n",
              "        vertical-align: middle;\n",
              "    }\n",
              "\n",
              "    .dataframe tbody tr th {\n",
              "        vertical-align: top;\n",
              "    }\n",
              "\n",
              "    .dataframe thead th {\n",
              "        text-align: right;\n",
              "    }\n",
              "</style>\n",
              "<table border=\"1\" class=\"dataframe\">\n",
              "  <thead>\n",
              "    <tr style=\"text-align: right;\">\n",
              "      <th></th>\n",
              "      <th>lyrics</th>\n",
              "      <th>td</th>\n",
              "    </tr>\n",
              "  </thead>\n",
              "  <tbody>\n",
              "    <tr>\n",
              "      <th>0</th>\n",
              "      <td>Every day you must say\\nSo, how do I feel abou...</td>\n",
              "      <td>([every, day, must, say, feel, life, anything,...</td>\n",
              "    </tr>\n",
              "    <tr>\n",
              "      <th>1</th>\n",
              "      <td>Shyness is nice, and\\nShyness can stop you\\nFr...</td>\n",
              "      <td>([shyness, nice, shyness, stop, thing, life, l...</td>\n",
              "    </tr>\n",
              "    <tr>\n",
              "      <th>2</th>\n",
              "      <td>Sing me to sleep\\nSing me to sleep\\nI'm tired ...</td>\n",
              "      <td>([sing, sleep, sing, sleep, tired, want, go, b...</td>\n",
              "    </tr>\n",
              "    <tr>\n",
              "      <th>3</th>\n",
              "      <td>I would rather not go\\nBack to the old house\\n...</td>\n",
              "      <td>([would, rather, go, back, old, house, would, ...</td>\n",
              "    </tr>\n",
              "    <tr>\n",
              "      <th>4</th>\n",
              "      <td>Unruly boys\\nWho will not grow up\\nMust be tak...</td>\n",
              "      <td>([unruly, boy, grow, must, taken, hand, unruly...</td>\n",
              "    </tr>\n",
              "  </tbody>\n",
              "</table>\n",
              "</div>\n",
              "      <button class=\"colab-df-convert\" onclick=\"convertToInteractive('df-d8827734-ea7e-49bb-a8d1-d1267522fbe5')\"\n",
              "              title=\"Convert this dataframe to an interactive table.\"\n",
              "              style=\"display:none;\">\n",
              "        \n",
              "  <svg xmlns=\"http://www.w3.org/2000/svg\" height=\"24px\"viewBox=\"0 0 24 24\"\n",
              "       width=\"24px\">\n",
              "    <path d=\"M0 0h24v24H0V0z\" fill=\"none\"/>\n",
              "    <path d=\"M18.56 5.44l.94 2.06.94-2.06 2.06-.94-2.06-.94-.94-2.06-.94 2.06-2.06.94zm-11 1L8.5 8.5l.94-2.06 2.06-.94-2.06-.94L8.5 2.5l-.94 2.06-2.06.94zm10 10l.94 2.06.94-2.06 2.06-.94-2.06-.94-.94-2.06-.94 2.06-2.06.94z\"/><path d=\"M17.41 7.96l-1.37-1.37c-.4-.4-.92-.59-1.43-.59-.52 0-1.04.2-1.43.59L10.3 9.45l-7.72 7.72c-.78.78-.78 2.05 0 2.83L4 21.41c.39.39.9.59 1.41.59.51 0 1.02-.2 1.41-.59l7.78-7.78 2.81-2.81c.8-.78.8-2.07 0-2.86zM5.41 20L4 18.59l7.72-7.72 1.47 1.35L5.41 20z\"/>\n",
              "  </svg>\n",
              "      </button>\n",
              "      \n",
              "  <style>\n",
              "    .colab-df-container {\n",
              "      display:flex;\n",
              "      flex-wrap:wrap;\n",
              "      gap: 12px;\n",
              "    }\n",
              "\n",
              "    .colab-df-convert {\n",
              "      background-color: #E8F0FE;\n",
              "      border: none;\n",
              "      border-radius: 50%;\n",
              "      cursor: pointer;\n",
              "      display: none;\n",
              "      fill: #1967D2;\n",
              "      height: 32px;\n",
              "      padding: 0 0 0 0;\n",
              "      width: 32px;\n",
              "    }\n",
              "\n",
              "    .colab-df-convert:hover {\n",
              "      background-color: #E2EBFA;\n",
              "      box-shadow: 0px 1px 2px rgba(60, 64, 67, 0.3), 0px 1px 3px 1px rgba(60, 64, 67, 0.15);\n",
              "      fill: #174EA6;\n",
              "    }\n",
              "\n",
              "    [theme=dark] .colab-df-convert {\n",
              "      background-color: #3B4455;\n",
              "      fill: #D2E3FC;\n",
              "    }\n",
              "\n",
              "    [theme=dark] .colab-df-convert:hover {\n",
              "      background-color: #434B5C;\n",
              "      box-shadow: 0px 1px 3px 1px rgba(0, 0, 0, 0.15);\n",
              "      filter: drop-shadow(0px 1px 2px rgba(0, 0, 0, 0.3));\n",
              "      fill: #FFFFFF;\n",
              "    }\n",
              "  </style>\n",
              "\n",
              "      <script>\n",
              "        const buttonEl =\n",
              "          document.querySelector('#df-d8827734-ea7e-49bb-a8d1-d1267522fbe5 button.colab-df-convert');\n",
              "        buttonEl.style.display =\n",
              "          google.colab.kernel.accessAllowed ? 'block' : 'none';\n",
              "\n",
              "        async function convertToInteractive(key) {\n",
              "          const element = document.querySelector('#df-d8827734-ea7e-49bb-a8d1-d1267522fbe5');\n",
              "          const dataTable =\n",
              "            await google.colab.kernel.invokeFunction('convertToInteractive',\n",
              "                                                     [key], {});\n",
              "          if (!dataTable) return;\n",
              "\n",
              "          const docLinkHtml = 'Like what you see? Visit the ' +\n",
              "            '<a target=\"_blank\" href=https://colab.research.google.com/notebooks/data_table.ipynb>data table notebook</a>'\n",
              "            + ' to learn more about interactive tables.';\n",
              "          element.innerHTML = '';\n",
              "          dataTable['output_type'] = 'display_data';\n",
              "          await google.colab.output.renderOutput(dataTable, element);\n",
              "          const docLink = document.createElement('div');\n",
              "          docLink.innerHTML = docLinkHtml;\n",
              "          element.appendChild(docLink);\n",
              "        }\n",
              "      </script>\n",
              "    </div>\n",
              "  </div>\n",
              "  "
            ],
            "text/plain": [
              "                                              lyrics                                                 td\n",
              "0  Every day you must say\\nSo, how do I feel abou...  ([every, day, must, say, feel, life, anything,...\n",
              "1  Shyness is nice, and\\nShyness can stop you\\nFr...  ([shyness, nice, shyness, stop, thing, life, l...\n",
              "2  Sing me to sleep\\nSing me to sleep\\nI'm tired ...  ([sing, sleep, sing, sleep, tired, want, go, b...\n",
              "3  I would rather not go\\nBack to the old house\\n...  ([would, rather, go, back, old, house, would, ...\n",
              "4  Unruly boys\\nWho will not grow up\\nMust be tak...  ([unruly, boy, grow, must, taken, hand, unruly..."
            ]
          },
          "metadata": {},
          "execution_count": 80
        }
      ]
    },
    {
      "cell_type": "markdown",
      "source": [
        "The format of each lyric is:"
      ],
      "metadata": {
        "id": "zTGTzOnNR7xv"
      }
    },
    {
      "cell_type": "code",
      "source": [
        "df.sample(1)['td'].iloc[0]"
      ],
      "metadata": {
        "colab": {
          "base_uri": "https://localhost:8080/"
        },
        "id": "Kj5jb5RoR-ir",
        "outputId": "0f44ef6f-797f-4cfe-f09d-4be78263aff3"
      },
      "execution_count": 82,
      "outputs": [
        {
          "output_type": "execute_result",
          "data": {
            "text/plain": [
              "TaggedDocument(words=['oh', 'hello', 'ghost', 'troubled', 'joe', 'hung', 'pretty', 'white', 'neck', 'eighteen', 'month', 'ago', 'travelled', 'mystical', 'time', 'zone', 'missed', 'bed', 'soon', 'came', 'home', 'said', 'much', 'caffeine', 'bloodstream', 'lack', 'real', 'spice', 'life', 'said', 'leave', 'alone', 'alright', 'dad', 'surprised', 'still', 'oh', 'mention', 'love', 'hate', 'strain', 'pain', 'rush', 'push', 'land', 'stand', 'shall', 'people', 'uglier', 'take', 'need', 'leave', 'oh', 'mention', 'love', 'hate', 'pain', 'strain', 'rush', 'push', 'land', 'stand', 'people', 'weaker', 'take', 'want', 'life', 'oh', 'mention', 'love', 'mention', 'love', 'rush', 'push', 'land', 'stand', 'youth', 'may', 'gone', 'still', 'young', 'man', 'phone', 'phone', 'phone', 'phone', 'phone', 'phone', 'oh', 'think', 'love', 'oh', 'think', 'love', 'oh', 'think', 'love', 'think', 'love', 'oh', 'think', 'love', 'oh'], tags=['rubber ring'])"
            ]
          },
          "metadata": {},
          "execution_count": 82
        }
      ]
    },
    {
      "cell_type": "markdown",
      "source": [
        "After that the `Doc2Vec` can be instantiated and have its model build on top of the musics vocabulary."
      ],
      "metadata": {
        "id": "VU0YSw1sS_CX"
      }
    },
    {
      "cell_type": "code",
      "source": [
        "# https://towardsdatascience.com/multi-class-text-classification-with-doc2vec-logistic-regression-9da9947b43f4\n",
        "\n",
        "cores = multiprocessing.cpu_count()\n",
        "\n",
        "# build vocabulary\n",
        "model = Doc2Vec(dm=0, # PV-DBOW\n",
        "                vector_size=1000, # feature vector size\n",
        "                negative=5, # drawn noise words\n",
        "                hs=0, # negative sampling wil be used\n",
        "                min_count=2, # ignore words with lesser frequency\n",
        "                sample=0, # threshold for random smapling\n",
        "                workers=cores # number of cores\n",
        "                )\n",
        "model.build_vocab([x for x in tqdm(df['td'])])\n",
        "print(model)"
      ],
      "metadata": {
        "colab": {
          "base_uri": "https://localhost:8080/"
        },
        "id": "TkLQz1xbM0Dy",
        "outputId": "2840b343-1a07-4ee0-fbe0-e3c539822336"
      },
      "execution_count": 92,
      "outputs": [
        {
          "output_type": "stream",
          "name": "stderr",
          "text": [
            "100%|██████████| 73/73 [00:00<00:00, 104321.70it/s]\n"
          ]
        },
        {
          "output_type": "stream",
          "name": "stdout",
          "text": [
            "Doc2Vec(dbow,d1000,n5,mc2,t2)\n"
          ]
        }
      ]
    },
    {
      "cell_type": "markdown",
      "source": [
        "Then training:"
      ],
      "metadata": {
        "id": "e67P7BePTYcf"
      }
    },
    {
      "cell_type": "code",
      "source": [
        "%%time\n",
        "n = len(df['td'])\n",
        "for epoch in range(10):\n",
        "  model.train(utils.shuffle([x for x in tqdm(df['td'])]), total_examples=n, epochs=1)\n",
        "  model.alpha -= 0.002\n",
        "  model.min_alpha = model.alpha"
      ],
      "metadata": {
        "colab": {
          "base_uri": "https://localhost:8080/"
        },
        "id": "-d7NIOfwTaL4",
        "outputId": "f41d4c16-2d42-4f86-bd87-43959d98dd90"
      },
      "execution_count": 97,
      "outputs": [
        {
          "output_type": "stream",
          "name": "stderr",
          "text": [
            "100%|██████████| 73/73 [00:00<00:00, 293561.07it/s]\n",
            "100%|██████████| 73/73 [00:00<00:00, 345970.84it/s]\n",
            "100%|██████████| 73/73 [00:00<00:00, 598016.00it/s]\n",
            "100%|██████████| 73/73 [00:00<00:00, 598016.00it/s]\n",
            "100%|██████████| 73/73 [00:00<00:00, 261472.41it/s]\n",
            "100%|██████████| 73/73 [00:00<00:00, 418284.42it/s]\n",
            "100%|██████████| 73/73 [00:00<00:00, 424666.01it/s]\n",
            "100%|██████████| 73/73 [00:00<00:00, 387574.93it/s]\n",
            "100%|██████████| 73/73 [00:00<00:00, 439919.82it/s]\n",
            "100%|██████████| 73/73 [00:00<00:00, 304358.04it/s]\n"
          ]
        },
        {
          "output_type": "stream",
          "name": "stdout",
          "text": [
            "CPU times: user 256 ms, sys: 15.5 ms, total: 272 ms\n",
            "Wall time: 331 ms\n"
          ]
        }
      ]
    },
    {
      "cell_type": "markdown",
      "source": [
        "The feature vectors for each lyric are built, now it remains to associate each one of the songs to the respective vector in a algebric manner to ease of use when training the K-means model."
      ],
      "metadata": {
        "id": "M6grBRWdU_yo"
      }
    },
    {
      "cell_type": "code",
      "source": [
        "def get_music_vectors(model, lyrics):\n",
        "    musics, vec_lyrics = zip(*[(lyric.tags[0], model.infer_vector(lyric.words, steps=20)) for lyric in lyrics])\n",
        "    return musics, np.array(vec_lyrics)\n",
        "\n",
        "musics, vec_lyrics = get_doc_vectors(model, df['td'])"
      ],
      "metadata": {
        "id": "VSU12I0-Vfxo"
      },
      "execution_count": 106,
      "outputs": []
    },
    {
      "cell_type": "markdown",
      "source": [
        "Before training the vectorized values of the lyrics are scaled with a min-max scaler as best practices for the ML model traning."
      ],
      "metadata": {
        "id": "RtGWLPK4W6mt"
      }
    },
    {
      "cell_type": "code",
      "source": [
        "X = MinMaxScaler().fit_transform(vec_lyrics)\n",
        "y = musics"
      ],
      "metadata": {
        "id": "KGChqPGkXKHW"
      },
      "execution_count": 108,
      "outputs": []
    },
    {
      "cell_type": "markdown",
      "source": [
        "Then a PCA plot function is defiend below so the dataset can be visualized in a lower dimension than the $1000 \\; th$ dimensional feature vector. The dimension of reduction is set to 2D."
      ],
      "metadata": {
        "id": "kQNBRTchXX32"
      }
    },
    {
      "cell_type": "code",
      "source": [
        "def pca_plot(X, y, title):\n",
        "  pca = PCA(n_components=2)\n",
        "  X2D = MinMaxScaler().fit_transform(pca.fit(X).transform(X)) # feature matrix after pca\n",
        "\n",
        "  print('Explained variance ratio: %s' % str(pca.explained_variance_ratio_))\n",
        "\n",
        "  plt.figure()\n",
        "  for i in range(len(y)):\n",
        "    plt.scatter(\n",
        "      x=X2D[i,0], y=X2D[i,1], c=[np.random.rand(3)], \n",
        "    )\n",
        "  plt.legend(loc='best', shadow=False, scatterpoints=1)\n",
        "  plt.title(title)\n",
        "  #ax = plt.gca()\n",
        "  #ax.legend_ = None\n",
        "  plt.show()"
      ],
      "metadata": {
        "id": "xTEFfyOcN4rp"
      },
      "execution_count": 141,
      "outputs": []
    },
    {
      "cell_type": "code",
      "source": [
        "pca_plot(X, y, '2D plot for the musics in The Smiths discography')"
      ],
      "metadata": {
        "colab": {
          "base_uri": "https://localhost:8080/",
          "height": 320
        },
        "id": "MGCzbVPdXuQ7",
        "outputId": "071d8b21-e9c5-4460-a145-405aa96ab57b"
      },
      "execution_count": 142,
      "outputs": [
        {
          "output_type": "stream",
          "name": "stdout",
          "text": [
            "Explained variance ratio: [9.98698577e-01 4.33261527e-04]\n"
          ]
        },
        {
          "output_type": "stream",
          "name": "stderr",
          "text": [
            "No handles with labels found to put in legend.\n"
          ]
        },
        {
          "output_type": "display_data",
          "data": {
            "image/png": "[encoded data removed]",
            "text/plain": [
              "<Figure size 432x288 with 1 Axes>"
            ]
          },
          "metadata": {}
        }
      ]
    },
    {
      "cell_type": "markdown",
      "source": [
        "The plot has two main clusters. Remains to know if K-means will detect these clusters.\n",
        "\n",
        "The PCA is a good metric of reduction to 2D since both components holds more than 99.9% of explained variance from the original dataset."
      ],
      "metadata": {
        "id": "eP7ecfBEacEp"
      }
    },
    {
      "cell_type": "markdown",
      "source": [
        "Before applying K-means the elbow method is used do define the ideal number of clusters based in the inertia parameter. Then the test is realized up to 15 clusters and the inertia array is plotted below."
      ],
      "metadata": {
        "id": "xzTsWTC2awXi"
      }
    },
    {
      "cell_type": "code",
      "source": [
        "range_ = np.arange(1,15+1,1)\n",
        "inertia = []\n",
        "\n",
        "for k in range_:\n",
        "  kmeans = KMeans(n_clusters=k)\n",
        "  kmeans.fit(X)\n",
        "  inertia.append(kmeans.inertia_)\n",
        "\n",
        "cluster_df = pd.DataFrame({'cluster':range_, 'inertia':inertia})\n",
        "cluster_df.head()\n",
        "\n",
        "plt.figure(figsize=(10,5))\n",
        "plt.plot(cluster_df['cluster'], cluster_df['inertia'])\n",
        "plt.title('Evolution of inertia with increasing number of clusters')\n",
        "plt.xlabel('Number of clusters')\n",
        "plt.ylabel('Inertia');"
      ],
      "metadata": {
        "colab": {
          "base_uri": "https://localhost:8080/",
          "height": 355
        },
        "id": "v2hPH0cka4gZ",
        "outputId": "d582cb47-15a7-4a2e-dd96-db1c108ba577"
      },
      "execution_count": 143,
      "outputs": [
        {
          "output_type": "display_data",
          "data": {
            "image/png": "[encoded data removed]",
            "text/plain": [
              "<Figure size 720x360 with 1 Axes>"
            ]
          },
          "metadata": {}
        }
      ]
    },
    {
      "cell_type": "markdown",
      "source": [
        "As seen in the PCA plot, the elbow method returned 2 clusters as ideal for the K-means training. To better confiramtion the libary `kneed` was used to detect the knee of which represents the number of clusters that the inertia stagnates and, again confirming 2 as the ideal number."
      ],
      "metadata": {
        "id": "-WpERaF_bL9G"
      }
    },
    {
      "cell_type": "code",
      "source": [
        "kl = KneeLocator(cluster_df['cluster'], cluster_df['inertia'], curve=\"convex\", direction=\"decreasing\" )\n",
        "kl.elbow"
      ],
      "metadata": {
        "colab": {
          "base_uri": "https://localhost:8080/"
        },
        "id": "u2zVr2fabkXr",
        "outputId": "8fd8b2c2-76cc-401e-b070-9540a5d7a496"
      },
      "execution_count": 144,
      "outputs": [
        {
          "output_type": "execute_result",
          "data": {
            "text/plain": [
              "2"
            ]
          },
          "metadata": {},
          "execution_count": 144
        }
      ]
    },
    {
      "cell_type": "markdown",
      "source": [
        "To visualze the results, PCA is again used to reduce the data and the cluster centroids to 2D."
      ],
      "metadata": {
        "id": "_3YMHpB1cEO_"
      }
    },
    {
      "cell_type": "code",
      "source": [
        "def kmeans_pca_plot(X, kmeans, title, y=pd.Series(dtype=np.object)):\n",
        "  pca = PCA(n_components=2)\n",
        "  X2D = pca.fit(X).transform(X)\n",
        "  CENT = pca.transform(kmeans.cluster_centers_)\n",
        "  plt.figure(figsize=(7,7))\n",
        "\n",
        "  if(y.empty):\n",
        "    c = np.random.rand(len(kmeans.labels_),3)\n",
        "    for i in range(len(kmeans.labels_)): \n",
        "      plt.scatter(X2D[i,0], X2D[i,1], s=50, c=[c[kmeans.labels_[i]]],) #marker='$'+str(kmeans.labels_[i])+'$')\n",
        "  else:\n",
        "    y = np.array(y)\n",
        "    u = np.unique(y)\n",
        "    n = len(u)\n",
        "    for i in range(n): \n",
        "      plt.scatter(X2D[y==u[i],0], X2D[y==u[i],1], s=50, c=np.random.rand(1,3), label=str(u[i])) #marker='$'+str(kmeans.labels_[i])+'$')\n",
        "  \n",
        "  plt.scatter(CENT[:, 0], CENT[:, 1], s=300, c='blue', label='Centroids')\n",
        "  plt.title(title)\n",
        "  plt.legend();"
      ],
      "metadata": {
        "id": "o8Aj4Ldvdp8I"
      },
      "execution_count": 159,
      "outputs": []
    },
    {
      "cell_type": "markdown",
      "source": [
        "Finally the K-means model can be trained:"
      ],
      "metadata": {
        "id": "hO4_vbbfbwbq"
      }
    },
    {
      "cell_type": "code",
      "source": [
        "kmeans = KMeans(kl.elbow)\n",
        "kmeans = kmeans.fit(X)\n",
        "kmeans_pca_plot(X,kmeans,title='The Smiths musics clusters')"
      ],
      "metadata": {
        "colab": {
          "base_uri": "https://localhost:8080/",
          "height": 447
        },
        "id": "ePwTkdWOb0w_",
        "outputId": "b0f31ba2-dc7a-4a66-d0d1-c332cf061d38"
      },
      "execution_count": 164,
      "outputs": [
        {
          "output_type": "display_data",
          "data": {
            "image/png": "[encoded data removed]",
            "text/plain": [
              "<Figure size 504x504 with 1 Axes>"
            ]
          },
          "metadata": {}
        }
      ]
    },
    {
      "cell_type": "markdown",
      "source": [
        "Despite using the optimal number of clusters, there is still 3 musics that are a little far from the centroid. Thus when applying K-means again for 3 clusters, these musics are easily assigned to the new cluster."
      ],
      "metadata": {
        "id": "3SRcModLdIZt"
      }
    },
    {
      "cell_type": "code",
      "source": [
        "kmeans = KMeans(3)\n",
        "kmeans = kmeans.fit(X)\n",
        "kmeans_pca_plot(X,kmeans,title='The Smiths musics clusters')"
      ],
      "metadata": {
        "colab": {
          "base_uri": "https://localhost:8080/",
          "height": 447
        },
        "id": "sQavUzfNdg6M",
        "outputId": "422d908d-8cb3-4fb9-fd64-ed64b673512c"
      },
      "execution_count": 165,
      "outputs": [
        {
          "output_type": "display_data",
          "data": {
            "image/png": "[encoded data removed]",
            "text/plain": [
              "<Figure size 504x504 with 1 Axes>"
            ]
          },
          "metadata": {}
        }
      ]
    },
    {
      "cell_type": "markdown",
      "source": [
        "Now knowing that The Smiths had two or three main tendencies in its musics, lets check if these dissimilarities has anything to do with the album that each music is on:"
      ],
      "metadata": {
        "id": "SH9JvwjGfJVh"
      }
    },
    {
      "cell_type": "code",
      "source": [
        "kmeans_pca_plot(X, kmeans, 'The Smiths musics clusters based in the albums', y=df['release'])\n",
        "ax = plt.gca()\n",
        "ax.legend_ = None"
      ],
      "metadata": {
        "colab": {
          "base_uri": "https://localhost:8080/",
          "height": 447
        },
        "id": "khaX25d5i231",
        "outputId": "27efcd02-ab8c-4aa8-ed81-a7fd376cad1b"
      },
      "execution_count": 178,
      "outputs": [
        {
          "output_type": "display_data",
          "data": {
            "image/png": "[encoded data removed]",
            "text/plain": [
              "<Figure size 504x504 with 1 Axes>"
            ]
          },
          "metadata": {}
        }
      ]
    },
    {
      "cell_type": "markdown",
      "source": [
        "Or the year of release:"
      ],
      "metadata": {
        "id": "mro01NDkixu2"
      }
    },
    {
      "cell_type": "code",
      "source": [
        "kmeans_pca_plot(X, kmeans, 'The Smiths musics clusters based in the years', y=df['year'])"
      ],
      "metadata": {
        "colab": {
          "base_uri": "https://localhost:8080/",
          "height": 447
        },
        "id": "Ooultsnrhquv",
        "outputId": "8df5221b-0b28-4c5d-8618-5894e1bd4701"
      },
      "execution_count": 176,
      "outputs": [
        {
          "output_type": "display_data",
          "data": {
            "image/png": "[encoded data removed]",
            "text/plain": [
              "<Figure size 504x504 with 1 Axes>"
            ]
          },
          "metadata": {}
        }
      ]
    },
    {
      "cell_type": "markdown",
      "source": [
        "Neither the year or album has clear influency in the lyrics of the musics.\n",
        "\n",
        "Concluding this analysis, this work allowed to develop a methodology for classifying different documents, since a music lyric has same structure as any other textual genre.\n",
        "\n",
        "For more complex works this might be a viable analysis to defined pattern of similarities between documents, enabling a quick organization of documents."
      ],
      "metadata": {
        "id": "7TrBq4N1jHLE"
      }
    }
  ]
}