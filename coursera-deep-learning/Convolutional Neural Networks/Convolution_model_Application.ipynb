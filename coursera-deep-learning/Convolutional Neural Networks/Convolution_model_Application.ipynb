{
 "cells": [
  {
   "cell_type": "markdown",
   "metadata": {},
   "source": [
    "# Convolutional Neural Networks: Application\n",
    "\n",
    "Welcome to Course 4's second assignment! In this notebook, you will:\n",
    "\n",
    "- Create a mood classifer using the TF Keras Sequential API\n",
    "- Build a ConvNet to identify sign language digits using the TF Keras Functional API\n",
    "\n",
    "**After this assignment you will be able to:**\n",
    "\n",
    "- Build and train a ConvNet in TensorFlow for a __binary__ classification problem\n",
    "- Build and train a ConvNet in TensorFlow for a __multiclass__ classification problem\n",
    "- Explain different use cases for the Sequential and Functional APIs\n",
    "\n",
    "To complete this assignment, you should already be familiar with TensorFlow. If you are not, please refer back to the **TensorFlow Tutorial** of the third week of Course 2 (\"**Improving deep neural networks**\")."
   ]
  },
  {
   "cell_type": "markdown",
   "metadata": {},
   "source": [
    "## Table of Contents\n",
    "\n",
    "- [1 - Packages](#1)\n",
    "    - [1.1 - Load the Data and Split the Data into Train/Test Sets](#1-1)\n",
    "- [2 - Layers in TF Keras](#2)\n",
    "- [3 - The Sequential API](#3)\n",
    "    - [3.1 - Create the Sequential Model](#3-1)\n",
    "        - [Exercise 1 - happyModel](#ex-1)\n",
    "    - [3.2 - Train and Evaluate the Model](#3-2)\n",
    "- [4 - The Functional API](#4)\n",
    "    - [4.1 - Load the SIGNS Dataset](#4-1)\n",
    "    - [4.2 - Split the Data into Train/Test Sets](#4-2)\n",
    "    - [4.3 - Forward Propagation](#4-3)\n",
    "        - [Exercise 2 - convolutional_model](#ex-2)\n",
    "    - [4.4 - Train the Model](#4-4)\n",
    "- [5 - History Object](#5)\n",
    "- [6 - Bibliography](#6)"
   ]
  },
  {
   "cell_type": "markdown",
   "metadata": {},
   "source": [
    "<a name='1'></a>\n",
    "## 1 - Packages\n",
    "\n",
    "As usual, begin by loading in the packages."
   ]
  },
  {
   "cell_type": "code",
   "execution_count": 1,
   "metadata": {},
   "outputs": [],
   "source": [
    "import math\n",
    "import numpy as np\n",
    "import h5py\n",
    "import matplotlib.pyplot as plt\n",
    "from matplotlib.pyplot import imread\n",
    "import scipy\n",
    "from PIL import Image\n",
    "import pandas as pd\n",
    "import tensorflow as tf\n",
    "import tensorflow.keras.layers as tfl\n",
    "from tensorflow.python.framework import ops\n",
    "from cnn_utils import *\n",
    "from test_utils import summary, comparator\n",
    "\n",
    "%matplotlib inline\n",
    "np.random.seed(1)"
   ]
  },
  {
   "cell_type": "markdown",
   "metadata": {},
   "source": [
    "<a name='1-1'></a>\n",
    "### 1.1 - Load the Data and Split the Data into Train/Test Sets\n",
    "\n",
    "You'll be using the Happy House dataset for this part of the assignment, which contains images of peoples' faces. Your task will be to build a ConvNet that determines whether the people in the images are smiling or not -- because they only get to enter the house if they're smiling!  "
   ]
  },
  {
   "cell_type": "code",
   "execution_count": 2,
   "metadata": {},
   "outputs": [
    {
     "name": "stdout",
     "output_type": "stream",
     "text": [
      "number of training examples = 600\n",
      "number of test examples = 150\n",
      "X_train shape: (600, 64, 64, 3)\n",
      "Y_train shape: (600, 1)\n",
      "X_test shape: (150, 64, 64, 3)\n",
      "Y_test shape: (150, 1)\n"
     ]
    }
   ],
   "source": [
    "X_train_orig, Y_train_orig, X_test_orig, Y_test_orig, classes = load_happy_dataset()\n",
    "\n",
    "# Normalize image vectors\n",
    "X_train = X_train_orig/255.\n",
    "X_test = X_test_orig/255.\n",
    "\n",
    "# Reshape\n",
    "Y_train = Y_train_orig.T\n",
    "Y_test = Y_test_orig.T\n",
    "\n",
    "print (\"number of training examples = \" + str(X_train.shape[0]))\n",
    "print (\"number of test examples = \" + str(X_test.shape[0]))\n",
    "print (\"X_train shape: \" + str(X_train.shape))\n",
    "print (\"Y_train shape: \" + str(Y_train.shape))\n",
    "print (\"X_test shape: \" + str(X_test.shape))\n",
    "print (\"Y_test shape: \" + str(Y_test.shape))"
   ]
  },
  {
   "cell_type": "markdown",
   "metadata": {},
   "source": [
    "You can display the images contained in the dataset. Images are **64x64** pixels in RGB format (3 channels)."
   ]
  },
  {
   "cell_type": "code",
   "execution_count": 3,
   "metadata": {},
   "outputs": [
    {
     "data": {
      "image/png": "[encoded data removed]",
      "text/plain": [
       "<Figure size 432x288 with 1 Axes>"
      ]
     },
     "metadata": {
      "needs_background": "light"
     },
     "output_type": "display_data"
    }
   ],
   "source": [
    "index = 101\n",
    "plt.imshow(X_train_orig[index]) #display sample training image\n",
    "plt.show()"
   ]
  },
  {
   "cell_type": "markdown",
   "metadata": {},
   "source": [
    "<a name='2'></a>\n",
    "## 2 - Layers in TF Keras \n",
    "\n",
    "In the previous assignment, you created layers manually in numpy. In TF Keras, you don't have to write code directly to create layers. Rather, TF Keras has pre-defined layers you can use. \n",
    "\n",
    "When you create a layer in TF Keras, you are creating a function that takes some input and transforms it into an output you can reuse later. Nice and easy! "
   ]
  },
  {
   "cell_type": "markdown",
   "metadata": {},
   "source": [
    "<a name='3'></a>\n",
    "## 3 - The Sequential API\n",
    "\n",
    "In the previous assignment, you built helper functions using `numpy` to understand the mechanics behind convolutional neural networks. Most practical applications of deep learning today are built using programming frameworks, which have many built-in functions you can simply call. Keras is a high-level abstraction built on top of TensorFlow, which allows for even more simplified and optimized model creation and training. \n",
    "\n",
    "For the first part of this assignment, you'll create a model using TF Keras' Sequential API, which allows you to build layer by layer, and is ideal for building models where each layer has **exactly one** input tensor and **one** output tensor. \n",
    "\n",
    "As you'll see, using the Sequential API is simple and straightforward, but is only appropriate for simpler, more straightforward tasks. Later in this notebook you'll spend some time building with a more flexible, powerful alternative: the Functional API. \n",
    " "
   ]
  },
  {
   "cell_type": "markdown",
   "metadata": {},
   "source": [
    "<a name='3-1'></a>\n",
    "### 3.1 - Create the Sequential Model\n",
    "\n",
    "As mentioned earlier, the TensorFlow Keras Sequential API can be used to build simple models with layer operations that proceed in a sequential order. \n",
    "\n",
    "You can also add layers incrementally to a Sequential model with the `.add()` method, or remove them using the `.pop()` method, much like you would in a regular Python list.\n",
    "\n",
    "Actually, you can think of a Sequential model as behaving like a list of layers. Like Python lists, Sequential layers are ordered, and the order in which they are specified matters.  If your model is non-linear or contains layers with multiple inputs or outputs, a Sequential model wouldn't be the right choice!\n",
    "\n",
    "For any layer construction in Keras, you'll need to specify the input shape in advance. This is because in Keras, the shape of the weights is based on the shape of the inputs. The weights are only created when the model first sees some input data. Sequential models can be created by passing a list of layers to the Sequential constructor, like you will do in the next assignment.\n",
    "\n",
    "<a name='ex-1'></a>\n",
    "### Exercise 1 - happyModel\n",
    "\n",
    "Implement the `happyModel` function below to build the following model: `ZEROPAD2D -> CONV2D -> BATCHNORM -> RELU -> MAXPOOL -> FLATTEN -> DENSE`. Take help from [tf.keras.layers](https://www.tensorflow.org/api_docs/python/tf/keras/layers) \n",
    "\n",
    "Also, plug in the following parameters for all the steps:\n",
    "\n",
    " - [ZeroPadding2D](https://www.tensorflow.org/api_docs/python/tf/keras/layers/ZeroPadding2D): padding 3, input shape 64 x 64 x 3\n",
    " - [Conv2D](https://www.tensorflow.org/api_docs/python/tf/keras/layers/Conv2D): Use 32 7x7 filters, stride 1\n",
    " - [BatchNormalization](https://www.tensorflow.org/api_docs/python/tf/keras/layers/BatchNormalization): for axis 3\n",
    " - [ReLU](https://www.tensorflow.org/api_docs/python/tf/keras/layers/ReLU)\n",
    " - [MaxPool2D](https://www.tensorflow.org/api_docs/python/tf/keras/layers/MaxPool2D): Using default parameters\n",
    " - [Flatten](https://www.tensorflow.org/api_docs/python/tf/keras/layers/Flatten) the previous output.\n",
    " - Fully-connected ([Dense](https://www.tensorflow.org/api_docs/python/tf/keras/layers/Dense)) layer: Apply a fully connected layer with 1 neuron and a sigmoid activation. \n",
    " \n",
    " \n",
    " **Hint:**\n",
    " \n",
    " Use **tfl** as shorthand for **tensorflow.keras.layers**"
   ]
  },
  {
   "cell_type": "code",
   "execution_count": 54,
   "metadata": {
    "deletable": false,
    "nbgrader": {
     "cell_type": "code",
     "checksum": "95d28b191f257bdd5b70c7b8952559d5",
     "grade": false,
     "grade_id": "cell-0e56d3fc28b69aec",
     "locked": false,
     "schema_version": 3,
     "solution": true,
     "task": false
    }
   },
   "outputs": [],
   "source": [
    "# GRADED FUNCTION: happyModel\n",
    "\n",
    "def happyModel():\n",
    "    \"\"\"\n",
    "    Implements the forward propagation for the binary classification model:\n",
    "    ZEROPAD2D -> CONV2D -> BATCHNORM -> RELU -> MAXPOOL -> FLATTEN -> DENSE\n",
    "    \n",
    "    Note that for simplicity and grading purposes, you'll hard-code all the values\n",
    "    such as the stride and kernel (filter) sizes. \n",
    "    Normally, functions should take these values as function parameters.\n",
    "    \n",
    "    Arguments:\n",
    "    None\n",
    "\n",
    "    Returns:\n",
    "    model -- TF Keras model (object containing the information for the entire training process) \n",
    "    \"\"\"\n",
    "    # YOUR CODE STARTS HERE\n",
    "    model = tf.keras.Sequential([\n",
    "            ## ZeroPadding2D with padding 3, input shape of 64 x 64 x 3\n",
    "            tfl.ZeroPadding2D(padding=((3,3),(3,3)), input_shape=(64,64,3)),\n",
    "            ## Conv2D with 32 7x7 filters and stride of 1\n",
    "            tfl.Conv2D(filters=32, kernel_size=(7,7), strides=(1, 1), input_shape=(64,64,3)),\n",
    "            ## BatchNormalization for axis 3\n",
    "            tfl.BatchNormalization(axis=3),\n",
    "            ## ReLU\n",
    "            tfl.ReLU(),\n",
    "            ## Max Pooling 2D with default parameters\n",
    "            tfl.MaxPool2D(),\n",
    "            ## Flatten layer\n",
    "            tfl.Flatten(),\n",
    "            ## Dense layer with 1 unit for output & 'sigmoid' activation\n",
    "            tfl.Dense(units=1, activation='sigmoid')\n",
    "    # YOUR CODE ENDS HERE\n",
    "        ])\n",
    "\n",
    "    return model"
   ]
  },
  {
   "cell_type": "code",
   "execution_count": 55,
   "metadata": {
    "deletable": false,
    "editable": false,
    "nbgrader": {
     "cell_type": "code",
     "checksum": "8d3575c950e2e78149be2d05d671c80d",
     "grade": true,
     "grade_id": "cell-e3e1046e5c33d775",
     "locked": true,
     "points": 10,
     "schema_version": 3,
     "solution": false,
     "task": false
    }
   },
   "outputs": [
    {
     "name": "stdout",
     "output_type": "stream",
     "text": [
      "['ZeroPadding2D', (None, 70, 70, 3), 0, ((3, 3), (3, 3))]\n",
      "['Conv2D', (None, 64, 64, 32), 4736, 'valid', 'linear', 'GlorotUniform']\n",
      "['BatchNormalization', (None, 64, 64, 32), 128]\n",
      "['ReLU', (None, 64, 64, 32), 0]\n",
      "['MaxPooling2D', (None, 32, 32, 32), 0, (2, 2), (2, 2), 'valid']\n",
      "['Flatten', (None, 32768), 0]\n",
      "['Dense', (None, 1), 32769, 'sigmoid']\n",
      "\u001b[32mAll tests passed!\u001b[0m\n"
     ]
    }
   ],
   "source": [
    "happy_model = happyModel()\n",
    "# Print a summary for each layer\n",
    "for layer in summary(happy_model):\n",
    "    print(layer)\n",
    "    \n",
    "output = [['ZeroPadding2D', (None, 70, 70, 3), 0, ((3, 3), (3, 3))],\n",
    "            ['Conv2D', (None, 64, 64, 32), 4736, 'valid', 'linear', 'GlorotUniform'],\n",
    "            ['BatchNormalization', (None, 64, 64, 32), 128],\n",
    "            ['ReLU', (None, 64, 64, 32), 0],\n",
    "            ['MaxPooling2D', (None, 32, 32, 32), 0, (2, 2), (2, 2), 'valid'],\n",
    "            ['Flatten', (None, 32768), 0],\n",
    "            ['Dense', (None, 1), 32769, 'sigmoid']]\n",
    "    \n",
    "comparator(summary(happy_model), output)"
   ]
  },
  {
   "cell_type": "markdown",
   "metadata": {},
   "source": [
    "Now that your model is created, you can compile it for training with an optimizer and loss of your choice. When the string `accuracy` is specified as a metric, the type of accuracy used will be automatically converted based on the loss function used. This is one of the many optimizations built into TensorFlow that make your life easier! If you'd like to read more on how the compiler operates, check the docs [here](https://www.tensorflow.org/api_docs/python/tf/keras/Model#compile)."
   ]
  },
  {
   "cell_type": "code",
   "execution_count": 56,
   "metadata": {},
   "outputs": [],
   "source": [
    "happy_model.compile(optimizer='adam',\n",
    "                   loss='binary_crossentropy',\n",
    "                   metrics=['accuracy'])"
   ]
  },
  {
   "cell_type": "markdown",
   "metadata": {},
   "source": [
    "It's time to check your model's parameters with the `.summary()` method. This will display the types of layers you have, the shape of the outputs, and how many parameters are in each layer. "
   ]
  },
  {
   "cell_type": "code",
   "execution_count": 57,
   "metadata": {},
   "outputs": [
    {
     "name": "stdout",
     "output_type": "stream",
     "text": [
      "Model: \"sequential_19\"\n",
      "_________________________________________________________________\n",
      "Layer (type)                 Output Shape              Param #   \n",
      "=================================================================\n",
      "zero_padding2d_23 (ZeroPaddi (None, 70, 70, 3)         0         \n",
      "_________________________________________________________________\n",
      "conv2d_16 (Conv2D)           (None, 64, 64, 32)        4736      \n",
      "_________________________________________________________________\n",
      "batch_normalization_14 (Batc (None, 64, 64, 32)        128       \n",
      "_________________________________________________________________\n",
      "re_lu_15 (ReLU)              (None, 64, 64, 32)        0         \n",
      "_________________________________________________________________\n",
      "max_pooling2d_16 (MaxPooling (None, 32, 32, 32)        0         \n",
      "_________________________________________________________________\n",
      "flatten_18 (Flatten)         (None, 32768)             0         \n",
      "_________________________________________________________________\n",
      "dense_15 (Dense)             (None, 1)                 32769     \n",
      "=================================================================\n",
      "Total params: 37,633\n",
      "Trainable params: 37,569\n",
      "Non-trainable params: 64\n",
      "_________________________________________________________________\n"
     ]
    }
   ],
   "source": [
    "happy_model.summary()"
   ]
  },
  {
   "cell_type": "markdown",
   "metadata": {},
   "source": [
    "<a name='3-2'></a>\n",
    "### 3.2 - Train and Evaluate the Model\n",
    "\n",
    "After creating the model, compiling it with your choice of optimizer and loss function, and doing a sanity check on its contents, you are now ready to build! \n",
    "\n",
    "Simply call `.fit()` to train. That's it! No need for mini-batching, saving, or complex backpropagation computations. That's all been done for you, as you're using a TensorFlow dataset with the batches specified already. You do have the option to specify epoch number or minibatch size if you like (for example, in the case of an un-batched dataset)."
   ]
  },
  {
   "cell_type": "code",
   "execution_count": 58,
   "metadata": {},
   "outputs": [
    {
     "name": "stdout",
     "output_type": "stream",
     "text": [
      "Epoch 1/10\n",
      "38/38 [==============================] - 4s 100ms/step - loss: 0.8333 - accuracy: 0.7567\n",
      "Epoch 2/10\n",
      "38/38 [==============================] - 4s 95ms/step - loss: 0.2373 - accuracy: 0.9083\n",
      "Epoch 3/10\n",
      "38/38 [==============================] - 4s 97ms/step - loss: 0.2056 - accuracy: 0.9167\n",
      "Epoch 4/10\n",
      "38/38 [==============================] - 4s 97ms/step - loss: 0.1551 - accuracy: 0.9467\n",
      "Epoch 5/10\n",
      "38/38 [==============================] - 4s 95ms/step - loss: 0.0870 - accuracy: 0.9717\n",
      "Epoch 6/10\n",
      "38/38 [==============================] - 4s 97ms/step - loss: 0.0917 - accuracy: 0.9650\n",
      "Epoch 7/10\n",
      "38/38 [==============================] - 4s 98ms/step - loss: 0.1168 - accuracy: 0.9550\n",
      "Epoch 8/10\n",
      "38/38 [==============================] - 4s 97ms/step - loss: 0.0639 - accuracy: 0.9733\n",
      "Epoch 9/10\n",
      "38/38 [==============================] - 4s 97ms/step - loss: 0.0754 - accuracy: 0.9767\n",
      "Epoch 10/10\n",
      "38/38 [==============================] - 4s 95ms/step - loss: 0.2042 - accuracy: 0.9167\n"
     ]
    },
    {
     "data": {
      "text/plain": [
       "<tensorflow.python.keras.callbacks.History at 0x7f5f563fbb90>"
      ]
     },
     "execution_count": 58,
     "metadata": {},
     "output_type": "execute_result"
    }
   ],
   "source": [
    "happy_model.fit(X_train, Y_train, epochs=10, batch_size=16)"
   ]
  },
  {
   "cell_type": "markdown",
   "metadata": {},
   "source": [
    "After that completes, just use `.evaluate()` to evaluate against your test set. This function will print the value of the loss function and the performance metrics specified during the compilation of the model. In this case, the `binary_crossentropy` and the `accuracy` respectively."
   ]
  },
  {
   "cell_type": "code",
   "execution_count": 59,
   "metadata": {},
   "outputs": [
    {
     "name": "stdout",
     "output_type": "stream",
     "text": [
      "5/5 [==============================] - 0s 33ms/step - loss: 1.4202 - accuracy: 0.6067\n"
     ]
    },
    {
     "data": {
      "text/plain": [
       "[1.4201794862747192, 0.6066666841506958]"
      ]
     },
     "execution_count": 59,
     "metadata": {},
     "output_type": "execute_result"
    }
   ],
   "source": [
    "happy_model.evaluate(X_test, Y_test)"
   ]
  },
  {
   "cell_type": "markdown",
   "metadata": {},
   "source": [
    "Easy, right? But what if you need to build a model with shared layers, branches, or multiple inputs and outputs? This is where Sequential, with its beautifully simple yet limited functionality, won't be able to help you. \n",
    "\n",
    "Next up: Enter the Functional API, your slightly more complex, highly flexible friend.  "
   ]
  },
  {
   "cell_type": "markdown",
   "metadata": {},
   "source": [
    "<a name='4'></a>\n",
    "## 4 - The Functional API"
   ]
  },
  {
   "cell_type": "markdown",
   "metadata": {},
   "source": [
    "Welcome to the second half of the assignment, where you'll use Keras' flexible [Functional API](https://www.tensorflow.org/guide/keras/functional) to build a ConvNet that can differentiate between 6 sign language digits. \n",
    "\n",
    "The Functional API can handle models with non-linear topology, shared layers, as well as layers with multiple inputs or outputs. Imagine that, where the Sequential API requires the model to move in a linear fashion through its layers, the Functional API allows much more flexibility. Where Sequential is a straight line, a Functional model is a graph, where the nodes of the layers can connect in many more ways than one. \n",
    "\n",
    "In the visual example below, the one possible direction of the movement Sequential model is shown in contrast to a skip connection, which is just one of the many ways a Functional model can be constructed. A skip connection, as you might have guessed, skips some layer in the network and feeds the output to a later layer in the network. Don't worry, you'll be spending more time with skip connections very soon! "
   ]
  },
  {
   "cell_type": "markdown",
   "metadata": {},
   "source": [
    "<img src=\"images/seq_vs_func.png\" style=\"width:350px;height:200px;\">"
   ]
  },
  {
   "cell_type": "markdown",
   "metadata": {},
   "source": [
    "<a name='4-1'></a>\n",
    "### 4.1 - Load the SIGNS Dataset\n",
    "\n",
    "As a reminder, the SIGNS dataset is a collection of 6 signs representing numbers from 0 to 5."
   ]
  },
  {
   "cell_type": "code",
   "execution_count": 60,
   "metadata": {},
   "outputs": [],
   "source": [
    "# Loading the data (signs)\n",
    "X_train_orig, Y_train_orig, X_test_orig, Y_test_orig, classes = load_signs_dataset()"
   ]
  },
  {
   "cell_type": "markdown",
   "metadata": {},
   "source": [
    "<img src=\"images/SIGNS.png\" style=\"width:800px;height:300px;\">\n",
    "\n",
    "The next cell will show you an example of a labelled image in the dataset. Feel free to change the value of `index` below and re-run to see different examples. "
   ]
  },
  {
   "cell_type": "code",
   "execution_count": 61,
   "metadata": {},
   "outputs": [
    {
     "name": "stdout",
     "output_type": "stream",
     "text": [
      "y = 4\n"
     ]
    },
    {
     "data": {
      "image/png": "[encoded data removed]",
      "text/plain": [
       "<Figure size 432x288 with 1 Axes>"
      ]
     },
     "metadata": {
      "needs_background": "light"
     },
     "output_type": "display_data"
    }
   ],
   "source": [
    "# Example of an image from the dataset\n",
    "index = 9\n",
    "plt.imshow(X_train_orig[index])\n",
    "print (\"y = \" + str(np.squeeze(Y_train_orig[:, index])))"
   ]
  },
  {
   "cell_type": "markdown",
   "metadata": {},
   "source": [
    "<a name='4-2'></a>\n",
    "### 4.2 - Split the Data into Train/Test Sets\n",
    "\n",
    "In Course 2, you built a fully-connected network for this dataset. But since this is an image dataset, it is more natural to apply a ConvNet to it.\n",
    "\n",
    "To get started, let's examine the shapes of your data. "
   ]
  },
  {
   "cell_type": "code",
   "execution_count": 62,
   "metadata": {},
   "outputs": [
    {
     "name": "stdout",
     "output_type": "stream",
     "text": [
      "number of training examples = 1080\n",
      "number of test examples = 120\n",
      "X_train shape: (1080, 64, 64, 3)\n",
      "Y_train shape: (1080, 6)\n",
      "X_test shape: (120, 64, 64, 3)\n",
      "Y_test shape: (120, 6)\n"
     ]
    }
   ],
   "source": [
    "X_train = X_train_orig/255.\n",
    "X_test = X_test_orig/255.\n",
    "Y_train = convert_to_one_hot(Y_train_orig, 6).T\n",
    "Y_test = convert_to_one_hot(Y_test_orig, 6).T\n",
    "print (\"number of training examples = \" + str(X_train.shape[0]))\n",
    "print (\"number of test examples = \" + str(X_test.shape[0]))\n",
    "print (\"X_train shape: \" + str(X_train.shape))\n",
    "print (\"Y_train shape: \" + str(Y_train.shape))\n",
    "print (\"X_test shape: \" + str(X_test.shape))\n",
    "print (\"Y_test shape: \" + str(Y_test.shape))"
   ]
  },
  {
   "cell_type": "markdown",
   "metadata": {},
   "source": [
    "<a name='4-3'></a>\n",
    "### 4.3 - Forward Propagation\n",
    "\n",
    "In TensorFlow, there are built-in functions that implement the convolution steps for you. By now, you should be familiar with how TensorFlow builds computational graphs. In the [Functional API](https://www.tensorflow.org/guide/keras/functional), you create a graph of layers. This is what allows such great flexibility.\n",
    "\n",
    "However, the following model could also be defined using the Sequential API since the information flow is on a single line. But don't deviate. What we want you to learn is to use the functional API.\n",
    "\n",
    "Begin building your graph of layers by creating an input node that functions as a callable object:\n",
    "\n",
    "- **input_img = tf.keras.Input(shape=input_shape):** \n",
    "\n",
    "Then, create a new node in the graph of layers by calling a layer on the `input_img` object: \n",
    "\n",
    "- **tf.keras.layers.Conv2D(filters= ... , kernel_size= ... , padding='same')(input_img):** Read the full documentation on [Conv2D](https://www.tensorflow.org/api_docs/python/tf/keras/layers/Conv2D).\n",
    "\n",
    "- **tf.keras.layers.MaxPool2D(pool_size=(f, f), strides=(s, s), padding='same'):** `MaxPool2D()` downsamples your input using a window of size (f, f) and strides of size (s, s) to carry out max pooling over each window.  For max pooling, you usually operate on a single example at a time and a single channel at a time. Read the full documentation on [MaxPool2D](https://www.tensorflow.org/api_docs/python/tf/keras/layers/MaxPool2D).\n",
    "\n",
    "- **tf.keras.layers.ReLU():** computes the elementwise ReLU of Z (which can be any shape). You can read the full documentation on [ReLU](https://www.tensorflow.org/api_docs/python/tf/keras/layers/ReLU).\n",
    "\n",
    "- **tf.keras.layers.Flatten()**: given a tensor \"P\", this function takes each training (or test) example in the batch and flattens it into a 1D vector.  \n",
    "\n",
    "    * If a tensor P has the shape (batch_size,h,w,c), it returns a flattened tensor with shape (batch_size, k), where $k=h \\times w \\times c$.  \"k\" equals the product of all the dimension sizes other than the first dimension.\n",
    "    \n",
    "    * For example, given a tensor with dimensions [100, 2, 3, 4], it flattens the tensor to be of shape [100, 24], where 24 = 2 * 3 * 4.  You can read the full documentation on [Flatten](https://www.tensorflow.org/api_docs/python/tf/keras/layers/Flatten).\n",
    "\n",
    "- **tf.keras.layers.Dense(units= ... , activation='softmax')(F):** given the flattened input F, it returns the output computed using a fully connected layer. You can read the full documentation on [Dense](https://www.tensorflow.org/api_docs/python/tf/keras/layers/Dense).\n",
    "\n",
    "In the last function above (`tf.keras.layers.Dense()`), the fully connected layer automatically initializes weights in the graph and keeps on training them as you train the model. Hence, you did not need to initialize those weights when initializing the parameters.\n",
    "\n",
    "Lastly, before creating the model, you'll need to define the output using the last of the function's compositions (in this example, a Dense layer): \n",
    "\n",
    "- **outputs = tf.keras.layers.Dense(units=6, activation='softmax')(F)**\n",
    "\n",
    "\n",
    "#### Window, kernel, filter, pool\n",
    "\n",
    "The words \"kernel\" and \"filter\" are used to refer to the same thing. The word \"filter\" accounts for the amount of \"kernels\" that will be used in a single convolution layer. \"Pool\" is the name of the operation that takes the max or average value of the kernels. \n",
    "\n",
    "This is why the parameter `pool_size` refers to `kernel_size`, and you use `(f,f)` to refer to the filter size. \n",
    "\n",
    "Pool size and kernel size refer to the same thing in different objects - They refer to the shape of the window where the operation takes place. "
   ]
  },
  {
   "cell_type": "markdown",
   "metadata": {},
   "source": [
    "<a name='ex-2'></a>\n",
    "### Exercise 2 - convolutional_model\n",
    "\n",
    "Implement the `convolutional_model` function below to build the following model: `CONV2D -> RELU -> MAXPOOL -> CONV2D -> RELU -> MAXPOOL -> FLATTEN -> DENSE`. Use the functions above! \n",
    "\n",
    "Also, plug in the following parameters for all the steps:\n",
    "\n",
    " - [Conv2D](https://www.tensorflow.org/api_docs/python/tf/keras/layers/Conv2D): Use 8 4 by 4 filters, stride 1, padding is \"SAME\"\n",
    " - [ReLU](https://www.tensorflow.org/api_docs/python/tf/keras/layers/ReLU)\n",
    " - [MaxPool2D](https://www.tensorflow.org/api_docs/python/tf/keras/layers/MaxPool2D): Use an 8 by 8 filter size and an 8 by 8 stride, padding is \"SAME\"\n",
    " - **Conv2D**: Use 16 2 by 2 filters, stride 1, padding is \"SAME\"\n",
    " - **ReLU**\n",
    " - **MaxPool2D**: Use a 4 by 4 filter size and a 4 by 4 stride, padding is \"SAME\"\n",
    " - [Flatten](https://www.tensorflow.org/api_docs/python/tf/keras/layers/Flatten) the previous output.\n",
    " - Fully-connected ([Dense](https://www.tensorflow.org/api_docs/python/tf/keras/layers/Dense)) layer: Apply a fully connected layer with 6 neurons and a softmax activation. "
   ]
  },
  {
   "cell_type": "code",
   "execution_count": 71,
   "metadata": {
    "deletable": false,
    "nbgrader": {
     "cell_type": "code",
     "checksum": "f58643806aa8380c96225fc8b4c5e7aa",
     "grade": false,
     "grade_id": "cell-dac51744a9e03f51",
     "locked": false,
     "schema_version": 3,
     "solution": true,
     "task": false
    }
   },
   "outputs": [],
   "source": [
    "# GRADED FUNCTION: convolutional_model\n",
    "\n",
    "def convolutional_model(input_shape):\n",
    "    \"\"\"\n",
    "    Implements the forward propagation for the model:\n",
    "    CONV2D -> RELU -> MAXPOOL -> CONV2D -> RELU -> MAXPOOL -> FLATTEN -> DENSE\n",
    "    \n",
    "    Note that for simplicity and grading purposes, you'll hard-code some values\n",
    "    such as the stride and kernel (filter) sizes. \n",
    "    Normally, functions should take these values as function parameters.\n",
    "    \n",
    "    Arguments:\n",
    "    input_img -- input dataset, of shape (input_shape)\n",
    "\n",
    "    Returns:\n",
    "    model -- TF Keras model (object containing the information for the entire training process) \n",
    "    \"\"\"\n",
    "\n",
    "    input_img = tf.keras.Input(shape=input_shape)\n",
    "    ## CONV2D: 8 filters 4x4, stride of 1, padding 'SAME'\n",
    "    Z1 = tfl.Conv2D(filters=8, kernel_size=(4,4), strides=(1,1), padding='SAME')(input_img)\n",
    "    ## RELU\n",
    "    A1 = tfl.ReLU()(Z1)\n",
    "    ## MAXPOOL: window 8x8, stride 8, padding 'SAME'\n",
    "    P1 = tfl.MaxPool2D(pool_size=(8, 8), strides=(8,8), padding='SAME')(A1)\n",
    "    ## CONV2D: 16 filters 2x2, stride 1, padding 'SAME'\n",
    "    Z2 = tfl.Conv2D(filters=16, kernel_size=(2,2), strides=(1,1), padding='SAME')(P1)\n",
    "    ## RELU\n",
    "    A2 = tfl.ReLU()(Z2)\n",
    "    ## MAXPOOL: window 4x4, stride 4, padding 'SAME'\n",
    "    P2 = tfl.MaxPool2D(pool_size=(4, 4), strides=(4,4), padding='SAME')(A2)\n",
    "    ## FLATTEN\n",
    "    F = tfl.Flatten()(P2)\n",
    "    ## Dense layer\n",
    "    ## 6 neurons in output layer. Hint: one of the arguments should be \"activation='softmax'\" \n",
    "    outputs = tfl.Dense(units=6, activation='softmax')(F)\n",
    "    # YOUR CODE STARTS HERE\n",
    "    \n",
    "    \n",
    "    # YOUR CODE ENDS HERE\n",
    "    model = tf.keras.Model(inputs=input_img, outputs=outputs)\n",
    "    return model"
   ]
  },
  {
   "cell_type": "code",
   "execution_count": 72,
   "metadata": {
    "deletable": false,
    "editable": false,
    "nbgrader": {
     "cell_type": "code",
     "checksum": "483d626949930a0b0ef20997e7c6ba72",
     "grade": true,
     "grade_id": "cell-45d22e92042174c9",
     "locked": true,
     "points": 10,
     "schema_version": 3,
     "solution": false,
     "task": false
    }
   },
   "outputs": [
    {
     "name": "stdout",
     "output_type": "stream",
     "text": [
      "Model: \"functional_1\"\n",
      "_________________________________________________________________\n",
      "Layer (type)                 Output Shape              Param #   \n",
      "=================================================================\n",
      "input_5 (InputLayer)         [(None, 64, 64, 3)]       0         \n",
      "_________________________________________________________________\n",
      "conv2d_23 (Conv2D)           (None, 64, 64, 8)         392       \n",
      "_________________________________________________________________\n",
      "re_lu_20 (ReLU)              (None, 64, 64, 8)         0         \n",
      "_________________________________________________________________\n",
      "max_pooling2d_21 (MaxPooling (None, 8, 8, 8)           0         \n",
      "_________________________________________________________________\n",
      "conv2d_24 (Conv2D)           (None, 8, 8, 16)          528       \n",
      "_________________________________________________________________\n",
      "re_lu_21 (ReLU)              (None, 8, 8, 16)          0         \n",
      "_________________________________________________________________\n",
      "max_pooling2d_22 (MaxPooling (None, 2, 2, 16)          0         \n",
      "_________________________________________________________________\n",
      "flatten_20 (Flatten)         (None, 64)                0         \n",
      "_________________________________________________________________\n",
      "dense_17 (Dense)             (None, 6)                 390       \n",
      "=================================================================\n",
      "Total params: 1,310\n",
      "Trainable params: 1,310\n",
      "Non-trainable params: 0\n",
      "_________________________________________________________________\n",
      "\u001b[32mAll tests passed!\u001b[0m\n"
     ]
    }
   ],
   "source": [
    "conv_model = convolutional_model((64, 64, 3))\n",
    "conv_model.compile(optimizer='adam',\n",
    "                  loss='categorical_crossentropy',\n",
    "                  metrics=['accuracy'])\n",
    "conv_model.summary()\n",
    "    \n",
    "output = [['InputLayer', [(None, 64, 64, 3)], 0],\n",
    "        ['Conv2D', (None, 64, 64, 8), 392, 'same', 'linear', 'GlorotUniform'],\n",
    "        ['ReLU', (None, 64, 64, 8), 0],\n",
    "        ['MaxPooling2D', (None, 8, 8, 8), 0, (8, 8), (8, 8), 'same'],\n",
    "        ['Conv2D', (None, 8, 8, 16), 528, 'same', 'linear', 'GlorotUniform'],\n",
    "        ['ReLU', (None, 8, 8, 16), 0],\n",
    "        ['MaxPooling2D', (None, 2, 2, 16), 0, (4, 4), (4, 4), 'same'],\n",
    "        ['Flatten', (None, 64), 0],\n",
    "        ['Dense', (None, 6), 390, 'softmax']]\n",
    "    \n",
    "comparator(summary(conv_model), output)"
   ]
  },
  {
   "cell_type": "markdown",
   "metadata": {},
   "source": [
    "Both the Sequential and Functional APIs return a TF Keras model object. The only difference is how inputs are handled inside the object model! "
   ]
  },
  {
   "cell_type": "markdown",
   "metadata": {},
   "source": [
    "<a name='4-4'></a>\n",
    "### 4.4 - Train the Model"
   ]
  },
  {
   "cell_type": "code",
   "execution_count": 73,
   "metadata": {},
   "outputs": [
    {
     "name": "stdout",
     "output_type": "stream",
     "text": [
      "Epoch 1/100\n",
      "17/17 [==============================] - 2s 112ms/step - loss: 1.8028 - accuracy: 0.1722 - val_loss: 1.7915 - val_accuracy: 0.1833\n",
      "Epoch 2/100\n",
      "17/17 [==============================] - 2s 107ms/step - loss: 1.7887 - accuracy: 0.1685 - val_loss: 1.7867 - val_accuracy: 0.2083\n",
      "Epoch 3/100\n",
      "17/17 [==============================] - 2s 106ms/step - loss: 1.7853 - accuracy: 0.2093 - val_loss: 1.7831 - val_accuracy: 0.2500\n",
      "Epoch 4/100\n",
      "17/17 [==============================] - 2s 111ms/step - loss: 1.7812 - accuracy: 0.2269 - val_loss: 1.7794 - val_accuracy: 0.3000\n",
      "Epoch 5/100\n",
      "17/17 [==============================] - 2s 106ms/step - loss: 1.7760 - accuracy: 0.2481 - val_loss: 1.7733 - val_accuracy: 0.2667\n",
      "Epoch 6/100\n",
      "17/17 [==============================] - 2s 111ms/step - loss: 1.7681 - accuracy: 0.2750 - val_loss: 1.7682 - val_accuracy: 0.3083\n",
      "Epoch 7/100\n",
      "17/17 [==============================] - 2s 111ms/step - loss: 1.7604 - accuracy: 0.2991 - val_loss: 1.7609 - val_accuracy: 0.3000\n",
      "Epoch 8/100\n",
      "17/17 [==============================] - 2s 107ms/step - loss: 1.7497 - accuracy: 0.3185 - val_loss: 1.7519 - val_accuracy: 0.3000\n",
      "Epoch 9/100\n",
      "17/17 [==============================] - 2s 106ms/step - loss: 1.7372 - accuracy: 0.3278 - val_loss: 1.7415 - val_accuracy: 0.3167\n",
      "Epoch 10/100\n",
      "17/17 [==============================] - 2s 106ms/step - loss: 1.7214 - accuracy: 0.3713 - val_loss: 1.7300 - val_accuracy: 0.3000\n",
      "Epoch 11/100\n",
      "17/17 [==============================] - 2s 111ms/step - loss: 1.7039 - accuracy: 0.3815 - val_loss: 1.7151 - val_accuracy: 0.3167\n",
      "Epoch 12/100\n",
      "17/17 [==============================] - 2s 111ms/step - loss: 1.6836 - accuracy: 0.4000 - val_loss: 1.6986 - val_accuracy: 0.3333\n",
      "Epoch 13/100\n",
      "17/17 [==============================] - 2s 111ms/step - loss: 1.6606 - accuracy: 0.4111 - val_loss: 1.6781 - val_accuracy: 0.3667\n",
      "Epoch 14/100\n",
      "17/17 [==============================] - 2s 111ms/step - loss: 1.6346 - accuracy: 0.4231 - val_loss: 1.6556 - val_accuracy: 0.3750\n",
      "Epoch 15/100\n",
      "17/17 [==============================] - 2s 107ms/step - loss: 1.6068 - accuracy: 0.4370 - val_loss: 1.6305 - val_accuracy: 0.3750\n",
      "Epoch 16/100\n",
      "17/17 [==============================] - 2s 106ms/step - loss: 1.5777 - accuracy: 0.4593 - val_loss: 1.6036 - val_accuracy: 0.4000\n",
      "Epoch 17/100\n",
      "17/17 [==============================] - 2s 107ms/step - loss: 1.5475 - accuracy: 0.4676 - val_loss: 1.5740 - val_accuracy: 0.4000\n",
      "Epoch 18/100\n",
      "17/17 [==============================] - 2s 106ms/step - loss: 1.5161 - accuracy: 0.4880 - val_loss: 1.5430 - val_accuracy: 0.4333\n",
      "Epoch 19/100\n",
      "17/17 [==============================] - 2s 111ms/step - loss: 1.4841 - accuracy: 0.4944 - val_loss: 1.5100 - val_accuracy: 0.4500\n",
      "Epoch 20/100\n",
      "17/17 [==============================] - 2s 112ms/step - loss: 1.4515 - accuracy: 0.5019 - val_loss: 1.4769 - val_accuracy: 0.4583\n",
      "Epoch 21/100\n",
      "17/17 [==============================] - 2s 106ms/step - loss: 1.4183 - accuracy: 0.5222 - val_loss: 1.4432 - val_accuracy: 0.5083\n",
      "Epoch 22/100\n",
      "17/17 [==============================] - 2s 111ms/step - loss: 1.3859 - accuracy: 0.5315 - val_loss: 1.4093 - val_accuracy: 0.5167\n",
      "Epoch 23/100\n",
      "17/17 [==============================] - 2s 106ms/step - loss: 1.3524 - accuracy: 0.5435 - val_loss: 1.3763 - val_accuracy: 0.5333\n",
      "Epoch 24/100\n",
      "17/17 [==============================] - 2s 106ms/step - loss: 1.3221 - accuracy: 0.5500 - val_loss: 1.3408 - val_accuracy: 0.5167\n",
      "Epoch 25/100\n",
      "17/17 [==============================] - 2s 107ms/step - loss: 1.2903 - accuracy: 0.5676 - val_loss: 1.3069 - val_accuracy: 0.5583\n",
      "Epoch 26/100\n",
      "17/17 [==============================] - 2s 106ms/step - loss: 1.2572 - accuracy: 0.5769 - val_loss: 1.2756 - val_accuracy: 0.5583\n",
      "Epoch 27/100\n",
      "17/17 [==============================] - 2s 107ms/step - loss: 1.2270 - accuracy: 0.5880 - val_loss: 1.2468 - val_accuracy: 0.5833\n",
      "Epoch 28/100\n",
      "17/17 [==============================] - 2s 106ms/step - loss: 1.1985 - accuracy: 0.5944 - val_loss: 1.2193 - val_accuracy: 0.5750\n",
      "Epoch 29/100\n",
      "17/17 [==============================] - 2s 111ms/step - loss: 1.1708 - accuracy: 0.5972 - val_loss: 1.1914 - val_accuracy: 0.5750\n",
      "Epoch 30/100\n",
      "17/17 [==============================] - 2s 111ms/step - loss: 1.1461 - accuracy: 0.6037 - val_loss: 1.1649 - val_accuracy: 0.5833\n",
      "Epoch 31/100\n",
      "17/17 [==============================] - 2s 111ms/step - loss: 1.1196 - accuracy: 0.6102 - val_loss: 1.1400 - val_accuracy: 0.5833\n",
      "Epoch 32/100\n",
      "17/17 [==============================] - 2s 112ms/step - loss: 1.0966 - accuracy: 0.6259 - val_loss: 1.1161 - val_accuracy: 0.5917\n",
      "Epoch 33/100\n",
      "17/17 [==============================] - 2s 106ms/step - loss: 1.0744 - accuracy: 0.6315 - val_loss: 1.0952 - val_accuracy: 0.6000\n",
      "Epoch 34/100\n",
      "17/17 [==============================] - 2s 111ms/step - loss: 1.0539 - accuracy: 0.6407 - val_loss: 1.0735 - val_accuracy: 0.6083\n",
      "Epoch 35/100\n",
      "17/17 [==============================] - 2s 111ms/step - loss: 1.0335 - accuracy: 0.6472 - val_loss: 1.0548 - val_accuracy: 0.6083\n",
      "Epoch 36/100\n",
      "17/17 [==============================] - 2s 107ms/step - loss: 1.0149 - accuracy: 0.6500 - val_loss: 1.0361 - val_accuracy: 0.6083\n",
      "Epoch 37/100\n",
      "17/17 [==============================] - 2s 106ms/step - loss: 0.9968 - accuracy: 0.6528 - val_loss: 1.0196 - val_accuracy: 0.6167\n",
      "Epoch 38/100\n",
      "17/17 [==============================] - 2s 106ms/step - loss: 0.9804 - accuracy: 0.6583 - val_loss: 1.0032 - val_accuracy: 0.6250\n",
      "Epoch 39/100\n",
      "17/17 [==============================] - 2s 107ms/step - loss: 0.9640 - accuracy: 0.6639 - val_loss: 0.9892 - val_accuracy: 0.6250\n",
      "Epoch 40/100\n",
      "17/17 [==============================] - 2s 106ms/step - loss: 0.9491 - accuracy: 0.6676 - val_loss: 0.9754 - val_accuracy: 0.6250\n",
      "Epoch 41/100\n",
      "17/17 [==============================] - 2s 106ms/step - loss: 0.9354 - accuracy: 0.6722 - val_loss: 0.9636 - val_accuracy: 0.6333\n",
      "Epoch 42/100\n",
      "17/17 [==============================] - 2s 106ms/step - loss: 0.9221 - accuracy: 0.6787 - val_loss: 0.9508 - val_accuracy: 0.6417\n",
      "Epoch 43/100\n",
      "17/17 [==============================] - 2s 106ms/step - loss: 0.9090 - accuracy: 0.6824 - val_loss: 0.9384 - val_accuracy: 0.6417\n",
      "Epoch 44/100\n",
      "17/17 [==============================] - 2s 106ms/step - loss: 0.8962 - accuracy: 0.6852 - val_loss: 0.9272 - val_accuracy: 0.6333\n",
      "Epoch 45/100\n",
      "17/17 [==============================] - 2s 112ms/step - loss: 0.8839 - accuracy: 0.6880 - val_loss: 0.9155 - val_accuracy: 0.6417\n",
      "Epoch 46/100\n",
      "17/17 [==============================] - 2s 106ms/step - loss: 0.8725 - accuracy: 0.6926 - val_loss: 0.9050 - val_accuracy: 0.6333\n",
      "Epoch 47/100\n",
      "17/17 [==============================] - 2s 111ms/step - loss: 0.8608 - accuracy: 0.6954 - val_loss: 0.8947 - val_accuracy: 0.6417\n",
      "Epoch 48/100\n",
      "17/17 [==============================] - 2s 106ms/step - loss: 0.8503 - accuracy: 0.7000 - val_loss: 0.8850 - val_accuracy: 0.6417\n",
      "Epoch 49/100\n",
      "17/17 [==============================] - 2s 106ms/step - loss: 0.8394 - accuracy: 0.7056 - val_loss: 0.8757 - val_accuracy: 0.6417\n",
      "Epoch 50/100\n",
      "17/17 [==============================] - 2s 111ms/step - loss: 0.8292 - accuracy: 0.7093 - val_loss: 0.8658 - val_accuracy: 0.6417\n",
      "Epoch 51/100\n",
      "17/17 [==============================] - 2s 106ms/step - loss: 0.8193 - accuracy: 0.7148 - val_loss: 0.8571 - val_accuracy: 0.6417\n",
      "Epoch 52/100\n",
      "17/17 [==============================] - 2s 106ms/step - loss: 0.8095 - accuracy: 0.7231 - val_loss: 0.8486 - val_accuracy: 0.6583\n",
      "Epoch 53/100\n",
      "17/17 [==============================] - 2s 111ms/step - loss: 0.8007 - accuracy: 0.7269 - val_loss: 0.8410 - val_accuracy: 0.6667\n",
      "Epoch 54/100\n",
      "17/17 [==============================] - 2s 111ms/step - loss: 0.7916 - accuracy: 0.7315 - val_loss: 0.8328 - val_accuracy: 0.6667\n",
      "Epoch 55/100\n",
      "17/17 [==============================] - 2s 111ms/step - loss: 0.7827 - accuracy: 0.7380 - val_loss: 0.8251 - val_accuracy: 0.6667\n",
      "Epoch 56/100\n",
      "17/17 [==============================] - 2s 106ms/step - loss: 0.7741 - accuracy: 0.7398 - val_loss: 0.8184 - val_accuracy: 0.6667\n",
      "Epoch 57/100\n",
      "17/17 [==============================] - 2s 107ms/step - loss: 0.7658 - accuracy: 0.7398 - val_loss: 0.8111 - val_accuracy: 0.6833\n",
      "Epoch 58/100\n",
      "17/17 [==============================] - 2s 106ms/step - loss: 0.7574 - accuracy: 0.7435 - val_loss: 0.8044 - val_accuracy: 0.6833\n",
      "Epoch 59/100\n",
      "17/17 [==============================] - 2s 107ms/step - loss: 0.7489 - accuracy: 0.7481 - val_loss: 0.7971 - val_accuracy: 0.6917\n",
      "Epoch 60/100\n",
      "17/17 [==============================] - 2s 107ms/step - loss: 0.7407 - accuracy: 0.7481 - val_loss: 0.7911 - val_accuracy: 0.6917\n",
      "Epoch 61/100\n",
      "17/17 [==============================] - 2s 106ms/step - loss: 0.7327 - accuracy: 0.7472 - val_loss: 0.7848 - val_accuracy: 0.6917\n",
      "Epoch 62/100\n",
      "17/17 [==============================] - 2s 111ms/step - loss: 0.7247 - accuracy: 0.7556 - val_loss: 0.7788 - val_accuracy: 0.6833\n",
      "Epoch 63/100\n",
      "17/17 [==============================] - 2s 106ms/step - loss: 0.7166 - accuracy: 0.7546 - val_loss: 0.7724 - val_accuracy: 0.6833\n",
      "Epoch 64/100\n",
      "17/17 [==============================] - 2s 101ms/step - loss: 0.7095 - accuracy: 0.7574 - val_loss: 0.7673 - val_accuracy: 0.6917\n",
      "Epoch 65/100\n",
      "17/17 [==============================] - 2s 106ms/step - loss: 0.7023 - accuracy: 0.7602 - val_loss: 0.7622 - val_accuracy: 0.6917\n",
      "Epoch 66/100\n",
      "17/17 [==============================] - 2s 106ms/step - loss: 0.6952 - accuracy: 0.7657 - val_loss: 0.7571 - val_accuracy: 0.6917\n",
      "Epoch 67/100\n",
      "17/17 [==============================] - 2s 106ms/step - loss: 0.6882 - accuracy: 0.7685 - val_loss: 0.7525 - val_accuracy: 0.6917\n",
      "Epoch 68/100\n",
      "17/17 [==============================] - 2s 106ms/step - loss: 0.6814 - accuracy: 0.7713 - val_loss: 0.7487 - val_accuracy: 0.7000\n",
      "Epoch 69/100\n",
      "17/17 [==============================] - 2s 106ms/step - loss: 0.6744 - accuracy: 0.7722 - val_loss: 0.7438 - val_accuracy: 0.7000\n",
      "Epoch 70/100\n",
      "17/17 [==============================] - 2s 105ms/step - loss: 0.6676 - accuracy: 0.7750 - val_loss: 0.7400 - val_accuracy: 0.6917\n",
      "Epoch 71/100\n",
      "17/17 [==============================] - 2s 106ms/step - loss: 0.6598 - accuracy: 0.7769 - val_loss: 0.7366 - val_accuracy: 0.6833\n",
      "Epoch 72/100\n",
      "17/17 [==============================] - 2s 106ms/step - loss: 0.6517 - accuracy: 0.7778 - val_loss: 0.7321 - val_accuracy: 0.6917\n",
      "Epoch 73/100\n",
      "17/17 [==============================] - 2s 107ms/step - loss: 0.6447 - accuracy: 0.7796 - val_loss: 0.7288 - val_accuracy: 0.6833\n",
      "Epoch 74/100\n",
      "17/17 [==============================] - 2s 106ms/step - loss: 0.6381 - accuracy: 0.7806 - val_loss: 0.7239 - val_accuracy: 0.6833\n",
      "Epoch 75/100\n",
      "17/17 [==============================] - 2s 111ms/step - loss: 0.6321 - accuracy: 0.7852 - val_loss: 0.7199 - val_accuracy: 0.6750\n",
      "Epoch 76/100\n",
      "17/17 [==============================] - 2s 106ms/step - loss: 0.6260 - accuracy: 0.7870 - val_loss: 0.7158 - val_accuracy: 0.6833\n",
      "Epoch 77/100\n",
      "17/17 [==============================] - 2s 106ms/step - loss: 0.6199 - accuracy: 0.7870 - val_loss: 0.7117 - val_accuracy: 0.6917\n",
      "Epoch 78/100\n",
      "17/17 [==============================] - 2s 101ms/step - loss: 0.6142 - accuracy: 0.7898 - val_loss: 0.7080 - val_accuracy: 0.6917\n",
      "Epoch 79/100\n",
      "17/17 [==============================] - 2s 101ms/step - loss: 0.6084 - accuracy: 0.7926 - val_loss: 0.7040 - val_accuracy: 0.7000\n",
      "Epoch 80/100\n",
      "17/17 [==============================] - 2s 101ms/step - loss: 0.6031 - accuracy: 0.7926 - val_loss: 0.6998 - val_accuracy: 0.7000\n",
      "Epoch 81/100\n",
      "17/17 [==============================] - 2s 106ms/step - loss: 0.5977 - accuracy: 0.7944 - val_loss: 0.6963 - val_accuracy: 0.7000\n",
      "Epoch 82/100\n",
      "17/17 [==============================] - 2s 107ms/step - loss: 0.5927 - accuracy: 0.7963 - val_loss: 0.6923 - val_accuracy: 0.7000\n",
      "Epoch 83/100\n",
      "17/17 [==============================] - 2s 107ms/step - loss: 0.5875 - accuracy: 0.7981 - val_loss: 0.6893 - val_accuracy: 0.7000\n",
      "Epoch 84/100\n",
      "17/17 [==============================] - 2s 106ms/step - loss: 0.5824 - accuracy: 0.8009 - val_loss: 0.6860 - val_accuracy: 0.7000\n",
      "Epoch 85/100\n",
      "17/17 [==============================] - 2s 106ms/step - loss: 0.5774 - accuracy: 0.8009 - val_loss: 0.6824 - val_accuracy: 0.7083\n",
      "Epoch 86/100\n",
      "17/17 [==============================] - 2s 106ms/step - loss: 0.5722 - accuracy: 0.8037 - val_loss: 0.6794 - val_accuracy: 0.7167\n",
      "Epoch 87/100\n",
      "17/17 [==============================] - 2s 101ms/step - loss: 0.5674 - accuracy: 0.8074 - val_loss: 0.6766 - val_accuracy: 0.7250\n",
      "Epoch 88/100\n",
      "17/17 [==============================] - 2s 101ms/step - loss: 0.5625 - accuracy: 0.8083 - val_loss: 0.6745 - val_accuracy: 0.7250\n",
      "Epoch 89/100\n",
      "17/17 [==============================] - 2s 106ms/step - loss: 0.5577 - accuracy: 0.8111 - val_loss: 0.6721 - val_accuracy: 0.7333\n",
      "Epoch 90/100\n",
      "17/17 [==============================] - 2s 101ms/step - loss: 0.5531 - accuracy: 0.8093 - val_loss: 0.6708 - val_accuracy: 0.7333\n",
      "Epoch 91/100\n",
      "17/17 [==============================] - 2s 100ms/step - loss: 0.5482 - accuracy: 0.8130 - val_loss: 0.6692 - val_accuracy: 0.7333\n",
      "Epoch 92/100\n",
      "17/17 [==============================] - 2s 106ms/step - loss: 0.5437 - accuracy: 0.8148 - val_loss: 0.6673 - val_accuracy: 0.7333\n",
      "Epoch 93/100\n",
      "17/17 [==============================] - 2s 106ms/step - loss: 0.5394 - accuracy: 0.8194 - val_loss: 0.6651 - val_accuracy: 0.7333\n",
      "Epoch 94/100\n",
      "17/17 [==============================] - 2s 106ms/step - loss: 0.5350 - accuracy: 0.8222 - val_loss: 0.6613 - val_accuracy: 0.7333\n",
      "Epoch 95/100\n",
      "17/17 [==============================] - 2s 106ms/step - loss: 0.5305 - accuracy: 0.8213 - val_loss: 0.6593 - val_accuracy: 0.7333\n",
      "Epoch 96/100\n",
      "17/17 [==============================] - 2s 106ms/step - loss: 0.5267 - accuracy: 0.8259 - val_loss: 0.6567 - val_accuracy: 0.7333\n",
      "Epoch 97/100\n",
      "17/17 [==============================] - 2s 101ms/step - loss: 0.5225 - accuracy: 0.8287 - val_loss: 0.6542 - val_accuracy: 0.7333\n",
      "Epoch 98/100\n",
      "17/17 [==============================] - 2s 101ms/step - loss: 0.5186 - accuracy: 0.8315 - val_loss: 0.6517 - val_accuracy: 0.7333\n",
      "Epoch 99/100\n",
      "17/17 [==============================] - 2s 100ms/step - loss: 0.5150 - accuracy: 0.8315 - val_loss: 0.6495 - val_accuracy: 0.7333\n",
      "Epoch 100/100\n",
      "17/17 [==============================] - 2s 106ms/step - loss: 0.5112 - accuracy: 0.8343 - val_loss: 0.6465 - val_accuracy: 0.7333\n"
     ]
    }
   ],
   "source": [
    "train_dataset = tf.data.Dataset.from_tensor_slices((X_train, Y_train)).batch(64)\n",
    "test_dataset = tf.data.Dataset.from_tensor_slices((X_test, Y_test)).batch(64)\n",
    "history = conv_model.fit(train_dataset, epochs=100, validation_data=test_dataset)"
   ]
  },
  {
   "cell_type": "markdown",
   "metadata": {},
   "source": [
    "<a name='5'></a>\n",
    "## 5 - History Object \n",
    "\n",
    "The history object is an output of the `.fit()` operation, and provides a record of all the loss and metric values in memory. It's stored as a dictionary that you can retrieve at `history.history`: "
   ]
  },
  {
   "cell_type": "code",
   "execution_count": 74,
   "metadata": {},
   "outputs": [
    {
     "data": {
      "text/plain": [
       "{'loss': [1.8027623891830444,\n",
       "  1.7886918783187866,\n",
       "  1.7852580547332764,\n",
       "  1.7811851501464844,\n",
       "  1.7760041952133179,\n",
       "  1.7681198120117188,\n",
       "  1.760414958000183,\n",
       "  1.749732494354248,\n",
       "  1.7372143268585205,\n",
       "  1.7214157581329346,\n",
       "  1.7039453983306885,\n",
       "  1.6835625171661377,\n",
       "  1.6606370210647583,\n",
       "  1.6345678567886353,\n",
       "  1.6067609786987305,\n",
       "  1.5777473449707031,\n",
       "  1.5475022792816162,\n",
       "  1.5161207914352417,\n",
       "  1.4840770959854126,\n",
       "  1.4515302181243896,\n",
       "  1.4182730913162231,\n",
       "  1.3858520984649658,\n",
       "  1.3524103164672852,\n",
       "  1.3221209049224854,\n",
       "  1.2902532815933228,\n",
       "  1.2572020292282104,\n",
       "  1.226974368095398,\n",
       "  1.198538064956665,\n",
       "  1.1708035469055176,\n",
       "  1.146060585975647,\n",
       "  1.1196330785751343,\n",
       "  1.0966161489486694,\n",
       "  1.0743749141693115,\n",
       "  1.0538793802261353,\n",
       "  1.0335123538970947,\n",
       "  1.0149142742156982,\n",
       "  0.996808648109436,\n",
       "  0.9803561568260193,\n",
       "  0.9639756083488464,\n",
       "  0.9491004943847656,\n",
       "  0.9353521466255188,\n",
       "  0.9221493005752563,\n",
       "  0.9089978337287903,\n",
       "  0.8962040543556213,\n",
       "  0.8839218616485596,\n",
       "  0.8724600076675415,\n",
       "  0.8608497977256775,\n",
       "  0.850261390209198,\n",
       "  0.8393588066101074,\n",
       "  0.8291550278663635,\n",
       "  0.819267988204956,\n",
       "  0.8094944357872009,\n",
       "  0.8007262945175171,\n",
       "  0.791586697101593,\n",
       "  0.7826821804046631,\n",
       "  0.7740917801856995,\n",
       "  0.7658253908157349,\n",
       "  0.7573990225791931,\n",
       "  0.7489014863967896,\n",
       "  0.7407389283180237,\n",
       "  0.7326719164848328,\n",
       "  0.7247171998023987,\n",
       "  0.7166324853897095,\n",
       "  0.7094830870628357,\n",
       "  0.7022690773010254,\n",
       "  0.6951748132705688,\n",
       "  0.688176691532135,\n",
       "  0.6814205050468445,\n",
       "  0.6744378209114075,\n",
       "  0.6675794124603271,\n",
       "  0.6598346829414368,\n",
       "  0.6516816020011902,\n",
       "  0.6447455286979675,\n",
       "  0.6381298899650574,\n",
       "  0.6320859789848328,\n",
       "  0.6259548664093018,\n",
       "  0.6198827624320984,\n",
       "  0.6141703724861145,\n",
       "  0.6084248423576355,\n",
       "  0.6031008958816528,\n",
       "  0.5977129340171814,\n",
       "  0.5926604866981506,\n",
       "  0.5874948501586914,\n",
       "  0.5824052095413208,\n",
       "  0.5774344205856323,\n",
       "  0.5721953511238098,\n",
       "  0.5673629641532898,\n",
       "  0.5624958872795105,\n",
       "  0.557659387588501,\n",
       "  0.5531207323074341,\n",
       "  0.5482399463653564,\n",
       "  0.5436610579490662,\n",
       "  0.5393578410148621,\n",
       "  0.5350069403648376,\n",
       "  0.5304821729660034,\n",
       "  0.5266649127006531,\n",
       "  0.5225212574005127,\n",
       "  0.5185848474502563,\n",
       "  0.5149716138839722,\n",
       "  0.5112236738204956],\n",
       " 'accuracy': [0.17222222685813904,\n",
       "  0.16851851344108582,\n",
       "  0.2092592567205429,\n",
       "  0.22685185074806213,\n",
       "  0.2481481432914734,\n",
       "  0.2750000059604645,\n",
       "  0.29907408356666565,\n",
       "  0.3185185194015503,\n",
       "  0.32777777314186096,\n",
       "  0.3712962865829468,\n",
       "  0.38148146867752075,\n",
       "  0.4000000059604645,\n",
       "  0.41111111640930176,\n",
       "  0.42314815521240234,\n",
       "  0.43703705072402954,\n",
       "  0.4592592716217041,\n",
       "  0.46759259700775146,\n",
       "  0.4879629611968994,\n",
       "  0.49444442987442017,\n",
       "  0.5018518567085266,\n",
       "  0.5222222208976746,\n",
       "  0.5314815044403076,\n",
       "  0.5435185432434082,\n",
       "  0.550000011920929,\n",
       "  0.5675926208496094,\n",
       "  0.5768518447875977,\n",
       "  0.5879629850387573,\n",
       "  0.5944444537162781,\n",
       "  0.5972222089767456,\n",
       "  0.6037036776542664,\n",
       "  0.6101852059364319,\n",
       "  0.6259258985519409,\n",
       "  0.6314814686775208,\n",
       "  0.6407407522201538,\n",
       "  0.6472222208976746,\n",
       "  0.6499999761581421,\n",
       "  0.6527777910232544,\n",
       "  0.6583333611488342,\n",
       "  0.6638888716697693,\n",
       "  0.6675925850868225,\n",
       "  0.6722221970558167,\n",
       "  0.6787037253379822,\n",
       "  0.6824073791503906,\n",
       "  0.6851851940155029,\n",
       "  0.6879629492759705,\n",
       "  0.6925926208496094,\n",
       "  0.6953703761100769,\n",
       "  0.699999988079071,\n",
       "  0.7055555582046509,\n",
       "  0.7092592716217041,\n",
       "  0.7148148417472839,\n",
       "  0.7231481671333313,\n",
       "  0.7268518805503845,\n",
       "  0.7314814925193787,\n",
       "  0.7379629611968994,\n",
       "  0.739814817905426,\n",
       "  0.739814817905426,\n",
       "  0.7435185313224792,\n",
       "  0.7481481432914734,\n",
       "  0.7481481432914734,\n",
       "  0.7472222447395325,\n",
       "  0.7555555701255798,\n",
       "  0.7546296119689941,\n",
       "  0.7574074268341064,\n",
       "  0.760185182094574,\n",
       "  0.7657407522201538,\n",
       "  0.7685185074806213,\n",
       "  0.7712963223457336,\n",
       "  0.7722222208976746,\n",
       "  0.7749999761581421,\n",
       "  0.7768518328666687,\n",
       "  0.7777777910232544,\n",
       "  0.779629647731781,\n",
       "  0.7805555462837219,\n",
       "  0.7851851582527161,\n",
       "  0.7870370149612427,\n",
       "  0.7870370149612427,\n",
       "  0.789814829826355,\n",
       "  0.7925925850868225,\n",
       "  0.7925925850868225,\n",
       "  0.7944444417953491,\n",
       "  0.7962962985038757,\n",
       "  0.7981481552124023,\n",
       "  0.8009259104728699,\n",
       "  0.8009259104728699,\n",
       "  0.8037037253379822,\n",
       "  0.8074073791503906,\n",
       "  0.8083333373069763,\n",
       "  0.8111110925674438,\n",
       "  0.8092592358589172,\n",
       "  0.8129629492759705,\n",
       "  0.8148148059844971,\n",
       "  0.8194444179534912,\n",
       "  0.8222222328186035,\n",
       "  0.8212962746620178,\n",
       "  0.8259259462356567,\n",
       "  0.8287037014961243,\n",
       "  0.8314814567565918,\n",
       "  0.8314814567565918,\n",
       "  0.8342592716217041],\n",
       " 'val_loss': [1.7914562225341797,\n",
       "  1.7866839170455933,\n",
       "  1.7831467390060425,\n",
       "  1.7793527841567993,\n",
       "  1.7733063697814941,\n",
       "  1.7681851387023926,\n",
       "  1.7609065771102905,\n",
       "  1.7518724203109741,\n",
       "  1.7414928674697876,\n",
       "  1.7300211191177368,\n",
       "  1.715099811553955,\n",
       "  1.6985639333724976,\n",
       "  1.6781102418899536,\n",
       "  1.6555674076080322,\n",
       "  1.630510926246643,\n",
       "  1.6036118268966675,\n",
       "  1.5740172863006592,\n",
       "  1.5429942607879639,\n",
       "  1.510016679763794,\n",
       "  1.4768632650375366,\n",
       "  1.443231225013733,\n",
       "  1.409273624420166,\n",
       "  1.3762550354003906,\n",
       "  1.340783953666687,\n",
       "  1.3068623542785645,\n",
       "  1.275603175163269,\n",
       "  1.2468329668045044,\n",
       "  1.219328761100769,\n",
       "  1.191449761390686,\n",
       "  1.1648919582366943,\n",
       "  1.1399884223937988,\n",
       "  1.1161484718322754,\n",
       "  1.0952237844467163,\n",
       "  1.0735219717025757,\n",
       "  1.0548486709594727,\n",
       "  1.0360970497131348,\n",
       "  1.0196291208267212,\n",
       "  1.003240704536438,\n",
       "  0.9891789555549622,\n",
       "  0.9753535985946655,\n",
       "  0.9635916352272034,\n",
       "  0.9507842659950256,\n",
       "  0.9383774995803833,\n",
       "  0.9271924495697021,\n",
       "  0.9154691100120544,\n",
       "  0.9050461053848267,\n",
       "  0.8946692943572998,\n",
       "  0.8850024938583374,\n",
       "  0.8756672739982605,\n",
       "  0.8657528758049011,\n",
       "  0.8571479916572571,\n",
       "  0.8486452698707581,\n",
       "  0.8409591913223267,\n",
       "  0.8327770233154297,\n",
       "  0.825118362903595,\n",
       "  0.8184220790863037,\n",
       "  0.8110673427581787,\n",
       "  0.804385244846344,\n",
       "  0.7970730662345886,\n",
       "  0.791107177734375,\n",
       "  0.7847760319709778,\n",
       "  0.7787777185440063,\n",
       "  0.7724376916885376,\n",
       "  0.767287015914917,\n",
       "  0.7621985077857971,\n",
       "  0.7571179270744324,\n",
       "  0.752486526966095,\n",
       "  0.7486666440963745,\n",
       "  0.7438119053840637,\n",
       "  0.7400087118148804,\n",
       "  0.7366107106208801,\n",
       "  0.7320855259895325,\n",
       "  0.7287560701370239,\n",
       "  0.7238968014717102,\n",
       "  0.7198683023452759,\n",
       "  0.7157753705978394,\n",
       "  0.7117042541503906,\n",
       "  0.7079774141311646,\n",
       "  0.7039802670478821,\n",
       "  0.6997662782669067,\n",
       "  0.6962963938713074,\n",
       "  0.6922935247421265,\n",
       "  0.6892547011375427,\n",
       "  0.6859530210494995,\n",
       "  0.6824424862861633,\n",
       "  0.6794261932373047,\n",
       "  0.6765922904014587,\n",
       "  0.6745452880859375,\n",
       "  0.6720589399337769,\n",
       "  0.6708455681800842,\n",
       "  0.6691874861717224,\n",
       "  0.6672627329826355,\n",
       "  0.6650839447975159,\n",
       "  0.6612942814826965,\n",
       "  0.6592515110969543,\n",
       "  0.6566545367240906,\n",
       "  0.6542325615882874,\n",
       "  0.6516737341880798,\n",
       "  0.6494858860969543,\n",
       "  0.6465414762496948],\n",
       " 'val_accuracy': [0.18333333730697632,\n",
       "  0.2083333283662796,\n",
       "  0.25,\n",
       "  0.30000001192092896,\n",
       "  0.2666666805744171,\n",
       "  0.3083333373069763,\n",
       "  0.30000001192092896,\n",
       "  0.30000001192092896,\n",
       "  0.3166666626930237,\n",
       "  0.30000001192092896,\n",
       "  0.3166666626930237,\n",
       "  0.3333333432674408,\n",
       "  0.36666667461395264,\n",
       "  0.375,\n",
       "  0.375,\n",
       "  0.4000000059604645,\n",
       "  0.4000000059604645,\n",
       "  0.4333333373069763,\n",
       "  0.44999998807907104,\n",
       "  0.4583333432674408,\n",
       "  0.5083333253860474,\n",
       "  0.5166666507720947,\n",
       "  0.5333333611488342,\n",
       "  0.5166666507720947,\n",
       "  0.5583333373069763,\n",
       "  0.5583333373069763,\n",
       "  0.5833333134651184,\n",
       "  0.574999988079071,\n",
       "  0.574999988079071,\n",
       "  0.5833333134651184,\n",
       "  0.5833333134651184,\n",
       "  0.5916666388511658,\n",
       "  0.6000000238418579,\n",
       "  0.6083333492279053,\n",
       "  0.6083333492279053,\n",
       "  0.6083333492279053,\n",
       "  0.6166666746139526,\n",
       "  0.625,\n",
       "  0.625,\n",
       "  0.625,\n",
       "  0.6333333253860474,\n",
       "  0.6416666507720947,\n",
       "  0.6416666507720947,\n",
       "  0.6333333253860474,\n",
       "  0.6416666507720947,\n",
       "  0.6333333253860474,\n",
       "  0.6416666507720947,\n",
       "  0.6416666507720947,\n",
       "  0.6416666507720947,\n",
       "  0.6416666507720947,\n",
       "  0.6416666507720947,\n",
       "  0.6583333611488342,\n",
       "  0.6666666865348816,\n",
       "  0.6666666865348816,\n",
       "  0.6666666865348816,\n",
       "  0.6666666865348816,\n",
       "  0.6833333373069763,\n",
       "  0.6833333373069763,\n",
       "  0.6916666626930237,\n",
       "  0.6916666626930237,\n",
       "  0.6916666626930237,\n",
       "  0.6833333373069763,\n",
       "  0.6833333373069763,\n",
       "  0.6916666626930237,\n",
       "  0.6916666626930237,\n",
       "  0.6916666626930237,\n",
       "  0.6916666626930237,\n",
       "  0.699999988079071,\n",
       "  0.699999988079071,\n",
       "  0.6916666626930237,\n",
       "  0.6833333373069763,\n",
       "  0.6916666626930237,\n",
       "  0.6833333373069763,\n",
       "  0.6833333373069763,\n",
       "  0.675000011920929,\n",
       "  0.6833333373069763,\n",
       "  0.6916666626930237,\n",
       "  0.6916666626930237,\n",
       "  0.699999988079071,\n",
       "  0.699999988079071,\n",
       "  0.699999988079071,\n",
       "  0.699999988079071,\n",
       "  0.699999988079071,\n",
       "  0.699999988079071,\n",
       "  0.7083333134651184,\n",
       "  0.7166666388511658,\n",
       "  0.7250000238418579,\n",
       "  0.7250000238418579,\n",
       "  0.7333333492279053,\n",
       "  0.7333333492279053,\n",
       "  0.7333333492279053,\n",
       "  0.7333333492279053,\n",
       "  0.7333333492279053,\n",
       "  0.7333333492279053,\n",
       "  0.7333333492279053,\n",
       "  0.7333333492279053,\n",
       "  0.7333333492279053,\n",
       "  0.7333333492279053,\n",
       "  0.7333333492279053,\n",
       "  0.7333333492279053]}"
      ]
     },
     "execution_count": 74,
     "metadata": {},
     "output_type": "execute_result"
    }
   ],
   "source": [
    "history.history"
   ]
  },
  {
   "cell_type": "markdown",
   "metadata": {},
   "source": [
    "Now visualize the loss over time using `history.history`: "
   ]
  },
  {
   "cell_type": "code",
   "execution_count": 75,
   "metadata": {},
   "outputs": [
    {
     "data": {
      "text/plain": [
       "[Text(0, 0.5, 'Accuracy'), Text(0.5, 0, 'Epoch')]"
      ]
     },
     "execution_count": 75,
     "metadata": {},
     "output_type": "execute_result"
    },
    {
     "data": {
      "image/png": "[encoded data removed]",
      "text/plain": [
       "<Figure size 864x576 with 1 Axes>"
      ]
     },
     "metadata": {
      "needs_background": "light"
     },
     "output_type": "display_data"
    },
    {
     "data": {
      "image/png": "[encoded data removed]",
      "text/plain": [
       "<Figure size 864x576 with 1 Axes>"
      ]
     },
     "metadata": {
      "needs_background": "light"
     },
     "output_type": "display_data"
    }
   ],
   "source": [
    "# The history.history[\"loss\"] entry is a dictionary with as many values as epochs that the\n",
    "# model was trained on. \n",
    "df_loss_acc = pd.DataFrame(history.history)\n",
    "df_loss= df_loss_acc[['loss','val_loss']]\n",
    "df_loss.rename(columns={'loss':'train','val_loss':'validation'},inplace=True)\n",
    "df_acc= df_loss_acc[['accuracy','val_accuracy']]\n",
    "df_acc.rename(columns={'accuracy':'train','val_accuracy':'validation'},inplace=True)\n",
    "df_loss.plot(title='Model loss',figsize=(12,8)).set(xlabel='Epoch',ylabel='Loss')\n",
    "df_acc.plot(title='Model Accuracy',figsize=(12,8)).set(xlabel='Epoch',ylabel='Accuracy')"
   ]
  },
  {
   "cell_type": "markdown",
   "metadata": {},
   "source": [
    "**Congratulations**! You've finished the assignment and built two models: One that recognizes  smiles, and another that recognizes SIGN language with almost 80% accuracy on the test set. In addition to that, you now also understand the applications of two Keras APIs: Sequential and Functional. Nicely done! \n",
    "\n",
    "By now, you know a bit about how the Functional API works and may have glimpsed the possibilities. In your next assignment, you'll really get a feel for its power when you get the opportunity to build a very deep ConvNet, using ResNets! "
   ]
  },
  {
   "cell_type": "markdown",
   "metadata": {},
   "source": [
    "<a name='6'></a>\n",
    "## 6 - Bibliography\n",
    "\n",
    "You're always encouraged to read the official documentation. To that end, you can find the docs for the Sequential and Functional APIs here: \n",
    "\n",
    "https://www.tensorflow.org/guide/keras/sequential_model\n",
    "\n",
    "https://www.tensorflow.org/guide/keras/functional"
   ]
  }
 ],
 "metadata": {
  "coursera": {
   "course_slug": "convolutional-neural-networks",
   "graded_item_id": "bwbJV",
   "launcher_item_id": "0TkXB"
  },
  "kernelspec": {
   "display_name": "Python 3",
   "language": "python",
   "name": "python3"
  },
  "language_info": {
   "codemirror_mode": {
    "name": "ipython",
    "version": 3
   },
   "file_extension": ".py",
   "mimetype": "text/x-python",
   "name": "python",
   "nbconvert_exporter": "python",
   "pygments_lexer": "ipython3",
   "version": "3.7.6"
  }
 },
 "nbformat": 4,
 "nbformat_minor": 2
}
